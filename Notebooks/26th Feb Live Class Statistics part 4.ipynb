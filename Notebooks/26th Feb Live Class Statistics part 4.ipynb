{
 "cells": [
  {
   "cell_type": "code",
   "execution_count": 21,
   "id": "2cef52fa",
   "metadata": {},
   "outputs": [],
   "source": [
    "import pandas as pd\n",
    "import numpy as np"
   ]
  },
  {
   "cell_type": "code",
   "execution_count": 14,
   "id": "6e2fdbda",
   "metadata": {},
   "outputs": [],
   "source": [
    "iris = pd.read_csv(\"Iris.csv\")"
   ]
  },
  {
   "cell_type": "code",
   "execution_count": 15,
   "id": "9244fa07",
   "metadata": {},
   "outputs": [
    {
     "data": {
      "text/html": [
       "<div>\n",
       "<style scoped>\n",
       "    .dataframe tbody tr th:only-of-type {\n",
       "        vertical-align: middle;\n",
       "    }\n",
       "\n",
       "    .dataframe tbody tr th {\n",
       "        vertical-align: top;\n",
       "    }\n",
       "\n",
       "    .dataframe thead th {\n",
       "        text-align: right;\n",
       "    }\n",
       "</style>\n",
       "<table border=\"1\" class=\"dataframe\">\n",
       "  <thead>\n",
       "    <tr style=\"text-align: right;\">\n",
       "      <th></th>\n",
       "      <th>Id</th>\n",
       "      <th>SepalLengthCm</th>\n",
       "      <th>SepalWidthCm</th>\n",
       "      <th>PetalLengthCm</th>\n",
       "      <th>PetalWidthCm</th>\n",
       "      <th>Species</th>\n",
       "    </tr>\n",
       "  </thead>\n",
       "  <tbody>\n",
       "    <tr>\n",
       "      <th>0</th>\n",
       "      <td>1</td>\n",
       "      <td>5.1</td>\n",
       "      <td>3.5</td>\n",
       "      <td>1.4</td>\n",
       "      <td>0.2</td>\n",
       "      <td>Iris-setosa</td>\n",
       "    </tr>\n",
       "    <tr>\n",
       "      <th>1</th>\n",
       "      <td>2</td>\n",
       "      <td>4.9</td>\n",
       "      <td>3.0</td>\n",
       "      <td>1.4</td>\n",
       "      <td>0.2</td>\n",
       "      <td>Iris-setosa</td>\n",
       "    </tr>\n",
       "    <tr>\n",
       "      <th>2</th>\n",
       "      <td>3</td>\n",
       "      <td>4.7</td>\n",
       "      <td>3.2</td>\n",
       "      <td>1.3</td>\n",
       "      <td>0.2</td>\n",
       "      <td>Iris-setosa</td>\n",
       "    </tr>\n",
       "    <tr>\n",
       "      <th>3</th>\n",
       "      <td>4</td>\n",
       "      <td>4.6</td>\n",
       "      <td>3.1</td>\n",
       "      <td>1.5</td>\n",
       "      <td>0.2</td>\n",
       "      <td>Iris-setosa</td>\n",
       "    </tr>\n",
       "    <tr>\n",
       "      <th>4</th>\n",
       "      <td>5</td>\n",
       "      <td>5.0</td>\n",
       "      <td>3.6</td>\n",
       "      <td>1.4</td>\n",
       "      <td>0.2</td>\n",
       "      <td>Iris-setosa</td>\n",
       "    </tr>\n",
       "  </tbody>\n",
       "</table>\n",
       "</div>"
      ],
      "text/plain": [
       "   Id  SepalLengthCm  SepalWidthCm  PetalLengthCm  PetalWidthCm      Species\n",
       "0   1            5.1           3.5            1.4           0.2  Iris-setosa\n",
       "1   2            4.9           3.0            1.4           0.2  Iris-setosa\n",
       "2   3            4.7           3.2            1.3           0.2  Iris-setosa\n",
       "3   4            4.6           3.1            1.5           0.2  Iris-setosa\n",
       "4   5            5.0           3.6            1.4           0.2  Iris-setosa"
      ]
     },
     "execution_count": 15,
     "metadata": {},
     "output_type": "execute_result"
    }
   ],
   "source": [
    "iris.head()"
   ]
  },
  {
   "cell_type": "code",
   "execution_count": 13,
   "id": "20befea3",
   "metadata": {},
   "outputs": [
    {
     "data": {
      "text/html": [
       "<div>\n",
       "<style scoped>\n",
       "    .dataframe tbody tr th:only-of-type {\n",
       "        vertical-align: middle;\n",
       "    }\n",
       "\n",
       "    .dataframe tbody tr th {\n",
       "        vertical-align: top;\n",
       "    }\n",
       "\n",
       "    .dataframe thead th {\n",
       "        text-align: right;\n",
       "    }\n",
       "</style>\n",
       "<table border=\"1\" class=\"dataframe\">\n",
       "  <thead>\n",
       "    <tr style=\"text-align: right;\">\n",
       "      <th></th>\n",
       "      <th>PassengerId</th>\n",
       "      <th>Survived</th>\n",
       "      <th>Pclass</th>\n",
       "      <th>Name</th>\n",
       "      <th>Sex</th>\n",
       "      <th>Age</th>\n",
       "      <th>SibSp</th>\n",
       "      <th>Parch</th>\n",
       "      <th>Ticket</th>\n",
       "      <th>Fare</th>\n",
       "      <th>Cabin</th>\n",
       "      <th>Embarked</th>\n",
       "    </tr>\n",
       "  </thead>\n",
       "  <tbody>\n",
       "    <tr>\n",
       "      <th>0</th>\n",
       "      <td>1</td>\n",
       "      <td>0</td>\n",
       "      <td>3</td>\n",
       "      <td>Braund, Mr. Owen Harris</td>\n",
       "      <td>male</td>\n",
       "      <td>22.0</td>\n",
       "      <td>1</td>\n",
       "      <td>0</td>\n",
       "      <td>A/5 21171</td>\n",
       "      <td>7.2500</td>\n",
       "      <td>NaN</td>\n",
       "      <td>S</td>\n",
       "    </tr>\n",
       "    <tr>\n",
       "      <th>1</th>\n",
       "      <td>2</td>\n",
       "      <td>1</td>\n",
       "      <td>1</td>\n",
       "      <td>Cumings, Mrs. John Bradley (Florence Briggs Th...</td>\n",
       "      <td>female</td>\n",
       "      <td>38.0</td>\n",
       "      <td>1</td>\n",
       "      <td>0</td>\n",
       "      <td>PC 17599</td>\n",
       "      <td>71.2833</td>\n",
       "      <td>C85</td>\n",
       "      <td>C</td>\n",
       "    </tr>\n",
       "    <tr>\n",
       "      <th>2</th>\n",
       "      <td>3</td>\n",
       "      <td>1</td>\n",
       "      <td>3</td>\n",
       "      <td>Heikkinen, Miss. Laina</td>\n",
       "      <td>female</td>\n",
       "      <td>26.0</td>\n",
       "      <td>0</td>\n",
       "      <td>0</td>\n",
       "      <td>STON/O2. 3101282</td>\n",
       "      <td>7.9250</td>\n",
       "      <td>NaN</td>\n",
       "      <td>S</td>\n",
       "    </tr>\n",
       "    <tr>\n",
       "      <th>3</th>\n",
       "      <td>4</td>\n",
       "      <td>1</td>\n",
       "      <td>1</td>\n",
       "      <td>Futrelle, Mrs. Jacques Heath (Lily May Peel)</td>\n",
       "      <td>female</td>\n",
       "      <td>35.0</td>\n",
       "      <td>1</td>\n",
       "      <td>0</td>\n",
       "      <td>113803</td>\n",
       "      <td>53.1000</td>\n",
       "      <td>C123</td>\n",
       "      <td>S</td>\n",
       "    </tr>\n",
       "    <tr>\n",
       "      <th>4</th>\n",
       "      <td>5</td>\n",
       "      <td>0</td>\n",
       "      <td>3</td>\n",
       "      <td>Allen, Mr. William Henry</td>\n",
       "      <td>male</td>\n",
       "      <td>35.0</td>\n",
       "      <td>0</td>\n",
       "      <td>0</td>\n",
       "      <td>373450</td>\n",
       "      <td>8.0500</td>\n",
       "      <td>NaN</td>\n",
       "      <td>S</td>\n",
       "    </tr>\n",
       "  </tbody>\n",
       "</table>\n",
       "</div>"
      ],
      "text/plain": [
       "   PassengerId  Survived  Pclass  \\\n",
       "0            1         0       3   \n",
       "1            2         1       1   \n",
       "2            3         1       3   \n",
       "3            4         1       1   \n",
       "4            5         0       3   \n",
       "\n",
       "                                                Name     Sex   Age  SibSp  \\\n",
       "0                            Braund, Mr. Owen Harris    male  22.0      1   \n",
       "1  Cumings, Mrs. John Bradley (Florence Briggs Th...  female  38.0      1   \n",
       "2                             Heikkinen, Miss. Laina  female  26.0      0   \n",
       "3       Futrelle, Mrs. Jacques Heath (Lily May Peel)  female  35.0      1   \n",
       "4                           Allen, Mr. William Henry    male  35.0      0   \n",
       "\n",
       "   Parch            Ticket     Fare Cabin Embarked  \n",
       "0      0         A/5 21171   7.2500   NaN        S  \n",
       "1      0          PC 17599  71.2833   C85        C  \n",
       "2      0  STON/O2. 3101282   7.9250   NaN        S  \n",
       "3      0            113803  53.1000  C123        S  \n",
       "4      0            373450   8.0500   NaN        S  "
      ]
     },
     "execution_count": 13,
     "metadata": {},
     "output_type": "execute_result"
    }
   ],
   "source": [
    "titanic = pd.read_csv(\"https://raw.githubusercontent.com/sunnysavita10/Statistics-With-Python-TheCompleteGuide/main/Titanic.csv\")\n",
    "\n",
    "titanic.head()"
   ]
  },
  {
   "cell_type": "code",
   "execution_count": 16,
   "id": "11f7017e",
   "metadata": {},
   "outputs": [],
   "source": [
    "#libraries\n",
    "\n",
    "#pandas\n",
    "#numpy\n",
    "#scipy\n",
    "#matplotlib\n",
    "#statsmodel\n",
    "#statstics"
   ]
  },
  {
   "cell_type": "code",
   "execution_count": 18,
   "id": "d4df16c7",
   "metadata": {},
   "outputs": [],
   "source": [
    "data =[1,2,3,4,5,6,7,8,9,1,2,22,34,54,11,34\n",
    "      ]"
   ]
  },
  {
   "cell_type": "code",
   "execution_count": 22,
   "id": "40758607",
   "metadata": {},
   "outputs": [
    {
     "data": {
      "text/plain": [
       "12.6875"
      ]
     },
     "execution_count": 22,
     "metadata": {},
     "output_type": "execute_result"
    }
   ],
   "source": [
    "np.mean(data)"
   ]
  },
  {
   "cell_type": "code",
   "execution_count": 32,
   "id": "41cebc65",
   "metadata": {},
   "outputs": [],
   "source": [
    "data"
   ]
  },
  {
   "cell_type": "code",
   "execution_count": 31,
   "id": "4e82779d",
   "metadata": {},
   "outputs": [
    {
     "ename": "AttributeError",
     "evalue": "'NoneType' object has no attribute 'copy'",
     "output_type": "error",
     "traceback": [
      "\u001b[0;31m---------------------------------------------------------------------------\u001b[0m",
      "\u001b[0;31mAttributeError\u001b[0m                            Traceback (most recent call last)",
      "Input \u001b[0;32mIn [31]\u001b[0m, in \u001b[0;36m<cell line: 1>\u001b[0;34m()\u001b[0m\n\u001b[0;32m----> 1\u001b[0m datacopy\u001b[38;5;241m=\u001b[39m\u001b[43mdata\u001b[49m\u001b[38;5;241;43m.\u001b[39;49m\u001b[43mcopy\u001b[49m()\n",
      "\u001b[0;31mAttributeError\u001b[0m: 'NoneType' object has no attribute 'copy'"
     ]
    }
   ],
   "source": [
    "datacopy=data.copy()"
   ]
  },
  {
   "cell_type": "code",
   "execution_count": 34,
   "id": "ea42a69d",
   "metadata": {},
   "outputs": [],
   "source": [
    "fruits = ['apple', 'banana', 'cherry', 'orange']\n",
    "\n",
    "x = fruits.copy()"
   ]
  },
  {
   "cell_type": "code",
   "execution_count": 35,
   "id": "8830d2d4",
   "metadata": {},
   "outputs": [
    {
     "data": {
      "text/plain": [
       "['apple', 'banana', 'cherry', 'orange']"
      ]
     },
     "execution_count": 35,
     "metadata": {},
     "output_type": "execute_result"
    }
   ],
   "source": [
    "x"
   ]
  },
  {
   "cell_type": "code",
   "execution_count": 36,
   "id": "10c54a96",
   "metadata": {},
   "outputs": [],
   "source": [
    "data =[1,2,3,4,5,6,7,8,9,1,2,22,34,54,11,34]\n",
    "\n",
    "y = data.copy()"
   ]
  },
  {
   "cell_type": "code",
   "execution_count": 37,
   "id": "7800c917",
   "metadata": {},
   "outputs": [
    {
     "data": {
      "text/plain": [
       "[1, 2, 3, 4, 5, 6, 7, 8, 9, 1, 2, 22, 34, 54, 11, 34]"
      ]
     },
     "execution_count": 37,
     "metadata": {},
     "output_type": "execute_result"
    }
   ],
   "source": [
    "y"
   ]
  },
  {
   "cell_type": "code",
   "execution_count": 38,
   "id": "095cbbf2",
   "metadata": {},
   "outputs": [],
   "source": [
    "y.sort()"
   ]
  },
  {
   "cell_type": "code",
   "execution_count": 39,
   "id": "06c0f22f",
   "metadata": {},
   "outputs": [
    {
     "data": {
      "text/plain": [
       "[1, 1, 2, 2, 3, 4, 5, 6, 7, 8, 9, 11, 22, 34, 34, 54]"
      ]
     },
     "execution_count": 39,
     "metadata": {},
     "output_type": "execute_result"
    }
   ],
   "source": [
    "y"
   ]
  },
  {
   "cell_type": "code",
   "execution_count": 41,
   "id": "3c0a3c0d",
   "metadata": {},
   "outputs": [
    {
     "data": {
      "text/plain": [
       "6.5"
      ]
     },
     "execution_count": 41,
     "metadata": {},
     "output_type": "execute_result"
    }
   ],
   "source": [
    "np.median(y)"
   ]
  },
  {
   "cell_type": "code",
   "execution_count": 42,
   "id": "1a3ef296",
   "metadata": {},
   "outputs": [
    {
     "data": {
      "text/html": [
       "<div>\n",
       "<style scoped>\n",
       "    .dataframe tbody tr th:only-of-type {\n",
       "        vertical-align: middle;\n",
       "    }\n",
       "\n",
       "    .dataframe tbody tr th {\n",
       "        vertical-align: top;\n",
       "    }\n",
       "\n",
       "    .dataframe thead th {\n",
       "        text-align: right;\n",
       "    }\n",
       "</style>\n",
       "<table border=\"1\" class=\"dataframe\">\n",
       "  <thead>\n",
       "    <tr style=\"text-align: right;\">\n",
       "      <th></th>\n",
       "      <th>Id</th>\n",
       "      <th>SepalLengthCm</th>\n",
       "      <th>SepalWidthCm</th>\n",
       "      <th>PetalLengthCm</th>\n",
       "      <th>PetalWidthCm</th>\n",
       "      <th>Species</th>\n",
       "    </tr>\n",
       "  </thead>\n",
       "  <tbody>\n",
       "    <tr>\n",
       "      <th>0</th>\n",
       "      <td>1</td>\n",
       "      <td>5.1</td>\n",
       "      <td>3.5</td>\n",
       "      <td>1.4</td>\n",
       "      <td>0.2</td>\n",
       "      <td>Iris-setosa</td>\n",
       "    </tr>\n",
       "    <tr>\n",
       "      <th>1</th>\n",
       "      <td>2</td>\n",
       "      <td>4.9</td>\n",
       "      <td>3.0</td>\n",
       "      <td>1.4</td>\n",
       "      <td>0.2</td>\n",
       "      <td>Iris-setosa</td>\n",
       "    </tr>\n",
       "    <tr>\n",
       "      <th>2</th>\n",
       "      <td>3</td>\n",
       "      <td>4.7</td>\n",
       "      <td>3.2</td>\n",
       "      <td>1.3</td>\n",
       "      <td>0.2</td>\n",
       "      <td>Iris-setosa</td>\n",
       "    </tr>\n",
       "    <tr>\n",
       "      <th>3</th>\n",
       "      <td>4</td>\n",
       "      <td>4.6</td>\n",
       "      <td>3.1</td>\n",
       "      <td>1.5</td>\n",
       "      <td>0.2</td>\n",
       "      <td>Iris-setosa</td>\n",
       "    </tr>\n",
       "    <tr>\n",
       "      <th>4</th>\n",
       "      <td>5</td>\n",
       "      <td>5.0</td>\n",
       "      <td>3.6</td>\n",
       "      <td>1.4</td>\n",
       "      <td>0.2</td>\n",
       "      <td>Iris-setosa</td>\n",
       "    </tr>\n",
       "  </tbody>\n",
       "</table>\n",
       "</div>"
      ],
      "text/plain": [
       "   Id  SepalLengthCm  SepalWidthCm  PetalLengthCm  PetalWidthCm      Species\n",
       "0   1            5.1           3.5            1.4           0.2  Iris-setosa\n",
       "1   2            4.9           3.0            1.4           0.2  Iris-setosa\n",
       "2   3            4.7           3.2            1.3           0.2  Iris-setosa\n",
       "3   4            4.6           3.1            1.5           0.2  Iris-setosa\n",
       "4   5            5.0           3.6            1.4           0.2  Iris-setosa"
      ]
     },
     "execution_count": 42,
     "metadata": {},
     "output_type": "execute_result"
    }
   ],
   "source": [
    "iris.head()"
   ]
  },
  {
   "cell_type": "code",
   "execution_count": 43,
   "id": "f0e7053c",
   "metadata": {},
   "outputs": [
    {
     "data": {
      "text/plain": [
       "5.843333333333334"
      ]
     },
     "execution_count": 43,
     "metadata": {},
     "output_type": "execute_result"
    }
   ],
   "source": [
    "np.mean(iris['SepalLengthCm'])"
   ]
  },
  {
   "cell_type": "code",
   "execution_count": 45,
   "id": "02d59202",
   "metadata": {},
   "outputs": [],
   "source": [
    "import statistics"
   ]
  },
  {
   "cell_type": "code",
   "execution_count": 46,
   "id": "e3561bae",
   "metadata": {},
   "outputs": [
    {
     "data": {
      "text/plain": [
       "1"
      ]
     },
     "execution_count": 46,
     "metadata": {},
     "output_type": "execute_result"
    }
   ],
   "source": [
    "statistics.mode(y)"
   ]
  },
  {
   "cell_type": "code",
   "execution_count": 47,
   "id": "60d99939",
   "metadata": {},
   "outputs": [
    {
     "data": {
      "text/plain": [
       "[1, 1, 2, 2, 3, 4, 5, 6, 7, 8, 9, 11, 22, 34, 34, 54]"
      ]
     },
     "execution_count": 47,
     "metadata": {},
     "output_type": "execute_result"
    }
   ],
   "source": [
    "y"
   ]
  },
  {
   "cell_type": "code",
   "execution_count": 49,
   "id": "eb7e69c8",
   "metadata": {},
   "outputs": [],
   "source": [
    "def meanatul(y):\n",
    "    a = 0\n",
    "    for i in y:\n",
    "        a +=i\n",
    "    return a/len(y)"
   ]
  },
  {
   "cell_type": "code",
   "execution_count": 50,
   "id": "d45bdb3c",
   "metadata": {},
   "outputs": [
    {
     "data": {
      "text/plain": [
       "12.6875"
      ]
     },
     "execution_count": 50,
     "metadata": {},
     "output_type": "execute_result"
    }
   ],
   "source": [
    "meanatul(y)"
   ]
  },
  {
   "cell_type": "code",
   "execution_count": 51,
   "id": "c67eab14",
   "metadata": {},
   "outputs": [
    {
     "data": {
      "text/plain": [
       "12.6875"
      ]
     },
     "execution_count": 51,
     "metadata": {},
     "output_type": "execute_result"
    }
   ],
   "source": [
    "np.mean(y)"
   ]
  },
  {
   "cell_type": "code",
   "execution_count": 52,
   "id": "be6b1466",
   "metadata": {},
   "outputs": [],
   "source": [
    "from scipy import stats as st\n"
   ]
  },
  {
   "cell_type": "code",
   "execution_count": 53,
   "id": "e326a5c2",
   "metadata": {},
   "outputs": [
    {
     "data": {
      "text/plain": [
       "ModeResult(mode=array([1]), count=array([2]))"
      ]
     },
     "execution_count": 53,
     "metadata": {},
     "output_type": "execute_result"
    }
   ],
   "source": [
    "st.mode(y)"
   ]
  },
  {
   "cell_type": "markdown",
   "id": "5bcacfda",
   "metadata": {},
   "source": [
    "# dispersion of the data"
   ]
  },
  {
   "cell_type": "code",
   "execution_count": 54,
   "id": "c824b8d1",
   "metadata": {},
   "outputs": [
    {
     "data": {
      "text/plain": [
       "[1, 1, 2, 2, 3, 4, 5, 6, 7, 8, 9, 11, 22, 34, 34, 54]"
      ]
     },
     "execution_count": 54,
     "metadata": {},
     "output_type": "execute_result"
    }
   ],
   "source": [
    "y"
   ]
  },
  {
   "cell_type": "code",
   "execution_count": 55,
   "id": "af0b82e5",
   "metadata": {},
   "outputs": [
    {
     "data": {
      "text/plain": [
       "array([2.75])"
      ]
     },
     "execution_count": 55,
     "metadata": {},
     "output_type": "execute_result"
    }
   ],
   "source": [
    "np.percentile(y,[25])"
   ]
  },
  {
   "cell_type": "code",
   "execution_count": 56,
   "id": "cc6635e7",
   "metadata": {},
   "outputs": [
    {
     "data": {
      "text/plain": [
       "array([6.5])"
      ]
     },
     "execution_count": 56,
     "metadata": {},
     "output_type": "execute_result"
    }
   ],
   "source": [
    "np.percentile(y,[50])"
   ]
  },
  {
   "cell_type": "code",
   "execution_count": null,
   "id": "40ba2028",
   "metadata": {},
   "outputs": [],
   "source": [
    "#q1,q2,q3,q4\n",
    "\n",
    "#IQR = Q3-Q1"
   ]
  },
  {
   "cell_type": "code",
   "execution_count": 57,
   "id": "eddff827",
   "metadata": {},
   "outputs": [
    {
     "data": {
      "text/plain": [
       "array([ 2.75,  6.5 , 13.75, 54.  ])"
      ]
     },
     "execution_count": 57,
     "metadata": {},
     "output_type": "execute_result"
    }
   ],
   "source": [
    "np.percentile(y,[25,50,75,100])"
   ]
  },
  {
   "cell_type": "code",
   "execution_count": 58,
   "id": "f687d991",
   "metadata": {},
   "outputs": [
    {
     "data": {
      "text/plain": [
       "[1, 1, 2, 2, 3, 4, 5, 6, 7, 8, 9, 11, 22, 34, 34, 54, 150]"
      ]
     },
     "execution_count": 58,
     "metadata": {},
     "output_type": "execute_result"
    }
   ],
   "source": [
    "y.append(150)\n",
    "\n",
    "y"
   ]
  },
  {
   "cell_type": "code",
   "execution_count": 60,
   "id": "7e5874cf",
   "metadata": {},
   "outputs": [
    {
     "name": "stderr",
     "output_type": "stream",
     "text": [
      "/Library/Frameworks/Python.framework/Versions/3.8/lib/python3.8/site-packages/seaborn/_decorators.py:36: FutureWarning: Pass the following variable as a keyword arg: x. From version 0.12, the only valid positional argument will be `data`, and passing other arguments without an explicit keyword will result in an error or misinterpretation.\n",
      "  warnings.warn(\n"
     ]
    },
    {
     "data": {
      "text/plain": [
       "<AxesSubplot:>"
      ]
     },
     "execution_count": 60,
     "metadata": {},
     "output_type": "execute_result"
    },
    {
     "data": {
      "image/png": "[encoded data removed]",
      "text/plain": [
       "<Figure size 432x288 with 1 Axes>"
      ]
     },
     "metadata": {
      "needs_background": "light"
     },
     "output_type": "display_data"
    }
   ],
   "source": [
    "import seaborn as sns\n",
    "\n",
    "sns.boxplot(y)"
   ]
  },
  {
   "cell_type": "code",
   "execution_count": 61,
   "id": "f852fe1a",
   "metadata": {},
   "outputs": [
    {
     "data": {
      "text/plain": [
       "1252.5328719723186"
      ]
     },
     "execution_count": 61,
     "metadata": {},
     "output_type": "execute_result"
    }
   ],
   "source": [
    "#variance and std deviation\n",
    "\n",
    "np.var(y)"
   ]
  },
  {
   "cell_type": "code",
   "execution_count": 62,
   "id": "e93bbce6",
   "metadata": {},
   "outputs": [
    {
     "data": {
      "text/plain": [
       "35.39114115103268"
      ]
     },
     "execution_count": 62,
     "metadata": {},
     "output_type": "execute_result"
    }
   ],
   "source": [
    "np.std(y)"
   ]
  },
  {
   "cell_type": "code",
   "execution_count": 63,
   "id": "cfe0e287",
   "metadata": {},
   "outputs": [
    {
     "data": {
      "text/plain": [
       "[1, 1, 2, 2, 3, 4, 5, 6, 7, 8, 9, 11, 22, 34, 34, 54, 150]"
      ]
     },
     "execution_count": 63,
     "metadata": {},
     "output_type": "execute_result"
    }
   ],
   "source": [
    "#creating a sample data from population\n",
    "\n",
    "y "
   ]
  },
  {
   "cell_type": "code",
   "execution_count": 64,
   "id": "7d089f7f",
   "metadata": {},
   "outputs": [
    {
     "data": {
      "text/plain": [
       "array([150,  54,  34])"
      ]
     },
     "execution_count": 64,
     "metadata": {},
     "output_type": "execute_result"
    }
   ],
   "source": [
    "np.random.choice(y, size=3)"
   ]
  },
  {
   "cell_type": "code",
   "execution_count": 65,
   "id": "5074fc22",
   "metadata": {},
   "outputs": [
    {
     "data": {
      "text/html": [
       "<div>\n",
       "<style scoped>\n",
       "    .dataframe tbody tr th:only-of-type {\n",
       "        vertical-align: middle;\n",
       "    }\n",
       "\n",
       "    .dataframe tbody tr th {\n",
       "        vertical-align: top;\n",
       "    }\n",
       "\n",
       "    .dataframe thead th {\n",
       "        text-align: right;\n",
       "    }\n",
       "</style>\n",
       "<table border=\"1\" class=\"dataframe\">\n",
       "  <thead>\n",
       "    <tr style=\"text-align: right;\">\n",
       "      <th></th>\n",
       "      <th>Id</th>\n",
       "      <th>SepalLengthCm</th>\n",
       "      <th>SepalWidthCm</th>\n",
       "      <th>PetalLengthCm</th>\n",
       "      <th>PetalWidthCm</th>\n",
       "      <th>Species</th>\n",
       "    </tr>\n",
       "  </thead>\n",
       "  <tbody>\n",
       "    <tr>\n",
       "      <th>0</th>\n",
       "      <td>1</td>\n",
       "      <td>5.1</td>\n",
       "      <td>3.5</td>\n",
       "      <td>1.4</td>\n",
       "      <td>0.2</td>\n",
       "      <td>Iris-setosa</td>\n",
       "    </tr>\n",
       "    <tr>\n",
       "      <th>1</th>\n",
       "      <td>2</td>\n",
       "      <td>4.9</td>\n",
       "      <td>3.0</td>\n",
       "      <td>1.4</td>\n",
       "      <td>0.2</td>\n",
       "      <td>Iris-setosa</td>\n",
       "    </tr>\n",
       "    <tr>\n",
       "      <th>2</th>\n",
       "      <td>3</td>\n",
       "      <td>4.7</td>\n",
       "      <td>3.2</td>\n",
       "      <td>1.3</td>\n",
       "      <td>0.2</td>\n",
       "      <td>Iris-setosa</td>\n",
       "    </tr>\n",
       "    <tr>\n",
       "      <th>3</th>\n",
       "      <td>4</td>\n",
       "      <td>4.6</td>\n",
       "      <td>3.1</td>\n",
       "      <td>1.5</td>\n",
       "      <td>0.2</td>\n",
       "      <td>Iris-setosa</td>\n",
       "    </tr>\n",
       "    <tr>\n",
       "      <th>4</th>\n",
       "      <td>5</td>\n",
       "      <td>5.0</td>\n",
       "      <td>3.6</td>\n",
       "      <td>1.4</td>\n",
       "      <td>0.2</td>\n",
       "      <td>Iris-setosa</td>\n",
       "    </tr>\n",
       "    <tr>\n",
       "      <th>...</th>\n",
       "      <td>...</td>\n",
       "      <td>...</td>\n",
       "      <td>...</td>\n",
       "      <td>...</td>\n",
       "      <td>...</td>\n",
       "      <td>...</td>\n",
       "    </tr>\n",
       "    <tr>\n",
       "      <th>145</th>\n",
       "      <td>146</td>\n",
       "      <td>6.7</td>\n",
       "      <td>3.0</td>\n",
       "      <td>5.2</td>\n",
       "      <td>2.3</td>\n",
       "      <td>Iris-virginica</td>\n",
       "    </tr>\n",
       "    <tr>\n",
       "      <th>146</th>\n",
       "      <td>147</td>\n",
       "      <td>6.3</td>\n",
       "      <td>2.5</td>\n",
       "      <td>5.0</td>\n",
       "      <td>1.9</td>\n",
       "      <td>Iris-virginica</td>\n",
       "    </tr>\n",
       "    <tr>\n",
       "      <th>147</th>\n",
       "      <td>148</td>\n",
       "      <td>6.5</td>\n",
       "      <td>3.0</td>\n",
       "      <td>5.2</td>\n",
       "      <td>2.0</td>\n",
       "      <td>Iris-virginica</td>\n",
       "    </tr>\n",
       "    <tr>\n",
       "      <th>148</th>\n",
       "      <td>149</td>\n",
       "      <td>6.2</td>\n",
       "      <td>3.4</td>\n",
       "      <td>5.4</td>\n",
       "      <td>2.3</td>\n",
       "      <td>Iris-virginica</td>\n",
       "    </tr>\n",
       "    <tr>\n",
       "      <th>149</th>\n",
       "      <td>150</td>\n",
       "      <td>5.9</td>\n",
       "      <td>3.0</td>\n",
       "      <td>5.1</td>\n",
       "      <td>1.8</td>\n",
       "      <td>Iris-virginica</td>\n",
       "    </tr>\n",
       "  </tbody>\n",
       "</table>\n",
       "<p>150 rows × 6 columns</p>\n",
       "</div>"
      ],
      "text/plain": [
       "      Id  SepalLengthCm  SepalWidthCm  PetalLengthCm  PetalWidthCm  \\\n",
       "0      1            5.1           3.5            1.4           0.2   \n",
       "1      2            4.9           3.0            1.4           0.2   \n",
       "2      3            4.7           3.2            1.3           0.2   \n",
       "3      4            4.6           3.1            1.5           0.2   \n",
       "4      5            5.0           3.6            1.4           0.2   \n",
       "..   ...            ...           ...            ...           ...   \n",
       "145  146            6.7           3.0            5.2           2.3   \n",
       "146  147            6.3           2.5            5.0           1.9   \n",
       "147  148            6.5           3.0            5.2           2.0   \n",
       "148  149            6.2           3.4            5.4           2.3   \n",
       "149  150            5.9           3.0            5.1           1.8   \n",
       "\n",
       "            Species  \n",
       "0       Iris-setosa  \n",
       "1       Iris-setosa  \n",
       "2       Iris-setosa  \n",
       "3       Iris-setosa  \n",
       "4       Iris-setosa  \n",
       "..              ...  \n",
       "145  Iris-virginica  \n",
       "146  Iris-virginica  \n",
       "147  Iris-virginica  \n",
       "148  Iris-virginica  \n",
       "149  Iris-virginica  \n",
       "\n",
       "[150 rows x 6 columns]"
      ]
     },
     "execution_count": 65,
     "metadata": {},
     "output_type": "execute_result"
    }
   ],
   "source": [
    "iris"
   ]
  },
  {
   "cell_type": "code",
   "execution_count": 66,
   "id": "a0ec4c6d",
   "metadata": {},
   "outputs": [
    {
     "data": {
      "text/html": [
       "<div>\n",
       "<style scoped>\n",
       "    .dataframe tbody tr th:only-of-type {\n",
       "        vertical-align: middle;\n",
       "    }\n",
       "\n",
       "    .dataframe tbody tr th {\n",
       "        vertical-align: top;\n",
       "    }\n",
       "\n",
       "    .dataframe thead th {\n",
       "        text-align: right;\n",
       "    }\n",
       "</style>\n",
       "<table border=\"1\" class=\"dataframe\">\n",
       "  <thead>\n",
       "    <tr style=\"text-align: right;\">\n",
       "      <th></th>\n",
       "      <th>Id</th>\n",
       "      <th>SepalLengthCm</th>\n",
       "      <th>SepalWidthCm</th>\n",
       "      <th>PetalLengthCm</th>\n",
       "      <th>PetalWidthCm</th>\n",
       "      <th>Species</th>\n",
       "    </tr>\n",
       "  </thead>\n",
       "  <tbody>\n",
       "    <tr>\n",
       "      <th>96</th>\n",
       "      <td>97</td>\n",
       "      <td>5.7</td>\n",
       "      <td>2.9</td>\n",
       "      <td>4.2</td>\n",
       "      <td>1.3</td>\n",
       "      <td>Iris-versicolor</td>\n",
       "    </tr>\n",
       "    <tr>\n",
       "      <th>90</th>\n",
       "      <td>91</td>\n",
       "      <td>5.5</td>\n",
       "      <td>2.6</td>\n",
       "      <td>4.4</td>\n",
       "      <td>1.2</td>\n",
       "      <td>Iris-versicolor</td>\n",
       "    </tr>\n",
       "    <tr>\n",
       "      <th>103</th>\n",
       "      <td>104</td>\n",
       "      <td>6.3</td>\n",
       "      <td>2.9</td>\n",
       "      <td>5.6</td>\n",
       "      <td>1.8</td>\n",
       "      <td>Iris-virginica</td>\n",
       "    </tr>\n",
       "    <tr>\n",
       "      <th>135</th>\n",
       "      <td>136</td>\n",
       "      <td>7.7</td>\n",
       "      <td>3.0</td>\n",
       "      <td>6.1</td>\n",
       "      <td>2.3</td>\n",
       "      <td>Iris-virginica</td>\n",
       "    </tr>\n",
       "    <tr>\n",
       "      <th>30</th>\n",
       "      <td>31</td>\n",
       "      <td>4.8</td>\n",
       "      <td>3.1</td>\n",
       "      <td>1.6</td>\n",
       "      <td>0.2</td>\n",
       "      <td>Iris-setosa</td>\n",
       "    </tr>\n",
       "    <tr>\n",
       "      <th>24</th>\n",
       "      <td>25</td>\n",
       "      <td>4.8</td>\n",
       "      <td>3.4</td>\n",
       "      <td>1.9</td>\n",
       "      <td>0.2</td>\n",
       "      <td>Iris-setosa</td>\n",
       "    </tr>\n",
       "    <tr>\n",
       "      <th>81</th>\n",
       "      <td>82</td>\n",
       "      <td>5.5</td>\n",
       "      <td>2.4</td>\n",
       "      <td>3.7</td>\n",
       "      <td>1.0</td>\n",
       "      <td>Iris-versicolor</td>\n",
       "    </tr>\n",
       "    <tr>\n",
       "      <th>51</th>\n",
       "      <td>52</td>\n",
       "      <td>6.4</td>\n",
       "      <td>3.2</td>\n",
       "      <td>4.5</td>\n",
       "      <td>1.5</td>\n",
       "      <td>Iris-versicolor</td>\n",
       "    </tr>\n",
       "    <tr>\n",
       "      <th>126</th>\n",
       "      <td>127</td>\n",
       "      <td>6.2</td>\n",
       "      <td>2.8</td>\n",
       "      <td>4.8</td>\n",
       "      <td>1.8</td>\n",
       "      <td>Iris-virginica</td>\n",
       "    </tr>\n",
       "    <tr>\n",
       "      <th>95</th>\n",
       "      <td>96</td>\n",
       "      <td>5.7</td>\n",
       "      <td>3.0</td>\n",
       "      <td>4.2</td>\n",
       "      <td>1.2</td>\n",
       "      <td>Iris-versicolor</td>\n",
       "    </tr>\n",
       "    <tr>\n",
       "      <th>47</th>\n",
       "      <td>48</td>\n",
       "      <td>4.6</td>\n",
       "      <td>3.2</td>\n",
       "      <td>1.4</td>\n",
       "      <td>0.2</td>\n",
       "      <td>Iris-setosa</td>\n",
       "    </tr>\n",
       "    <tr>\n",
       "      <th>63</th>\n",
       "      <td>64</td>\n",
       "      <td>6.1</td>\n",
       "      <td>2.9</td>\n",
       "      <td>4.7</td>\n",
       "      <td>1.4</td>\n",
       "      <td>Iris-versicolor</td>\n",
       "    </tr>\n",
       "    <tr>\n",
       "      <th>99</th>\n",
       "      <td>100</td>\n",
       "      <td>5.7</td>\n",
       "      <td>2.8</td>\n",
       "      <td>4.1</td>\n",
       "      <td>1.3</td>\n",
       "      <td>Iris-versicolor</td>\n",
       "    </tr>\n",
       "    <tr>\n",
       "      <th>120</th>\n",
       "      <td>121</td>\n",
       "      <td>6.9</td>\n",
       "      <td>3.2</td>\n",
       "      <td>5.7</td>\n",
       "      <td>2.3</td>\n",
       "      <td>Iris-virginica</td>\n",
       "    </tr>\n",
       "    <tr>\n",
       "      <th>62</th>\n",
       "      <td>63</td>\n",
       "      <td>6.0</td>\n",
       "      <td>2.2</td>\n",
       "      <td>4.0</td>\n",
       "      <td>1.0</td>\n",
       "      <td>Iris-versicolor</td>\n",
       "    </tr>\n",
       "  </tbody>\n",
       "</table>\n",
       "</div>"
      ],
      "text/plain": [
       "      Id  SepalLengthCm  SepalWidthCm  PetalLengthCm  PetalWidthCm  \\\n",
       "96    97            5.7           2.9            4.2           1.3   \n",
       "90    91            5.5           2.6            4.4           1.2   \n",
       "103  104            6.3           2.9            5.6           1.8   \n",
       "135  136            7.7           3.0            6.1           2.3   \n",
       "30    31            4.8           3.1            1.6           0.2   \n",
       "24    25            4.8           3.4            1.9           0.2   \n",
       "81    82            5.5           2.4            3.7           1.0   \n",
       "51    52            6.4           3.2            4.5           1.5   \n",
       "126  127            6.2           2.8            4.8           1.8   \n",
       "95    96            5.7           3.0            4.2           1.2   \n",
       "47    48            4.6           3.2            1.4           0.2   \n",
       "63    64            6.1           2.9            4.7           1.4   \n",
       "99   100            5.7           2.8            4.1           1.3   \n",
       "120  121            6.9           3.2            5.7           2.3   \n",
       "62    63            6.0           2.2            4.0           1.0   \n",
       "\n",
       "             Species  \n",
       "96   Iris-versicolor  \n",
       "90   Iris-versicolor  \n",
       "103   Iris-virginica  \n",
       "135   Iris-virginica  \n",
       "30       Iris-setosa  \n",
       "24       Iris-setosa  \n",
       "81   Iris-versicolor  \n",
       "51   Iris-versicolor  \n",
       "126   Iris-virginica  \n",
       "95   Iris-versicolor  \n",
       "47       Iris-setosa  \n",
       "63   Iris-versicolor  \n",
       "99   Iris-versicolor  \n",
       "120   Iris-virginica  \n",
       "62   Iris-versicolor  "
      ]
     },
     "execution_count": 66,
     "metadata": {},
     "output_type": "execute_result"
    }
   ],
   "source": [
    "iris.sample(n=15)"
   ]
  },
  {
   "cell_type": "code",
   "execution_count": 67,
   "id": "9dd1cdde",
   "metadata": {},
   "outputs": [
    {
     "data": {
      "text/plain": [
       "1252.5328719723186"
      ]
     },
     "execution_count": 67,
     "metadata": {},
     "output_type": "execute_result"
    }
   ],
   "source": [
    "#variance and std deviation\n",
    "\n",
    "np.var(y)"
   ]
  },
  {
   "cell_type": "code",
   "execution_count": 68,
   "id": "78a76141",
   "metadata": {},
   "outputs": [
    {
     "data": {
      "text/plain": [
       "35.39114115103268"
      ]
     },
     "execution_count": 68,
     "metadata": {},
     "output_type": "execute_result"
    }
   ],
   "source": [
    "np.std(y)"
   ]
  },
  {
   "cell_type": "code",
   "execution_count": 79,
   "id": "6e52ed64",
   "metadata": {},
   "outputs": [],
   "source": [
    "def variance(data):\n",
    "    mean = sum(data)/len(data)\n",
    "    dev =[(x-mean)**2 for x in data]\n",
    "    variance=sum(dev)/len(data)\n",
    "    return variance"
   ]
  },
  {
   "cell_type": "code",
   "execution_count": 80,
   "id": "71735837",
   "metadata": {},
   "outputs": [
    {
     "data": {
      "text/plain": [
       "1252.5328719723186"
      ]
     },
     "execution_count": 80,
     "metadata": {},
     "output_type": "execute_result"
    }
   ],
   "source": [
    "variance(y)"
   ]
  },
  {
   "cell_type": "code",
   "execution_count": 81,
   "id": "47456e3b",
   "metadata": {},
   "outputs": [
    {
     "data": {
      "text/plain": [
       "1330.8161764705885"
      ]
     },
     "execution_count": 81,
     "metadata": {},
     "output_type": "execute_result"
    }
   ],
   "source": [
    "statistics.variance(y)"
   ]
  },
  {
   "cell_type": "code",
   "execution_count": 84,
   "id": "664a711f",
   "metadata": {},
   "outputs": [
    {
     "data": {
      "text/plain": [
       "1252.5328719723186"
      ]
     },
     "execution_count": 84,
     "metadata": {},
     "output_type": "execute_result"
    }
   ],
   "source": [
    "statistics.pvariance(y)"
   ]
  },
  {
   "cell_type": "code",
   "execution_count": 82,
   "id": "8f2f517b",
   "metadata": {},
   "outputs": [],
   "source": [
    "def variance2(data):\n",
    "    mean = sum(data)/len(data)\n",
    "    dev =[(x-mean)**2 for x in data]\n",
    "    variance=sum(dev)/(len(data)-1)\n",
    "    return variance"
   ]
  },
  {
   "cell_type": "code",
   "execution_count": 83,
   "id": "6e2def0c",
   "metadata": {},
   "outputs": [
    {
     "data": {
      "text/plain": [
       "1330.8161764705885"
      ]
     },
     "execution_count": 83,
     "metadata": {},
     "output_type": "execute_result"
    }
   ],
   "source": [
    "variance2(y)"
   ]
  },
  {
   "cell_type": "code",
   "execution_count": 86,
   "id": "8c320c31",
   "metadata": {},
   "outputs": [
    {
     "data": {
      "text/plain": [
       "35.39114115103268"
      ]
     },
     "execution_count": 86,
     "metadata": {},
     "output_type": "execute_result"
    }
   ],
   "source": [
    "import math\n",
    "\n",
    "math.sqrt(statistics.pvariance(y))"
   ]
  },
  {
   "cell_type": "code",
   "execution_count": 87,
   "id": "aac0bd7b",
   "metadata": {},
   "outputs": [],
   "source": [
    "#covariance and correlation"
   ]
  },
  {
   "cell_type": "code",
   "execution_count": 88,
   "id": "a845b178",
   "metadata": {},
   "outputs": [],
   "source": [
    "tips = sns.load_dataset('tips')"
   ]
  },
  {
   "cell_type": "code",
   "execution_count": 89,
   "id": "465f4ef2",
   "metadata": {},
   "outputs": [
    {
     "data": {
      "text/html": [
       "<div>\n",
       "<style scoped>\n",
       "    .dataframe tbody tr th:only-of-type {\n",
       "        vertical-align: middle;\n",
       "    }\n",
       "\n",
       "    .dataframe tbody tr th {\n",
       "        vertical-align: top;\n",
       "    }\n",
       "\n",
       "    .dataframe thead th {\n",
       "        text-align: right;\n",
       "    }\n",
       "</style>\n",
       "<table border=\"1\" class=\"dataframe\">\n",
       "  <thead>\n",
       "    <tr style=\"text-align: right;\">\n",
       "      <th></th>\n",
       "      <th>total_bill</th>\n",
       "      <th>tip</th>\n",
       "      <th>sex</th>\n",
       "      <th>smoker</th>\n",
       "      <th>day</th>\n",
       "      <th>time</th>\n",
       "      <th>size</th>\n",
       "    </tr>\n",
       "  </thead>\n",
       "  <tbody>\n",
       "    <tr>\n",
       "      <th>0</th>\n",
       "      <td>16.99</td>\n",
       "      <td>1.01</td>\n",
       "      <td>Female</td>\n",
       "      <td>No</td>\n",
       "      <td>Sun</td>\n",
       "      <td>Dinner</td>\n",
       "      <td>2</td>\n",
       "    </tr>\n",
       "    <tr>\n",
       "      <th>1</th>\n",
       "      <td>10.34</td>\n",
       "      <td>1.66</td>\n",
       "      <td>Male</td>\n",
       "      <td>No</td>\n",
       "      <td>Sun</td>\n",
       "      <td>Dinner</td>\n",
       "      <td>3</td>\n",
       "    </tr>\n",
       "    <tr>\n",
       "      <th>2</th>\n",
       "      <td>21.01</td>\n",
       "      <td>3.50</td>\n",
       "      <td>Male</td>\n",
       "      <td>No</td>\n",
       "      <td>Sun</td>\n",
       "      <td>Dinner</td>\n",
       "      <td>3</td>\n",
       "    </tr>\n",
       "    <tr>\n",
       "      <th>3</th>\n",
       "      <td>23.68</td>\n",
       "      <td>3.31</td>\n",
       "      <td>Male</td>\n",
       "      <td>No</td>\n",
       "      <td>Sun</td>\n",
       "      <td>Dinner</td>\n",
       "      <td>2</td>\n",
       "    </tr>\n",
       "    <tr>\n",
       "      <th>4</th>\n",
       "      <td>24.59</td>\n",
       "      <td>3.61</td>\n",
       "      <td>Female</td>\n",
       "      <td>No</td>\n",
       "      <td>Sun</td>\n",
       "      <td>Dinner</td>\n",
       "      <td>4</td>\n",
       "    </tr>\n",
       "  </tbody>\n",
       "</table>\n",
       "</div>"
      ],
      "text/plain": [
       "   total_bill   tip     sex smoker  day    time  size\n",
       "0       16.99  1.01  Female     No  Sun  Dinner     2\n",
       "1       10.34  1.66    Male     No  Sun  Dinner     3\n",
       "2       21.01  3.50    Male     No  Sun  Dinner     3\n",
       "3       23.68  3.31    Male     No  Sun  Dinner     2\n",
       "4       24.59  3.61  Female     No  Sun  Dinner     4"
      ]
     },
     "execution_count": 89,
     "metadata": {},
     "output_type": "execute_result"
    }
   ],
   "source": [
    "tips.head()"
   ]
  },
  {
   "cell_type": "code",
   "execution_count": 90,
   "id": "fd866846",
   "metadata": {},
   "outputs": [
    {
     "data": {
      "text/html": [
       "<div>\n",
       "<style scoped>\n",
       "    .dataframe tbody tr th:only-of-type {\n",
       "        vertical-align: middle;\n",
       "    }\n",
       "\n",
       "    .dataframe tbody tr th {\n",
       "        vertical-align: top;\n",
       "    }\n",
       "\n",
       "    .dataframe thead th {\n",
       "        text-align: right;\n",
       "    }\n",
       "</style>\n",
       "<table border=\"1\" class=\"dataframe\">\n",
       "  <thead>\n",
       "    <tr style=\"text-align: right;\">\n",
       "      <th></th>\n",
       "      <th>total_bill</th>\n",
       "      <th>tip</th>\n",
       "      <th>size</th>\n",
       "    </tr>\n",
       "  </thead>\n",
       "  <tbody>\n",
       "    <tr>\n",
       "      <th>total_bill</th>\n",
       "      <td>1.000000</td>\n",
       "      <td>0.675734</td>\n",
       "      <td>0.598315</td>\n",
       "    </tr>\n",
       "    <tr>\n",
       "      <th>tip</th>\n",
       "      <td>0.675734</td>\n",
       "      <td>1.000000</td>\n",
       "      <td>0.489299</td>\n",
       "    </tr>\n",
       "    <tr>\n",
       "      <th>size</th>\n",
       "      <td>0.598315</td>\n",
       "      <td>0.489299</td>\n",
       "      <td>1.000000</td>\n",
       "    </tr>\n",
       "  </tbody>\n",
       "</table>\n",
       "</div>"
      ],
      "text/plain": [
       "            total_bill       tip      size\n",
       "total_bill    1.000000  0.675734  0.598315\n",
       "tip           0.675734  1.000000  0.489299\n",
       "size          0.598315  0.489299  1.000000"
      ]
     },
     "execution_count": 90,
     "metadata": {},
     "output_type": "execute_result"
    }
   ],
   "source": [
    "tips.corr()"
   ]
  },
  {
   "cell_type": "code",
   "execution_count": 95,
   "id": "c96d1708",
   "metadata": {},
   "outputs": [
    {
     "data": {
      "text/plain": [
       "<AxesSubplot:xlabel='tip', ylabel='size'>"
      ]
     },
     "execution_count": 95,
     "metadata": {},
     "output_type": "execute_result"
    },
    {
     "data": {
      "image/png": "[encoded data removed]",
      "text/plain": [
       "<Figure size 432x288 with 1 Axes>"
      ]
     },
     "metadata": {
      "needs_background": "light"
     },
     "output_type": "display_data"
    }
   ],
   "source": [
    "sns.scatterplot(x=tips['tip'], y = tips['size'],markers=True,legend='auto')"
   ]
  },
  {
   "cell_type": "code",
   "execution_count": 96,
   "id": "830fb1cd",
   "metadata": {},
   "outputs": [
    {
     "data": {
      "text/plain": [
       "<AxesSubplot:xlabel='tip', ylabel='total_bill'>"
      ]
     },
     "execution_count": 96,
     "metadata": {},
     "output_type": "execute_result"
    },
    {
     "data": {
      "image/png": "[encoded data removed]",
      "text/plain": [
       "<Figure size 432x288 with 1 Axes>"
      ]
     },
     "metadata": {
      "needs_background": "light"
     },
     "output_type": "display_data"
    }
   ],
   "source": [
    "sns.scatterplot(x=tips['tip'], y = tips['total_bill'],markers=True,legend='auto')"
   ]
  },
  {
   "cell_type": "code",
   "execution_count": 98,
   "id": "44c6837b",
   "metadata": {},
   "outputs": [
    {
     "data": {
      "text/plain": [
       "<AxesSubplot:>"
      ]
     },
     "execution_count": 98,
     "metadata": {},
     "output_type": "execute_result"
    },
    {
     "data": {
      "image/png": "[encoded data removed]",
      "text/plain": [
       "<Figure size 432x288 with 2 Axes>"
      ]
     },
     "metadata": {
      "needs_background": "light"
     },
     "output_type": "display_data"
    }
   ],
   "source": [
    "sns.heatmap(tips.corr())"
   ]
  },
  {
   "cell_type": "code",
   "execution_count": 99,
   "id": "bf3f89d1",
   "metadata": {},
   "outputs": [],
   "source": [
    "#Probability desity function"
   ]
  },
  {
   "cell_type": "code",
   "execution_count": 100,
   "id": "3821f68d",
   "metadata": {},
   "outputs": [
    {
     "data": {
      "text/plain": [
       "[1, 1, 2, 2, 3, 4, 5, 6, 7, 8, 9, 11, 22, 34, 34, 54, 150]"
      ]
     },
     "execution_count": 100,
     "metadata": {},
     "output_type": "execute_result"
    }
   ],
   "source": [
    "y"
   ]
  },
  {
   "cell_type": "code",
   "execution_count": 101,
   "id": "966ab737",
   "metadata": {},
   "outputs": [
    {
     "data": {
      "text/plain": [
       "<AxesSubplot:ylabel='Count'>"
      ]
     },
     "execution_count": 101,
     "metadata": {},
     "output_type": "execute_result"
    },
    {
     "data": {
      "image/png": "[encoded data removed]",
      "text/plain": [
       "<Figure size 432x288 with 1 Axes>"
      ]
     },
     "metadata": {
      "needs_background": "light"
     },
     "output_type": "display_data"
    }
   ],
   "source": [
    "sns.histplot(y)"
   ]
  },
  {
   "cell_type": "code",
   "execution_count": 102,
   "id": "06235449",
   "metadata": {},
   "outputs": [
    {
     "data": {
      "text/plain": [
       "<AxesSubplot:ylabel='Count'>"
      ]
     },
     "execution_count": 102,
     "metadata": {},
     "output_type": "execute_result"
    },
    {
     "data": {
      "image/png": "[encoded data removed]",
      "text/plain": [
       "<Figure size 432x288 with 1 Axes>"
      ]
     },
     "metadata": {
      "needs_background": "light"
     },
     "output_type": "display_data"
    }
   ],
   "source": [
    "sns.histplot(y,kde=True)"
   ]
  },
  {
   "cell_type": "code",
   "execution_count": 103,
   "id": "7cc21273",
   "metadata": {},
   "outputs": [
    {
     "data": {
      "text/html": [
       "<div>\n",
       "<style scoped>\n",
       "    .dataframe tbody tr th:only-of-type {\n",
       "        vertical-align: middle;\n",
       "    }\n",
       "\n",
       "    .dataframe tbody tr th {\n",
       "        vertical-align: top;\n",
       "    }\n",
       "\n",
       "    .dataframe thead th {\n",
       "        text-align: right;\n",
       "    }\n",
       "</style>\n",
       "<table border=\"1\" class=\"dataframe\">\n",
       "  <thead>\n",
       "    <tr style=\"text-align: right;\">\n",
       "      <th></th>\n",
       "      <th>Id</th>\n",
       "      <th>SepalLengthCm</th>\n",
       "      <th>SepalWidthCm</th>\n",
       "      <th>PetalLengthCm</th>\n",
       "      <th>PetalWidthCm</th>\n",
       "      <th>Species</th>\n",
       "    </tr>\n",
       "  </thead>\n",
       "  <tbody>\n",
       "    <tr>\n",
       "      <th>0</th>\n",
       "      <td>1</td>\n",
       "      <td>5.1</td>\n",
       "      <td>3.5</td>\n",
       "      <td>1.4</td>\n",
       "      <td>0.2</td>\n",
       "      <td>Iris-setosa</td>\n",
       "    </tr>\n",
       "    <tr>\n",
       "      <th>1</th>\n",
       "      <td>2</td>\n",
       "      <td>4.9</td>\n",
       "      <td>3.0</td>\n",
       "      <td>1.4</td>\n",
       "      <td>0.2</td>\n",
       "      <td>Iris-setosa</td>\n",
       "    </tr>\n",
       "    <tr>\n",
       "      <th>2</th>\n",
       "      <td>3</td>\n",
       "      <td>4.7</td>\n",
       "      <td>3.2</td>\n",
       "      <td>1.3</td>\n",
       "      <td>0.2</td>\n",
       "      <td>Iris-setosa</td>\n",
       "    </tr>\n",
       "    <tr>\n",
       "      <th>3</th>\n",
       "      <td>4</td>\n",
       "      <td>4.6</td>\n",
       "      <td>3.1</td>\n",
       "      <td>1.5</td>\n",
       "      <td>0.2</td>\n",
       "      <td>Iris-setosa</td>\n",
       "    </tr>\n",
       "    <tr>\n",
       "      <th>4</th>\n",
       "      <td>5</td>\n",
       "      <td>5.0</td>\n",
       "      <td>3.6</td>\n",
       "      <td>1.4</td>\n",
       "      <td>0.2</td>\n",
       "      <td>Iris-setosa</td>\n",
       "    </tr>\n",
       "  </tbody>\n",
       "</table>\n",
       "</div>"
      ],
      "text/plain": [
       "   Id  SepalLengthCm  SepalWidthCm  PetalLengthCm  PetalWidthCm      Species\n",
       "0   1            5.1           3.5            1.4           0.2  Iris-setosa\n",
       "1   2            4.9           3.0            1.4           0.2  Iris-setosa\n",
       "2   3            4.7           3.2            1.3           0.2  Iris-setosa\n",
       "3   4            4.6           3.1            1.5           0.2  Iris-setosa\n",
       "4   5            5.0           3.6            1.4           0.2  Iris-setosa"
      ]
     },
     "execution_count": 103,
     "metadata": {},
     "output_type": "execute_result"
    }
   ],
   "source": [
    "iris.head()"
   ]
  },
  {
   "cell_type": "code",
   "execution_count": 105,
   "id": "85c8a8af",
   "metadata": {},
   "outputs": [
    {
     "data": {
      "text/plain": [
       "<AxesSubplot:xlabel='SepalLengthCm', ylabel='Count'>"
      ]
     },
     "execution_count": 105,
     "metadata": {},
     "output_type": "execute_result"
    },
    {
     "data": {
      "image/png": "[encoded data removed]",
      "text/plain": [
       "<Figure size 432x288 with 1 Axes>"
      ]
     },
     "metadata": {
      "needs_background": "light"
     },
     "output_type": "display_data"
    }
   ],
   "source": [
    "sns.histplot(iris['SepalLengthCm'],kde=True)\n",
    "\n",
    "#near to normal distruibution"
   ]
  },
  {
   "cell_type": "code",
   "execution_count": 106,
   "id": "a0c0a2d1",
   "metadata": {},
   "outputs": [
    {
     "data": {
      "text/plain": [
       "<AxesSubplot:xlabel='SepalWidthCm', ylabel='Count'>"
      ]
     },
     "execution_count": 106,
     "metadata": {},
     "output_type": "execute_result"
    },
    {
     "data": {
      "image/png": "[encoded data removed]",
      "text/plain": [
       "<Figure size 432x288 with 1 Axes>"
      ]
     },
     "metadata": {
      "needs_background": "light"
     },
     "output_type": "display_data"
    }
   ],
   "source": [
    "sns.histplot(iris['SepalWidthCm'],kde=True)\n",
    "\n",
    "#perfect normal distribution"
   ]
  },
  {
   "cell_type": "code",
   "execution_count": 107,
   "id": "01569ed2",
   "metadata": {},
   "outputs": [
    {
     "data": {
      "text/plain": [
       "<AxesSubplot:xlabel='PetalLengthCm', ylabel='Count'>"
      ]
     },
     "execution_count": 107,
     "metadata": {},
     "output_type": "execute_result"
    },
    {
     "data": {
      "image/png": "[encoded data removed]",
      "text/plain": [
       "<Figure size 432x288 with 1 Axes>"
      ]
     },
     "metadata": {
      "needs_background": "light"
     },
     "output_type": "display_data"
    }
   ],
   "source": [
    "sns.histplot(iris['PetalLengthCm'],kde=True)\n",
    "\n"
   ]
  },
  {
   "cell_type": "code",
   "execution_count": 108,
   "id": "09a8c099",
   "metadata": {},
   "outputs": [],
   "source": [
    "#genrating normal distribution\n",
    "\n",
    "import numpy as np\n",
    "\n",
    "data = np.random.normal(0.5,0.2,1000)"
   ]
  },
  {
   "cell_type": "code",
   "execution_count": 109,
   "id": "5585c100",
   "metadata": {},
   "outputs": [
    {
     "data": {
      "text/plain": [
       "<AxesSubplot:ylabel='Count'>"
      ]
     },
     "execution_count": 109,
     "metadata": {},
     "output_type": "execute_result"
    },
    {
     "data": {
      "image/png": "[encoded data removed]",
      "text/plain": [
       "<Figure size 432x288 with 1 Axes>"
      ]
     },
     "metadata": {
      "needs_background": "light"
     },
     "output_type": "display_data"
    }
   ],
   "source": [
    "sns.histplot(data,kde = True)"
   ]
  },
  {
   "cell_type": "code",
   "execution_count": 110,
   "id": "3f0e6a89",
   "metadata": {},
   "outputs": [],
   "source": [
    "mu,sigma=3.0,1.0\n",
    "data2 = np.random.lognormal(mu,sigma,1000)"
   ]
  },
  {
   "cell_type": "code",
   "execution_count": 111,
   "id": "5c197163",
   "metadata": {},
   "outputs": [
    {
     "data": {
      "text/plain": [
       "<AxesSubplot:ylabel='Count'>"
      ]
     },
     "execution_count": 111,
     "metadata": {},
     "output_type": "execute_result"
    },
    {
     "data": {
      "image/png": "[encoded data removed]",
      "text/plain": [
       "<Figure size 432x288 with 1 Axes>"
      ]
     },
     "metadata": {
      "needs_background": "light"
     },
     "output_type": "display_data"
    }
   ],
   "source": [
    "sns.histplot(data2,kde=True)"
   ]
  },
  {
   "cell_type": "code",
   "execution_count": 112,
   "id": "83f7d57e",
   "metadata": {},
   "outputs": [
    {
     "data": {
      "text/plain": [
       "array([ 32.52136346,  17.19383804,  47.85816767,  11.58125664,\n",
       "         2.13897512,  15.44652709,  25.45700844,   6.27321228,\n",
       "        15.72496076,  29.37889819,   2.2965257 ,  74.8905724 ,\n",
       "         5.26451404,  15.27898953,  22.33407637,  49.78371071,\n",
       "        26.66503823,  28.82283074,  21.12163827,  30.66784395,\n",
       "        24.85340308,  33.42878357,   6.61205423, 108.69227208,\n",
       "        34.55338527,   7.79969212,  23.53096495,  49.11623622,\n",
       "         4.4342659 ,   9.87467064,   7.29659654,  29.48220542,\n",
       "        33.63731703,  46.15256326,  43.61069861,  54.83850725,\n",
       "        14.50323743,  26.97831565,  61.37400241,  11.89510464,\n",
       "         5.73203426,   2.36265573,  19.19664244,  12.82636046,\n",
       "        67.50490941,   8.0891764 ,  11.1166971 ,  48.38852032,\n",
       "        17.49316877,  12.06035257,  15.96754819,  33.29122511,\n",
       "        11.45713477,   4.74394765,  19.71753916, 104.5098087 ,\n",
       "        13.14054603,  55.59730438,   9.08879624,   3.57830599,\n",
       "         5.62634913,   6.17227567, 128.28776903,  13.9518471 ,\n",
       "         1.50121121,   2.69873215,  46.62517096,  81.17691189,\n",
       "        20.54003553,   9.66102973,  15.54205201,  41.90258307,\n",
       "         5.11834418,  38.80086456,  43.01963456,  17.64259531,\n",
       "        70.21258543,  52.12367118, 172.82130114,   8.96108117,\n",
       "        41.19936379,  33.57240581,  10.29243027,  18.13186978,\n",
       "        26.4099455 ,  36.89537556,  13.05287152,  51.10273159,\n",
       "        10.17089527,  34.82080283, 143.73003571,  15.68721707,\n",
       "         8.24817803,  26.93760316,  67.42792261,  27.22566067,\n",
       "        73.11672824,   5.01975147,  21.31383102,   4.04950396,\n",
       "        36.65031201,   4.83407718,  33.62988799,   6.59979886,\n",
       "         8.30945417,  23.09705414,  73.86076381,  15.53695311,\n",
       "         3.06676022,  15.10759585,  10.6253641 ,   8.42677388,\n",
       "       104.53006568,  31.22680453,  16.75654634,  41.50116617,\n",
       "        22.15390083,  18.6101232 ,  11.18060476,  23.72692686,\n",
       "        35.77010371,  99.6707982 ,   4.01296851,  20.20251333,\n",
       "        12.83054993,  27.53403452,  48.09954509,  39.56898655,\n",
       "         9.57077319,   3.66251626,   6.85660235,  59.69503843,\n",
       "         3.38027753,  29.10135104,  32.01336677,   6.78928809,\n",
       "        27.01932524,  13.82587526,  22.56786429,  23.50233728,\n",
       "         5.61842337,  15.0582762 ,  53.47769459,  65.83471576,\n",
       "        15.22353175,  37.47605377,  14.92060883,   5.99279968,\n",
       "        25.39616078,  27.81656607,  12.28556252,  16.16431323,\n",
       "        40.30653808,  35.55538585,  24.44393363,  12.4685528 ,\n",
       "         7.83821662,  12.73281762,  67.35772587,  58.83912725,\n",
       "         6.29375258,  19.94745264,  36.84174674,  18.40665178,\n",
       "        47.77708429,  13.96983904,  11.06866496,  18.36376472,\n",
       "        34.49516286,  11.67366681,  24.28152266,  13.8241805 ,\n",
       "        14.19124862,  10.07730412,  50.92975412,   7.26620151,\n",
       "        31.45359431,  21.54909065,  19.07779209,  28.76916778,\n",
       "         3.74154951,  11.87211882,  16.60279884, 224.6004301 ,\n",
       "        26.80597922,  10.32110205,   2.00479285,   5.1430219 ,\n",
       "       103.27295353,  19.91357328, 225.12155615,  31.91630293,\n",
       "        63.14348876,  35.60641945,  31.05047318,  39.88750965,\n",
       "         8.89492098,   8.36230592,   7.37444896,  13.44169553,\n",
       "        17.85623897,  22.83241854, 153.07968566,   5.58242312,\n",
       "        16.88099184,   3.33277437,  83.62741881,  20.78391368,\n",
       "         7.37677218,  42.04884887,  87.03798959,  42.02552484,\n",
       "         5.51965897,   2.62709018,   3.25233779,  36.70908113,\n",
       "        12.6997317 ,  15.20129727,  22.97942021, 346.89569214,\n",
       "        43.09948831,  11.53238309,  17.98821604,  26.74629951,\n",
       "         7.20668805,  10.56202531,  10.23976687,  18.46844423,\n",
       "        14.56025602,  81.72045968,  20.93563063,  22.65331759,\n",
       "       193.06304762,  16.38530385,   3.78875482,  25.5645722 ,\n",
       "        21.25934433,  36.79772145, 225.5106646 ,  27.27104072,\n",
       "        50.38958195,  20.32967185,  10.9817084 ,  13.5625731 ,\n",
       "        12.32012903,  21.37173179,  20.91959003,   3.7767982 ,\n",
       "         6.64418613,  10.30742461,  12.3506842 ,  35.14123768,\n",
       "        19.23789704,  46.96750925,   1.82327767,  12.23077881,\n",
       "        14.43689448,   6.8405595 ,  13.89211449,   9.75010714,\n",
       "         5.19808122,   6.41267881,  21.62146373,  14.62754269,\n",
       "        10.00760143,  35.44774358,  15.0153111 ,  60.17026968,\n",
       "        26.55324526,   5.13356808,  18.74482166,  27.99354057,\n",
       "         7.89610815,   1.91399007,   1.98467835,  17.29316491,\n",
       "        16.59934347,  31.01380322,  50.16959805,   7.60392267,\n",
       "        10.35335195,  16.04874247,   8.60384289,  13.42840716,\n",
       "        19.84671345,   5.01706057,  43.70123323,  30.80990491,\n",
       "        15.42816781,  17.27512819,  56.6598669 ,  21.28277503,\n",
       "        23.99241575,   9.03254225,  16.12177368,  15.61774385,\n",
       "         4.1013131 ,  18.70741416,  55.20575518,   2.20752329,\n",
       "        26.66549362,  13.87013753,  61.47879054,  19.4534003 ,\n",
       "        45.23368658,   6.17295028,  19.40189189,   5.86414736,\n",
       "        10.82425194,  42.08921216,   9.98218614,  22.52864312,\n",
       "        15.52318574,  28.86410299,   5.12030527,  42.40590817,\n",
       "        56.35428775,   7.88876425,  44.54202808,   3.13289121,\n",
       "        48.36783136,  13.46707118,  10.86957361,  53.010366  ,\n",
       "        13.38259892,  40.87305292,  25.332173  ,  28.03602292,\n",
       "        27.27636616,  19.47711849,  18.76542066,  23.04475256,\n",
       "        11.70503175,  41.56680044,   8.77937266,  12.72910286,\n",
       "        27.48968207,   6.29257879,   9.15019817,   8.67640137,\n",
       "        79.97075709,  29.17712454,  20.67296504,  46.59846496,\n",
       "         7.68482844,  29.95895069,  21.80917868,  45.81984787,\n",
       "        13.2705967 ,  24.55874873,   6.63072899,   2.6596437 ,\n",
       "        15.65865177,  27.88345303,  65.13132943,   7.04578631,\n",
       "         9.31900514,  30.53974089,  43.12954257,   3.88758156,\n",
       "        13.55045612,  26.94446211,  26.54732185,   3.9168381 ,\n",
       "        75.18018403,   6.28922554,  36.61413769,   7.87661926,\n",
       "        19.70249357,   3.13285099,  14.19199861, 224.84691875,\n",
       "        49.73422311,  20.11913774,  38.18229824,  49.09100096,\n",
       "         9.38953054,  10.54353432,   3.08450225,  22.70084734,\n",
       "         4.15837841,  82.26591789,   8.15460209,  29.8865226 ,\n",
       "        57.90051777,   9.77990541,  19.37322615,  56.07609694,\n",
       "       260.96134559,  27.29409369,  20.15202816,  31.70526935,\n",
       "        35.80693225,   5.16880435,   5.78114028,  40.91233266,\n",
       "        11.56922473,  35.76296175,   9.65453354,   7.23750991,\n",
       "         6.5530604 ,  41.02987999,   2.82249873,  18.08993764,\n",
       "        13.4422611 ,  46.60436344,   3.67314912,  29.43796181,\n",
       "        16.83644465,  13.49690515,  12.65345313,   8.10388684,\n",
       "         6.95856065,  27.67136233,   3.11386705,   6.45971413,\n",
       "       106.31096136,  13.67433294,  31.99032964,   4.64761634,\n",
       "        13.04150217, 837.87526127,  48.622935  ,  83.69611409,\n",
       "         3.13652177,  23.9177477 , 121.34328794,  72.42046698,\n",
       "        49.57083931,  27.13490733,  69.93288469,  31.93911594,\n",
       "       229.18460893,  26.96071989,  43.30018021,   4.93565436,\n",
       "        10.25251379,   8.53262022,  44.83181896,   6.96779205,\n",
       "         4.4431979 ,   3.34727587,   8.35131517, 287.64599604,\n",
       "        29.09938491,  26.16501828,  44.66946643,   3.55584105,\n",
       "        10.20807543,  10.07860259,  16.95415651,  52.15029235,\n",
       "       140.13924684,  93.66797897,  41.72375996,  55.25096639,\n",
       "        28.05685247,  29.64611412,  19.38207485, 111.7789023 ,\n",
       "        13.20963879,  16.81275027,  90.670778  ,  85.84620175,\n",
       "        19.49161085,   4.99661964,  26.33107558,   8.42357673,\n",
       "        11.25506387,   7.16280183,   8.63740869,  13.29372644,\n",
       "        35.36243905,  34.45139754,  37.27278811,  65.70979636,\n",
       "         6.88097917, 100.75572594,  12.10820837,  10.26488122,\n",
       "         6.32144632,  81.35713192,   9.05486317,  17.91254204,\n",
       "         6.04844015,  11.75806755,  13.64629816,  44.47303198,\n",
       "        31.53145841,  16.16475706,  26.16528598,  17.59348159,\n",
       "        59.06294916,   4.82627072, 103.01014045,  15.42521688,\n",
       "        41.498895  ,  32.08698425,  17.86190482,  25.16532252,\n",
       "        45.55105673,  20.98543431,   4.5781836 ,   4.47908932,\n",
       "        45.00478416,  19.24502118,   4.7857495 ,  30.91031265,\n",
       "       214.28278588,  60.37425467,  89.70502673,  19.74403866,\n",
       "        26.87349149,   2.21219124,   1.55596711,  27.15871199,\n",
       "        49.13110807, 185.75164596,  17.89462363,   4.47539017,\n",
       "         4.33815853, 147.25979801,  18.60540728,  58.72312505,\n",
       "         4.61037694,  46.76091152,  58.14874516,  45.72852862,\n",
       "        10.47249379,  10.00450498,   9.34597044,   1.89570237,\n",
       "        38.1148067 ,  63.75168907,   4.11385326,  12.26706424,\n",
       "         6.75259134,  21.03976107,  60.66721044,  47.05924492,\n",
       "        13.41066416,  12.34075881, 151.98024323,   9.30715084,\n",
       "        20.17912414,  26.31403716, 111.99198647,  15.19114681,\n",
       "        16.92898238,   6.94482368,   5.93424521,  51.02647982,\n",
       "         7.17041841, 111.55249166, 278.10406456,  67.52691957,\n",
       "         8.60048418,  31.66647218,   8.85654511,  16.91092486,\n",
       "        17.16096486,   8.16781912,   7.05741902,  17.49933279,\n",
       "         3.19214853,  22.25284163,  11.82366997,  69.9633795 ,\n",
       "        27.92639463, 512.27726627,  25.05806262,  12.15567157,\n",
       "        14.50730583,   8.9912158 ,  58.60245066,  53.78427379,\n",
       "        12.69964576,   6.65984971,  25.3181735 ,  49.71356344,\n",
       "         8.52963229,  14.84304816,  12.26378053,  30.39708338,\n",
       "        38.53156726,  30.76695149,   2.31847703,  16.74748231,\n",
       "        19.86914353,  10.01768243,  10.2036068 ,  46.84595437,\n",
       "         1.09880997,   8.33987957,   7.67248976,   9.79696301,\n",
       "        15.75558567,  15.53322763,  14.69757909,  41.73436874,\n",
       "        14.45290128,  10.93376184,  13.56843202, 101.35795642,\n",
       "        24.11912912,  18.2910798 ,   5.2119197 ,   9.41718818,\n",
       "        11.13095585, 145.38130892,  43.10398451,  11.37769952,\n",
       "        29.19048804,   2.00188332,  52.70772003,  23.68667969,\n",
       "        15.32984683,   7.28746435,   3.34752539,   8.07452403,\n",
       "        43.64970186,  14.29588714,  67.39842087,  82.06192167,\n",
       "        24.09138169,  89.55088177,   7.73075746,  70.95608306,\n",
       "        51.97319378,  13.22889358,  39.18058976,  13.38787365,\n",
       "        30.05167946,  52.17764544,   5.45281653,   7.69965941,\n",
       "        13.12449535,  41.98633482,  66.69430207,  19.39658787,\n",
       "        25.20632765, 271.05672374,  40.56400917,  12.01725804,\n",
       "         8.59625786,  29.44014584,  17.18749923,  43.27633154,\n",
       "         5.49712316,  17.99731014,  14.61871956, 101.99485014,\n",
       "        30.09803642,  61.01835574,  10.43659668,  15.39004713,\n",
       "        89.87324451,  57.62461995,   7.13863151,   9.32576898,\n",
       "        13.20930066,  19.56464829,  42.1127384 ,  80.43949891,\n",
       "        10.50350472, 174.8563743 ,  12.97174401,   6.15953966,\n",
       "        84.95491126,  48.45137326,  19.55115021,  24.79382273,\n",
       "        26.88528683,  65.90059316,  12.00918183,  57.23628217,\n",
       "         9.42588241,   3.69687765,   3.90388397,  11.71322389,\n",
       "        37.79535914,  19.26433742,  19.10991289,  18.08734932,\n",
       "        19.66891311,  31.07905755, 114.00632185,  53.85764023,\n",
       "        37.85909143,   2.19791357,  46.95791544,   3.43083958,\n",
       "        32.83051832,   5.00641088,  70.60775767,   7.43622876,\n",
       "         3.95644724,  59.50917691, 230.62157743,  17.43917091,\n",
       "       120.88450302,  29.10811436,  51.13643154,  10.85124914,\n",
       "        52.34140134,  17.66561988,   7.58763997,  21.57615311,\n",
       "         8.04436637,   5.64362094,  13.03322328,  15.94547434,\n",
       "        23.62961461,  34.3026879 ,  29.21015337, 118.45699474,\n",
       "        28.04955444,  25.99174124,  41.26413249,   8.55194392,\n",
       "        28.59324051,   6.74063203,  19.7613458 ,  45.83346354,\n",
       "         7.1995273 ,  21.6475198 ,  19.5595275 ,  10.84197983,\n",
       "        34.77228029,  40.98788931,   9.08067451,  11.69558664,\n",
       "        37.48787716,  17.47713062,  12.69620139,  23.10894645,\n",
       "         7.16105914,   5.03348205,  62.95361006,   8.71342739,\n",
       "        18.51343592,  32.58973134,  19.54299155,  14.32575004,\n",
       "         4.31224402,  51.10847308,  54.69335509,  27.73168122,\n",
       "         4.18334683,  18.4135449 ,  42.97676542,  25.31213105,\n",
       "        15.814358  ,  16.83455048,  33.72032768,  24.62745146,\n",
       "        10.87326777,   3.73734361,  45.74345397,  20.69720972,\n",
       "        20.22729622,  11.57942134,  40.89316138,  17.42334058,\n",
       "        31.42905466, 104.9007398 ,  16.5969149 ,   9.18968329,\n",
       "        32.00407171,  39.05640769,  14.6284791 ,  31.86292485,\n",
       "         5.22731654,  30.25389549,  35.13102678,  21.81875834,\n",
       "        50.33847617, 139.92423862,  39.54144742,  15.17411107,\n",
       "        46.0521097 ,  28.10237964,   5.19384464,   3.28154388,\n",
       "         7.59839493,  12.92928561,   4.40246797,   6.7058944 ,\n",
       "        55.04005934,  25.12760802,   8.9485244 ,   4.3801578 ,\n",
       "        30.29254451, 233.00484516,  23.6203069 ,  56.3419338 ,\n",
       "        19.86738894,  17.64455867,  30.56837145,  30.44781553,\n",
       "        26.41332611,  32.47233623,  69.6855374 ,  79.80916604,\n",
       "       129.80867009,  29.55426759,  75.99362458, 136.33365722,\n",
       "         7.2325729 ,  25.88257948,  42.67377573,  20.07855784,\n",
       "        18.25741974, 133.40691433,  32.24270335,   6.23918086,\n",
       "        10.26085416,   4.81770927,  23.56180014, 351.077645  ,\n",
       "       169.00577645,  30.68918579,  10.0349271 ,  12.63389075,\n",
       "         9.21443466,  18.2297431 ,  16.18173876,   9.0662918 ,\n",
       "         3.31355798,   1.989679  ,  60.84910598,   7.34198063,\n",
       "        56.13167902,  16.12719235,   6.53767257,  17.21676006,\n",
       "        54.61732103,  53.1714851 , 215.58822993,  32.5301489 ,\n",
       "        24.52706859,  32.13285916,  38.07932937,  53.97556089,\n",
       "        13.50548443,  24.90026257,  18.17079399,  55.08062362,\n",
       "         4.46953581,   2.33753814,  17.9017899 ,  14.23286436,\n",
       "         4.4063549 ,  14.06194649,  16.38634541,   4.95789035,\n",
       "        21.1687333 ,  14.98089844,  64.5435455 ,  19.1397606 ,\n",
       "        22.27034456,  62.89434623,  31.16704349,  13.84914121,\n",
       "         9.95288756,  24.04346928,  39.95608282,   4.32017736,\n",
       "        15.53598603,  13.30032123,  42.46207439,  17.03974018,\n",
       "        75.55126208,   9.28409321,  14.25405407,  37.45987571,\n",
       "        18.52454446,   3.99891262,  21.71892906,  12.55660971,\n",
       "        37.52284438,  11.84420127,  12.87361755,  11.67258069,\n",
       "        30.20126458,  40.98304047,  18.90277083,  19.54894102,\n",
       "         3.45017609,   6.79455275,  53.08415855,  10.00964037,\n",
       "        39.26555024,  20.93948529,  13.35141938,  15.16067697,\n",
       "        20.08223711,   5.47272871,  51.53346726,  39.68022888,\n",
       "        10.41831464,  36.85707961,   7.52337253,  62.11940648,\n",
       "        36.70596424,  50.89006026,  58.91694459,  50.72355514,\n",
       "        16.2854864 ,  11.22028929,  21.95721612, 150.90605304,\n",
       "        28.74243628,  88.81773583,  15.09772556,   2.50891875,\n",
       "        19.37133091, 189.26781133,  19.2056866 ,  57.19720243,\n",
       "        24.98493845,  33.02578962,  18.587748  , 188.23373201,\n",
       "        24.97815409,   4.55446225,   8.10564331,   5.07645549,\n",
       "        11.26781648,  42.38043267,  28.11628693,   6.72286715,\n",
       "        49.48782924,  19.33398412,  22.21802246,  52.07200179,\n",
       "        30.49782224,  11.65270388,   9.49739085, 259.78987767,\n",
       "        15.16717907,   2.42863495,  69.70727534,   7.05930974,\n",
       "         7.38875861, 139.04202185,  31.29285827,  26.35122201,\n",
       "        25.43316801,  24.25732972,  16.5033853 ,   4.23423318,\n",
       "        47.78851516,  90.78979858,   3.85832055,  76.14034273,\n",
       "        50.60886576,   3.14426001, 146.23345662,  12.04793679,\n",
       "         9.39068027,  15.87864914,  14.23473819,  34.98028991,\n",
       "         8.52650981,  18.36107867,  12.20625701,  12.06874031,\n",
       "        13.85778711,  54.27860626,  23.47759272,  26.10853376,\n",
       "        18.68674797,  23.37447178,  95.4516367 ,  11.08388719,\n",
       "        58.40514399,   8.46898875,  16.86288027,  20.62155668,\n",
       "         5.60856409,   2.58827614,  22.73626943,   5.70576819,\n",
       "        35.44413164,   4.16125089,  17.13398385,  40.09816258,\n",
       "        46.90817739,  13.65296224, 116.51197568,  10.74696165,\n",
       "         7.61990505,  13.31333511,  35.35484938,  10.66590084,\n",
       "        25.5820515 ,   8.67034507,   8.18349609,   7.57230894])"
      ]
     },
     "execution_count": 112,
     "metadata": {},
     "output_type": "execute_result"
    }
   ],
   "source": [
    "data2"
   ]
  },
  {
   "cell_type": "code",
   "execution_count": 113,
   "id": "ef595955",
   "metadata": {},
   "outputs": [
    {
     "data": {
      "text/plain": [
       "<AxesSubplot:ylabel='Count'>"
      ]
     },
     "execution_count": 113,
     "metadata": {},
     "output_type": "execute_result"
    },
    {
     "data": {
      "image/png": "[encoded data removed]",
      "text/plain": [
       "<Figure size 432x288 with 1 Axes>"
      ]
     },
     "metadata": {
      "needs_background": "light"
     },
     "output_type": "display_data"
    }
   ],
   "source": [
    "sns.histplot(np.log(data2),kde=True)"
   ]
  },
  {
   "cell_type": "code",
   "execution_count": 122,
   "id": "418ba4a2",
   "metadata": {},
   "outputs": [],
   "source": [
    "import matplotlib.pyplot as plt\n",
    "import scipy.stats as stat\n",
    "import pylab\n",
    "def plot_data(sample):\n",
    "    plt.figure(figsize=(10,6))\n",
    "    plt.subplot(1,2,1)\n",
    "    sns.histplot(sample,kde=True)\n",
    "    plt.subplot(1,2,2)\n",
    "    stat.probplot(sample,dist='norm',plot=pylab)\n",
    "    plt.show()"
   ]
  },
  {
   "cell_type": "code",
   "execution_count": null,
   "id": "f92900f5",
   "metadata": {},
   "outputs": [],
   "source": []
  },
  {
   "cell_type": "code",
   "execution_count": 123,
   "id": "68bf6762",
   "metadata": {},
   "outputs": [
    {
     "data": {
      "image/png": "[encoded data removed]",
      "text/plain": [
       "<Figure size 720x432 with 2 Axes>"
      ]
     },
     "metadata": {
      "needs_background": "light"
     },
     "output_type": "display_data"
    }
   ],
   "source": [
    "plot_data(np.log(data2))"
   ]
  },
  {
   "cell_type": "code",
   "execution_count": null,
   "id": "74408e32",
   "metadata": {},
   "outputs": [],
   "source": []
  },
  {
   "cell_type": "code",
   "execution_count": 119,
   "id": "3dd86f28",
   "metadata": {},
   "outputs": [
    {
     "name": "stdout",
     "output_type": "stream",
     "text": [
      "Collecting pandas_profiling\n",
      "  Downloading pandas_profiling-3.6.6-py2.py3-none-any.whl (324 kB)\n",
      "\u001b[K     |████████████████████████████████| 324 kB 8.8 MB/s eta 0:00:01\n",
      "\u001b[?25hCollecting ydata-profiling\n",
      "  Downloading ydata_profiling-4.1.0-py2.py3-none-any.whl (344 kB)\n",
      "\u001b[K     |████████████████████████████████| 344 kB 9.1 MB/s eta 0:00:01\n",
      "\u001b[?25hRequirement already satisfied: pandas!=1.4.0,<1.6,>1.1 in /Library/Frameworks/Python.framework/Versions/3.9/lib/python3.9/site-packages (from ydata-profiling->pandas_profiling) (1.4.4)\n",
      "Requirement already satisfied: jinja2<3.2,>=2.11.1 in /Library/Frameworks/Python.framework/Versions/3.9/lib/python3.9/site-packages (from ydata-profiling->pandas_profiling) (3.1.2)\n",
      "Collecting visions[type_image_path]==0.7.5\n",
      "  Downloading visions-0.7.5-py3-none-any.whl (102 kB)\n",
      "\u001b[K     |████████████████████████████████| 102 kB 16.7 MB/s eta 0:00:01\n",
      "\u001b[?25hCollecting pydantic<1.11,>=1.8.1\n",
      "  Downloading pydantic-1.10.6-cp39-cp39-macosx_10_9_x86_64.whl (2.9 MB)\n",
      "\u001b[K     |████████████████████████████████| 2.9 MB 14.1 MB/s eta 0:00:01\n",
      "\u001b[?25hCollecting statsmodels<0.14,>=0.13.2\n",
      "  Downloading statsmodels-0.13.5-cp39-cp39-macosx_10_9_x86_64.whl (9.7 MB)\n",
      "\u001b[K     |████████████████████████████████| 9.7 MB 20.1 MB/s eta 0:00:01     |███                             | 901 kB 20.1 MB/s eta 0:00:01     |███████████████████████████▋    | 8.4 MB 20.1 MB/s eta 0:00:01\n",
      "\u001b[?25hCollecting imagehash==4.3.1\n",
      "  Downloading ImageHash-4.3.1-py2.py3-none-any.whl (296 kB)\n",
      "\u001b[K     |████████████████████████████████| 296 kB 7.2 MB/s eta 0:00:01\n",
      "\u001b[?25hCollecting seaborn<0.13,>=0.10.1\n",
      "  Using cached seaborn-0.12.2-py3-none-any.whl (293 kB)\n",
      "Collecting htmlmin==0.1.12\n",
      "  Using cached htmlmin-0.1.12.tar.gz (19 kB)\n",
      "Collecting matplotlib<3.7,>=3.2\n",
      "  Downloading matplotlib-3.6.3-cp39-cp39-macosx_10_12_x86_64.whl (7.3 MB)\n",
      "\u001b[K     |████████████████████████████████| 7.3 MB 11.8 MB/s eta 0:00:01\n",
      "\u001b[?25hCollecting multimethod<1.10,>=1.4\n",
      "  Downloading multimethod-1.9.1-py3-none-any.whl (10 kB)\n",
      "Collecting PyYAML<6.1,>=5.0.0\n",
      "  Downloading PyYAML-6.0-cp39-cp39-macosx_10_9_x86_64.whl (197 kB)\n",
      "\u001b[K     |████████████████████████████████| 197 kB 7.6 MB/s eta 0:00:01\n",
      "\u001b[?25hCollecting typeguard<2.14,>=2.13.2\n",
      "  Downloading typeguard-2.13.3-py3-none-any.whl (17 kB)\n",
      "Requirement already satisfied: scipy<1.10,>=1.4.1 in /Library/Frameworks/Python.framework/Versions/3.9/lib/python3.9/site-packages (from ydata-profiling->pandas_profiling) (1.9.1)\n",
      "Collecting tqdm<4.65,>=4.48.2\n",
      "  Downloading tqdm-4.64.1-py2.py3-none-any.whl (78 kB)\n",
      "\u001b[K     |████████████████████████████████| 78 kB 9.1 MB/s  eta 0:00:01\n",
      "\u001b[?25hCollecting phik<0.13,>=0.11.1\n",
      "  Downloading phik-0.12.3-cp39-cp39-macosx_10_13_x86_64.whl (652 kB)\n",
      "\u001b[K     |████████████████████████████████| 652 kB 9.7 MB/s eta 0:00:01\n",
      "\u001b[?25hRequirement already satisfied: requests<2.29,>=2.24.0 in /Library/Frameworks/Python.framework/Versions/3.9/lib/python3.9/site-packages (from ydata-profiling->pandas_profiling) (2.28.1)\n",
      "Requirement already satisfied: numpy<1.24,>=1.16.0 in /Library/Frameworks/Python.framework/Versions/3.9/lib/python3.9/site-packages (from ydata-profiling->pandas_profiling) (1.23.2)\n",
      "Collecting PyWavelets\n",
      "  Downloading PyWavelets-1.4.1-cp39-cp39-macosx_10_13_x86_64.whl (4.4 MB)\n",
      "\u001b[K     |████████████████████████████████| 4.4 MB 14.0 MB/s eta 0:00:01\n",
      "\u001b[?25hCollecting pillow\n",
      "  Downloading Pillow-9.4.0-2-cp39-cp39-macosx_10_10_x86_64.whl (3.3 MB)\n",
      "\u001b[K     |█████████████████████████       | 2.6 MB 13.9 MB/s eta 0:00:01\u001b[31mERROR: Could not install packages due to an OSError: [Errno 28] No space left on device\n",
      "\u001b[0m\n"
     ]
    }
   ],
   "source": [
    "!pip3 install pandas_profiling"
   ]
  },
  {
   "cell_type": "code",
   "execution_count": 121,
   "id": "75458d72",
   "metadata": {},
   "outputs": [
    {
     "ename": "ModuleNotFoundError",
     "evalue": "No module named 'pandas_profiling'",
     "output_type": "error",
     "traceback": [
      "\u001b[0;31m---------------------------------------------------------------------------\u001b[0m",
      "\u001b[0;31mModuleNotFoundError\u001b[0m                       Traceback (most recent call last)",
      "Input \u001b[0;32mIn [121]\u001b[0m, in \u001b[0;36m<cell line: 3>\u001b[0;34m()\u001b[0m\n\u001b[1;32m      1\u001b[0m \u001b[38;5;66;03m#pandas profiling\u001b[39;00m\n\u001b[0;32m----> 3\u001b[0m \u001b[38;5;28;01mimport\u001b[39;00m \u001b[38;5;21;01mpandas_profiling\u001b[39;00m\n",
      "\u001b[0;31mModuleNotFoundError\u001b[0m: No module named 'pandas_profiling'"
     ]
    }
   ],
   "source": [
    "#pandas profiling\n",
    "\n",
    "import pandas_profiling"
   ]
  },
  {
   "cell_type": "code",
   "execution_count": null,
   "id": "bba8b7a3",
   "metadata": {},
   "outputs": [],
   "source": []
  }
 ],
 "metadata": {
  "kernelspec": {
   "display_name": "Python 3 (ipykernel)",
   "language": "python",
   "name": "python3"
  },
  "language_info": {
   "codemirror_mode": {
    "name": "ipython",
    "version": 3
   },
   "file_extension": ".py",
   "mimetype": "text/x-python",
   "name": "python",
   "nbconvert_exporter": "python",
   "pygments_lexer": "ipython3",
   "version": "3.8.3rc1"
  }
 },
 "nbformat": 4,
 "nbformat_minor": 5
}
