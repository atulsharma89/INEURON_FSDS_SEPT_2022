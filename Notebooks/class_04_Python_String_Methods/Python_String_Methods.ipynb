{
 "cells": [
  {
   "cell_type": "code",
   "execution_count": 1,
   "id": "638113cb",
   "metadata": {},
   "outputs": [
    {
     "data": {
      "text/plain": [
       "2.0"
      ]
     },
     "execution_count": 1,
     "metadata": {},
     "output_type": "execute_result"
    }
   ],
   "source": [
    "#squate root method\n",
    "\n",
    "A = 4\n",
    "\n",
    "A**(1/2)"
   ]
  },
  {
   "cell_type": "code",
   "execution_count": 2,
   "id": "46ad2504",
   "metadata": {},
   "outputs": [],
   "source": [
    "name = \"Sunny\""
   ]
  },
  {
   "cell_type": "code",
   "execution_count": 4,
   "id": "c5676fb2",
   "metadata": {},
   "outputs": [
    {
     "data": {
      "text/plain": [
       "'S'"
      ]
     },
     "execution_count": 4,
     "metadata": {},
     "output_type": "execute_result"
    }
   ],
   "source": [
    "#checking first element of string\n",
    "name[0]"
   ]
  },
  {
   "cell_type": "code",
   "execution_count": 5,
   "id": "01cbf4c0",
   "metadata": {},
   "outputs": [
    {
     "data": {
      "text/plain": [
       "'y'"
      ]
     },
     "execution_count": 5,
     "metadata": {},
     "output_type": "execute_result"
    }
   ],
   "source": [
    "name[-1]"
   ]
  },
  {
   "cell_type": "code",
   "execution_count": 6,
   "id": "f5ba8210",
   "metadata": {},
   "outputs": [
    {
     "data": {
      "text/plain": [
       "'y'"
      ]
     },
     "execution_count": 6,
     "metadata": {},
     "output_type": "execute_result"
    }
   ],
   "source": [
    "name[4]"
   ]
  },
  {
   "cell_type": "code",
   "execution_count": 7,
   "id": "b2fe371f",
   "metadata": {},
   "outputs": [
    {
     "data": {
      "text/plain": [
       "'n'"
      ]
     },
     "execution_count": 7,
     "metadata": {},
     "output_type": "execute_result"
    }
   ],
   "source": [
    "name[-2]"
   ]
  },
  {
   "cell_type": "code",
   "execution_count": 8,
   "id": "b4a38349",
   "metadata": {},
   "outputs": [
    {
     "ename": "IndexError",
     "evalue": "string index out of range",
     "output_type": "error",
     "traceback": [
      "\u001b[0;31m---------------------------------------------------------------------------\u001b[0m",
      "\u001b[0;31mIndexError\u001b[0m                                Traceback (most recent call last)",
      "Input \u001b[0;32mIn [8]\u001b[0m, in \u001b[0;36m<cell line: 1>\u001b[0;34m()\u001b[0m\n\u001b[0;32m----> 1\u001b[0m \u001b[43mname\u001b[49m\u001b[43m[\u001b[49m\u001b[38;5;241;43m5\u001b[39;49m\u001b[43m]\u001b[49m\n",
      "\u001b[0;31mIndexError\u001b[0m: string index out of range"
     ]
    }
   ],
   "source": [
    "# string index out of range\n",
    "\n",
    "#for n characters in string the index range varies from 0 to n-1\n",
    "\n",
    "name[5]"
   ]
  },
  {
   "cell_type": "code",
   "execution_count": 10,
   "id": "6282d856",
   "metadata": {},
   "outputs": [
    {
     "data": {
      "text/plain": [
       "'Sun'"
      ]
     },
     "execution_count": 10,
     "metadata": {},
     "output_type": "execute_result"
    }
   ],
   "source": [
    "#string slicing : getting part of string\n",
    "\n",
    "# start index : included\n",
    "#last index : not included\n",
    "\n",
    "name[0:3]"
   ]
  },
  {
   "cell_type": "code",
   "execution_count": 11,
   "id": "c34d4d64",
   "metadata": {},
   "outputs": [
    {
     "data": {
      "text/plain": [
       "'unny'"
      ]
     },
     "execution_count": 11,
     "metadata": {},
     "output_type": "execute_result"
    }
   ],
   "source": [
    "name[1:]"
   ]
  },
  {
   "cell_type": "code",
   "execution_count": 12,
   "id": "58900e58",
   "metadata": {},
   "outputs": [
    {
     "data": {
      "text/plain": [
       "'unny'"
      ]
     },
     "execution_count": 12,
     "metadata": {},
     "output_type": "execute_result"
    }
   ],
   "source": [
    "name[1:5]"
   ]
  },
  {
   "cell_type": "code",
   "execution_count": 13,
   "id": "c13e4195",
   "metadata": {},
   "outputs": [
    {
     "data": {
      "text/plain": [
       "'unn'"
      ]
     },
     "execution_count": 13,
     "metadata": {},
     "output_type": "execute_result"
    }
   ],
   "source": [
    "name[-4:-1]"
   ]
  },
  {
   "cell_type": "code",
   "execution_count": 17,
   "id": "4f9630af",
   "metadata": {},
   "outputs": [
    {
     "name": "stdout",
     "output_type": "stream",
     "text": [
      "08\n",
      "10\n",
      "2022\n"
     ]
    }
   ],
   "source": [
    "date = \"08/10/2022\"\n",
    "\n",
    "day = date[0:2]\n",
    "print(day)\n",
    "\n",
    "month = date[3:5]\n",
    "print(month)\n",
    "\n",
    "year = date[6:]\n",
    "print(year)"
   ]
  },
  {
   "cell_type": "code",
   "execution_count": 21,
   "id": "d687bdc4",
   "metadata": {},
   "outputs": [
    {
     "name": "stdout",
     "output_type": "stream",
     "text": [
      "madam is a pailndrome\n"
     ]
    }
   ],
   "source": [
    "#pailendrome sequence\n",
    "\n",
    "\n",
    "wrd = 'madam'\n",
    "\n",
    "if wrd == wrd[::-1]:\n",
    "    print(f\"{wrd} is a pailndrome\")\n",
    "else:\n",
    "    print(\"not a pailendrome\")"
   ]
  },
  {
   "cell_type": "code",
   "execution_count": 23,
   "id": "c130fc47",
   "metadata": {},
   "outputs": [
    {
     "name": "stdout",
     "output_type": "stream",
     "text": [
      "MUMMY not a pailendrome\n"
     ]
    }
   ],
   "source": [
    "wrd = 'MUMMY'\n",
    "\n",
    "if wrd == wrd[::-1]:\n",
    "    print(f\"{wrd} is a pailndrome\")\n",
    "else:\n",
    "    print(f\"{wrd} not a pailendrome\")"
   ]
  },
  {
   "cell_type": "code",
   "execution_count": 24,
   "id": "3acfd051",
   "metadata": {},
   "outputs": [
    {
     "data": {
      "text/plain": [
       "'MMY'"
      ]
     },
     "execution_count": 24,
     "metadata": {},
     "output_type": "execute_result"
    }
   ],
   "source": [
    "wrd = 'MUMMYYT'\n",
    "\n",
    "wrd[0:5:2]"
   ]
  },
  {
   "cell_type": "code",
   "execution_count": 25,
   "id": "29755962",
   "metadata": {},
   "outputs": [
    {
     "data": {
      "text/plain": [
       "'SnyBaenCada'"
      ]
     },
     "execution_count": 25,
     "metadata": {},
     "output_type": "execute_result"
    }
   ],
   "source": [
    "name = \"Sunny Bhaveen Chandra\"\n",
    "\n",
    "name[::2]"
   ]
  },
  {
   "cell_type": "code",
   "execution_count": 26,
   "id": "0a90c3c3",
   "metadata": {},
   "outputs": [
    {
     "data": {
      "text/plain": [
       "'Sunny Bhaveen Chandra'"
      ]
     },
     "execution_count": 26,
     "metadata": {},
     "output_type": "execute_result"
    }
   ],
   "source": [
    "name[::]"
   ]
  },
  {
   "cell_type": "markdown",
   "id": "f9e5471f",
   "metadata": {},
   "source": [
    "# String Mutability"
   ]
  },
  {
   "cell_type": "code",
   "execution_count": 27,
   "id": "63a60291",
   "metadata": {},
   "outputs": [],
   "source": [
    "#replace S with F in Sunny"
   ]
  },
  {
   "cell_type": "code",
   "execution_count": 31,
   "id": "10334757",
   "metadata": {},
   "outputs": [
    {
     "ename": "TypeError",
     "evalue": "'str' object does not support item assignment",
     "output_type": "error",
     "traceback": [
      "\u001b[0;31m---------------------------------------------------------------------------\u001b[0m",
      "\u001b[0;31mTypeError\u001b[0m                                 Traceback (most recent call last)",
      "Input \u001b[0;32mIn [31]\u001b[0m, in \u001b[0;36m<cell line: 3>\u001b[0;34m()\u001b[0m\n\u001b[1;32m      1\u001b[0m name \u001b[38;5;241m=\u001b[39m \u001b[38;5;124m\"\u001b[39m\u001b[38;5;124mSunny\u001b[39m\u001b[38;5;124m\"\u001b[39m\n\u001b[0;32m----> 3\u001b[0m name[\u001b[38;5;241m0\u001b[39m] \u001b[38;5;241m=\u001b[39m \u001b[38;5;124m\"\u001b[39m\u001b[38;5;124mF\u001b[39m\u001b[38;5;124m\"\u001b[39m\n",
      "\u001b[0;31mTypeError\u001b[0m: 'str' object does not support item assignment"
     ]
    }
   ],
   "source": [
    "name = \"Sunny\"\n",
    "\n",
    "name[0] = \"F\""
   ]
  },
  {
   "cell_type": "code",
   "execution_count": 32,
   "id": "c21f3761",
   "metadata": {},
   "outputs": [
    {
     "data": {
      "text/plain": [
       "'Funny'"
      ]
     },
     "execution_count": 32,
     "metadata": {},
     "output_type": "execute_result"
    }
   ],
   "source": [
    "name = \"F\" + name[1:]\n",
    "name"
   ]
  },
  {
   "cell_type": "code",
   "execution_count": 33,
   "id": "2e2960d5",
   "metadata": {},
   "outputs": [
    {
     "data": {
      "text/plain": [
       "'Funnyyyyy'"
      ]
     },
     "execution_count": 33,
     "metadata": {},
     "output_type": "execute_result"
    }
   ],
   "source": [
    "name = name.replace(\"y\", \"yyyyy\")\n",
    "name"
   ]
  },
  {
   "cell_type": "code",
   "execution_count": 35,
   "id": "73c03be8",
   "metadata": {},
   "outputs": [
    {
     "data": {
      "text/plain": [
       "'Tinku'"
      ]
     },
     "execution_count": 35,
     "metadata": {},
     "output_type": "execute_result"
    }
   ],
   "source": [
    "name= \"Sunny\"\n",
    "\n",
    "name = name.replace(\"Sunny\", \"Tinku\")\n",
    "name"
   ]
  },
  {
   "cell_type": "code",
   "execution_count": 36,
   "id": "a6ae2a5d",
   "metadata": {},
   "outputs": [
    {
     "data": {
      "text/plain": [
       "'Atul_Kumar_Sharma'"
      ]
     },
     "execution_count": 36,
     "metadata": {},
     "output_type": "execute_result"
    }
   ],
   "source": [
    "name = \"Atul Kumar Sharma\"\n",
    "\n",
    "name = name.replace(\" \", \"_\")\n",
    "\n",
    "name"
   ]
  },
  {
   "cell_type": "code",
   "execution_count": 37,
   "id": "afe31aa6",
   "metadata": {},
   "outputs": [
    {
     "data": {
      "text/plain": [
       "17"
      ]
     },
     "execution_count": 37,
     "metadata": {},
     "output_type": "execute_result"
    }
   ],
   "source": [
    "#checking length of string\n",
    "len(name)"
   ]
  },
  {
   "cell_type": "code",
   "execution_count": 38,
   "id": "34320bbb",
   "metadata": {},
   "outputs": [
    {
     "ename": "TypeError",
     "evalue": "'str' object does not support item assignment",
     "output_type": "error",
     "traceback": [
      "\u001b[0;31m---------------------------------------------------------------------------\u001b[0m",
      "\u001b[0;31mTypeError\u001b[0m                                 Traceback (most recent call last)",
      "Input \u001b[0;32mIn [38]\u001b[0m, in \u001b[0;36m<cell line: 1>\u001b[0;34m()\u001b[0m\n\u001b[0;32m----> 1\u001b[0m name[\u001b[38;5;241m0\u001b[39m] \u001b[38;5;241m=\u001b[39m \u001b[38;5;124m\"\u001b[39m\u001b[38;5;124mF\u001b[39m\u001b[38;5;124m\"\u001b[39m\n",
      "\u001b[0;31mTypeError\u001b[0m: 'str' object does not support item assignment"
     ]
    }
   ],
   "source": [
    "name[0] = \"F\"  # This is not allowed"
   ]
  },
  {
   "cell_type": "code",
   "execution_count": 39,
   "id": "922435eb",
   "metadata": {},
   "outputs": [
    {
     "data": {
      "text/plain": [
       "2"
      ]
     },
     "execution_count": 39,
     "metadata": {},
     "output_type": "execute_result"
    }
   ],
   "source": [
    "#count specific character in string\n",
    "\n",
    "name = \"Atul Sharma\"\n",
    "\n",
    "name.count(\"a\")"
   ]
  },
  {
   "cell_type": "code",
   "execution_count": 40,
   "id": "40b62c81",
   "metadata": {},
   "outputs": [
    {
     "data": {
      "text/plain": [
       "['Atul', 'Kumar', 'sharma']"
      ]
     },
     "execution_count": 40,
     "metadata": {},
     "output_type": "execute_result"
    }
   ],
   "source": [
    "#split operation \n",
    "name = \"Atul Kumar sharma\"\n",
    "\n",
    "name.split(\" \")"
   ]
  },
  {
   "cell_type": "code",
   "execution_count": 41,
   "id": "adfc22b7",
   "metadata": {},
   "outputs": [
    {
     "name": "stdout",
     "output_type": "stream",
     "text": [
      "Atul\n",
      "Kumar\n",
      "sharma\n"
     ]
    }
   ],
   "source": [
    "first, middle , last = name.split(\" \")\n",
    "\n",
    "print(first)\n",
    "print(middle)\n",
    "print(last)"
   ]
  },
  {
   "cell_type": "code",
   "execution_count": 42,
   "id": "888565da",
   "metadata": {},
   "outputs": [
    {
     "name": "stdout",
     "output_type": "stream",
     "text": [
      "08\n",
      "10\n",
      "2012\n"
     ]
    }
   ],
   "source": [
    "date = \"08/10/2012\"\n",
    "\n",
    "dt,mnth, year = date.split(\"/\")\n",
    "\n",
    "print(dt)\n",
    "print(mnth)\n",
    "print(year)"
   ]
  },
  {
   "cell_type": "code",
   "execution_count": 43,
   "id": "cd0c27aa",
   "metadata": {},
   "outputs": [
    {
     "data": {
      "text/plain": [
       "['Su', '', 'y Bhavee', ' Cha', 'dra']"
      ]
     },
     "execution_count": 43,
     "metadata": {},
     "output_type": "execute_result"
    }
   ],
   "source": [
    "name = \"Sunny Bhaveen Chandra\"\n",
    "\n",
    "name.split(\"n\")"
   ]
  },
  {
   "cell_type": "code",
   "execution_count": 44,
   "id": "38aa1401",
   "metadata": {},
   "outputs": [
    {
     "data": {
      "text/plain": [
       "'sunny bhaveen chandra'"
      ]
     },
     "execution_count": 44,
     "metadata": {},
     "output_type": "execute_result"
    }
   ],
   "source": [
    "#lower upper case\n",
    "\n",
    "\n",
    "name = \"Sunny Bhaveen Chandra\"\n",
    "\n",
    "name.lower()"
   ]
  },
  {
   "cell_type": "code",
   "execution_count": 45,
   "id": "9c642ed6",
   "metadata": {},
   "outputs": [
    {
     "data": {
      "text/plain": [
       "'SUNNY BHAVEEN CHANDRA'"
      ]
     },
     "execution_count": 45,
     "metadata": {},
     "output_type": "execute_result"
    }
   ],
   "source": [
    "name = \"Sunny Bhaveen Chandra\"\n",
    "\n",
    "name.upper()"
   ]
  },
  {
   "cell_type": "code",
   "execution_count": 47,
   "id": "e106b0d0",
   "metadata": {},
   "outputs": [
    {
     "data": {
      "text/plain": [
       "'Sunny Bhaveen Chandra'"
      ]
     },
     "execution_count": 47,
     "metadata": {},
     "output_type": "execute_result"
    }
   ],
   "source": [
    "name = \"Sunny bhaveen chandra\"\n",
    "\n",
    "name.title()"
   ]
  },
  {
   "cell_type": "code",
   "execution_count": 48,
   "id": "7c2879a0",
   "metadata": {},
   "outputs": [
    {
     "data": {
      "text/plain": [
       "'Sunny bhaveen chandra'"
      ]
     },
     "execution_count": 48,
     "metadata": {},
     "output_type": "execute_result"
    }
   ],
   "source": [
    "name = \"Sunny bhaveen chandra\"\n",
    "\n",
    "name.capitalize()"
   ]
  },
  {
   "cell_type": "code",
   "execution_count": 49,
   "id": "44855f88",
   "metadata": {},
   "outputs": [
    {
     "data": {
      "text/plain": [
       "'sUNNY BHAVEEN CHANDRA'"
      ]
     },
     "execution_count": 49,
     "metadata": {},
     "output_type": "execute_result"
    }
   ],
   "source": [
    "name = \"Sunny bhaveen chandra\"\n",
    "\n",
    "name.swapcase()"
   ]
  },
  {
   "cell_type": "code",
   "execution_count": 50,
   "id": "22f9915b",
   "metadata": {},
   "outputs": [
    {
     "data": {
      "text/plain": [
       "'S*u*n*n*y* *b*h*a*v*e*e*n* *c*h*a*n*d*r*a'"
      ]
     },
     "execution_count": 50,
     "metadata": {},
     "output_type": "execute_result"
    }
   ],
   "source": [
    "name = \"Sunny bhaveen chandra\"\n",
    "\"*\".join(name)"
   ]
  },
  {
   "cell_type": "code",
   "execution_count": 51,
   "id": "cd309acb",
   "metadata": {},
   "outputs": [
    {
     "data": {
      "text/plain": [
       "'S_u_n_n_y_ _b_h_a_v_e_e_n_ _c_h_a_n_d_r_a'"
      ]
     },
     "execution_count": 51,
     "metadata": {},
     "output_type": "execute_result"
    }
   ],
   "source": [
    "name = \"Sunny bhaveen chandra\"\n",
    "\"_\".join(name)"
   ]
  },
  {
   "cell_type": "code",
   "execution_count": 52,
   "id": "50c28145",
   "metadata": {},
   "outputs": [
    {
     "data": {
      "text/plain": [
       "'Atul'"
      ]
     },
     "execution_count": 52,
     "metadata": {},
     "output_type": "execute_result"
    }
   ],
   "source": [
    "#removing extra sapces\n",
    "\n",
    "name = \" Atul  \"\n",
    "\n",
    "name.strip()"
   ]
  },
  {
   "cell_type": "code",
   "execution_count": 53,
   "id": "30f53220",
   "metadata": {},
   "outputs": [
    {
     "data": {
      "text/plain": [
       "'Atul'"
      ]
     },
     "execution_count": 53,
     "metadata": {},
     "output_type": "execute_result"
    }
   ],
   "source": [
    "name = \" Atul  \"\n",
    "\n",
    "name.strip(\" \")"
   ]
  },
  {
   "cell_type": "code",
   "execution_count": 54,
   "id": "39d975aa",
   "metadata": {},
   "outputs": [
    {
     "data": {
      "text/plain": [
       "'Atul  '"
      ]
     },
     "execution_count": 54,
     "metadata": {},
     "output_type": "execute_result"
    }
   ],
   "source": [
    "name = \" Atul  \"\n",
    "\n",
    "name.lstrip(\" \")"
   ]
  },
  {
   "cell_type": "code",
   "execution_count": 55,
   "id": "7b2f088c",
   "metadata": {},
   "outputs": [
    {
     "data": {
      "text/plain": [
       "' Atul'"
      ]
     },
     "execution_count": 55,
     "metadata": {},
     "output_type": "execute_result"
    }
   ],
   "source": [
    "name = \" Atul  \"\n",
    "\n",
    "name.rstrip(\" \")"
   ]
  },
  {
   "cell_type": "code",
   "execution_count": 56,
   "id": "7fdd018f",
   "metadata": {},
   "outputs": [
    {
     "data": {
      "text/plain": [
       "'Atul'"
      ]
     },
     "execution_count": 56,
     "metadata": {},
     "output_type": "execute_result"
    }
   ],
   "source": [
    "name.replace(\" \",\"\")"
   ]
  },
  {
   "cell_type": "code",
   "execution_count": 57,
   "id": "a5c354b7",
   "metadata": {},
   "outputs": [
    {
     "data": {
      "text/plain": [
       "'====Atul'"
      ]
     },
     "execution_count": 57,
     "metadata": {},
     "output_type": "execute_result"
    }
   ],
   "source": [
    "name = \"====Atul=====\"\n",
    "\n",
    "name.rstrip(\"=\")"
   ]
  },
  {
   "cell_type": "code",
   "execution_count": 59,
   "id": "234ed709",
   "metadata": {},
   "outputs": [
    {
     "data": {
      "text/plain": [
       "'###Atul###'"
      ]
     },
     "execution_count": 59,
     "metadata": {},
     "output_type": "execute_result"
    }
   ],
   "source": [
    "name = \"Atul\"\n",
    "\n",
    "name.center(10,\"#\")"
   ]
  },
  {
   "cell_type": "code",
   "execution_count": 60,
   "id": "209f0342",
   "metadata": {},
   "outputs": [
    {
     "data": {
      "text/plain": [
       "True"
      ]
     },
     "execution_count": 60,
     "metadata": {},
     "output_type": "execute_result"
    }
   ],
   "source": [
    "#checking string cases\n",
    "\n",
    "name= \"ATUL\"\n",
    "\n",
    "name.isupper()"
   ]
  },
  {
   "cell_type": "code",
   "execution_count": 61,
   "id": "8f9b7840",
   "metadata": {},
   "outputs": [
    {
     "data": {
      "text/plain": [
       "True"
      ]
     },
     "execution_count": 61,
     "metadata": {},
     "output_type": "execute_result"
    }
   ],
   "source": [
    "name= \"atul\"\n",
    "\n",
    "name.islower()"
   ]
  },
  {
   "cell_type": "code",
   "execution_count": 62,
   "id": "942f986e",
   "metadata": {},
   "outputs": [
    {
     "data": {
      "text/plain": [
       "False"
      ]
     },
     "execution_count": 62,
     "metadata": {},
     "output_type": "execute_result"
    }
   ],
   "source": [
    "name= \"Atul\"\n",
    "\n",
    "name.islower()"
   ]
  },
  {
   "cell_type": "code",
   "execution_count": 63,
   "id": "9e76f196",
   "metadata": {},
   "outputs": [
    {
     "data": {
      "text/plain": [
       "False"
      ]
     },
     "execution_count": 63,
     "metadata": {},
     "output_type": "execute_result"
    }
   ],
   "source": [
    "name= \"Atul\"\n",
    "\n",
    "name.isspace()"
   ]
  },
  {
   "cell_type": "code",
   "execution_count": 64,
   "id": "ff3bce38",
   "metadata": {},
   "outputs": [
    {
     "data": {
      "text/plain": [
       "True"
      ]
     },
     "execution_count": 64,
     "metadata": {},
     "output_type": "execute_result"
    }
   ],
   "source": [
    "phone = \"12345\"\n",
    "\n",
    "phone.isdigit()"
   ]
  },
  {
   "cell_type": "code",
   "execution_count": 68,
   "id": "a9e2b524",
   "metadata": {},
   "outputs": [
    {
     "name": "stdout",
     "output_type": "stream",
     "text": [
      " enter your phone number 0000000000\n",
      "A invalid phone number\n"
     ]
    }
   ],
   "source": [
    "phone = input(\" enter your phone number \")\n",
    "\n",
    "if phone.isdigit() and len(phone) == 10 and phone!=\"0000000000\":\n",
    "    print(\"valid phone number\")\n",
    "else:\n",
    "    print(\"A invalid phone number\")"
   ]
  },
  {
   "cell_type": "code",
   "execution_count": 71,
   "id": "bb9aca17",
   "metadata": {},
   "outputs": [
    {
     "data": {
      "text/plain": [
       "True"
      ]
     },
     "execution_count": 71,
     "metadata": {},
     "output_type": "execute_result"
    }
   ],
   "source": [
    "name = \"Sunny6789ABC\"\n",
    "\n",
    "name.isalnum()"
   ]
  },
  {
   "cell_type": "code",
   "execution_count": null,
   "id": "86dfb7bd",
   "metadata": {},
   "outputs": [],
   "source": []
  }
 ],
 "metadata": {
  "kernelspec": {
   "display_name": "Python 3 (ipykernel)",
   "language": "python",
   "name": "python3"
  },
  "language_info": {
   "codemirror_mode": {
    "name": "ipython",
    "version": 3
   },
   "file_extension": ".py",
   "mimetype": "text/x-python",
   "name": "python",
   "nbconvert_exporter": "python",
   "pygments_lexer": "ipython3",
   "version": "3.8.3rc1"
  }
 },
 "nbformat": 4,
 "nbformat_minor": 5
}
