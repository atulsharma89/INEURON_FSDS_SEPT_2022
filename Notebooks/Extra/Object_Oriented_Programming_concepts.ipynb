{
 "cells": [
  {
   "cell_type": "markdown",
   "id": "7a1ab4e7",
   "metadata": {},
   "source": [
    "# if __name__ == \"__main__\" "
   ]
  },
  {
   "cell_type": "code",
   "execution_count": 2,
   "id": "9527f129",
   "metadata": {},
   "outputs": [
    {
     "name": "stdout",
     "output_type": "stream",
     "text": [
      "13\n"
     ]
    }
   ],
   "source": [
    "def addsum(a,b):\n",
    "    return a+b\n",
    "\n",
    "#addsum(5,9)\n",
    "\n",
    "if __name__ ==\"__main__\":\n",
    "    a = addsum(4,9)\n",
    "    print(a)\n",
    "    \n",
    "# this is used as entry point for any python program\n",
    "\n"
   ]
  },
  {
   "cell_type": "code",
   "execution_count": 3,
   "id": "7b65fe5b",
   "metadata": {},
   "outputs": [
    {
     "name": "stdout",
     "output_type": "stream",
     "text": [
      "__main__\n"
     ]
    }
   ],
   "source": [
    "print(__name__)"
   ]
  },
  {
   "cell_type": "code",
   "execution_count": null,
   "id": "2f326fc3",
   "metadata": {},
   "outputs": [],
   "source": []
  }
 ],
 "metadata": {
  "kernelspec": {
   "display_name": "Python 3 (ipykernel)",
   "language": "python",
   "name": "python3"
  },
  "language_info": {
   "codemirror_mode": {
    "name": "ipython",
    "version": 3
   },
   "file_extension": ".py",
   "mimetype": "text/x-python",
   "name": "python",
   "nbconvert_exporter": "python",
   "pygments_lexer": "ipython3",
   "version": "3.8.3rc1"
  }
 },
 "nbformat": 4,
 "nbformat_minor": 5
}
