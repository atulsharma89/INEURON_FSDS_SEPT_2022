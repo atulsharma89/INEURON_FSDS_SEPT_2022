{
 "cells": [
  {
   "cell_type": "markdown",
   "id": "7a1ab4e7",
   "metadata": {},
   "source": [
    "# if __name__ == \"__main__\" "
   ]
  },
  {
   "cell_type": "code",
   "execution_count": 2,
   "id": "9527f129",
   "metadata": {},
   "outputs": [
    {
     "name": "stdout",
     "output_type": "stream",
     "text": [
      "13\n"
     ]
    }
   ],
   "source": [
    "def addsum(a,b):\n",
    "    return a+b\n",
    "\n",
    "#addsum(5,9)\n",
    "\n",
    "if __name__ ==\"__main__\":\n",
    "    a = addsum(4,9)\n",
    "    print(a)\n",
    "    \n",
    "# this is used as entry point for any python program\n",
    "\n"
   ]
  },
  {
   "cell_type": "code",
   "execution_count": 3,
   "id": "7b65fe5b",
   "metadata": {},
   "outputs": [
    {
     "name": "stdout",
     "output_type": "stream",
     "text": [
      "__main__\n"
     ]
    }
   ],
   "source": [
    "print(__name__)"
   ]
  },
  {
   "cell_type": "markdown",
   "id": "f280abef",
   "metadata": {},
   "source": [
    "# TRY EXCEPTION "
   ]
  },
  {
   "cell_type": "code",
   "execution_count": 1,
   "id": "948054ff",
   "metadata": {},
   "outputs": [
    {
     "ename": "TypeError",
     "evalue": "can only concatenate str (not \"int\") to str",
     "output_type": "error",
     "traceback": [
      "\u001b[0;31m---------------------------------------------------------------------------\u001b[0m",
      "\u001b[0;31mTypeError\u001b[0m                                 Traceback (most recent call last)",
      "Input \u001b[0;32mIn [1]\u001b[0m, in \u001b[0;36m<cell line: 1>\u001b[0;34m()\u001b[0m\n\u001b[0;32m----> 1\u001b[0m \u001b[38;5;124;43m'\u001b[39;49m\u001b[38;5;124;43mabc\u001b[39;49m\u001b[38;5;124;43m'\u001b[39;49m\u001b[43m \u001b[49m\u001b[38;5;241;43m+\u001b[39;49m\u001b[43m \u001b[49m\u001b[38;5;241;43m2\u001b[39;49m\n",
      "\u001b[0;31mTypeError\u001b[0m: can only concatenate str (not \"int\") to str"
     ]
    }
   ],
   "source": [
    "'abc' + 2"
   ]
  },
  {
   "cell_type": "code",
   "execution_count": 3,
   "id": "84992016",
   "metadata": {},
   "outputs": [
    {
     "name": "stdout",
     "output_type": "stream",
     "text": [
      "enter value of x 5\n",
      "enter value of y 4\n",
      "1.25\n"
     ]
    }
   ],
   "source": [
    "x = int(input(\"enter value of x \"))\n",
    "y = int(input(\"enter value of y \"))\n",
    "\n",
    "z = x/y\n",
    "\n",
    "print(x/y)"
   ]
  },
  {
   "cell_type": "code",
   "execution_count": 7,
   "id": "bc0c8f40",
   "metadata": {},
   "outputs": [
    {
     "name": "stdout",
     "output_type": "stream",
     "text": [
      "enter value of x 5\n",
      "enter value of y 0\n",
      "exception occured  division by zero\n",
      "division None\n"
     ]
    }
   ],
   "source": [
    "x = int(input(\"enter value of x \"))\n",
    "y = int(input(\"enter value of y \"))\n",
    "\n",
    "try:\n",
    "    z = x/y\n",
    "except Exception as e:\n",
    "    print('exception occured ', e)\n",
    "    z = None\n",
    "print('division', z)\n"
   ]
  },
  {
   "cell_type": "code",
   "execution_count": 10,
   "id": "1cf81c5a",
   "metadata": {},
   "outputs": [
    {
     "name": "stdout",
     "output_type": "stream",
     "text": [
      "enter value of x 8\n",
      "enter value of y 0\n",
      "division by zero error \n",
      "division None\n"
     ]
    }
   ],
   "source": [
    "x = int(input(\"enter value of x \"))\n",
    "y = int(input(\"enter value of y \"))\n",
    "\n",
    "try:\n",
    "    z = x/y\n",
    "except ZeroDivisionError as e:\n",
    "    print('division by zero error ')\n",
    "    z = None\n",
    "print('division', z)\n",
    "\n"
   ]
  },
  {
   "cell_type": "code",
   "execution_count": 12,
   "id": "f3709b86",
   "metadata": {},
   "outputs": [
    {
     "name": "stdout",
     "output_type": "stream",
     "text": [
      "enter value of x 7\n",
      "enter value of y 9\n",
      "exception type  TypeError\n",
      "division None\n"
     ]
    }
   ],
   "source": [
    "#multiple exception \n",
    "\n",
    "x = int(input(\"enter value of x \"))\n",
    "y = input(\"enter value of y \")\n",
    "\n",
    "try:\n",
    "    z = x/y\n",
    "except ZeroDivisionError as e:\n",
    "    print('division by zero error ')\n",
    "    z = None\n",
    "    \n",
    "except Exception as e:\n",
    "    print('exception type ',type(e).__name__)\n",
    "    z=None\n",
    "print('division', z)\n",
    "\n",
    "\n"
   ]
  },
  {
   "cell_type": "code",
   "execution_count": 13,
   "id": "4d13b69d",
   "metadata": {},
   "outputs": [
    {
     "name": "stdout",
     "output_type": "stream",
     "text": [
      "enter value of x 8\n",
      "enter value of y 9\n",
      "type error exception\n",
      "division None\n"
     ]
    }
   ],
   "source": [
    "#multiple exception \n",
    "\n",
    "x = int(input(\"enter value of x \"))\n",
    "y = input(\"enter value of y \")\n",
    "\n",
    "try:\n",
    "    z = x/y\n",
    "except ZeroDivisionError as e:\n",
    "    print('division by zero error ')\n",
    "    z = None\n",
    "    \n",
    "except TypeError as e:\n",
    "    print('type error exception')\n",
    "    z=None\n",
    "print('division', z)\n",
    "\n",
    "\n",
    "\n"
   ]
  },
  {
   "cell_type": "markdown",
   "id": "54367632",
   "metadata": {},
   "source": [
    "# Raise Exception And Finally"
   ]
  },
  {
   "cell_type": "code",
   "execution_count": 49,
   "id": "f8532d3d",
   "metadata": {},
   "outputs": [
    {
     "name": "stdout",
     "output_type": "stream",
     "text": [
      "memory error 123\n"
     ]
    }
   ],
   "source": [
    "try:\n",
    "    raise MemoryError('memory error 123')\n",
    "\n",
    "except MemoryError as e:\n",
    "    print(e)"
   ]
  },
  {
   "cell_type": "code",
   "execution_count": 51,
   "id": "80df8d61",
   "metadata": {},
   "outputs": [
    {
     "name": "stdout",
     "output_type": "stream",
     "text": [
      "memory error 1234\n"
     ]
    }
   ],
   "source": [
    "try:\n",
    "    raise Exception('memory error 1234')\n",
    "\n",
    "except Exception as e:\n",
    "    print(e)"
   ]
  },
  {
   "cell_type": "code",
   "execution_count": 56,
   "id": "4d653f09",
   "metadata": {},
   "outputs": [
    {
     "name": "stdout",
     "output_type": "stream",
     "text": [
      "user defined exception:  car crash between 2 cars\n"
     ]
    }
   ],
   "source": [
    "#exceptions are instance of classes\n",
    "\n",
    "class Accident(Exception):\n",
    "    def __init__(self,msg):\n",
    "        self.msg = msg\n",
    "    def print_exception(self):\n",
    "        print(\"user defined exception: \", self.msg)\n",
    "\n",
    "try:\n",
    "    raise Accident('car crash between 2 cars')\n",
    "\n",
    "except Accident as e:\n",
    "    e.print_exception()"
   ]
  },
  {
   "cell_type": "code",
   "execution_count": 59,
   "id": "4ee4ddc4",
   "metadata": {},
   "outputs": [],
   "source": [
    "#finally: it will always exiecye the code in finally block, no matter what\n",
    "\n",
    "\n",
    "def procfile():\n",
    "    try:\n",
    "        x = 1/0\n",
    "    except FileNotFoundError as e:\n",
    "        print(\"inside except\")\n",
    "    finally:\n",
    "        print(\"jhol\")"
   ]
  },
  {
   "cell_type": "code",
   "execution_count": 60,
   "id": "68c51ce5",
   "metadata": {},
   "outputs": [
    {
     "name": "stdout",
     "output_type": "stream",
     "text": [
      "jhol\n"
     ]
    },
    {
     "ename": "ZeroDivisionError",
     "evalue": "division by zero",
     "output_type": "error",
     "traceback": [
      "\u001b[0;31m---------------------------------------------------------------------------\u001b[0m",
      "\u001b[0;31mZeroDivisionError\u001b[0m                         Traceback (most recent call last)",
      "Input \u001b[0;32mIn [60]\u001b[0m, in \u001b[0;36m<cell line: 1>\u001b[0;34m()\u001b[0m\n\u001b[0;32m----> 1\u001b[0m \u001b[43mprocfile\u001b[49m\u001b[43m(\u001b[49m\u001b[43m)\u001b[49m\n",
      "Input \u001b[0;32mIn [59]\u001b[0m, in \u001b[0;36mprocfile\u001b[0;34m()\u001b[0m\n\u001b[1;32m      4\u001b[0m \u001b[38;5;28;01mdef\u001b[39;00m \u001b[38;5;21mprocfile\u001b[39m():\n\u001b[1;32m      5\u001b[0m     \u001b[38;5;28;01mtry\u001b[39;00m:\n\u001b[0;32m----> 6\u001b[0m         x \u001b[38;5;241m=\u001b[39m \u001b[38;5;241;43m1\u001b[39;49m\u001b[38;5;241;43m/\u001b[39;49m\u001b[38;5;241;43m0\u001b[39;49m\n\u001b[1;32m      7\u001b[0m     \u001b[38;5;28;01mexcept\u001b[39;00m \u001b[38;5;167;01mFileNotFoundError\u001b[39;00m \u001b[38;5;28;01mas\u001b[39;00m e:\n\u001b[1;32m      8\u001b[0m         \u001b[38;5;28mprint\u001b[39m(\u001b[38;5;124m\"\u001b[39m\u001b[38;5;124minside except\u001b[39m\u001b[38;5;124m\"\u001b[39m)\n",
      "\u001b[0;31mZeroDivisionError\u001b[0m: division by zero"
     ]
    }
   ],
   "source": [
    "procfile()"
   ]
  },
  {
   "cell_type": "code",
   "execution_count": null,
   "id": "fd492a0d",
   "metadata": {},
   "outputs": [],
   "source": []
  },
  {
   "cell_type": "code",
   "execution_count": null,
   "id": "e638473d",
   "metadata": {},
   "outputs": [],
   "source": []
  },
  {
   "cell_type": "markdown",
   "id": "771a7b3c",
   "metadata": {},
   "source": [
    "# Class and Objects"
   ]
  },
  {
   "cell_type": "code",
   "execution_count": 21,
   "id": "a809da2f",
   "metadata": {},
   "outputs": [],
   "source": [
    "#properties and methods for a class\n",
    "\n",
    "#PROPERTIES: name gender occupation\n",
    "#methods: speaks do wrok, sleeps\n",
    "#objects : specific instance of class\n",
    "\n",
    "#self means class itself\n",
    "\n",
    "class Human:\n",
    "    def __init__(self,n,o,s):  #special function init , it going to initialize properties of class when we create an instanc\n",
    "        self.name = n\n",
    "        self.occupation = o\n",
    "        self.salary = s\n",
    "    \n",
    "    def do_work(self):\n",
    "        if self.occupation == \"Tennis\":\n",
    "            print(\"Plays tennis\")\n",
    "        elif self.occupation==\"Actor\":\n",
    "            print(\"shoots films\")\n",
    "            \n",
    "    def speaks(self):\n",
    "        print(self.name, \"says how are you\")\n",
    "    \n",
    "    "
   ]
  },
  {
   "cell_type": "code",
   "execution_count": 22,
   "id": "f5c7f041",
   "metadata": {},
   "outputs": [
    {
     "name": "stdout",
     "output_type": "stream",
     "text": [
      "shoots films\n",
      "Tom says how are you\n"
     ]
    }
   ],
   "source": [
    "tom = Human(\"Tom\", \"Actor\",5000)\n",
    "tom.do_work()\n",
    "tom.speaks()"
   ]
  },
  {
   "cell_type": "code",
   "execution_count": 23,
   "id": "ce8a4134",
   "metadata": {},
   "outputs": [
    {
     "name": "stdout",
     "output_type": "stream",
     "text": [
      "Plays tennis\n",
      "Tom says how are you\n"
     ]
    }
   ],
   "source": [
    "tom = Human(\"Tom\", \"Tennis\",5000)\n",
    "tom.do_work()\n",
    "tom.speaks()"
   ]
  },
  {
   "cell_type": "code",
   "execution_count": null,
   "id": "eda842a0",
   "metadata": {},
   "outputs": [],
   "source": []
  },
  {
   "cell_type": "code",
   "execution_count": 26,
   "id": "94a91507",
   "metadata": {},
   "outputs": [],
   "source": [
    "class Humanwa:\n",
    "    def __init__(self, n,o):\n",
    "        self.name = n\n",
    "        self.occupation = o\n",
    "        \n",
    "    def plays(self):\n",
    "        if self.occupation ==\"baklol\":\n",
    "            print(\"does bakloli\")"
   ]
  },
  {
   "cell_type": "code",
   "execution_count": 27,
   "id": "6889cc1a",
   "metadata": {},
   "outputs": [
    {
     "name": "stdout",
     "output_type": "stream",
     "text": [
      "does bakloli\n"
     ]
    }
   ],
   "source": [
    "pinto = Humanwa(\"chintoo\",\"baklol\")\n",
    "\n",
    "pinto.plays()"
   ]
  },
  {
   "cell_type": "markdown",
   "id": "a5d7c598",
   "metadata": {},
   "source": [
    "# Inheritance"
   ]
  },
  {
   "cell_type": "code",
   "execution_count": 33,
   "id": "e4d67904",
   "metadata": {},
   "outputs": [],
   "source": [
    "class Vehicles:\n",
    "    def general_usage(self):\n",
    "        print(\"general use: transportation\")\n",
    "        \n",
    "class Car(Vehicles):\n",
    "    def __init__(self):\n",
    "        print(\"I am car\")\n",
    "        self.wheels = 4\n",
    "        self.has_roof = True\n",
    "    \n",
    "    def specific_usage(self):\n",
    "        print(\"Specific use: commute to work\")\n",
    "        \n",
    "class Motorcyclye(Vehicles):\n",
    "    def __init__(self):\n",
    "        print(\"I am motor cycle\")\n",
    "        self.wheels = 2\n",
    "        self.has_roof = False\n",
    "    \n",
    "    def specific_usage(self):\n",
    "        print(\"Specific use: road trip and racing\")\n",
    "\n",
    "\n",
    "    "
   ]
  },
  {
   "cell_type": "code",
   "execution_count": 34,
   "id": "f29dd2f6",
   "metadata": {},
   "outputs": [
    {
     "name": "stdout",
     "output_type": "stream",
     "text": [
      "I am car\n",
      "general use: transportation\n",
      "Specific use: commute to work\n"
     ]
    }
   ],
   "source": [
    "c = Car()\n",
    "\n",
    "c.general_usage()\n",
    "c.specific_usage()"
   ]
  },
  {
   "cell_type": "code",
   "execution_count": 35,
   "id": "ffb28111",
   "metadata": {},
   "outputs": [
    {
     "name": "stdout",
     "output_type": "stream",
     "text": [
      "I am motor cycle\n",
      "general use: transportation\n",
      "Specific use: road trip and racing\n"
     ]
    }
   ],
   "source": [
    "m = Motorcyclye()\n",
    "m.general_usage()\n",
    "m.specific_usage()"
   ]
  },
  {
   "cell_type": "code",
   "execution_count": 39,
   "id": "eaae6f31",
   "metadata": {},
   "outputs": [
    {
     "name": "stdout",
     "output_type": "stream",
     "text": [
      "True\n"
     ]
    }
   ],
   "source": [
    "print(isinstance(c,Car))"
   ]
  },
  {
   "cell_type": "code",
   "execution_count": 41,
   "id": "c2fc5830",
   "metadata": {},
   "outputs": [
    {
     "name": "stdout",
     "output_type": "stream",
     "text": [
      "True\n"
     ]
    }
   ],
   "source": [
    "print(isinstance(c,Vehicles))"
   ]
  },
  {
   "cell_type": "code",
   "execution_count": 37,
   "id": "a978285c",
   "metadata": {},
   "outputs": [],
   "source": [
    "#benifits of inheritance:\n",
    "\n",
    "# code reusability\n",
    "#extensibility\n",
    "#readibility"
   ]
  },
  {
   "cell_type": "markdown",
   "id": "a63f39ec",
   "metadata": {},
   "source": [
    "# Multiple Inheritance "
   ]
  },
  {
   "cell_type": "code",
   "execution_count": 43,
   "id": "8ba78d9f",
   "metadata": {},
   "outputs": [
    {
     "name": "stdout",
     "output_type": "stream",
     "text": [
      "I enjoy gardening\n",
      "I enjoy cooking\n",
      "I ENJOY SPORTS\n"
     ]
    }
   ],
   "source": [
    "class Father():\n",
    "    def gardening(self):\n",
    "        print(\"I enjoy gardening\")\n",
    "\n",
    "class Mother():\n",
    "    def cooking(self):\n",
    "        print(\"I enjoy cooking\")\n",
    "\n",
    "class Child(Father,Mother):\n",
    "    def sports(self):\n",
    "        print(\"I ENJOY SPORTS\")\n",
    "        \n",
    "c = Child()\n",
    "\n",
    "c.gardening()\n",
    "\n",
    "c.cooking()\n",
    "\n",
    "c.sports()"
   ]
  },
  {
   "cell_type": "code",
   "execution_count": 45,
   "id": "a80afb82",
   "metadata": {},
   "outputs": [
    {
     "name": "stdout",
     "output_type": "stream",
     "text": [
      "I ENJOY SPORTS\n"
     ]
    }
   ],
   "source": [
    "class Father():\n",
    "    def sports(self):\n",
    "        print(\"I enjoy gardening\")\n",
    "\n",
    "class Mother():\n",
    "    def sports(self):\n",
    "        print(\"I enjoy cooking\")\n",
    "\n",
    "class Child(Father,Mother):\n",
    "    def sports(self):\n",
    "        print(\"I ENJOY SPORTS\")\n",
    "        \n",
    "c = Child()\n",
    "c.sports()"
   ]
  },
  {
   "cell_type": "code",
   "execution_count": 47,
   "id": "f5fb024b",
   "metadata": {},
   "outputs": [
    {
     "name": "stdout",
     "output_type": "stream",
     "text": [
      "I enjoy gardening\n",
      "I enjoy cooking\n",
      "I ENJOY SPORTS\n"
     ]
    }
   ],
   "source": [
    "class Father():\n",
    "    def sports(self):\n",
    "        print(\"I enjoy gardening\")\n",
    "\n",
    "class Mother():\n",
    "    def sports(self):\n",
    "        print(\"I enjoy cooking\")\n",
    "\n",
    "class Child(Father,Mother):\n",
    "    def sports(self):\n",
    "        Father.sports(self)\n",
    "        Mother.sports(self)\n",
    "        print(\"I ENJOY SPORTS\")\n",
    "        \n",
    "c = Child()\n",
    "c.sports()"
   ]
  },
  {
   "cell_type": "markdown",
   "id": "90bff37a",
   "metadata": {},
   "source": [
    "# Iterators"
   ]
  },
  {
   "cell_type": "code",
   "execution_count": 67,
   "id": "578bf1d2",
   "metadata": {},
   "outputs": [
    {
     "name": "stdout",
     "output_type": "stream",
     "text": [
      "hey\n",
      "bro\n",
      "you\n",
      "are\n",
      "awsome\n"
     ]
    }
   ],
   "source": [
    "a= [\"hey\",\"bro\", \"you\", \"are\",\"awsome\"]\n",
    "\n",
    "\n",
    "for i in a:\n",
    "    print(i)"
   ]
  },
  {
   "cell_type": "code",
   "execution_count": 68,
   "id": "6d7329d6",
   "metadata": {},
   "outputs": [
    {
     "data": {
      "text/plain": [
       "['__add__',\n",
       " '__class__',\n",
       " '__contains__',\n",
       " '__delattr__',\n",
       " '__delitem__',\n",
       " '__dir__',\n",
       " '__doc__',\n",
       " '__eq__',\n",
       " '__format__',\n",
       " '__ge__',\n",
       " '__getattribute__',\n",
       " '__getitem__',\n",
       " '__gt__',\n",
       " '__hash__',\n",
       " '__iadd__',\n",
       " '__imul__',\n",
       " '__init__',\n",
       " '__init_subclass__',\n",
       " '__iter__',\n",
       " '__le__',\n",
       " '__len__',\n",
       " '__lt__',\n",
       " '__mul__',\n",
       " '__ne__',\n",
       " '__new__',\n",
       " '__reduce__',\n",
       " '__reduce_ex__',\n",
       " '__repr__',\n",
       " '__reversed__',\n",
       " '__rmul__',\n",
       " '__setattr__',\n",
       " '__setitem__',\n",
       " '__sizeof__',\n",
       " '__str__',\n",
       " '__subclasshook__',\n",
       " 'append',\n",
       " 'clear',\n",
       " 'copy',\n",
       " 'count',\n",
       " 'extend',\n",
       " 'index',\n",
       " 'insert',\n",
       " 'pop',\n",
       " 'remove',\n",
       " 'reverse',\n",
       " 'sort']"
      ]
     },
     "execution_count": 68,
     "metadata": {},
     "output_type": "execute_result"
    }
   ],
   "source": [
    "dir(a)"
   ]
  },
  {
   "cell_type": "code",
   "execution_count": 76,
   "id": "398ef573",
   "metadata": {},
   "outputs": [
    {
     "ename": "TypeError",
     "evalue": "'list_iterator' object is not callable",
     "output_type": "error",
     "traceback": [
      "\u001b[0;31m---------------------------------------------------------------------------\u001b[0m",
      "\u001b[0;31mTypeError\u001b[0m                                 Traceback (most recent call last)",
      "Input \u001b[0;32mIn [76]\u001b[0m, in \u001b[0;36m<cell line: 1>\u001b[0;34m()\u001b[0m\n\u001b[0;32m----> 1\u001b[0m itr \u001b[38;5;241m=\u001b[39m \u001b[38;5;28;43miter\u001b[39;49m\u001b[43m(\u001b[49m\u001b[43ma\u001b[49m\u001b[43m)\u001b[49m\n\u001b[1;32m      3\u001b[0m itr\n",
      "\u001b[0;31mTypeError\u001b[0m: 'list_iterator' object is not callable"
     ]
    }
   ],
   "source": [
    "itr = iter(a)\n",
    "\n",
    "itr"
   ]
  },
  {
   "cell_type": "code",
   "execution_count": 77,
   "id": "59553c64",
   "metadata": {},
   "outputs": [
    {
     "ename": "NameError",
     "evalue": "name 'itr' is not defined",
     "output_type": "error",
     "traceback": [
      "\u001b[0;31m---------------------------------------------------------------------------\u001b[0m",
      "\u001b[0;31mNameError\u001b[0m                                 Traceback (most recent call last)",
      "Input \u001b[0;32mIn [77]\u001b[0m, in \u001b[0;36m<cell line: 1>\u001b[0;34m()\u001b[0m\n\u001b[0;32m----> 1\u001b[0m \u001b[38;5;28mnext\u001b[39m(\u001b[43mitr\u001b[49m)\n",
      "\u001b[0;31mNameError\u001b[0m: name 'itr' is not defined"
     ]
    }
   ],
   "source": [
    "next(itr)\n",
    "\n",
    "\n",
    "#for loop calling next method on itr object"
   ]
  },
  {
   "cell_type": "code",
   "execution_count": 78,
   "id": "a757d698",
   "metadata": {},
   "outputs": [],
   "source": [
    "itr = reversed(a)"
   ]
  },
  {
   "cell_type": "code",
   "execution_count": 79,
   "id": "9c5c4402",
   "metadata": {},
   "outputs": [
    {
     "data": {
      "text/plain": [
       "'awsome'"
      ]
     },
     "execution_count": 79,
     "metadata": {},
     "output_type": "execute_result"
    }
   ],
   "source": [
    "next(itr)"
   ]
  },
  {
   "cell_type": "code",
   "execution_count": 80,
   "id": "f39f9a6a",
   "metadata": {},
   "outputs": [
    {
     "data": {
      "text/plain": [
       "'are'"
      ]
     },
     "execution_count": 80,
     "metadata": {},
     "output_type": "execute_result"
    }
   ],
   "source": [
    "next(itr)"
   ]
  },
  {
   "cell_type": "code",
   "execution_count": 81,
   "id": "9af56b6d",
   "metadata": {},
   "outputs": [
    {
     "data": {
      "text/plain": [
       "'you'"
      ]
     },
     "execution_count": 81,
     "metadata": {},
     "output_type": "execute_result"
    }
   ],
   "source": [
    "next(itr)"
   ]
  },
  {
   "cell_type": "code",
   "execution_count": 82,
   "id": "047067d7",
   "metadata": {},
   "outputs": [
    {
     "data": {
      "text/plain": [
       "'bro'"
      ]
     },
     "execution_count": 82,
     "metadata": {},
     "output_type": "execute_result"
    }
   ],
   "source": [
    "next(itr)"
   ]
  },
  {
   "cell_type": "code",
   "execution_count": 83,
   "id": "31936be5",
   "metadata": {},
   "outputs": [
    {
     "data": {
      "text/plain": [
       "'hey'"
      ]
     },
     "execution_count": 83,
     "metadata": {},
     "output_type": "execute_result"
    }
   ],
   "source": [
    "next(itr)"
   ]
  },
  {
   "cell_type": "code",
   "execution_count": null,
   "id": "8dd1e640",
   "metadata": {},
   "outputs": [],
   "source": []
  }
 ],
 "metadata": {
  "kernelspec": {
   "display_name": "Python 3 (ipykernel)",
   "language": "python",
   "name": "python3"
  },
  "language_info": {
   "codemirror_mode": {
    "name": "ipython",
    "version": 3
   },
   "file_extension": ".py",
   "mimetype": "text/x-python",
   "name": "python",
   "nbconvert_exporter": "python",
   "pygments_lexer": "ipython3",
   "version": "3.8.3rc1"
  }
 },
 "nbformat": 4,
 "nbformat_minor": 5
}
