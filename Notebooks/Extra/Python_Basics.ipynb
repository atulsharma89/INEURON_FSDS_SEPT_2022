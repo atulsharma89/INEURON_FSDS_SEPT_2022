{
 "cells": [
  {
   "cell_type": "markdown",
   "id": "9c1f24cb",
   "metadata": {},
   "source": [
    "# Variables in python"
   ]
  },
  {
   "cell_type": "code",
   "execution_count": 1,
   "id": "06f9f700",
   "metadata": {},
   "outputs": [
    {
     "name": "stdout",
     "output_type": "stream",
     "text": [
      "520.8\n"
     ]
    }
   ],
   "source": [
    "rent = 12\n",
    "\n",
    "gas = 202.2\n",
    "\n",
    "groceries = 306.6\n",
    "\n",
    "\n",
    "total = rent + gas + groceries\n",
    "\n",
    "print(total)"
   ]
  },
  {
   "cell_type": "code",
   "execution_count": 2,
   "id": "f2ff1269",
   "metadata": {},
   "outputs": [],
   "source": [
    "item1= \"milk\"\n",
    "\n",
    "item2=\"chana\""
   ]
  },
  {
   "cell_type": "code",
   "execution_count": 3,
   "id": "7acbf1bd",
   "metadata": {},
   "outputs": [
    {
     "ename": "SyntaxError",
     "evalue": "cannot assign to True (364383922.py, line 1)",
     "output_type": "error",
     "traceback": [
      "\u001b[0;36m  Input \u001b[0;32mIn [3]\u001b[0;36m\u001b[0m\n\u001b[0;31m    True = 4\u001b[0m\n\u001b[0m    ^\u001b[0m\n\u001b[0;31mSyntaxError\u001b[0m\u001b[0;31m:\u001b[0m cannot assign to True\n"
     ]
    }
   ],
   "source": [
    "True = 4"
   ]
  },
  {
   "cell_type": "code",
   "execution_count": 4,
   "id": "2c73ec9f",
   "metadata": {},
   "outputs": [
    {
     "ename": "SyntaxError",
     "evalue": "cannot assign to operator (3095034415.py, line 1)",
     "output_type": "error",
     "traceback": [
      "\u001b[0;36m  Input \u001b[0;32mIn [4]\u001b[0;36m\u001b[0m\n\u001b[0;31m    foo+bar = 7\u001b[0m\n\u001b[0m    ^\u001b[0m\n\u001b[0;31mSyntaxError\u001b[0m\u001b[0;31m:\u001b[0m cannot assign to operator\n"
     ]
    }
   ],
   "source": [
    "foo+bar = 7"
   ]
  },
  {
   "cell_type": "markdown",
   "id": "94497887",
   "metadata": {},
   "source": [
    "# Numbers"
   ]
  },
  {
   "cell_type": "code",
   "execution_count": 5,
   "id": "8cee298f",
   "metadata": {},
   "outputs": [
    {
     "data": {
      "text/plain": [
       "101"
      ]
     },
     "execution_count": 5,
     "metadata": {},
     "output_type": "execute_result"
    }
   ],
   "source": [
    "12+89"
   ]
  },
  {
   "cell_type": "code",
   "execution_count": 6,
   "id": "0f7e0dcc",
   "metadata": {},
   "outputs": [
    {
     "data": {
      "text/plain": [
       "-3"
      ]
     },
     "execution_count": 6,
     "metadata": {},
     "output_type": "execute_result"
    }
   ],
   "source": [
    "3-6"
   ]
  },
  {
   "cell_type": "code",
   "execution_count": 7,
   "id": "ef65f9ff",
   "metadata": {},
   "outputs": [
    {
     "data": {
      "text/plain": [
       "2.5"
      ]
     },
     "execution_count": 7,
     "metadata": {},
     "output_type": "execute_result"
    }
   ],
   "source": [
    "5/2"
   ]
  },
  {
   "cell_type": "code",
   "execution_count": 8,
   "id": "740ccb85",
   "metadata": {},
   "outputs": [
    {
     "data": {
      "text/plain": [
       "10"
      ]
     },
     "execution_count": 8,
     "metadata": {},
     "output_type": "execute_result"
    }
   ],
   "source": [
    "5*2"
   ]
  },
  {
   "cell_type": "code",
   "execution_count": 9,
   "id": "8af5bc89",
   "metadata": {},
   "outputs": [
    {
     "data": {
      "text/plain": [
       "2"
      ]
     },
     "execution_count": 9,
     "metadata": {},
     "output_type": "execute_result"
    }
   ],
   "source": [
    "5//2"
   ]
  },
  {
   "cell_type": "code",
   "execution_count": 10,
   "id": "53dfc5ef",
   "metadata": {},
   "outputs": [
    {
     "data": {
      "text/plain": [
       "1"
      ]
     },
     "execution_count": 10,
     "metadata": {},
     "output_type": "execute_result"
    }
   ],
   "source": [
    "5%2"
   ]
  },
  {
   "cell_type": "code",
   "execution_count": 11,
   "id": "7bffa368",
   "metadata": {},
   "outputs": [
    {
     "data": {
      "text/plain": [
       "9"
      ]
     },
     "execution_count": 11,
     "metadata": {},
     "output_type": "execute_result"
    }
   ],
   "source": [
    "3**2"
   ]
  },
  {
   "cell_type": "code",
   "execution_count": 12,
   "id": "edcf5393",
   "metadata": {},
   "outputs": [
    {
     "data": {
      "text/plain": [
       "435"
      ]
     },
     "execution_count": 12,
     "metadata": {},
     "output_type": "execute_result"
    }
   ],
   "source": [
    "NYC_BAL=188\n",
    "\n",
    "BAL_PIT = 247\n",
    "\n",
    "Total_dist = NYC_BAL + BAL_PIT\n",
    "Total_dist"
   ]
  },
  {
   "cell_type": "code",
   "execution_count": 13,
   "id": "7cc70142",
   "metadata": {},
   "outputs": [
    {
     "data": {
      "text/plain": [
       "6.6923076923076925"
      ]
     },
     "execution_count": 13,
     "metadata": {},
     "output_type": "execute_result"
    }
   ],
   "source": [
    "MPH = 65\n",
    "\n",
    "time = Total_dist/MPH\n",
    "\n",
    "time"
   ]
  },
  {
   "cell_type": "code",
   "execution_count": 14,
   "id": "187d6dee",
   "metadata": {},
   "outputs": [
    {
     "data": {
      "text/plain": [
       "6.69"
      ]
     },
     "execution_count": 14,
     "metadata": {},
     "output_type": "execute_result"
    }
   ],
   "source": [
    "round(time, 2)"
   ]
  },
  {
   "cell_type": "code",
   "execution_count": 15,
   "id": "bd536d87",
   "metadata": {},
   "outputs": [
    {
     "data": {
      "text/plain": [
       "36"
      ]
     },
     "execution_count": 15,
     "metadata": {},
     "output_type": "execute_result"
    }
   ],
   "source": [
    "(10+2)*3"
   ]
  },
  {
   "cell_type": "code",
   "execution_count": 16,
   "id": "74eacc8f",
   "metadata": {},
   "outputs": [
    {
     "data": {
      "text/plain": [
       "0.2999999999999998"
      ]
     },
     "execution_count": 16,
     "metadata": {},
     "output_type": "execute_result"
    }
   ],
   "source": [
    "6-5.7\n",
    "\n",
    "#no precise way to store floating numbers as they are stored in binary format"
   ]
  },
  {
   "cell_type": "markdown",
   "id": "074a72d3",
   "metadata": {},
   "source": [
    "# Strings\n",
    "\n",
    "USED TO STORE String data in Python"
   ]
  },
  {
   "cell_type": "code",
   "execution_count": 17,
   "id": "d66c141c",
   "metadata": {},
   "outputs": [],
   "source": [
    "text = \"icecream\""
   ]
  },
  {
   "cell_type": "code",
   "execution_count": 18,
   "id": "3cd5b9be",
   "metadata": {},
   "outputs": [
    {
     "data": {
      "text/plain": [
       "'i'"
      ]
     },
     "execution_count": 18,
     "metadata": {},
     "output_type": "execute_result"
    }
   ],
   "source": [
    "text[0]"
   ]
  },
  {
   "cell_type": "code",
   "execution_count": 19,
   "id": "60d8b84c",
   "metadata": {},
   "outputs": [
    {
     "data": {
      "text/plain": [
       "'c'"
      ]
     },
     "execution_count": 19,
     "metadata": {},
     "output_type": "execute_result"
    }
   ],
   "source": [
    "text[1]"
   ]
  },
  {
   "cell_type": "code",
   "execution_count": 21,
   "id": "7aaa4e89",
   "metadata": {},
   "outputs": [
    {
     "ename": "TypeError",
     "evalue": "'str' object does not support item assignment",
     "output_type": "error",
     "traceback": [
      "\u001b[0;31m---------------------------------------------------------------------------\u001b[0m",
      "\u001b[0;31mTypeError\u001b[0m                                 Traceback (most recent call last)",
      "Input \u001b[0;32mIn [21]\u001b[0m, in \u001b[0;36m<cell line: 1>\u001b[0;34m()\u001b[0m\n\u001b[0;32m----> 1\u001b[0m text[\u001b[38;5;241m0\u001b[39m] \u001b[38;5;241m=\u001b[39m \u001b[38;5;124m'\u001b[39m\u001b[38;5;124my\u001b[39m\u001b[38;5;124m'\u001b[39m\n",
      "\u001b[0;31mTypeError\u001b[0m: 'str' object does not support item assignment"
     ]
    }
   ],
   "source": [
    "text[0] = 'y'\n",
    "\n",
    "#strings are immutable in python programming language"
   ]
  },
  {
   "cell_type": "code",
   "execution_count": 22,
   "id": "1ab91145",
   "metadata": {},
   "outputs": [
    {
     "data": {
      "text/plain": [
       "'ecre'"
      ]
     },
     "execution_count": 22,
     "metadata": {},
     "output_type": "execute_result"
    }
   ],
   "source": [
    "text[2:6]"
   ]
  },
  {
   "cell_type": "code",
   "execution_count": 23,
   "id": "e0468145",
   "metadata": {},
   "outputs": [
    {
     "data": {
      "text/plain": [
       "'cream'"
      ]
     },
     "execution_count": 23,
     "metadata": {},
     "output_type": "execute_result"
    }
   ],
   "source": [
    "text[3:]"
   ]
  },
  {
   "cell_type": "code",
   "execution_count": 24,
   "id": "6f75a681",
   "metadata": {},
   "outputs": [
    {
     "data": {
      "text/plain": [
       "'maerceci'"
      ]
     },
     "execution_count": 24,
     "metadata": {},
     "output_type": "execute_result"
    }
   ],
   "source": [
    "text[::-1]"
   ]
  },
  {
   "cell_type": "code",
   "execution_count": 25,
   "id": "7b02e039",
   "metadata": {},
   "outputs": [],
   "source": [
    "text='hello'"
   ]
  },
  {
   "cell_type": "code",
   "execution_count": 26,
   "id": "336f2bfd",
   "metadata": {},
   "outputs": [
    {
     "data": {
      "text/plain": [
       "\"let's learn python\""
      ]
     },
     "execution_count": 26,
     "metadata": {},
     "output_type": "execute_result"
    }
   ],
   "source": [
    "text = \"let's learn python\"\n",
    "\n",
    "text"
   ]
  },
  {
   "cell_type": "code",
   "execution_count": 27,
   "id": "767401e8",
   "metadata": {},
   "outputs": [
    {
     "data": {
      "text/plain": [
       "'My name is Atul\\nI live in Sunnyvale\\nI am programer\\n'"
      ]
     },
     "execution_count": 27,
     "metadata": {},
     "output_type": "execute_result"
    }
   ],
   "source": [
    "#multiline string\n",
    "\n",
    "\n",
    "text = '''My name is Atul\n",
    "I live in Sunnyvale\n",
    "I am programer\n",
    "'''\n",
    "\n",
    "text"
   ]
  },
  {
   "cell_type": "code",
   "execution_count": 28,
   "id": "6aab48f5",
   "metadata": {},
   "outputs": [
    {
     "data": {
      "text/plain": [
       "'World World'"
      ]
     },
     "execution_count": 28,
     "metadata": {},
     "output_type": "execute_result"
    }
   ],
   "source": [
    "#string concatenation\n",
    "\n",
    "s1=\"hello\"\n",
    "\n",
    "s1 = \"World\"\n",
    "\n",
    "s1+\" \"+s1"
   ]
  },
  {
   "cell_type": "code",
   "execution_count": 29,
   "id": "f7ccd81d",
   "metadata": {},
   "outputs": [
    {
     "ename": "TypeError",
     "evalue": "can only concatenate str (not \"int\") to str",
     "output_type": "error",
     "traceback": [
      "\u001b[0;31m---------------------------------------------------------------------------\u001b[0m",
      "\u001b[0;31mTypeError\u001b[0m                                 Traceback (most recent call last)",
      "Input \u001b[0;32mIn [29]\u001b[0m, in \u001b[0;36m<cell line: 5>\u001b[0;34m()\u001b[0m\n\u001b[1;32m      1\u001b[0m s1 \u001b[38;5;241m=\u001b[39m \u001b[38;5;124m\"\u001b[39m\u001b[38;5;124mhello\u001b[39m\u001b[38;5;124m\"\u001b[39m\n\u001b[1;32m      3\u001b[0m s2 \u001b[38;5;241m=\u001b[39m \u001b[38;5;241m25\u001b[39m\n\u001b[0;32m----> 5\u001b[0m \u001b[43ms1\u001b[49m\u001b[38;5;241;43m+\u001b[39;49m\u001b[43ms2\u001b[49m\n",
      "\u001b[0;31mTypeError\u001b[0m: can only concatenate str (not \"int\") to str"
     ]
    }
   ],
   "source": [
    "s1 = \"hello\"\n",
    "\n",
    "s2 = 25\n",
    "\n",
    "s1+s2"
   ]
  },
  {
   "cell_type": "code",
   "execution_count": 30,
   "id": "897169d8",
   "metadata": {},
   "outputs": [
    {
     "data": {
      "text/plain": [
       "'hello25'"
      ]
     },
     "execution_count": 30,
     "metadata": {},
     "output_type": "execute_result"
    }
   ],
   "source": [
    "s1+str(s2)"
   ]
  },
  {
   "cell_type": "markdown",
   "id": "ccba0a08",
   "metadata": {},
   "source": [
    "# Lists"
   ]
  },
  {
   "cell_type": "code",
   "execution_count": 31,
   "id": "1a5f8bab",
   "metadata": {},
   "outputs": [
    {
     "name": "stdout",
     "output_type": "stream",
     "text": [
      "bread\n",
      "banana\n",
      "juice\n"
     ]
    }
   ],
   "source": [
    "items =[\"bread\",\"banana\",\"juice\"]\n",
    "\n",
    "for i in items:\n",
    "    print(i)"
   ]
  },
  {
   "cell_type": "code",
   "execution_count": 32,
   "id": "c5c7cad6",
   "metadata": {},
   "outputs": [
    {
     "data": {
      "text/plain": [
       "['bread', 'banana', 'juice']"
      ]
     },
     "execution_count": 32,
     "metadata": {},
     "output_type": "execute_result"
    }
   ],
   "source": [
    "items"
   ]
  },
  {
   "cell_type": "code",
   "execution_count": 33,
   "id": "6dfd8713",
   "metadata": {},
   "outputs": [
    {
     "data": {
      "text/plain": [
       "'bread'"
      ]
     },
     "execution_count": 33,
     "metadata": {},
     "output_type": "execute_result"
    }
   ],
   "source": [
    "items[0]"
   ]
  },
  {
   "cell_type": "code",
   "execution_count": 34,
   "id": "abb59cb2",
   "metadata": {},
   "outputs": [
    {
     "data": {
      "text/plain": [
       "'banana'"
      ]
     },
     "execution_count": 34,
     "metadata": {},
     "output_type": "execute_result"
    }
   ],
   "source": [
    "items[1]"
   ]
  },
  {
   "cell_type": "code",
   "execution_count": 35,
   "id": "715518fa",
   "metadata": {},
   "outputs": [
    {
     "data": {
      "text/plain": [
       "['chips', 'banana', 'juice']"
      ]
     },
     "execution_count": 35,
     "metadata": {},
     "output_type": "execute_result"
    }
   ],
   "source": [
    "#modify list\n",
    "\n",
    "items[0] = \"chips\"\n",
    "\n",
    "items"
   ]
  },
  {
   "cell_type": "code",
   "execution_count": 37,
   "id": "8e4f61a2",
   "metadata": {},
   "outputs": [
    {
     "data": {
      "text/plain": [
       "'juice'"
      ]
     },
     "execution_count": 37,
     "metadata": {},
     "output_type": "execute_result"
    }
   ],
   "source": [
    "items[-1]"
   ]
  },
  {
   "cell_type": "code",
   "execution_count": 38,
   "id": "d789b7c8",
   "metadata": {},
   "outputs": [
    {
     "data": {
      "text/plain": [
       "['banana', 'juice']"
      ]
     },
     "execution_count": 38,
     "metadata": {},
     "output_type": "execute_result"
    }
   ],
   "source": [
    "items[1:]"
   ]
  },
  {
   "cell_type": "code",
   "execution_count": 39,
   "id": "8aad15f3",
   "metadata": {},
   "outputs": [
    {
     "data": {
      "text/plain": [
       "['bread', 'banana', 'juice', 'butter']"
      ]
     },
     "execution_count": 39,
     "metadata": {},
     "output_type": "execute_result"
    }
   ],
   "source": [
    "items =[\"bread\",\"banana\",\"juice\"]\n",
    "\n",
    "items.append(\"butter\")\n",
    "\n",
    "items"
   ]
  },
  {
   "cell_type": "code",
   "execution_count": 40,
   "id": "25f63a43",
   "metadata": {},
   "outputs": [
    {
     "data": {
      "text/plain": [
       "['bread', 'butter', 'banana', 'juice']"
      ]
     },
     "execution_count": 40,
     "metadata": {},
     "output_type": "execute_result"
    }
   ],
   "source": [
    "items =[\"bread\",\"banana\",\"juice\"]\n",
    "items.insert(1,\"butter\")\n",
    "\n",
    "items"
   ]
  },
  {
   "cell_type": "code",
   "execution_count": 42,
   "id": "34e83533",
   "metadata": {},
   "outputs": [
    {
     "data": {
      "text/plain": [
       "['bread', 'banana', 'juice', 'towel', 'shampoo', 'soap']"
      ]
     },
     "execution_count": 42,
     "metadata": {},
     "output_type": "execute_result"
    }
   ],
   "source": [
    "food=[\"bread\",\"banana\",\"juice\"]\n",
    "\n",
    "bathroom = [\"towel\",\"shampoo\",\"soap\"]\n",
    "\n",
    "final = food + bathroom\n",
    "\n",
    "final"
   ]
  },
  {
   "cell_type": "code",
   "execution_count": 43,
   "id": "fbaaab7a",
   "metadata": {},
   "outputs": [
    {
     "ename": "TypeError",
     "evalue": "can only concatenate list (not \"str\") to list",
     "output_type": "error",
     "traceback": [
      "\u001b[0;31m---------------------------------------------------------------------------\u001b[0m",
      "\u001b[0;31mTypeError\u001b[0m                                 Traceback (most recent call last)",
      "Input \u001b[0;32mIn [43]\u001b[0m, in \u001b[0;36m<cell line: 1>\u001b[0;34m()\u001b[0m\n\u001b[0;32m----> 1\u001b[0m \u001b[43mfood\u001b[49m\u001b[43m \u001b[49m\u001b[38;5;241;43m+\u001b[39;49m\u001b[43m \u001b[49m\u001b[38;5;124;43m\"\u001b[39;49m\u001b[38;5;124;43mbanana\u001b[39;49m\u001b[38;5;124;43m\"\u001b[39;49m\n",
      "\u001b[0;31mTypeError\u001b[0m: can only concatenate list (not \"str\") to list"
     ]
    }
   ],
   "source": [
    "food + \"banana\""
   ]
  },
  {
   "cell_type": "code",
   "execution_count": 44,
   "id": "ce43eab9",
   "metadata": {},
   "outputs": [
    {
     "data": {
      "text/plain": [
       "6"
      ]
     },
     "execution_count": 44,
     "metadata": {},
     "output_type": "execute_result"
    }
   ],
   "source": [
    "len(final)"
   ]
  },
  {
   "cell_type": "code",
   "execution_count": 45,
   "id": "8564e53e",
   "metadata": {},
   "outputs": [
    {
     "data": {
      "text/plain": [
       "True"
      ]
     },
     "execution_count": 45,
     "metadata": {},
     "output_type": "execute_result"
    }
   ],
   "source": [
    "\"banana\" in final"
   ]
  },
  {
   "cell_type": "markdown",
   "id": "ba1cae86",
   "metadata": {},
   "source": [
    "# If Statement"
   ]
  },
  {
   "cell_type": "code",
   "execution_count": 46,
   "id": "eb281019",
   "metadata": {},
   "outputs": [
    {
     "name": "stdout",
     "output_type": "stream",
     "text": [
      "enter a number: 8\n",
      "number is even\n"
     ]
    }
   ],
   "source": [
    "num = int(input(\"enter a number: \"))\n",
    "\n",
    "if num%2==0:\n",
    "    print(\"number is even\")\n",
    "else:\n",
    "    print(\"number is odd\")"
   ]
  },
  {
   "cell_type": "code",
   "execution_count": 47,
   "id": "60205ac4",
   "metadata": {},
   "outputs": [
    {
     "data": {
      "text/plain": [
       "True"
      ]
     },
     "execution_count": 47,
     "metadata": {},
     "output_type": "execute_result"
    }
   ],
   "source": [
    "4==4"
   ]
  },
  {
   "cell_type": "code",
   "execution_count": 48,
   "id": "7a7f8c71",
   "metadata": {},
   "outputs": [
    {
     "data": {
      "text/plain": [
       "True"
      ]
     },
     "execution_count": 48,
     "metadata": {},
     "output_type": "execute_result"
    }
   ],
   "source": [
    "4!=5"
   ]
  },
  {
   "cell_type": "code",
   "execution_count": 49,
   "id": "b5b84a12",
   "metadata": {},
   "outputs": [
    {
     "data": {
      "text/plain": [
       "True"
      ]
     },
     "execution_count": 49,
     "metadata": {},
     "output_type": "execute_result"
    }
   ],
   "source": [
    "2>1"
   ]
  },
  {
   "cell_type": "code",
   "execution_count": 50,
   "id": "25091be8",
   "metadata": {},
   "outputs": [
    {
     "data": {
      "text/plain": [
       "False"
      ]
     },
     "execution_count": 50,
     "metadata": {},
     "output_type": "execute_result"
    }
   ],
   "source": [
    "1<0"
   ]
  },
  {
   "cell_type": "code",
   "execution_count": 51,
   "id": "55cfc5b3",
   "metadata": {},
   "outputs": [
    {
     "data": {
      "text/plain": [
       "True"
      ]
     },
     "execution_count": 51,
     "metadata": {},
     "output_type": "execute_result"
    }
   ],
   "source": [
    "3>2 and 4> 1"
   ]
  },
  {
   "cell_type": "code",
   "execution_count": 52,
   "id": "851ccd7c",
   "metadata": {},
   "outputs": [
    {
     "data": {
      "text/plain": [
       "False"
      ]
     },
     "execution_count": 52,
     "metadata": {},
     "output_type": "execute_result"
    }
   ],
   "source": [
    "3>2 and 2 > 9"
   ]
  },
  {
   "cell_type": "code",
   "execution_count": 53,
   "id": "44ae030c",
   "metadata": {},
   "outputs": [
    {
     "data": {
      "text/plain": [
       "True"
      ]
     },
     "execution_count": 53,
     "metadata": {},
     "output_type": "execute_result"
    }
   ],
   "source": [
    "3>2 or 2 > 9"
   ]
  },
  {
   "cell_type": "code",
   "execution_count": null,
   "id": "0f997ae9",
   "metadata": {},
   "outputs": [],
   "source": []
  },
  {
   "cell_type": "code",
   "execution_count": 56,
   "id": "4148bdea",
   "metadata": {},
   "outputs": [
    {
     "name": "stdout",
     "output_type": "stream",
     "text": [
      "enter a dish name samosa\n",
      "indian\n"
     ]
    }
   ],
   "source": [
    "indian=[\"samosa\",\"dal\",\"naan\"]\n",
    "\n",
    "chineese=[\"eggrolls\",\"beaf\"]\n",
    "\n",
    "italian=[\"pizza\"]\n",
    "\n",
    "dish = input(\"enter a dish name \")\n",
    "\n",
    "if dish in indian:\n",
    "    print(\"indian\")\n",
    "elif dish in chineese:\n",
    "    print(\"chineese\")\n",
    "elif dish in italian:\n",
    "    print(\"italian\")\n",
    "else:\n",
    "    print(\"dish not found\")"
   ]
  },
  {
   "cell_type": "markdown",
   "id": "23530f9b",
   "metadata": {},
   "source": [
    "# For loop"
   ]
  },
  {
   "cell_type": "code",
   "execution_count": 57,
   "id": "ae9fac2a",
   "metadata": {},
   "outputs": [
    {
     "name": "stdout",
     "output_type": "stream",
     "text": [
      "16399\n"
     ]
    }
   ],
   "source": [
    "exp=[2345,5454,2100,3100,3400]\n",
    "\n",
    "total = 0\n",
    "\n",
    "for i in exp:\n",
    "    total = total + i\n",
    "\n",
    "print(total)"
   ]
  },
  {
   "cell_type": "code",
   "execution_count": 59,
   "id": "718bb02e",
   "metadata": {},
   "outputs": [
    {
     "name": "stdout",
     "output_type": "stream",
     "text": [
      "1\n",
      "2\n",
      "3\n",
      "4\n",
      "5\n",
      "6\n",
      "7\n",
      "8\n",
      "9\n",
      "10\n"
     ]
    }
   ],
   "source": [
    "for i in range(1,11):\n",
    "    print(i)"
   ]
  },
  {
   "cell_type": "code",
   "execution_count": 60,
   "id": "251356cb",
   "metadata": {},
   "outputs": [
    {
     "name": "stdout",
     "output_type": "stream",
     "text": [
      "1\n",
      "4\n",
      "9\n",
      "16\n",
      "25\n",
      "36\n",
      "49\n",
      "64\n",
      "81\n",
      "100\n"
     ]
    }
   ],
   "source": [
    "for i in range(1,11):\n",
    "    print(i*i)"
   ]
  },
  {
   "cell_type": "code",
   "execution_count": 63,
   "id": "23ad2ff7",
   "metadata": {},
   "outputs": [
    {
     "name": "stdout",
     "output_type": "stream",
     "text": [
      "not found in indian dish\n",
      "not found in indian dish\n",
      "fvrt naan is found\n"
     ]
    }
   ],
   "source": [
    "indian=[\"samosa\",\"dal\",\"naan\"]\n",
    "fvt = \"naan\"\n",
    "\n",
    "for i in indian:\n",
    "    if i ==fvt:\n",
    "        print(\"fvrt naan is found\")\n",
    "        break\n",
    "    else:\n",
    "        print(\"not found in indian dish\")\n",
    "        "
   ]
  },
  {
   "cell_type": "code",
   "execution_count": 65,
   "id": "ce1b2b8d",
   "metadata": {},
   "outputs": [
    {
     "name": "stdout",
     "output_type": "stream",
     "text": [
      "1\n",
      "9\n",
      "25\n"
     ]
    }
   ],
   "source": [
    "for i in range(1,6):\n",
    "    if i %2 == 0:\n",
    "        continue\n",
    "    else:\n",
    "        print(i*i)"
   ]
  },
  {
   "cell_type": "code",
   "execution_count": 66,
   "id": "27962c25",
   "metadata": {},
   "outputs": [
    {
     "name": "stdout",
     "output_type": "stream",
     "text": [
      "1\n",
      "2\n",
      "3\n",
      "4\n",
      "5\n"
     ]
    }
   ],
   "source": [
    "i = 1\n",
    "\n",
    "while i <=5:\n",
    "    print(i)\n",
    "    i +=1"
   ]
  },
  {
   "cell_type": "markdown",
   "id": "654c068b",
   "metadata": {},
   "source": [
    "# Functions\n",
    "\n",
    "# a block of code that performs specific task"
   ]
  },
  {
   "cell_type": "code",
   "execution_count": 67,
   "id": "ce6978b1",
   "metadata": {},
   "outputs": [
    {
     "name": "stdout",
     "output_type": "stream",
     "text": [
      "toms total 6\n"
     ]
    }
   ],
   "source": [
    "tom = [1,2,3]\n",
    "alex = [4,5,6]\n",
    "\n",
    "total = 0\n",
    "\n",
    "for item in tom:\n",
    "    total = total + item\n",
    "print(\"toms total\", total)"
   ]
  },
  {
   "cell_type": "code",
   "execution_count": 69,
   "id": "ede93f3f",
   "metadata": {},
   "outputs": [
    {
     "data": {
      "text/plain": [
       "15"
      ]
     },
     "execution_count": 69,
     "metadata": {},
     "output_type": "execute_result"
    }
   ],
   "source": [
    "def calculatetotal(exp):\n",
    "    total=0\n",
    "    for i in exp:\n",
    "        total +=i\n",
    "    return total\n",
    "\n",
    "tom = [1,2,3]\n",
    "alex = [4,5,6]\n",
    "\n",
    "calculatetotal(alex)\n"
   ]
  },
  {
   "cell_type": "markdown",
   "id": "578955db",
   "metadata": {},
   "source": [
    "# Dictionaries and Tuples"
   ]
  },
  {
   "cell_type": "code",
   "execution_count": 71,
   "id": "90307afd",
   "metadata": {},
   "outputs": [
    {
     "data": {
      "text/plain": [
       "'atul'"
      ]
     },
     "execution_count": 71,
     "metadata": {},
     "output_type": "execute_result"
    }
   ],
   "source": [
    "d = {\"name\": \"atul\", \"age\":26}\n",
    "\n",
    "\n",
    "d[\"name\"]"
   ]
  },
  {
   "cell_type": "code",
   "execution_count": 72,
   "id": "11089088",
   "metadata": {},
   "outputs": [],
   "source": [
    "d[\"telephone\"] = 1234567"
   ]
  },
  {
   "cell_type": "code",
   "execution_count": 73,
   "id": "86aa396d",
   "metadata": {},
   "outputs": [
    {
     "data": {
      "text/plain": [
       "{'name': 'atul', 'age': 26, 'telephone': 1234567}"
      ]
     },
     "execution_count": 73,
     "metadata": {},
     "output_type": "execute_result"
    }
   ],
   "source": [
    "d"
   ]
  },
  {
   "cell_type": "code",
   "execution_count": 74,
   "id": "36c6cb10",
   "metadata": {},
   "outputs": [],
   "source": [
    "#deleting entry from dict\n",
    "\n",
    "del d[\"name\"]"
   ]
  },
  {
   "cell_type": "code",
   "execution_count": 75,
   "id": "8675a930",
   "metadata": {},
   "outputs": [
    {
     "data": {
      "text/plain": [
       "{'age': 26, 'telephone': 1234567}"
      ]
     },
     "execution_count": 75,
     "metadata": {},
     "output_type": "execute_result"
    }
   ],
   "source": [
    "d"
   ]
  },
  {
   "cell_type": "code",
   "execution_count": 76,
   "id": "a4af1691",
   "metadata": {},
   "outputs": [
    {
     "name": "stdout",
     "output_type": "stream",
     "text": [
      "key age value 26\n",
      "key telephone value 1234567\n"
     ]
    }
   ],
   "source": [
    "for key in d:\n",
    "    print(\"key\",key, \"value\",d[key])"
   ]
  },
  {
   "cell_type": "code",
   "execution_count": 77,
   "id": "c3d0a614",
   "metadata": {},
   "outputs": [
    {
     "name": "stdout",
     "output_type": "stream",
     "text": [
      "key age value 26\n",
      "key telephone value 1234567\n"
     ]
    }
   ],
   "source": [
    "for k,v in d.items():\n",
    "    print(\"key\",k, \"value\",v)"
   ]
  },
  {
   "cell_type": "code",
   "execution_count": 78,
   "id": "01865572",
   "metadata": {},
   "outputs": [],
   "source": [
    "d[\"name\"]=\"atul\""
   ]
  },
  {
   "cell_type": "code",
   "execution_count": 79,
   "id": "d7e46cb8",
   "metadata": {},
   "outputs": [
    {
     "data": {
      "text/plain": [
       "{'age': 26, 'telephone': 1234567, 'name': 'atul'}"
      ]
     },
     "execution_count": 79,
     "metadata": {},
     "output_type": "execute_result"
    }
   ],
   "source": [
    "d"
   ]
  },
  {
   "cell_type": "code",
   "execution_count": 81,
   "id": "a2cffbe6",
   "metadata": {},
   "outputs": [
    {
     "data": {
      "text/plain": [
       "True"
      ]
     },
     "execution_count": 81,
     "metadata": {},
     "output_type": "execute_result"
    }
   ],
   "source": [
    "\"age\" in d"
   ]
  },
  {
   "cell_type": "code",
   "execution_count": 84,
   "id": "c314af8f",
   "metadata": {},
   "outputs": [],
   "source": [
    "#deleting data from dictionary\n",
    "d.clear()"
   ]
  },
  {
   "cell_type": "code",
   "execution_count": 85,
   "id": "354cef27",
   "metadata": {},
   "outputs": [
    {
     "data": {
      "text/plain": [
       "{}"
      ]
     },
     "execution_count": 85,
     "metadata": {},
     "output_type": "execute_result"
    }
   ],
   "source": [
    "d"
   ]
  },
  {
   "cell_type": "code",
   "execution_count": 86,
   "id": "cddeeeae",
   "metadata": {},
   "outputs": [],
   "source": [
    "#tupple: list of values grouped together\n",
    "\n",
    "point = (6,9)"
   ]
  },
  {
   "cell_type": "code",
   "execution_count": 87,
   "id": "d5820fdf",
   "metadata": {},
   "outputs": [
    {
     "data": {
      "text/plain": [
       "tuple"
      ]
     },
     "execution_count": 87,
     "metadata": {},
     "output_type": "execute_result"
    }
   ],
   "source": [
    "type(point)"
   ]
  },
  {
   "cell_type": "code",
   "execution_count": 88,
   "id": "9dc202d6",
   "metadata": {},
   "outputs": [
    {
     "data": {
      "text/plain": [
       "6"
      ]
     },
     "execution_count": 88,
     "metadata": {},
     "output_type": "execute_result"
    }
   ],
   "source": [
    "point[0]"
   ]
  },
  {
   "cell_type": "code",
   "execution_count": null,
   "id": "4f331fa0",
   "metadata": {},
   "outputs": [],
   "source": [
    "#in tuple all values has a different meaning\n",
    "#in list all values has same meaning"
   ]
  },
  {
   "cell_type": "code",
   "execution_count": null,
   "id": "9128a442",
   "metadata": {},
   "outputs": [],
   "source": []
  },
  {
   "cell_type": "markdown",
   "id": "2abc530a",
   "metadata": {},
   "source": [
    "# Install Python Module (using pip) "
   ]
  },
  {
   "cell_type": "code",
   "execution_count": 89,
   "id": "4481d2ec",
   "metadata": {},
   "outputs": [],
   "source": [
    "import matplotlib"
   ]
  },
  {
   "cell_type": "code",
   "execution_count": 90,
   "id": "2acd1122",
   "metadata": {},
   "outputs": [
    {
     "name": "stdout",
     "output_type": "stream",
     "text": [
      "Requirement already satisfied: matplotlib in /Library/Frameworks/Python.framework/Versions/3.8/lib/python3.8/site-packages (3.5.1)\n",
      "Requirement already satisfied: numpy>=1.17 in /Library/Frameworks/Python.framework/Versions/3.8/lib/python3.8/site-packages (from matplotlib) (1.22.3)\n",
      "Requirement already satisfied: python-dateutil>=2.7 in /Library/Frameworks/Python.framework/Versions/3.8/lib/python3.8/site-packages (from matplotlib) (2.8.1)\n",
      "Requirement already satisfied: pillow>=6.2.0 in /Library/Frameworks/Python.framework/Versions/3.8/lib/python3.8/site-packages (from matplotlib) (9.0.1)\n",
      "Requirement already satisfied: kiwisolver>=1.0.1 in /Library/Frameworks/Python.framework/Versions/3.8/lib/python3.8/site-packages (from matplotlib) (1.3.2)\n",
      "Requirement already satisfied: fonttools>=4.22.0 in /Library/Frameworks/Python.framework/Versions/3.8/lib/python3.8/site-packages (from matplotlib) (4.30.0)\n",
      "Requirement already satisfied: packaging>=20.0 in /Library/Frameworks/Python.framework/Versions/3.8/lib/python3.8/site-packages (from matplotlib) (20.9)\n",
      "Requirement already satisfied: pyparsing>=2.2.1 in /Library/Frameworks/Python.framework/Versions/3.8/lib/python3.8/site-packages (from matplotlib) (2.4.2)\n",
      "Requirement already satisfied: cycler>=0.10 in /Library/Frameworks/Python.framework/Versions/3.8/lib/python3.8/site-packages (from matplotlib) (0.11.0)\n",
      "Requirement already satisfied: six>=1.5 in /Library/Frameworks/Python.framework/Versions/3.8/lib/python3.8/site-packages (from python-dateutil>=2.7->matplotlib) (1.15.0)\n",
      "\u001b[33mWARNING: You are using pip version 19.2.3, however version 22.3 is available.\n",
      "You should consider upgrading via the 'pip install --upgrade pip' command.\u001b[0m\n",
      "Note: you may need to restart the kernel to use updated packages.\n"
     ]
    }
   ],
   "source": [
    "pip install matplotlib"
   ]
  },
  {
   "cell_type": "markdown",
   "id": "484b6c0a",
   "metadata": {},
   "source": [
    "# Modules"
   ]
  },
  {
   "cell_type": "code",
   "execution_count": 91,
   "id": "c0d10cc6",
   "metadata": {},
   "outputs": [],
   "source": [
    "#module is a way to reuse a code written by someone else"
   ]
  },
  {
   "cell_type": "code",
   "execution_count": 92,
   "id": "76897d10",
   "metadata": {},
   "outputs": [],
   "source": [
    "import math"
   ]
  },
  {
   "cell_type": "code",
   "execution_count": 93,
   "id": "d7663762",
   "metadata": {},
   "outputs": [
    {
     "data": {
      "text/plain": [
       "4.0"
      ]
     },
     "execution_count": 93,
     "metadata": {},
     "output_type": "execute_result"
    }
   ],
   "source": [
    "math.sqrt(16)"
   ]
  },
  {
   "cell_type": "code",
   "execution_count": 94,
   "id": "cef597ae",
   "metadata": {},
   "outputs": [
    {
     "data": {
      "text/plain": [
       "32.0"
      ]
     },
     "execution_count": 94,
     "metadata": {},
     "output_type": "execute_result"
    }
   ],
   "source": [
    "math.pow(2,5)"
   ]
  },
  {
   "cell_type": "code",
   "execution_count": 95,
   "id": "c5721791",
   "metadata": {},
   "outputs": [
    {
     "data": {
      "text/plain": [
       "['__doc__',\n",
       " '__file__',\n",
       " '__loader__',\n",
       " '__name__',\n",
       " '__package__',\n",
       " '__spec__',\n",
       " 'acos',\n",
       " 'acosh',\n",
       " 'asin',\n",
       " 'asinh',\n",
       " 'atan',\n",
       " 'atan2',\n",
       " 'atanh',\n",
       " 'ceil',\n",
       " 'comb',\n",
       " 'copysign',\n",
       " 'cos',\n",
       " 'cosh',\n",
       " 'degrees',\n",
       " 'dist',\n",
       " 'e',\n",
       " 'erf',\n",
       " 'erfc',\n",
       " 'exp',\n",
       " 'expm1',\n",
       " 'fabs',\n",
       " 'factorial',\n",
       " 'floor',\n",
       " 'fmod',\n",
       " 'frexp',\n",
       " 'fsum',\n",
       " 'gamma',\n",
       " 'gcd',\n",
       " 'hypot',\n",
       " 'inf',\n",
       " 'isclose',\n",
       " 'isfinite',\n",
       " 'isinf',\n",
       " 'isnan',\n",
       " 'isqrt',\n",
       " 'ldexp',\n",
       " 'lgamma',\n",
       " 'log',\n",
       " 'log10',\n",
       " 'log1p',\n",
       " 'log2',\n",
       " 'modf',\n",
       " 'nan',\n",
       " 'perm',\n",
       " 'pi',\n",
       " 'pow',\n",
       " 'prod',\n",
       " 'radians',\n",
       " 'remainder',\n",
       " 'sin',\n",
       " 'sinh',\n",
       " 'sqrt',\n",
       " 'tan',\n",
       " 'tanh',\n",
       " 'tau',\n",
       " 'trunc']"
      ]
     },
     "execution_count": 95,
     "metadata": {},
     "output_type": "execute_result"
    }
   ],
   "source": [
    "dir(math)"
   ]
  },
  {
   "cell_type": "code",
   "execution_count": 96,
   "id": "381a7e72",
   "metadata": {},
   "outputs": [
    {
     "data": {
      "text/plain": [
       "3.141592653589793"
      ]
     },
     "execution_count": 96,
     "metadata": {},
     "output_type": "execute_result"
    }
   ],
   "source": [
    "math.pi"
   ]
  },
  {
   "cell_type": "code",
   "execution_count": 97,
   "id": "32e177af",
   "metadata": {},
   "outputs": [
    {
     "data": {
      "text/plain": [
       "2.0"
      ]
     },
     "execution_count": 97,
     "metadata": {},
     "output_type": "execute_result"
    }
   ],
   "source": [
    "math.log10(100)"
   ]
  },
  {
   "cell_type": "code",
   "execution_count": 98,
   "id": "75eb9752",
   "metadata": {},
   "outputs": [
    {
     "data": {
      "text/plain": [
       "2"
      ]
     },
     "execution_count": 98,
     "metadata": {},
     "output_type": "execute_result"
    }
   ],
   "source": [
    "math.floor(2.3)"
   ]
  },
  {
   "cell_type": "code",
   "execution_count": 99,
   "id": "bc9393e8",
   "metadata": {},
   "outputs": [],
   "source": [
    "import calendar"
   ]
  },
  {
   "cell_type": "code",
   "execution_count": 103,
   "id": "9e8233f2",
   "metadata": {},
   "outputs": [
    {
     "name": "stdout",
     "output_type": "stream",
     "text": [
      "    January 2016\n",
      "Mo Tu We Th Fr Sa Su\n",
      "             1  2  3\n",
      " 4  5  6  7  8  9 10\n",
      "11 12 13 14 15 16 17\n",
      "18 19 20 21 22 23 24\n",
      "25 26 27 28 29 30 31\n",
      "\n"
     ]
    }
   ],
   "source": [
    "cal = calendar.month(2016,1)\n",
    "\n",
    "print(cal)"
   ]
  },
  {
   "cell_type": "code",
   "execution_count": 104,
   "id": "eaf84342",
   "metadata": {},
   "outputs": [
    {
     "data": {
      "text/plain": [
       "True"
      ]
     },
     "execution_count": 104,
     "metadata": {},
     "output_type": "execute_result"
    }
   ],
   "source": [
    "calendar.isleap(2016)"
   ]
  },
  {
   "cell_type": "code",
   "execution_count": 105,
   "id": "78cf1035",
   "metadata": {},
   "outputs": [
    {
     "data": {
      "text/plain": [
       "False"
      ]
     },
     "execution_count": 105,
     "metadata": {},
     "output_type": "execute_result"
    }
   ],
   "source": [
    "calendar.isleap(2015)"
   ]
  },
  {
   "cell_type": "markdown",
   "id": "397f0a6b",
   "metadata": {},
   "source": [
    "# Reading/Writing Files"
   ]
  },
  {
   "cell_type": "code",
   "execution_count": 106,
   "id": "5080823f",
   "metadata": {},
   "outputs": [
    {
     "data": {
      "text/plain": [
       "'/Users/atul595525/repository1/INEURON_FSDS_SEPT_2022/Notebooks/Extra'"
      ]
     },
     "execution_count": 106,
     "metadata": {},
     "output_type": "execute_result"
    }
   ],
   "source": [
    "pwd"
   ]
  },
  {
   "cell_type": "code",
   "execution_count": 110,
   "id": "ce7f7416",
   "metadata": {},
   "outputs": [],
   "source": [
    "f = open(\"/Users/atul595525/repository1/INEURON_FSDS_SEPT_2022/Notebooks/Extra/funny.txt\",\"w\")\n",
    "\n",
    "f.write(\"I love Python\")\n",
    "\n",
    "f.close()\n",
    "    "
   ]
  },
  {
   "cell_type": "code",
   "execution_count": 111,
   "id": "f4766a21",
   "metadata": {},
   "outputs": [],
   "source": [
    "f = open(\"/Users/atul595525/repository1/INEURON_FSDS_SEPT_2022/Notebooks/Extra/funny.txt\",\"a\")\n",
    "\n",
    "f.write(\"I love C++\")\n",
    "\n",
    "f.close()\n",
    "\n"
   ]
  },
  {
   "cell_type": "code",
   "execution_count": 112,
   "id": "ce5b0ed4",
   "metadata": {},
   "outputs": [],
   "source": [
    "f = open(\"/Users/atul595525/repository1/INEURON_FSDS_SEPT_2022/Notebooks/Extra/funny.txt\",\"a\")\n",
    "\n",
    "f.write(\"\\nI love PHP\")\n",
    "\n",
    "f.close()\n",
    "\n",
    "\n"
   ]
  },
  {
   "cell_type": "code",
   "execution_count": 113,
   "id": "4156aafc",
   "metadata": {},
   "outputs": [],
   "source": [
    "f = open(\"/Users/atul595525/repository1/INEURON_FSDS_SEPT_2022/Notebooks/Extra/funny.txt\",\"a\")\n",
    "\n",
    "f.write(\"\\nI love java also\")\n",
    "\n",
    "f.close()"
   ]
  },
  {
   "cell_type": "code",
   "execution_count": 114,
   "id": "6c1b392a",
   "metadata": {},
   "outputs": [
    {
     "name": "stdout",
     "output_type": "stream",
     "text": [
      "I love PythonI love C++\n",
      "I love PHP\n",
      "I love java also\n"
     ]
    }
   ],
   "source": [
    "#reading file\n",
    "\n",
    "f = open(\"/Users/atul595525/repository1/INEURON_FSDS_SEPT_2022/Notebooks/Extra/funny.txt\",\"r\")\n",
    "\n",
    "print(f.read())\n",
    "f.close()\n"
   ]
  },
  {
   "cell_type": "code",
   "execution_count": 115,
   "id": "09eec8b5",
   "metadata": {},
   "outputs": [
    {
     "name": "stdout",
     "output_type": "stream",
     "text": [
      "I love PythonI love C++\n",
      "\n",
      "I love PHP\n",
      "\n",
      "I love java also\n"
     ]
    }
   ],
   "source": [
    "f = open(\"/Users/atul595525/repository1/INEURON_FSDS_SEPT_2022/Notebooks/Extra/funny.txt\",\"r\")\n",
    "\n",
    "for line in f:\n",
    "    print(line)"
   ]
  },
  {
   "cell_type": "code",
   "execution_count": 119,
   "id": "cb605951",
   "metadata": {},
   "outputs": [],
   "source": [
    "f = open(\"/Users/atul595525/repository1/INEURON_FSDS_SEPT_2022/Notebooks/Extra/funny.txt\",\"r\")\n",
    "\n",
    "f_out=open(\"/Users/atul595525/repository1/INEURON_FSDS_SEPT_2022/Notebooks/Extra/funny_wc.txt\",\"w\")\n",
    "\n",
    "\n",
    "for line in f:\n",
    "    tokens = line.split(' ')\n",
    "    #print(str(tokens))\n",
    "    #print(len(tokens))\n",
    "    f_out.write(\" word counts\" + str(len(tokens)) + line)\n",
    "\n",
    "f.close()\n",
    "\n",
    "f_out.close()"
   ]
  },
  {
   "cell_type": "code",
   "execution_count": 120,
   "id": "a045a7a8",
   "metadata": {},
   "outputs": [
    {
     "name": "stdout",
     "output_type": "stream",
     "text": [
      "I love PythonI love C++\n",
      "I love PHP\n",
      "I love java also\n"
     ]
    }
   ],
   "source": [
    "with open(\"/Users/atul595525/repository1/INEURON_FSDS_SEPT_2022/Notebooks/Extra/funny.txt\",\"r\") as f:\n",
    "    print(f.read())"
   ]
  },
  {
   "cell_type": "markdown",
   "id": "47662929",
   "metadata": {},
   "source": [
    "# Exception Handling"
   ]
  },
  {
   "cell_type": "code",
   "execution_count": 121,
   "id": "83a00051",
   "metadata": {},
   "outputs": [
    {
     "name": "stdout",
     "output_type": "stream",
     "text": [
      "enter the value of x 6\n",
      "enter the value of y 4\n",
      "result  1.5\n"
     ]
    }
   ],
   "source": [
    "x = int(input(\"enter the value of x \"))\n",
    "y = int(input(\"enter the value of y \"))\n",
    "\n",
    "z = x/y\n",
    "\n",
    "print(\"result \", z)"
   ]
  },
  {
   "cell_type": "code",
   "execution_count": null,
   "id": "a8e4bf34",
   "metadata": {},
   "outputs": [],
   "source": [
    "x = int(input(\"enter the value of x \"))\n",
    "y = int(input(\"enter the value of y \"))\n",
    "\n",
    "\n",
    "try:\n",
    "    z = x/y\n",
    "except Exception as e:\n",
    "    PRINT ()"
   ]
  }
 ],
 "metadata": {
  "kernelspec": {
   "display_name": "Python 3 (ipykernel)",
   "language": "python",
   "name": "python3"
  },
  "language_info": {
   "codemirror_mode": {
    "name": "ipython",
    "version": 3
   },
   "file_extension": ".py",
   "mimetype": "text/x-python",
   "name": "python",
   "nbconvert_exporter": "python",
   "pygments_lexer": "ipython3",
   "version": "3.8.3rc1"
  }
 },
 "nbformat": 4,
 "nbformat_minor": 5
}
