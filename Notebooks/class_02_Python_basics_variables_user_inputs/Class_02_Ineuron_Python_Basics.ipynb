{
 "cells": [
  {
   "cell_type": "markdown",
   "id": "b8c7e28f",
   "metadata": {},
   "source": [
    "# variable case sensitivity "
   ]
  },
  {
   "cell_type": "code",
   "execution_count": 1,
   "id": "1833b68a",
   "metadata": {},
   "outputs": [],
   "source": [
    "Ten =10\n",
    "\n",
    "ten =20"
   ]
  },
  {
   "cell_type": "code",
   "execution_count": 2,
   "id": "ad40adea",
   "metadata": {},
   "outputs": [
    {
     "data": {
      "text/plain": [
       "10"
      ]
     },
     "execution_count": 2,
     "metadata": {},
     "output_type": "execute_result"
    }
   ],
   "source": [
    "Ten"
   ]
  },
  {
   "cell_type": "code",
   "execution_count": 3,
   "id": "8e09f3cc",
   "metadata": {},
   "outputs": [
    {
     "data": {
      "text/plain": [
       "20"
      ]
     },
     "execution_count": 3,
     "metadata": {},
     "output_type": "execute_result"
    }
   ],
   "source": [
    "ten"
   ]
  },
  {
   "cell_type": "code",
   "execution_count": 4,
   "id": "b3e99dfa",
   "metadata": {},
   "outputs": [],
   "source": [
    "#Python treats case sensitivity very seriously in terms of lower case and upper case letters"
   ]
  },
  {
   "cell_type": "markdown",
   "id": "09b9b7c2",
   "metadata": {},
   "source": [
    "# Reserved words in Python"
   ]
  },
  {
   "cell_type": "code",
   "execution_count": 5,
   "id": "542c8091",
   "metadata": {},
   "outputs": [
    {
     "name": "stdout",
     "output_type": "stream",
     "text": [
      "Hi\n"
     ]
    }
   ],
   "source": [
    "print(\"Hi\")"
   ]
  },
  {
   "cell_type": "code",
   "execution_count": 9,
   "id": "f912162f",
   "metadata": {},
   "outputs": [],
   "source": [
    "print = \"Hi There\"\n",
    "\n",
    "#tried using print as a variable"
   ]
  },
  {
   "cell_type": "code",
   "execution_count": 8,
   "id": "4ebd45ca",
   "metadata": {},
   "outputs": [
    {
     "ename": "TypeError",
     "evalue": "'str' object is not callable",
     "output_type": "error",
     "traceback": [
      "\u001b[0;31m---------------------------------------------------------------------------\u001b[0m",
      "\u001b[0;31mTypeError\u001b[0m                                 Traceback (most recent call last)",
      "Input \u001b[0;32mIn [8]\u001b[0m, in \u001b[0;36m<cell line: 1>\u001b[0;34m()\u001b[0m\n\u001b[0;32m----> 1\u001b[0m \u001b[38;5;28;43mprint\u001b[39;49m\u001b[43m(\u001b[49m\u001b[38;5;28;43mprint\u001b[39;49m\u001b[43m)\u001b[49m\n",
      "\u001b[0;31mTypeError\u001b[0m: 'str' object is not callable"
     ]
    }
   ],
   "source": [
    "#print(print)"
   ]
  },
  {
   "cell_type": "code",
   "execution_count": 10,
   "id": "ba7ab867",
   "metadata": {},
   "outputs": [
    {
     "ename": "TypeError",
     "evalue": "'str' object is not callable",
     "output_type": "error",
     "traceback": [
      "\u001b[0;31m---------------------------------------------------------------------------\u001b[0m",
      "\u001b[0;31mTypeError\u001b[0m                                 Traceback (most recent call last)",
      "Input \u001b[0;32mIn [10]\u001b[0m, in \u001b[0;36m<cell line: 1>\u001b[0;34m()\u001b[0m\n\u001b[0;32m----> 1\u001b[0m \u001b[38;5;28;43mprint\u001b[39;49m\u001b[43m(\u001b[49m\u001b[38;5;124;43m\"\u001b[39;49m\u001b[38;5;124;43mHi There\u001b[39;49m\u001b[38;5;124;43m\"\u001b[39;49m\u001b[43m)\u001b[49m\n",
      "\u001b[0;31mTypeError\u001b[0m: 'str' object is not callable"
     ]
    }
   ],
   "source": [
    "print(\"Hi There\")"
   ]
  },
  {
   "cell_type": "code",
   "execution_count": 11,
   "id": "3647da4d",
   "metadata": {},
   "outputs": [],
   "source": [
    "#deleting variable \n",
    "\n",
    "del print"
   ]
  },
  {
   "cell_type": "code",
   "execution_count": 12,
   "id": "c82dc51f",
   "metadata": {},
   "outputs": [
    {
     "name": "stdout",
     "output_type": "stream",
     "text": [
      "hello\n"
     ]
    }
   ],
   "source": [
    "print(\"hello\")"
   ]
  },
  {
   "cell_type": "code",
   "execution_count": 7,
   "id": "7c264dc4",
   "metadata": {},
   "outputs": [],
   "source": [
    "# restart kernel to clear output"
   ]
  },
  {
   "cell_type": "code",
   "execution_count": 6,
   "id": "3aae8934",
   "metadata": {},
   "outputs": [
    {
     "name": "stdout",
     "output_type": "stream",
     "text": [
      "hello\n"
     ]
    }
   ],
   "source": [
    "print(\"hello\")"
   ]
  },
  {
   "cell_type": "raw",
   "id": "dfb64e15",
   "metadata": {},
   "source": [
    "The following identifiers are used as reserved words, or keywords of the language, and cannot be used as ordinary identifiers. They must be spelled exactly as written here:\n",
    "\n",
    "and       del       from      not       while    \n",
    "as        elif      global    or        with     \n",
    "assert    else      if        pass      yield    \n",
    "break     except    import    print              \n",
    "class     exec      in        raise              \n",
    "continue  finally   is        return             \n",
    "def       for       lambda    try\n"
   ]
  },
  {
   "cell_type": "markdown",
   "id": "d3cbde66",
   "metadata": {},
   "source": [
    "# Multiple assignments of variables"
   ]
  },
  {
   "cell_type": "code",
   "execution_count": 16,
   "id": "50aa8e75",
   "metadata": {},
   "outputs": [],
   "source": [
    "a,b,c, d = 10, 20.3, \"atul\", True"
   ]
  },
  {
   "cell_type": "code",
   "execution_count": 18,
   "id": "c859d5de",
   "metadata": {},
   "outputs": [
    {
     "name": "stdout",
     "output_type": "stream",
     "text": [
      "<class 'int'>\n",
      "<class 'float'>\n",
      "<class 'str'>\n",
      "<class 'bool'>\n"
     ]
    }
   ],
   "source": [
    "print(type(a))\n",
    "print(type(b))\n",
    "print(type(c))\n",
    "print(type(d))"
   ]
  },
  {
   "cell_type": "code",
   "execution_count": 19,
   "id": "a1540015",
   "metadata": {},
   "outputs": [
    {
     "ename": "TypeError",
     "evalue": "cannot unpack non-iterable int object",
     "output_type": "error",
     "traceback": [
      "\u001b[0;31m---------------------------------------------------------------------------\u001b[0m",
      "\u001b[0;31mTypeError\u001b[0m                                 Traceback (most recent call last)",
      "Input \u001b[0;32mIn [19]\u001b[0m, in \u001b[0;36m<cell line: 1>\u001b[0;34m()\u001b[0m\n\u001b[0;32m----> 1\u001b[0m a,b,c, d \u001b[38;5;241m=\u001b[39m \u001b[38;5;241m10\u001b[39m\n",
      "\u001b[0;31mTypeError\u001b[0m: cannot unpack non-iterable int object"
     ]
    }
   ],
   "source": [
    "#erros that can cause during multiple assignment\n",
    "a,b,c, d = 10"
   ]
  },
  {
   "cell_type": "markdown",
   "id": "31c16916",
   "metadata": {},
   "source": [
    "# User input"
   ]
  },
  {
   "cell_type": "code",
   "execution_count": 20,
   "id": "cb79df35",
   "metadata": {},
   "outputs": [
    {
     "name": "stdout",
     "output_type": "stream",
     "text": [
      "atul\n"
     ]
    }
   ],
   "source": [
    "a = input()\n"
   ]
  },
  {
   "cell_type": "code",
   "execution_count": 21,
   "id": "ab106423",
   "metadata": {},
   "outputs": [
    {
     "data": {
      "text/plain": [
       "'atul'"
      ]
     },
     "execution_count": 21,
     "metadata": {},
     "output_type": "execute_result"
    }
   ],
   "source": [
    "a"
   ]
  },
  {
   "cell_type": "code",
   "execution_count": 24,
   "id": "5b54e710",
   "metadata": {},
   "outputs": [
    {
     "name": "stdout",
     "output_type": "stream",
     "text": [
      "enter your nameakskkkkkkkkkk\n",
      "you have entered your name as akskkkkkkkkkk\n"
     ]
    }
   ],
   "source": [
    "a = input(\"enter your name\")\n",
    "\n",
    "print(f\"you have entered your name as {a}\")"
   ]
  },
  {
   "cell_type": "code",
   "execution_count": 25,
   "id": "bea46068",
   "metadata": {},
   "outputs": [
    {
     "data": {
      "text/plain": [
       "'akskkkkkkkkkk'"
      ]
     },
     "execution_count": 25,
     "metadata": {},
     "output_type": "execute_result"
    }
   ],
   "source": [
    "a"
   ]
  },
  {
   "cell_type": "code",
   "execution_count": 27,
   "id": "39a9dd8c",
   "metadata": {},
   "outputs": [
    {
     "name": "stdout",
     "output_type": "stream",
     "text": [
      "enter your first number10\n",
      "enter your second number333\n",
      "sum of a and b is 10333\n"
     ]
    }
   ],
   "source": [
    "a = input(\"enter your first number\")\n",
    "b = input(\"enter your second number\")\n",
    "\n",
    "print(f\"sum of a and b is {a+b}\")"
   ]
  },
  {
   "cell_type": "markdown",
   "id": "95dcf7d9",
   "metadata": {},
   "source": [
    "# Type conversion"
   ]
  },
  {
   "cell_type": "code",
   "execution_count": 29,
   "id": "9ad504aa",
   "metadata": {},
   "outputs": [
    {
     "name": "stdout",
     "output_type": "stream",
     "text": [
      "enter your first number 10\n",
      "enter your second number 88\n",
      "sum of a and b is 98\n"
     ]
    }
   ],
   "source": [
    "a = int(input(\"enter your first number \"))\n",
    "b = int(input(\"enter your second number \"))\n",
    "\n",
    "print(f\"sum of a and b is {a+b}\")"
   ]
  },
  {
   "cell_type": "code",
   "execution_count": 30,
   "id": "3c0d03c7",
   "metadata": {},
   "outputs": [
    {
     "name": "stdout",
     "output_type": "stream",
     "text": [
      "enter your first number 10.99\n"
     ]
    },
    {
     "ename": "ValueError",
     "evalue": "invalid literal for int() with base 10: '10.99'",
     "output_type": "error",
     "traceback": [
      "\u001b[0;31m---------------------------------------------------------------------------\u001b[0m",
      "\u001b[0;31mValueError\u001b[0m                                Traceback (most recent call last)",
      "Input \u001b[0;32mIn [30]\u001b[0m, in \u001b[0;36m<cell line: 1>\u001b[0;34m()\u001b[0m\n\u001b[0;32m----> 1\u001b[0m a \u001b[38;5;241m=\u001b[39m \u001b[38;5;28;43mint\u001b[39;49m\u001b[43m(\u001b[49m\u001b[38;5;28;43minput\u001b[39;49m\u001b[43m(\u001b[49m\u001b[38;5;124;43m\"\u001b[39;49m\u001b[38;5;124;43menter your first number \u001b[39;49m\u001b[38;5;124;43m\"\u001b[39;49m\u001b[43m)\u001b[49m\u001b[43m)\u001b[49m\n\u001b[1;32m      2\u001b[0m b \u001b[38;5;241m=\u001b[39m \u001b[38;5;28mint\u001b[39m(\u001b[38;5;28minput\u001b[39m(\u001b[38;5;124m\"\u001b[39m\u001b[38;5;124menter your second number \u001b[39m\u001b[38;5;124m\"\u001b[39m))\n\u001b[1;32m      4\u001b[0m \u001b[38;5;28mprint\u001b[39m(\u001b[38;5;124mf\u001b[39m\u001b[38;5;124m\"\u001b[39m\u001b[38;5;124msum of a and b is \u001b[39m\u001b[38;5;132;01m{\u001b[39;00ma\u001b[38;5;241m+\u001b[39mb\u001b[38;5;132;01m}\u001b[39;00m\u001b[38;5;124m\"\u001b[39m)\n",
      "\u001b[0;31mValueError\u001b[0m: invalid literal for int() with base 10: '10.99'"
     ]
    }
   ],
   "source": [
    "a = int(input(\"enter your first number \"))\n",
    "b = int(input(\"enter your second number \"))\n",
    "\n",
    "print(f\"sum of a and b is {a+b}\")"
   ]
  },
  {
   "cell_type": "code",
   "execution_count": 31,
   "id": "a12dbe7e",
   "metadata": {},
   "outputs": [
    {
     "name": "stdout",
     "output_type": "stream",
     "text": [
      "enter your first number 10\n",
      "enter your second number 78\n",
      "sum of a and b is 88.0\n"
     ]
    }
   ],
   "source": [
    "a = float(input(\"enter your first number \"))\n",
    "b = float(input(\"enter your second number \"))\n",
    "\n",
    "print(f\"sum of a and b is {a+b}\")"
   ]
  },
  {
   "cell_type": "code",
   "execution_count": 34,
   "id": "087574fb",
   "metadata": {},
   "outputs": [
    {
     "name": "stdout",
     "output_type": "stream",
     "text": [
      "data type before <class 'str'>\n",
      "data type after <class 'int'>\n"
     ]
    }
   ],
   "source": [
    "# string to integer\n",
    "\n",
    "A = \"50\"\n",
    "\n",
    "print(f\"data type before {type(A)}\")\n",
    "\n",
    "A = int(A)\n",
    "\n",
    "print(f\"data type after {type(A)}\")\n"
   ]
  },
  {
   "cell_type": "code",
   "execution_count": 35,
   "id": "656f3a8c",
   "metadata": {},
   "outputs": [
    {
     "name": "stdout",
     "output_type": "stream",
     "text": [
      "data type before <class 'float'>\n",
      "data type after <class 'int'>\n"
     ]
    }
   ],
   "source": [
    "#float to integer\n",
    "\n",
    "A = 50.3\n",
    "\n",
    "print(f\"data type before {type(A)}\")\n",
    "\n",
    "A = int(A)\n",
    "\n",
    "print(f\"data type after {type(A)}\")\n",
    "\n"
   ]
  },
  {
   "cell_type": "code",
   "execution_count": 36,
   "id": "01f2b6fc",
   "metadata": {},
   "outputs": [
    {
     "name": "stdout",
     "output_type": "stream",
     "text": [
      "data type before <class 'str'>\n"
     ]
    },
    {
     "ename": "ValueError",
     "evalue": "invalid literal for int() with base 10: '50.3'",
     "output_type": "error",
     "traceback": [
      "\u001b[0;31m---------------------------------------------------------------------------\u001b[0m",
      "\u001b[0;31mValueError\u001b[0m                                Traceback (most recent call last)",
      "Input \u001b[0;32mIn [36]\u001b[0m, in \u001b[0;36m<cell line: 7>\u001b[0;34m()\u001b[0m\n\u001b[1;32m      3\u001b[0m A \u001b[38;5;241m=\u001b[39m \u001b[38;5;124m\"\u001b[39m\u001b[38;5;124m50.3\u001b[39m\u001b[38;5;124m\"\u001b[39m\n\u001b[1;32m      5\u001b[0m \u001b[38;5;28mprint\u001b[39m(\u001b[38;5;124mf\u001b[39m\u001b[38;5;124m\"\u001b[39m\u001b[38;5;124mdata type before \u001b[39m\u001b[38;5;132;01m{\u001b[39;00m\u001b[38;5;28mtype\u001b[39m(A)\u001b[38;5;132;01m}\u001b[39;00m\u001b[38;5;124m\"\u001b[39m)\n\u001b[0;32m----> 7\u001b[0m A \u001b[38;5;241m=\u001b[39m \u001b[38;5;28;43mint\u001b[39;49m\u001b[43m(\u001b[49m\u001b[43mA\u001b[49m\u001b[43m)\u001b[49m\n\u001b[1;32m      9\u001b[0m \u001b[38;5;28mprint\u001b[39m(\u001b[38;5;124mf\u001b[39m\u001b[38;5;124m\"\u001b[39m\u001b[38;5;124mdata type after \u001b[39m\u001b[38;5;132;01m{\u001b[39;00m\u001b[38;5;28mtype\u001b[39m(A)\u001b[38;5;132;01m}\u001b[39;00m\u001b[38;5;124m\"\u001b[39m)\n",
      "\u001b[0;31mValueError\u001b[0m: invalid literal for int() with base 10: '50.3'"
     ]
    }
   ],
   "source": [
    "#float to integer\n",
    "\n",
    "A = \"50.3\"\n",
    "\n",
    "print(f\"data type before {type(A)}\")\n",
    "\n",
    "A = int(A)\n",
    "\n",
    "print(f\"data type after {type(A)}\")\n",
    "\n",
    "\n"
   ]
  },
  {
   "cell_type": "code",
   "execution_count": 37,
   "id": "3706c596",
   "metadata": {},
   "outputs": [
    {
     "name": "stdout",
     "output_type": "stream",
     "text": [
      "data type before <class 'str'>\n",
      "data type after <class 'float'>\n"
     ]
    }
   ],
   "source": [
    "A = \"50.3\"\n",
    "\n",
    "print(f\"data type before {type(A)}\")\n",
    "\n",
    "A = float(A)\n",
    "\n",
    "print(f\"data type after {type(A)}\")\n",
    "\n"
   ]
  },
  {
   "cell_type": "code",
   "execution_count": 40,
   "id": "e4da1158",
   "metadata": {},
   "outputs": [
    {
     "name": "stdout",
     "output_type": "stream",
     "text": [
      "data type before <class 'int'>\n",
      "data type after <class 'bool'> True\n"
     ]
    }
   ],
   "source": [
    "# integer to boolean\n",
    "\n",
    "A = 10\n",
    "\n",
    "print(f\"data type before {type(A)}\")\n",
    "\n",
    "A = bool(A)\n",
    "\n",
    "print(f\"data type after {type(A)} {A}\")\n",
    "\n",
    "\n"
   ]
  },
  {
   "cell_type": "code",
   "execution_count": 41,
   "id": "facda52e",
   "metadata": {},
   "outputs": [
    {
     "name": "stdout",
     "output_type": "stream",
     "text": [
      "data type before <class 'int'>\n",
      "data type after <class 'bool'> True\n"
     ]
    }
   ],
   "source": [
    "# integer to boolean\n",
    "\n",
    "A = -10\n",
    "\n",
    "print(f\"data type before {type(A)}\")\n",
    "\n",
    "A = bool(A)\n",
    "\n",
    "print(f\"data type after {type(A)} {A}\")\n",
    "\n"
   ]
  },
  {
   "cell_type": "code",
   "execution_count": 42,
   "id": "48fd23b0",
   "metadata": {},
   "outputs": [
    {
     "name": "stdout",
     "output_type": "stream",
     "text": [
      "data type before <class 'int'>\n",
      "data type after <class 'bool'> False\n"
     ]
    }
   ],
   "source": [
    "# integer to boolean\n",
    "\n",
    "A = 0\n",
    "\n",
    "print(f\"data type before {type(A)}\")\n",
    "\n",
    "A = bool(A)\n",
    "\n",
    "print(f\"data type after {type(A)} {A}\")\n",
    "\n"
   ]
  },
  {
   "cell_type": "code",
   "execution_count": 43,
   "id": "647a937d",
   "metadata": {},
   "outputs": [
    {
     "name": "stdout",
     "output_type": "stream",
     "text": [
      "data type before <class 'str'>\n",
      "data type after <class 'bool'> True\n"
     ]
    }
   ],
   "source": [
    "#STRING TO BOOLEAN\n",
    "A = \"ATUL\"\n",
    "\n",
    "print(f\"data type before {type(A)}\")\n",
    "\n",
    "A = bool(A)\n",
    "\n",
    "print(f\"data type after {type(A)} {A}\")\n",
    "\n",
    "\n"
   ]
  },
  {
   "cell_type": "code",
   "execution_count": 44,
   "id": "3478faf2",
   "metadata": {},
   "outputs": [
    {
     "name": "stdout",
     "output_type": "stream",
     "text": [
      "data type before <class 'str'>\n",
      "data type after <class 'bool'> True\n"
     ]
    }
   ],
   "source": [
    "#STRING TO BOOLEAN\n",
    "A = \"False\"\n",
    "\n",
    "print(f\"data type before {type(A)}\")\n",
    "\n",
    "A = bool(A)\n",
    "\n",
    "print(f\"data type after {type(A)} {A}\")\n",
    "\n",
    "\n"
   ]
  },
  {
   "cell_type": "code",
   "execution_count": 45,
   "id": "71d1d2a2",
   "metadata": {},
   "outputs": [
    {
     "name": "stdout",
     "output_type": "stream",
     "text": [
      "data type before <class 'str'>\n",
      "data type after <class 'bool'> False\n"
     ]
    }
   ],
   "source": [
    "#emptry STRING TO BOOLEAN\n",
    "A = \"\"\n",
    "\n",
    "print(f\"data type before {type(A)}\")\n",
    "\n",
    "A = bool(A)\n",
    "\n",
    "print(f\"data type after {type(A)} {A}\")\n",
    "\n"
   ]
  },
  {
   "cell_type": "code",
   "execution_count": 46,
   "id": "506abefa",
   "metadata": {},
   "outputs": [
    {
     "name": "stdout",
     "output_type": "stream",
     "text": [
      "data type before <class 'str'>\n"
     ]
    },
    {
     "ename": "ValueError",
     "evalue": "invalid literal for int() with base 10: ''",
     "output_type": "error",
     "traceback": [
      "\u001b[0;31m---------------------------------------------------------------------------\u001b[0m",
      "\u001b[0;31mValueError\u001b[0m                                Traceback (most recent call last)",
      "Input \u001b[0;32mIn [46]\u001b[0m, in \u001b[0;36m<cell line: 6>\u001b[0;34m()\u001b[0m\n\u001b[1;32m      2\u001b[0m A \u001b[38;5;241m=\u001b[39m \u001b[38;5;124m\"\u001b[39m\u001b[38;5;124m\"\u001b[39m\n\u001b[1;32m      4\u001b[0m \u001b[38;5;28mprint\u001b[39m(\u001b[38;5;124mf\u001b[39m\u001b[38;5;124m\"\u001b[39m\u001b[38;5;124mdata type before \u001b[39m\u001b[38;5;132;01m{\u001b[39;00m\u001b[38;5;28mtype\u001b[39m(A)\u001b[38;5;132;01m}\u001b[39;00m\u001b[38;5;124m\"\u001b[39m)\n\u001b[0;32m----> 6\u001b[0m A \u001b[38;5;241m=\u001b[39m \u001b[38;5;28;43mint\u001b[39;49m\u001b[43m(\u001b[49m\u001b[43mA\u001b[49m\u001b[43m)\u001b[49m\n\u001b[1;32m      8\u001b[0m \u001b[38;5;28mprint\u001b[39m(\u001b[38;5;124mf\u001b[39m\u001b[38;5;124m\"\u001b[39m\u001b[38;5;124mdata type after \u001b[39m\u001b[38;5;132;01m{\u001b[39;00m\u001b[38;5;28mtype\u001b[39m(A)\u001b[38;5;132;01m}\u001b[39;00m\u001b[38;5;124m \u001b[39m\u001b[38;5;132;01m{\u001b[39;00mA\u001b[38;5;132;01m}\u001b[39;00m\u001b[38;5;124m\"\u001b[39m)\n",
      "\u001b[0;31mValueError\u001b[0m: invalid literal for int() with base 10: ''"
     ]
    }
   ],
   "source": [
    "#emptry STRING TO innteger\n",
    "A = \"\"\n",
    "\n",
    "print(f\"data type before {type(A)}\")\n",
    "\n",
    "A = int(A)\n",
    "\n",
    "print(f\"data type after {type(A)} {A}\")\n",
    "\n",
    "\n"
   ]
  },
  {
   "cell_type": "code",
   "execution_count": 47,
   "id": "3d6b40be",
   "metadata": {},
   "outputs": [
    {
     "name": "stdout",
     "output_type": "stream",
     "text": [
      "\n",
      "my name is Atul\n",
      "my best friend is pinku\n",
      "\n"
     ]
    }
   ],
   "source": [
    "a = \"Atul\"\n",
    "\n",
    "b = \"pinku\"\n",
    "\n",
    "\n",
    "print(f\"\"\"\n",
    "my name is {a}\n",
    "my best friend is {b}\n",
    "\"\"\")"
   ]
  },
  {
   "cell_type": "markdown",
   "id": "e05f633c",
   "metadata": {},
   "source": [
    "# memory block"
   ]
  },
  {
   "cell_type": "code",
   "execution_count": 48,
   "id": "037ddf0f",
   "metadata": {},
   "outputs": [],
   "source": [
    "a =20\n",
    "b=30\n",
    "c=20"
   ]
  },
  {
   "cell_type": "code",
   "execution_count": 49,
   "id": "59a0df40",
   "metadata": {},
   "outputs": [
    {
     "data": {
      "text/plain": [
       "4521135360"
      ]
     },
     "execution_count": 49,
     "metadata": {},
     "output_type": "execute_result"
    }
   ],
   "source": [
    "id(a)"
   ]
  },
  {
   "cell_type": "code",
   "execution_count": 50,
   "id": "585df05d",
   "metadata": {},
   "outputs": [
    {
     "data": {
      "text/plain": [
       "4521135680"
      ]
     },
     "execution_count": 50,
     "metadata": {},
     "output_type": "execute_result"
    }
   ],
   "source": [
    "id(b)"
   ]
  },
  {
   "cell_type": "code",
   "execution_count": 51,
   "id": "21a5eb59",
   "metadata": {},
   "outputs": [
    {
     "data": {
      "text/plain": [
       "4521135360"
      ]
     },
     "execution_count": 51,
     "metadata": {},
     "output_type": "execute_result"
    }
   ],
   "source": [
    "id(c)"
   ]
  },
  {
   "cell_type": "code",
   "execution_count": 52,
   "id": "138dbacc",
   "metadata": {},
   "outputs": [],
   "source": [
    "#memory is assigned to the value passed not the variable name"
   ]
  },
  {
   "cell_type": "code",
   "execution_count": 53,
   "id": "05fe1856",
   "metadata": {},
   "outputs": [
    {
     "name": "stdout",
     "output_type": "stream",
     "text": [
      "4521135360 4521135680 4521135360\n"
     ]
    }
   ],
   "source": [
    "print(id(a),id(b),id(c))"
   ]
  },
  {
   "cell_type": "code",
   "execution_count": 54,
   "id": "2b8dede3",
   "metadata": {},
   "outputs": [
    {
     "name": "stdout",
     "output_type": "stream",
     "text": [
      "4521135360 4521135680 140540759192688\n"
     ]
    }
   ],
   "source": [
    "a =20\n",
    "b=30\n",
    "c=20.0\n",
    "\n",
    "print(id(a),id(b),id(c))"
   ]
  },
  {
   "cell_type": "code",
   "execution_count": 55,
   "id": "a06f16b9",
   "metadata": {},
   "outputs": [
    {
     "name": "stdout",
     "output_type": "stream",
     "text": [
      "4521135360 140540759581680 140540759194992\n"
     ]
    }
   ],
   "source": [
    "a =20\n",
    "b=\"amit\"\n",
    "c=20.0\n",
    "\n",
    "print(id(a),id(b),id(c))"
   ]
  },
  {
   "cell_type": "code",
   "execution_count": null,
   "id": "25e2d455",
   "metadata": {},
   "outputs": [],
   "source": []
  }
 ],
 "metadata": {
  "kernelspec": {
   "display_name": "Python 3 (ipykernel)",
   "language": "python",
   "name": "python3"
  },
  "language_info": {
   "codemirror_mode": {
    "name": "ipython",
    "version": 3
   },
   "file_extension": ".py",
   "mimetype": "text/x-python",
   "name": "python",
   "nbconvert_exporter": "python",
   "pygments_lexer": "ipython3",
   "version": "3.8.3rc1"
  }
 },
 "nbformat": 4,
 "nbformat_minor": 5
}
