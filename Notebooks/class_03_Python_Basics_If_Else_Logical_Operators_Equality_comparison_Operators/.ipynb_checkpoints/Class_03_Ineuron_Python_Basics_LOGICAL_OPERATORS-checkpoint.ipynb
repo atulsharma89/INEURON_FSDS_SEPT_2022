{
 "cells": [
  {
   "cell_type": "markdown",
   "id": "170e5b32",
   "metadata": {},
   "source": [
    "# LOGICAL KEYWORDS"
   ]
  },
  {
   "cell_type": "raw",
   "id": "5c1a64b7",
   "metadata": {},
   "source": [
    "not - unanry negation\n",
    "\n",
    "and - conditional and\n",
    "\n",
    "or - conditional or"
   ]
  },
  {
   "cell_type": "markdown",
   "id": "b3fe3343",
   "metadata": {},
   "source": [
    "# conditional statement If Else"
   ]
  },
  {
   "cell_type": "code",
   "execution_count": 2,
   "id": "dfaf06e6",
   "metadata": {},
   "outputs": [
    {
     "name": "stdout",
     "output_type": "stream",
     "text": [
      "Lets get focused\n"
     ]
    }
   ],
   "source": [
    "is_class_started = True\n",
    "\n",
    "if is_class_started:\n",
    "    print(\"Lets get focused\")"
   ]
  },
  {
   "cell_type": "code",
   "execution_count": 3,
   "id": "83cec5ff",
   "metadata": {},
   "outputs": [
    {
     "name": "stdout",
     "output_type": "stream",
     "text": [
      "Lets get focused\n"
     ]
    }
   ],
   "source": [
    "is_class_started = True\n",
    "\n",
    "if is_class_started:\n",
    "    print(\"Lets get focused\")\n",
    "else:\n",
    "    print(\"Lets revise last class\")"
   ]
  },
  {
   "cell_type": "code",
   "execution_count": 5,
   "id": "51795d04",
   "metadata": {},
   "outputs": [
    {
     "name": "stdout",
     "output_type": "stream",
     "text": [
      "Lets go to office\n"
     ]
    }
   ],
   "source": [
    "is_raining = False\n",
    "\n",
    "if is_raining:\n",
    "    print(\"Lets wfh\")\n",
    "else:\n",
    "    print(\"Lets go to office\")"
   ]
  },
  {
   "cell_type": "code",
   "execution_count": 6,
   "id": "9e54a8e1",
   "metadata": {},
   "outputs": [],
   "source": [
    "# use of indentation"
   ]
  },
  {
   "cell_type": "markdown",
   "id": "0b57bd1a",
   "metadata": {},
   "source": [
    "# And condition"
   ]
  },
  {
   "cell_type": "code",
   "execution_count": null,
   "id": "4b15d3b5",
   "metadata": {},
   "outputs": [],
   "source": [
    "veg = True\n",
    "salt "
   ]
  }
 ],
 "metadata": {
  "kernelspec": {
   "display_name": "Python 3 (ipykernel)",
   "language": "python",
   "name": "python3"
  },
  "language_info": {
   "codemirror_mode": {
    "name": "ipython",
    "version": 3
   },
   "file_extension": ".py",
   "mimetype": "text/x-python",
   "name": "python",
   "nbconvert_exporter": "python",
   "pygments_lexer": "ipython3",
   "version": "3.8.3rc1"
  }
 },
 "nbformat": 4,
 "nbformat_minor": 5
}
