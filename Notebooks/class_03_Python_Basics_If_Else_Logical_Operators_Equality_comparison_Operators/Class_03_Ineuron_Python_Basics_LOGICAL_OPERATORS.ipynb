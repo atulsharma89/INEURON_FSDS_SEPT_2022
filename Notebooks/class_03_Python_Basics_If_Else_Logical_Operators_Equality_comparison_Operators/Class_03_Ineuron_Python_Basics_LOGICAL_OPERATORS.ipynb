{
 "cells": [
  {
   "cell_type": "markdown",
   "id": "170e5b32",
   "metadata": {},
   "source": [
    "# LOGICAL KEYWORDS"
   ]
  },
  {
   "cell_type": "raw",
   "id": "5c1a64b7",
   "metadata": {},
   "source": [
    "not - unanry negation\n",
    "\n",
    "and - conditional and\n",
    "\n",
    "or - conditional or"
   ]
  },
  {
   "cell_type": "markdown",
   "id": "b3fe3343",
   "metadata": {},
   "source": [
    "# conditional statement If Else"
   ]
  },
  {
   "cell_type": "code",
   "execution_count": 2,
   "id": "dfaf06e6",
   "metadata": {},
   "outputs": [
    {
     "name": "stdout",
     "output_type": "stream",
     "text": [
      "Lets get focused\n"
     ]
    }
   ],
   "source": [
    "is_class_started = True\n",
    "\n",
    "if is_class_started:\n",
    "    print(\"Lets get focused\")"
   ]
  },
  {
   "cell_type": "code",
   "execution_count": 3,
   "id": "83cec5ff",
   "metadata": {},
   "outputs": [
    {
     "name": "stdout",
     "output_type": "stream",
     "text": [
      "Lets get focused\n"
     ]
    }
   ],
   "source": [
    "is_class_started = True\n",
    "\n",
    "if is_class_started:\n",
    "    print(\"Lets get focused\")\n",
    "else:\n",
    "    print(\"Lets revise last class\")"
   ]
  },
  {
   "cell_type": "code",
   "execution_count": 5,
   "id": "51795d04",
   "metadata": {},
   "outputs": [
    {
     "name": "stdout",
     "output_type": "stream",
     "text": [
      "Lets go to office\n"
     ]
    }
   ],
   "source": [
    "is_raining = False\n",
    "\n",
    "if is_raining:\n",
    "    print(\"Lets wfh\")\n",
    "else:\n",
    "    print(\"Lets go to office\")"
   ]
  },
  {
   "cell_type": "code",
   "execution_count": 6,
   "id": "9e54a8e1",
   "metadata": {},
   "outputs": [],
   "source": [
    "# use of indentation"
   ]
  },
  {
   "cell_type": "markdown",
   "id": "fd0d035a",
   "metadata": {},
   "source": [
    "# And condition"
   ]
  },
  {
   "cell_type": "code",
   "execution_count": 2,
   "id": "66b82b99",
   "metadata": {},
   "outputs": [
    {
     "name": "stdout",
     "output_type": "stream",
     "text": [
      "Good Dish\n"
     ]
    }
   ],
   "source": [
    "veg = True\n",
    "salt = True\n",
    "\n",
    "if veg and salt:\n",
    "    print(\"Good Dish\")\n",
    "else:\n",
    "    print(\"not a good dish\")\n",
    "    print(f\"becuase {veg} present and {salt} present\")"
   ]
  },
  {
   "cell_type": "code",
   "execution_count": 4,
   "id": "38ddd56d",
   "metadata": {},
   "outputs": [
    {
     "name": "stdout",
     "output_type": "stream",
     "text": [
      "not a good dish\n",
      "becuase veg present : True  and salt present : False\n"
     ]
    }
   ],
   "source": [
    "veg = True\n",
    "salt = False\n",
    "\n",
    "if veg and salt:\n",
    "    print(\"Good Dish\")\n",
    "else:\n",
    "    print(\"not a good dish\")\n",
    "    print(f\"becuase veg present : {veg}  and salt present : {salt}\")"
   ]
  },
  {
   "cell_type": "markdown",
   "id": "ba6a4bde",
   "metadata": {},
   "source": [
    "# or condition"
   ]
  },
  {
   "cell_type": "code",
   "execution_count": 5,
   "id": "bb248ef5",
   "metadata": {},
   "outputs": [
    {
     "name": "stdout",
     "output_type": "stream",
     "text": [
      "I can travel 100 KM\n"
     ]
    }
   ],
   "source": [
    "car = True\n",
    "bike = True\n",
    "\n",
    "\n",
    "if car or bike:\n",
    "    print(\"I can travel 100 KM\")\n",
    "else:\n",
    "    print(\"I cannot travel 100 km\" )"
   ]
  },
  {
   "cell_type": "code",
   "execution_count": 6,
   "id": "33d4f93c",
   "metadata": {},
   "outputs": [
    {
     "name": "stdout",
     "output_type": "stream",
     "text": [
      "I can travel 100 KM\n"
     ]
    }
   ],
   "source": [
    "car = True\n",
    "bike = False\n",
    "\n",
    "\n",
    "if car or bike:\n",
    "    print(\"I can travel 100 KM\")\n",
    "else:\n",
    "    print(\"I cannot travel 100 km\" )"
   ]
  },
  {
   "cell_type": "code",
   "execution_count": 7,
   "id": "e069e984",
   "metadata": {},
   "outputs": [
    {
     "name": "stdout",
     "output_type": "stream",
     "text": [
      "I cannot travel 100 km\n"
     ]
    }
   ],
   "source": [
    "car = False\n",
    "bike = False\n",
    "\n",
    "\n",
    "if car or bike:\n",
    "    print(\"I can travel 100 KM\")\n",
    "else:\n",
    "    print(\"I cannot travel 100 km\" )"
   ]
  },
  {
   "cell_type": "code",
   "execution_count": 8,
   "id": "91adec3c",
   "metadata": {},
   "outputs": [
    {
     "name": "stdout",
     "output_type": "stream",
     "text": [
      "Student is not eligible\n"
     ]
    }
   ],
   "source": [
    "attendance = 70\n",
    "assignments = 40\n",
    "\n",
    "\n",
    "if attendance >= 75 and assignments >=75:\n",
    "    print(\"student is eleigible to apear in final exam\")\n",
    "else:\n",
    "    print(\"Student is not eligible\")"
   ]
  },
  {
   "cell_type": "code",
   "execution_count": 9,
   "id": "1061cf94",
   "metadata": {},
   "outputs": [
    {
     "name": "stdout",
     "output_type": "stream",
     "text": [
      "student is eleigible to apear in final exam\n"
     ]
    }
   ],
   "source": [
    "attendance = 80\n",
    "assignments = 80\n",
    "\n",
    "\n",
    "if attendance >= 75 and assignments >=75:\n",
    "    print(\"student is eleigible to apear in final exam\")\n",
    "else:\n",
    "    print(\"Student is not eligible\")"
   ]
  },
  {
   "cell_type": "markdown",
   "id": "e60da81d",
   "metadata": {},
   "source": [
    "# Equality Operators"
   ]
  },
  {
   "cell_type": "raw",
   "id": "02229cdd",
   "metadata": {},
   "source": [
    "Is operator | a is b True  --> if a and b points to same object\n",
    "is not | a is not b --> if a and b does not points to same object\n",
    "== | a ==b  --> a is equal to b\n",
    "!= | a!=b  --> a is not equal to b"
   ]
  },
  {
   "cell_type": "code",
   "execution_count": 10,
   "id": "d06350ea",
   "metadata": {},
   "outputs": [
    {
     "name": "stdout",
     "output_type": "stream",
     "text": [
      "a and b are same\n"
     ]
    }
   ],
   "source": [
    "a =1 \n",
    "b =1\n",
    "\n",
    "if a is b:\n",
    "    print(\"a and b are same\")\n",
    "else:\n",
    "    print(\"a and b are not same\")"
   ]
  },
  {
   "cell_type": "code",
   "execution_count": 11,
   "id": "a24755c4",
   "metadata": {},
   "outputs": [
    {
     "name": "stdout",
     "output_type": "stream",
     "text": [
      "a and b are  same\n"
     ]
    }
   ],
   "source": [
    "a =1 \n",
    "b =1\n",
    "\n",
    "if a is not b:\n",
    "    print(\"a and b are not same\")\n",
    "else:\n",
    "    print(\"a and b are  same\")"
   ]
  },
  {
   "cell_type": "code",
   "execution_count": 12,
   "id": "a5b5bcfd",
   "metadata": {},
   "outputs": [
    {
     "name": "stdout",
     "output_type": "stream",
     "text": [
      "a and b are  same\n"
     ]
    }
   ],
   "source": [
    "a =1 \n",
    "b =1\n",
    "\n",
    "if a == b:\n",
    "    print(\"a and b are  same\")\n",
    "else:\n",
    "    print(\"a and b are not same\")"
   ]
  },
  {
   "cell_type": "code",
   "execution_count": 14,
   "id": "8b03992e",
   "metadata": {},
   "outputs": [
    {
     "name": "stdout",
     "output_type": "stream",
     "text": [
      "4553468576\n",
      "4553468576\n"
     ]
    }
   ],
   "source": [
    "a =1 \n",
    "b = 1\n",
    "\n",
    "print(id(a))\n",
    "print(id(b))"
   ]
  },
  {
   "cell_type": "code",
   "execution_count": 13,
   "id": "7ad64308",
   "metadata": {},
   "outputs": [
    {
     "name": "stdout",
     "output_type": "stream",
     "text": [
      "a and b are not same\n"
     ]
    }
   ],
   "source": [
    "a =1 \n",
    "b =15\n",
    "\n",
    "if a == b:\n",
    "    print(\"a and b are  same\")\n",
    "else:\n",
    "    print(\"a and b are not same\")"
   ]
  },
  {
   "cell_type": "code",
   "execution_count": 15,
   "id": "fe715648",
   "metadata": {},
   "outputs": [
    {
     "data": {
      "text/plain": [
       "True"
      ]
     },
     "execution_count": 15,
     "metadata": {},
     "output_type": "execute_result"
    }
   ],
   "source": [
    "a = \"atul\"\n",
    "b = \"atul\"\n",
    "\n",
    "a is b"
   ]
  },
  {
   "cell_type": "code",
   "execution_count": 17,
   "id": "276c71c5",
   "metadata": {},
   "outputs": [
    {
     "name": "stdout",
     "output_type": "stream",
     "text": [
      "False\n",
      "140597047110400\n",
      "140597047107712\n"
     ]
    }
   ],
   "source": [
    "a = [\"atul\"]\n",
    "b = [\"atul\"]\n",
    "\n",
    "print(a is b)\n",
    "\n",
    "print(id(a))\n",
    "print(id(b))"
   ]
  },
  {
   "cell_type": "markdown",
   "id": "695dec63",
   "metadata": {},
   "source": [
    "# Comparison Operators"
   ]
  },
  {
   "cell_type": "code",
   "execution_count": 18,
   "id": "9db2a3c1",
   "metadata": {},
   "outputs": [
    {
     "name": "stdout",
     "output_type": "stream",
     "text": [
      "A is greater than B\n"
     ]
    }
   ],
   "source": [
    "A = 67\n",
    "B = 66\n",
    "\n",
    "if A > B:\n",
    "    print(\"A is greater than B\")\n",
    "else:\n",
    "    print(\"A is not greater than B\")"
   ]
  },
  {
   "cell_type": "code",
   "execution_count": 19,
   "id": "033078f5",
   "metadata": {},
   "outputs": [
    {
     "name": "stdout",
     "output_type": "stream",
     "text": [
      "A is not greater than B\n"
     ]
    }
   ],
   "source": [
    "A = 67\n",
    "B = 67\n",
    "\n",
    "if A > B:\n",
    "    print(\"A is greater than B\")\n",
    "else:\n",
    "    print(\"A is not greater than B\")"
   ]
  },
  {
   "cell_type": "code",
   "execution_count": 20,
   "id": "820667bc",
   "metadata": {},
   "outputs": [
    {
     "name": "stdout",
     "output_type": "stream",
     "text": [
      "A is greater than B\n"
     ]
    }
   ],
   "source": [
    "A = 67\n",
    "B = 67\n",
    "\n",
    "if A >= B:\n",
    "    print(\"A is greater than B\")\n",
    "else:\n",
    "    print(\"A is not greater than B\")"
   ]
  },
  {
   "cell_type": "code",
   "execution_count": 22,
   "id": "d8e0826e",
   "metadata": {},
   "outputs": [
    {
     "name": "stdout",
     "output_type": "stream",
     "text": [
      "A is greater than B\n"
     ]
    }
   ],
   "source": [
    "A = 67\n",
    "B = 67\n",
    "\n",
    "if A <= B:\n",
    "    print(\"A is greater than B\")\n",
    "else:\n",
    "    print(\"A is not greater than B\")"
   ]
  },
  {
   "cell_type": "code",
   "execution_count": null,
   "id": "42ee7c48",
   "metadata": {},
   "outputs": [],
   "source": []
  }
 ],
 "metadata": {
  "kernelspec": {
   "display_name": "Python 3 (ipykernel)",
   "language": "python",
   "name": "python3"
  },
  "language_info": {
   "codemirror_mode": {
    "name": "ipython",
    "version": 3
   },
   "file_extension": ".py",
   "mimetype": "text/x-python",
   "name": "python",
   "nbconvert_exporter": "python",
   "pygments_lexer": "ipython3",
   "version": "3.8.3rc1"
  }
 },
 "nbformat": 4,
 "nbformat_minor": 5
}
