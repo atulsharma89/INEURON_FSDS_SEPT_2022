{
 "cells": [
  {
   "cell_type": "markdown",
   "id": "3b824a0e",
   "metadata": {},
   "source": [
    "# IF-ELSE "
   ]
  },
  {
   "cell_type": "code",
   "execution_count": 3,
   "id": "55922c3d",
   "metadata": {},
   "outputs": [
    {
     "name": "stdout",
     "output_type": "stream",
     "text": [
      "Please pay 902.9999999999999\n"
     ]
    }
   ],
   "source": [
    "total_Amount = 90 +100+100+1000\n",
    "\n",
    "if total_Amount > 999:\n",
    "    price_after_discount = total_Amount * 0.7\n",
    "    print(f\"Please pay {price_after_discount}\")\n",
    "elif total_Amount < 999 and total_Amount > 499:\n",
    "    price_after_discount = total_Amount * 0.8\n",
    "    print(f\"Please pay {price_after_discount}\")\n",
    "else:\n",
    "    price_after_discount = total_Amount\n",
    "    print(f\"Please pay {price_after_discount}\")\n"
   ]
  },
  {
   "cell_type": "markdown",
   "id": "e9b340e3",
   "metadata": {},
   "source": [
    "# Nested If-else"
   ]
  },
  {
   "cell_type": "code",
   "execution_count": 5,
   "id": "ef5c51cb",
   "metadata": {},
   "outputs": [
    {
     "name": "stdout",
     "output_type": "stream",
     "text": [
      "enter a number 2\n",
      "its a positive number\n"
     ]
    }
   ],
   "source": [
    "val = float(input(\"enter a number \"))\n",
    "\n",
    "if val >=0:\n",
    "    if val ==0:\n",
    "        print(\"its zero\")\n",
    "    else:\n",
    "        print(\"its a positive number\")\n",
    "else:\n",
    "    print(\"negative number\")"
   ]
  },
  {
   "cell_type": "markdown",
   "id": "15120f65",
   "metadata": {},
   "source": [
    "# Single Line IF-ELSE"
   ]
  },
  {
   "cell_type": "code",
   "execution_count": 7,
   "id": "fbeb5ae4",
   "metadata": {},
   "outputs": [
    {
     "name": "stdout",
     "output_type": "stream",
     "text": [
      "enter some number8\n",
      "No\n"
     ]
    }
   ],
   "source": [
    "val = float(input(\"enter some number\"))\n",
    "\n",
    "if val > 90: print(\"Yes\")\n",
    "else: print(\"No\")"
   ]
  },
  {
   "cell_type": "code",
   "execution_count": 8,
   "id": "29c9dc8e",
   "metadata": {},
   "outputs": [
    {
     "name": "stdout",
     "output_type": "stream",
     "text": [
      "enter some number9\n",
      "no\n"
     ]
    }
   ],
   "source": [
    "val = float(input(\"enter some number\"))\n",
    "\n",
    "print(\"yes\" if val > 99 else \"no\")"
   ]
  },
  {
   "cell_type": "markdown",
   "id": "c9d3fa5d",
   "metadata": {},
   "source": [
    "# Loops"
   ]
  },
  {
   "cell_type": "code",
   "execution_count": 10,
   "id": "c25f3d13",
   "metadata": {},
   "outputs": [
    {
     "name": "stdout",
     "output_type": "stream",
     "text": [
      "your score is 100\n",
      "I will attempt next year\n",
      "your score is 200\n",
      "I will attempt next year\n",
      "your score is 300\n",
      "I will attempt next year\n",
      "your score is 399\n",
      "I will attempt next year\n"
     ]
    }
   ],
   "source": [
    "total_marks = 1000\n",
    "cutoff = 400\n",
    "scores = [100,200,300,399,500,600]\n",
    "\n",
    "year = 0\n",
    "\n",
    "while scores[year] < cutoff:\n",
    "    print(f\"your score is {scores[year]}\")\n",
    "    print(\"I will attempt next year\")\n",
    "    year = year + 1"
   ]
  },
  {
   "cell_type": "code",
   "execution_count": 11,
   "id": "8690f140",
   "metadata": {},
   "outputs": [],
   "source": [
    "# infinite loop: if the condition is always true then loop keep running"
   ]
  },
  {
   "cell_type": "code",
   "execution_count": 12,
   "id": "a5efa4f4",
   "metadata": {},
   "outputs": [
    {
     "name": "stdout",
     "output_type": "stream",
     "text": [
      "current station is: Station 01\n",
      "my destination is: Station 03\n",
      "Continue the journey I haven't reached the destination\n",
      "Next station is: Station 02\n",
      "-----\n",
      "current station is: Station 02\n",
      "my destination is: Station 03\n",
      "Continue the journey I haven't reached the destination\n",
      "Next station is: Station 03\n",
      "-----\n"
     ]
    }
   ],
   "source": [
    "# Train journey \n",
    "stations = [\"Station 01\", \"Station 02\", \"Station 03\", \"Station 04\"]\n",
    "\n",
    "current_station = 0\n",
    "destination_station = \"Station 03\"\n",
    "\n",
    "while stations[current_station] != destination_station:\n",
    "  print(f\"current station is: {stations[current_station]}\")\n",
    "  print(f\"my destination is: {destination_station}\")\n",
    "  print(\"Continue the journey I haven't reached the destination\")\n",
    "  current_station = current_station + 1\n",
    "  print(f\"Next station is: {stations[current_station]}\")\n",
    "  print(\"-----\")\n"
   ]
  },
  {
   "cell_type": "code",
   "execution_count": 13,
   "id": "b00a77b5",
   "metadata": {},
   "outputs": [
    {
     "name": "stdout",
     "output_type": "stream",
     "text": [
      "current station is: Station 01\n",
      "my destination is: Station 03\n",
      "Continue the journey I haven't reached the destination\n",
      "Next station is: Station 02\n",
      "-----\n",
      "current station is: Station 02\n",
      "my destination is: Station 03\n",
      "Continue the journey I haven't reached the destination\n",
      "Next station is: Station 03\n",
      "-----\n",
      "I have arrived at: Station 03\n"
     ]
    }
   ],
   "source": [
    "stations = [\"Station 01\", \"Station 02\", \"Station 03\", \"Station 04\"]\n",
    "\n",
    "current_station = 0\n",
    "destination_station = \"Station 03\"\n",
    "\n",
    "while stations[current_station] != destination_station:\n",
    "  print(f\"current station is: {stations[current_station]}\")\n",
    "  print(f\"my destination is: {destination_station}\")\n",
    "  print(\"Continue the journey I haven't reached the destination\")\n",
    "  current_station = current_station + 1\n",
    "  print(f\"Next station is: {stations[current_station]}\")\n",
    "  print(\"-----\")\n",
    "else:\n",
    "  print(f\"I have arrived at: {stations[current_station]}\")  "
   ]
  },
  {
   "cell_type": "markdown",
   "id": "41169dd3",
   "metadata": {},
   "source": [
    "# For loop"
   ]
  },
  {
   "cell_type": "code",
   "execution_count": 14,
   "id": "20f711f8",
   "metadata": {},
   "outputs": [
    {
     "name": "stdout",
     "output_type": "stream",
     "text": [
      "atul\n",
      "amit\n",
      "rakesh\n"
     ]
    }
   ],
   "source": [
    "a = [\"atul\",\"amit\",\"rakesh\"]\n",
    "\n",
    "for i in a:\n",
    "    print(i)"
   ]
  },
  {
   "cell_type": "code",
   "execution_count": 15,
   "id": "36b743a9",
   "metadata": {},
   "outputs": [
    {
     "name": "stdout",
     "output_type": "stream",
     "text": [
      "0\n",
      "1\n",
      "2\n",
      "3\n",
      "4\n",
      "5\n",
      "6\n",
      "7\n",
      "8\n",
      "9\n"
     ]
    }
   ],
   "source": [
    "for i in range(10):\n",
    "    print(i)"
   ]
  },
  {
   "cell_type": "code",
   "execution_count": 17,
   "id": "d410fd2e",
   "metadata": {},
   "outputs": [
    {
     "name": "stdout",
     "output_type": "stream",
     "text": [
      "atul\n",
      "amit\n",
      "rakesh\n"
     ]
    }
   ],
   "source": [
    "for i in range(len(a)):\n",
    "    print(a[i])"
   ]
  },
  {
   "cell_type": "code",
   "execution_count": 18,
   "id": "fe77dcef",
   "metadata": {},
   "outputs": [
    {
     "name": "stdout",
     "output_type": "stream",
     "text": [
      "10 X 0 = 0\n",
      "10 X 1 = 10\n",
      "10 X 2 = 20\n",
      "10 X 3 = 30\n",
      "10 X 4 = 40\n",
      "10 X 5 = 50\n",
      "10 X 6 = 60\n",
      "10 X 7 = 70\n",
      "10 X 8 = 80\n",
      "10 X 9 = 90\n"
     ]
    }
   ],
   "source": [
    "for i in range(0, 10): # (10 here is out of bound)\n",
    "  print(f\"10 X {i} = {10*i}\")"
   ]
  },
  {
   "cell_type": "code",
   "execution_count": 19,
   "id": "1e33f13e",
   "metadata": {},
   "outputs": [
    {
     "name": "stdout",
     "output_type": "stream",
     "text": [
      "\n",
      "*\n",
      "**\n",
      "***\n",
      "****\n",
      "*****\n",
      "******\n",
      "*******\n",
      "********\n",
      "*********\n"
     ]
    }
   ],
   "source": [
    "for i in range(10):\n",
    "    print(\"*\"*i)"
   ]
  },
  {
   "cell_type": "code",
   "execution_count": 20,
   "id": "0ed3092e",
   "metadata": {},
   "outputs": [
    {
     "name": "stdout",
     "output_type": "stream",
     "text": [
      "885\n"
     ]
    }
   ],
   "source": [
    "Cost_of_items = [100, 200, 129, 456]\n",
    "\n",
    "total = 0\n",
    "\n",
    "for i in Cost_of_items:\n",
    "    total=total + i\n",
    "print(total)"
   ]
  },
  {
   "cell_type": "code",
   "execution_count": 21,
   "id": "ced9a449",
   "metadata": {},
   "outputs": [
    {
     "name": "stdout",
     "output_type": "stream",
     "text": [
      "current total: 100\n",
      "current total: 300\n",
      "current total: 429\n",
      "current total: 885\n",
      "current total: 1885\n",
      "current total: 2084\n",
      "since current total is more than my budget: 2000\n",
      "please remove the last item\n",
      "total amount to be paid: 1885\n"
     ]
    }
   ],
   "source": [
    "cost_of_items = [100, 200, 129, 456, 1000, 199, 299]\n",
    "#                 0    1    2    3\n",
    "\n",
    "total_sum = 0\n",
    "budget = 2000\n",
    "\n",
    "for cost in cost_of_items:\n",
    "  total_sum = total_sum + cost\n",
    "  print(f\"current total: {total_sum}\")\n",
    "  if total_sum > budget:\n",
    "    print(f\"since current total is more than my budget: {budget}\")\n",
    "    print(\"please remove the last item\")\n",
    "    total_sum = total_sum - cost\n",
    "    break\n",
    "\n",
    "print(f'total amount to be paid: {total_sum}')"
   ]
  },
  {
   "cell_type": "code",
   "execution_count": 23,
   "id": "37b966e4",
   "metadata": {},
   "outputs": [
    {
     "name": "stdout",
     "output_type": "stream",
     "text": [
      "0\n",
      "1\n",
      "2\n",
      "3\n",
      "4\n",
      "5\n",
      "6\n",
      "7\n"
     ]
    }
   ],
   "source": [
    "for i in range(10):\n",
    "    if i > 7:\n",
    "        break\n",
    "    else:\n",
    "        print(i)"
   ]
  },
  {
   "cell_type": "code",
   "execution_count": 25,
   "id": "0d329bab",
   "metadata": {},
   "outputs": [
    {
     "name": "stdout",
     "output_type": "stream",
     "text": [
      "0\n",
      "1\n",
      "2\n",
      "3\n",
      "4\n",
      "5\n",
      "6\n",
      "8\n",
      "9\n"
     ]
    }
   ],
   "source": [
    "for i in range(10):\n",
    "    if i ==7:\n",
    "        continue\n",
    "    else:\n",
    "        print(i)"
   ]
  },
  {
   "cell_type": "code",
   "execution_count": 26,
   "id": "b7449597",
   "metadata": {},
   "outputs": [],
   "source": [
    "for i in range(10):\n",
    "    pass"
   ]
  },
  {
   "cell_type": "code",
   "execution_count": null,
   "id": "23ef5f23",
   "metadata": {},
   "outputs": [],
   "source": []
  }
 ],
 "metadata": {
  "kernelspec": {
   "display_name": "Python 3 (ipykernel)",
   "language": "python",
   "name": "python3"
  },
  "language_info": {
   "codemirror_mode": {
    "name": "ipython",
    "version": 3
   },
   "file_extension": ".py",
   "mimetype": "text/x-python",
   "name": "python",
   "nbconvert_exporter": "python",
   "pygments_lexer": "ipython3",
   "version": "3.8.3rc1"
  }
 },
 "nbformat": 4,
 "nbformat_minor": 5
}
