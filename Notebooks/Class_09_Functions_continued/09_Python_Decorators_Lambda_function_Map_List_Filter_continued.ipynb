{
 "cells": [
  {
   "cell_type": "code",
   "execution_count": 1,
   "id": "b6bdb581",
   "metadata": {},
   "outputs": [],
   "source": [
    "def test1(func):\n",
    "    def test2():\n",
    "        print(\"I am in test 2\")\n",
    "        func()\n",
    "        print(\"function executed\")\n",
    "    return test2"
   ]
  },
  {
   "cell_type": "code",
   "execution_count": 2,
   "id": "044feae2",
   "metadata": {},
   "outputs": [],
   "source": [
    "def test3():\n",
    "    return 5+6"
   ]
  },
  {
   "cell_type": "code",
   "execution_count": 3,
   "id": "3ef192bc",
   "metadata": {},
   "outputs": [
    {
     "data": {
      "text/plain": [
       "11"
      ]
     },
     "execution_count": 3,
     "metadata": {},
     "output_type": "execute_result"
    }
   ],
   "source": [
    "test3()"
   ]
  },
  {
   "cell_type": "code",
   "execution_count": 4,
   "id": "40282b5a",
   "metadata": {},
   "outputs": [
    {
     "data": {
      "text/plain": [
       "<function __main__.test1.<locals>.test2()>"
      ]
     },
     "execution_count": 4,
     "metadata": {},
     "output_type": "execute_result"
    }
   ],
   "source": [
    "test1(test3)"
   ]
  },
  {
   "cell_type": "code",
   "execution_count": 5,
   "id": "1ee032ce",
   "metadata": {},
   "outputs": [
    {
     "data": {
      "text/plain": [
       "<function __main__.test1.<locals>.test2()>"
      ]
     },
     "execution_count": 5,
     "metadata": {},
     "output_type": "execute_result"
    }
   ],
   "source": [
    "test1(test3())"
   ]
  },
  {
   "cell_type": "code",
   "execution_count": 8,
   "id": "0838e05c",
   "metadata": {},
   "outputs": [],
   "source": [
    "@test1\n",
    "def test3():\n",
    "    #return 5+6\n",
    "    print(\"this is my test3\")"
   ]
  },
  {
   "cell_type": "code",
   "execution_count": 9,
   "id": "da6ecb8e",
   "metadata": {},
   "outputs": [
    {
     "name": "stdout",
     "output_type": "stream",
     "text": [
      "I am in test 2\n",
      "this is my test3\n",
      "function executed\n"
     ]
    }
   ],
   "source": [
    "test3()"
   ]
  },
  {
   "cell_type": "code",
   "execution_count": 10,
   "id": "15acf071",
   "metadata": {},
   "outputs": [],
   "source": [
    "@test1\n",
    "def test4():\n",
    "    return 5+6"
   ]
  },
  {
   "cell_type": "code",
   "execution_count": 11,
   "id": "9db6924e",
   "metadata": {},
   "outputs": [
    {
     "name": "stdout",
     "output_type": "stream",
     "text": [
      "I am in test 2\n",
      "function executed\n"
     ]
    }
   ],
   "source": [
    "test4()"
   ]
  },
  {
   "cell_type": "code",
   "execution_count": 12,
   "id": "2ac12c00",
   "metadata": {},
   "outputs": [],
   "source": [
    "def test1(func):\n",
    "    def test2():\n",
    "        print(\"I am in test 2\")\n",
    "        func()\n",
    "        print(func())\n",
    "        print(\"function executed\")\n",
    "    return test2"
   ]
  },
  {
   "cell_type": "code",
   "execution_count": 13,
   "id": "9ce099d0",
   "metadata": {},
   "outputs": [],
   "source": [
    "@test1\n",
    "def test4():\n",
    "    return 5+6"
   ]
  },
  {
   "cell_type": "code",
   "execution_count": 14,
   "id": "35ab725a",
   "metadata": {},
   "outputs": [
    {
     "name": "stdout",
     "output_type": "stream",
     "text": [
      "I am in test 2\n",
      "11\n",
      "function executed\n"
     ]
    }
   ],
   "source": [
    "test4()"
   ]
  },
  {
   "cell_type": "code",
   "execution_count": 15,
   "id": "12273cdf",
   "metadata": {},
   "outputs": [
    {
     "name": "stdout",
     "output_type": "stream",
     "text": [
      "I am in test 2\n",
      "11\n",
      "function executed\n"
     ]
    }
   ],
   "source": [
    "a = test4()\n",
    "a"
   ]
  },
  {
   "cell_type": "code",
   "execution_count": 16,
   "id": "6b89c83b",
   "metadata": {},
   "outputs": [
    {
     "name": "stdout",
     "output_type": "stream",
     "text": [
      "None\n"
     ]
    }
   ],
   "source": [
    "print(a)"
   ]
  },
  {
   "cell_type": "code",
   "execution_count": 17,
   "id": "b41387a4",
   "metadata": {},
   "outputs": [
    {
     "name": "stdout",
     "output_type": "stream",
     "text": [
      "I am in test 2\n",
      "11\n",
      "function executed\n"
     ]
    },
    {
     "ename": "TypeError",
     "evalue": "unsupported operand type(s) for +: 'NoneType' and 'int'",
     "output_type": "error",
     "traceback": [
      "\u001b[0;31m---------------------------------------------------------------------------\u001b[0m",
      "\u001b[0;31mTypeError\u001b[0m                                 Traceback (most recent call last)",
      "Input \u001b[0;32mIn [17]\u001b[0m, in \u001b[0;36m<cell line: 1>\u001b[0;34m()\u001b[0m\n\u001b[0;32m----> 1\u001b[0m \u001b[43mtest4\u001b[49m\u001b[43m(\u001b[49m\u001b[43m)\u001b[49m\u001b[43m \u001b[49m\u001b[38;5;241;43m+\u001b[39;49m\u001b[43m \u001b[49m\u001b[38;5;241;43m12\u001b[39;49m\n",
      "\u001b[0;31mTypeError\u001b[0m: unsupported operand type(s) for +: 'NoneType' and 'int'"
     ]
    }
   ],
   "source": [
    "test4() + 12"
   ]
  },
  {
   "cell_type": "code",
   "execution_count": 18,
   "id": "5d083bcc",
   "metadata": {},
   "outputs": [],
   "source": [
    "def test1(func):\n",
    "    def test2():\n",
    "        print(\"I am in test 2\")\n",
    "        func()\n",
    "        print(func())\n",
    "        print(\"function executed\")\n",
    "        return func()\n",
    "    return test2"
   ]
  },
  {
   "cell_type": "code",
   "execution_count": 19,
   "id": "ffc40d57",
   "metadata": {},
   "outputs": [],
   "source": [
    "@test1\n",
    "def test4():\n",
    "    return 5+6"
   ]
  },
  {
   "cell_type": "code",
   "execution_count": 20,
   "id": "8808bbc3",
   "metadata": {},
   "outputs": [
    {
     "name": "stdout",
     "output_type": "stream",
     "text": [
      "I am in test 2\n",
      "11\n",
      "function executed\n"
     ]
    },
    {
     "data": {
      "text/plain": [
       "11"
      ]
     },
     "execution_count": 20,
     "metadata": {},
     "output_type": "execute_result"
    }
   ],
   "source": [
    "test4()"
   ]
  },
  {
   "cell_type": "code",
   "execution_count": 21,
   "id": "af6642d8",
   "metadata": {},
   "outputs": [
    {
     "name": "stdout",
     "output_type": "stream",
     "text": [
      "I am in test 2\n",
      "11\n",
      "function executed\n"
     ]
    },
    {
     "data": {
      "text/plain": [
       "int"
      ]
     },
     "execution_count": 21,
     "metadata": {},
     "output_type": "execute_result"
    }
   ],
   "source": [
    "type(test4())"
   ]
  },
  {
   "cell_type": "code",
   "execution_count": 22,
   "id": "ac1a386e",
   "metadata": {},
   "outputs": [
    {
     "name": "stdout",
     "output_type": "stream",
     "text": [
      "I am in test 2\n",
      "11\n",
      "function executed\n"
     ]
    },
    {
     "data": {
      "text/plain": [
       "67"
      ]
     },
     "execution_count": 22,
     "metadata": {},
     "output_type": "execute_result"
    }
   ],
   "source": [
    "test4() + 56"
   ]
  },
  {
   "cell_type": "code",
   "execution_count": 23,
   "id": "adefc882",
   "metadata": {},
   "outputs": [],
   "source": [
    "def test6(func):\n",
    "    def test7():\n",
    "        print(\"I am in test 6\")\n",
    "        func()\n",
    "        print(func())\n",
    "        print(\"function executed\")\n",
    "        return func()\n",
    "    return test7"
   ]
  },
  {
   "cell_type": "code",
   "execution_count": 26,
   "id": "dff5f4b1",
   "metadata": {},
   "outputs": [],
   "source": [
    "\n",
    "def test8():\n",
    "    return 8+9"
   ]
  },
  {
   "cell_type": "code",
   "execution_count": 27,
   "id": "e84c64d1",
   "metadata": {},
   "outputs": [
    {
     "data": {
      "text/plain": [
       "17"
      ]
     },
     "execution_count": 27,
     "metadata": {},
     "output_type": "execute_result"
    }
   ],
   "source": [
    "test8()"
   ]
  },
  {
   "cell_type": "code",
   "execution_count": 32,
   "id": "0c7eb732",
   "metadata": {},
   "outputs": [],
   "source": [
    "def test8(a,b):\n",
    "    return a+b"
   ]
  },
  {
   "cell_type": "code",
   "execution_count": 33,
   "id": "eeb38d8f",
   "metadata": {},
   "outputs": [
    {
     "ename": "TypeError",
     "evalue": "test8() missing 2 required positional arguments: 'a' and 'b'",
     "output_type": "error",
     "traceback": [
      "\u001b[0;31m---------------------------------------------------------------------------\u001b[0m",
      "\u001b[0;31mTypeError\u001b[0m                                 Traceback (most recent call last)",
      "Input \u001b[0;32mIn [33]\u001b[0m, in \u001b[0;36m<cell line: 1>\u001b[0;34m()\u001b[0m\n\u001b[0;32m----> 1\u001b[0m \u001b[43mtest8\u001b[49m\u001b[43m(\u001b[49m\u001b[43m)\u001b[49m\n",
      "\u001b[0;31mTypeError\u001b[0m: test8() missing 2 required positional arguments: 'a' and 'b'"
     ]
    }
   ],
   "source": [
    "test8()"
   ]
  },
  {
   "cell_type": "code",
   "execution_count": 34,
   "id": "5c3cdb3a",
   "metadata": {},
   "outputs": [
    {
     "data": {
      "text/plain": [
       "16"
      ]
     },
     "execution_count": 34,
     "metadata": {},
     "output_type": "execute_result"
    }
   ],
   "source": [
    "test8(7,9)"
   ]
  },
  {
   "cell_type": "code",
   "execution_count": 35,
   "id": "e136326a",
   "metadata": {},
   "outputs": [],
   "source": [
    "@test6\n",
    "def test8(a,b):\n",
    "    return a+b"
   ]
  },
  {
   "cell_type": "code",
   "execution_count": 36,
   "id": "68d52e12",
   "metadata": {},
   "outputs": [
    {
     "ename": "TypeError",
     "evalue": "test7() takes 0 positional arguments but 2 were given",
     "output_type": "error",
     "traceback": [
      "\u001b[0;31m---------------------------------------------------------------------------\u001b[0m",
      "\u001b[0;31mTypeError\u001b[0m                                 Traceback (most recent call last)",
      "Input \u001b[0;32mIn [36]\u001b[0m, in \u001b[0;36m<cell line: 1>\u001b[0;34m()\u001b[0m\n\u001b[0;32m----> 1\u001b[0m \u001b[43mtest8\u001b[49m\u001b[43m(\u001b[49m\u001b[38;5;241;43m6\u001b[39;49m\u001b[43m,\u001b[49m\u001b[38;5;241;43m6\u001b[39;49m\u001b[43m)\u001b[49m\n",
      "\u001b[0;31mTypeError\u001b[0m: test7() takes 0 positional arguments but 2 were given"
     ]
    }
   ],
   "source": [
    "test8(6,6)"
   ]
  },
  {
   "cell_type": "code",
   "execution_count": 43,
   "id": "6cfaa580",
   "metadata": {},
   "outputs": [],
   "source": [
    "def test6(func):\n",
    "    def test7(a,b):\n",
    "        print(\"I am in test 6\")\n",
    "        func(a,b)\n",
    "        print(func(a,b))\n",
    "        print(\"function executed\")\n",
    "        return func(a,b)\n",
    "    return test7"
   ]
  },
  {
   "cell_type": "code",
   "execution_count": 44,
   "id": "d14b1844",
   "metadata": {},
   "outputs": [],
   "source": [
    "@test6\n",
    "def test8(a,b):\n",
    "    return a+b"
   ]
  },
  {
   "cell_type": "code",
   "execution_count": 45,
   "id": "da5c3383",
   "metadata": {},
   "outputs": [
    {
     "name": "stdout",
     "output_type": "stream",
     "text": [
      "I am in test 6\n",
      "12\n",
      "function executed\n"
     ]
    },
    {
     "data": {
      "text/plain": [
       "12"
      ]
     },
     "execution_count": 45,
     "metadata": {},
     "output_type": "execute_result"
    }
   ],
   "source": [
    "test8(6,6)"
   ]
  },
  {
   "cell_type": "code",
   "execution_count": 46,
   "id": "3a8e7f23",
   "metadata": {},
   "outputs": [],
   "source": [
    "def test6(func):\n",
    "    def test7(*args):\n",
    "        print(\"I am in test 6\")\n",
    "        func(*args)\n",
    "        print(func(*args))\n",
    "        print(\"function executed\")\n",
    "        return func(*args)\n",
    "    return test7"
   ]
  },
  {
   "cell_type": "code",
   "execution_count": 47,
   "id": "cfa9806f",
   "metadata": {},
   "outputs": [],
   "source": [
    "@test6\n",
    "def test8(a,b,c):\n",
    "    return a+b+c"
   ]
  },
  {
   "cell_type": "code",
   "execution_count": 48,
   "id": "1750a84c",
   "metadata": {},
   "outputs": [
    {
     "name": "stdout",
     "output_type": "stream",
     "text": [
      "I am in test 6\n",
      "27\n",
      "function executed\n"
     ]
    },
    {
     "data": {
      "text/plain": [
       "27"
      ]
     },
     "execution_count": 48,
     "metadata": {},
     "output_type": "execute_result"
    }
   ],
   "source": [
    "test8(8,9,10)"
   ]
  },
  {
   "cell_type": "code",
   "execution_count": 49,
   "id": "b2b6aaf3",
   "metadata": {},
   "outputs": [],
   "source": [
    "@test6\n",
    "def test9(**kwargs):\n",
    "    return kwargs"
   ]
  },
  {
   "cell_type": "code",
   "execution_count": 50,
   "id": "f1d66409",
   "metadata": {},
   "outputs": [
    {
     "ename": "TypeError",
     "evalue": "test7() got an unexpected keyword argument 'a'",
     "output_type": "error",
     "traceback": [
      "\u001b[0;31m---------------------------------------------------------------------------\u001b[0m",
      "\u001b[0;31mTypeError\u001b[0m                                 Traceback (most recent call last)",
      "Input \u001b[0;32mIn [50]\u001b[0m, in \u001b[0;36m<cell line: 1>\u001b[0;34m()\u001b[0m\n\u001b[0;32m----> 1\u001b[0m \u001b[43mtest9\u001b[49m\u001b[43m(\u001b[49m\u001b[43ma\u001b[49m\u001b[38;5;241;43m=\u001b[39;49m\u001b[38;5;241;43m2\u001b[39;49m\u001b[43m,\u001b[49m\u001b[43mb\u001b[49m\u001b[38;5;241;43m=\u001b[39;49m\u001b[38;5;241;43m2\u001b[39;49m\u001b[43m)\u001b[49m\n",
      "\u001b[0;31mTypeError\u001b[0m: test7() got an unexpected keyword argument 'a'"
     ]
    }
   ],
   "source": [
    "test9(a=2,b=2)"
   ]
  },
  {
   "cell_type": "code",
   "execution_count": 51,
   "id": "92fcd331",
   "metadata": {},
   "outputs": [],
   "source": [
    "def test6(func):\n",
    "    def test7(*args,**kwargs):\n",
    "        print(\"I am in test 6\")\n",
    "        func(*args,**kwargs)\n",
    "        print(func(*args,**kwargs))\n",
    "        print(\"function executed\")\n",
    "        return func(*args,**kwargs)\n",
    "    return test7"
   ]
  },
  {
   "cell_type": "code",
   "execution_count": 52,
   "id": "737ee5a2",
   "metadata": {},
   "outputs": [],
   "source": [
    "@test6\n",
    "def test9(**kwargs):\n",
    "    return kwargs"
   ]
  },
  {
   "cell_type": "code",
   "execution_count": 53,
   "id": "b3784538",
   "metadata": {},
   "outputs": [
    {
     "name": "stdout",
     "output_type": "stream",
     "text": [
      "I am in test 6\n",
      "{'a': 2, 'b': 2}\n",
      "function executed\n"
     ]
    },
    {
     "data": {
      "text/plain": [
       "{'a': 2, 'b': 2}"
      ]
     },
     "execution_count": 53,
     "metadata": {},
     "output_type": "execute_result"
    }
   ],
   "source": [
    "test9(a=2,b=2)"
   ]
  },
  {
   "cell_type": "code",
   "execution_count": 55,
   "id": "7d2fdae8",
   "metadata": {},
   "outputs": [
    {
     "name": "stdout",
     "output_type": "stream",
     "text": [
      "I am in test 6\n",
      "{'a': 6, 'b': 8, 'c': 9}\n",
      "function executed\n"
     ]
    },
    {
     "data": {
      "text/plain": [
       "{'a': 6, 'b': 8, 'c': 9}"
      ]
     },
     "execution_count": 55,
     "metadata": {},
     "output_type": "execute_result"
    }
   ],
   "source": [
    "test9(a=6,b=8,c=9)"
   ]
  },
  {
   "cell_type": "code",
   "execution_count": 56,
   "id": "62fd17d2",
   "metadata": {},
   "outputs": [],
   "source": [
    "@test6\n",
    "def test8(a,b,c):\n",
    "    return a+b+c"
   ]
  },
  {
   "cell_type": "code",
   "execution_count": 57,
   "id": "95155603",
   "metadata": {},
   "outputs": [
    {
     "name": "stdout",
     "output_type": "stream",
     "text": [
      "I am in test 6\n",
      "24\n",
      "function executed\n"
     ]
    },
    {
     "data": {
      "text/plain": [
       "24"
      ]
     },
     "execution_count": 57,
     "metadata": {},
     "output_type": "execute_result"
    }
   ],
   "source": [
    "test8(7,8,9)"
   ]
  },
  {
   "cell_type": "markdown",
   "id": "d8314b55",
   "metadata": {},
   "source": [
    "# lambda functions\n",
    "\n",
    "<lambda> : anonymnous"
   ]
  },
  {
   "cell_type": "code",
   "execution_count": 58,
   "id": "f9d04422",
   "metadata": {},
   "outputs": [],
   "source": [
    "def test10(a,b):\n",
    "    return a+b"
   ]
  },
  {
   "cell_type": "code",
   "execution_count": 59,
   "id": "03e94bcb",
   "metadata": {},
   "outputs": [
    {
     "data": {
      "text/plain": [
       "97"
      ]
     },
     "execution_count": 59,
     "metadata": {},
     "output_type": "execute_result"
    }
   ],
   "source": [
    "test10(8,89)"
   ]
  },
  {
   "cell_type": "code",
   "execution_count": 60,
   "id": "1e5915c6",
   "metadata": {},
   "outputs": [
    {
     "data": {
      "text/plain": [
       "<function __main__.<lambda>(a, b)>"
      ]
     },
     "execution_count": 60,
     "metadata": {},
     "output_type": "execute_result"
    }
   ],
   "source": [
    "lambda a,b : a+b"
   ]
  },
  {
   "cell_type": "code",
   "execution_count": 61,
   "id": "94d106fa",
   "metadata": {},
   "outputs": [
    {
     "data": {
      "text/plain": [
       "<function __main__.test10(a, b)>"
      ]
     },
     "execution_count": 61,
     "metadata": {},
     "output_type": "execute_result"
    }
   ],
   "source": [
    "test10"
   ]
  },
  {
   "cell_type": "code",
   "execution_count": 62,
   "id": "8fef4f24",
   "metadata": {},
   "outputs": [],
   "source": [
    "#storing function inside a variable\n",
    "c = lambda a,b : a+b"
   ]
  },
  {
   "cell_type": "code",
   "execution_count": 64,
   "id": "4ccf070e",
   "metadata": {},
   "outputs": [
    {
     "data": {
      "text/plain": [
       "'atul sharma'"
      ]
     },
     "execution_count": 64,
     "metadata": {},
     "output_type": "execute_result"
    }
   ],
   "source": [
    "c(\"atul \", \"sharma\")"
   ]
  },
  {
   "cell_type": "code",
   "execution_count": 65,
   "id": "db0a4267",
   "metadata": {},
   "outputs": [],
   "source": [
    "d = lambda a,b,c: a*b+c"
   ]
  },
  {
   "cell_type": "code",
   "execution_count": 67,
   "id": "6d7cf863",
   "metadata": {},
   "outputs": [
    {
     "data": {
      "text/plain": [
       "13"
      ]
     },
     "execution_count": 67,
     "metadata": {},
     "output_type": "execute_result"
    }
   ],
   "source": [
    "d(2,2,9)"
   ]
  },
  {
   "cell_type": "code",
   "execution_count": 68,
   "id": "d8ad36e5",
   "metadata": {},
   "outputs": [],
   "source": [
    "e = lambda *args: args"
   ]
  },
  {
   "cell_type": "code",
   "execution_count": 69,
   "id": "6bcba147",
   "metadata": {},
   "outputs": [
    {
     "data": {
      "text/plain": [
       "()"
      ]
     },
     "execution_count": 69,
     "metadata": {},
     "output_type": "execute_result"
    }
   ],
   "source": [
    "e()"
   ]
  },
  {
   "cell_type": "code",
   "execution_count": 70,
   "id": "83b93a33",
   "metadata": {},
   "outputs": [
    {
     "data": {
      "text/plain": [
       "(2, 3)"
      ]
     },
     "execution_count": 70,
     "metadata": {},
     "output_type": "execute_result"
    }
   ],
   "source": [
    "e(2,3)"
   ]
  },
  {
   "cell_type": "markdown",
   "id": "f4bad185",
   "metadata": {},
   "source": [
    "# Map Reduce Filter"
   ]
  },
  {
   "cell_type": "code",
   "execution_count": 71,
   "id": "e363b487",
   "metadata": {},
   "outputs": [],
   "source": [
    "l = [1,2,3,4,5,6,7,8]\n",
    "\n",
    "# if every element of list add 10"
   ]
  },
  {
   "cell_type": "code",
   "execution_count": 72,
   "id": "d32cd90f",
   "metadata": {},
   "outputs": [
    {
     "data": {
      "text/plain": [
       "[11, 12, 13, 14, 15, 16, 17, 18]"
      ]
     },
     "execution_count": 72,
     "metadata": {},
     "output_type": "execute_result"
    }
   ],
   "source": [
    "l1=[]\n",
    "for i in l:\n",
    "    l1.append(i+10)\n",
    "l1\n",
    "    "
   ]
  },
  {
   "cell_type": "raw",
   "id": "de239d62",
   "metadata": {},
   "source": [
    "map()\n",
    "\n",
    "Init signature: map(self, /, *args, **kwargs)\n",
    "Docstring:     \n",
    "map(func, *iterables) --> map object\n",
    "\n",
    "Make an iterator that computes the function using arguments from\n",
    "each of the iterables.  Stops when the shortest iterable is exhausted.\n",
    "Type:           type\n",
    "Subclasses:     "
   ]
  },
  {
   "cell_type": "code",
   "execution_count": 73,
   "id": "b11f6f25",
   "metadata": {},
   "outputs": [],
   "source": [
    "def test14(a):\n",
    "    return a+10"
   ]
  },
  {
   "cell_type": "code",
   "execution_count": 78,
   "id": "ce3040ad",
   "metadata": {},
   "outputs": [
    {
     "data": {
      "text/plain": [
       "<map at 0x7fd4594b43d0>"
      ]
     },
     "execution_count": 78,
     "metadata": {},
     "output_type": "execute_result"
    }
   ],
   "source": [
    "map(test14,l)"
   ]
  },
  {
   "cell_type": "code",
   "execution_count": 79,
   "id": "47e954e2",
   "metadata": {},
   "outputs": [
    {
     "data": {
      "text/plain": [
       "[11, 12, 13, 14, 15, 16, 17, 18]"
      ]
     },
     "execution_count": 79,
     "metadata": {},
     "output_type": "execute_result"
    }
   ],
   "source": [
    "list(map(test14,l))"
   ]
  },
  {
   "cell_type": "code",
   "execution_count": 80,
   "id": "3e51780d",
   "metadata": {},
   "outputs": [
    {
     "data": {
      "text/plain": [
       "[11, 12, 13, 14, 15, 16, 17, 18]"
      ]
     },
     "execution_count": 80,
     "metadata": {},
     "output_type": "execute_result"
    }
   ],
   "source": [
    "list(map(lambda a:a+10, l))"
   ]
  },
  {
   "cell_type": "code",
   "execution_count": 81,
   "id": "5f5de97f",
   "metadata": {},
   "outputs": [
    {
     "data": {
      "text/plain": [
       "[11, 12, 13, 14, 15, 16, 17, 18]"
      ]
     },
     "execution_count": 81,
     "metadata": {},
     "output_type": "execute_result"
    }
   ],
   "source": [
    "n = lambda a: a+10\n",
    "\n",
    "list(map(n,l))"
   ]
  },
  {
   "cell_type": "code",
   "execution_count": 82,
   "id": "708beef7",
   "metadata": {},
   "outputs": [
    {
     "data": {
      "text/plain": [
       "['ATUL', 'KUMAR', 'SHARMA']"
      ]
     },
     "execution_count": 82,
     "metadata": {},
     "output_type": "execute_result"
    }
   ],
   "source": [
    "l2 =[\"atul\",\"kumar\",\"sharma\"]\n",
    "\n",
    "n = lambda a : a.upper()\n",
    "\n",
    "list(map(n,l2))"
   ]
  },
  {
   "cell_type": "code",
   "execution_count": 87,
   "id": "bb5d2d20",
   "metadata": {},
   "outputs": [
    {
     "data": {
      "text/plain": [
       "[4, 5, 6]"
      ]
     },
     "execution_count": 87,
     "metadata": {},
     "output_type": "execute_result"
    }
   ],
   "source": [
    "#getting length of all the varaible in list\n",
    "l2 =[\"atul\",\"kumar\",\"sharma\"]\n",
    "\n",
    "list(map(len,l2))"
   ]
  },
  {
   "cell_type": "code",
   "execution_count": 88,
   "id": "4aded9b3",
   "metadata": {},
   "outputs": [
    {
     "data": {
      "text/plain": [
       "[4, 5, 6]"
      ]
     },
     "execution_count": 88,
     "metadata": {},
     "output_type": "execute_result"
    }
   ],
   "source": [
    "l2 =[\"atul\",\"kumar\",\"sharma\"]\n",
    "\n",
    "n = lambda a : len(a)\n",
    "\n",
    "list(map(n,l2))"
   ]
  },
  {
   "cell_type": "code",
   "execution_count": 89,
   "id": "58a3b763",
   "metadata": {},
   "outputs": [],
   "source": [
    "def test23(a):\n",
    "    return len(a)"
   ]
  },
  {
   "cell_type": "code",
   "execution_count": 90,
   "id": "32a83736",
   "metadata": {},
   "outputs": [
    {
     "data": {
      "text/plain": [
       "[4, 5, 6]"
      ]
     },
     "execution_count": 90,
     "metadata": {},
     "output_type": "execute_result"
    }
   ],
   "source": [
    "list(map(test23,l2))"
   ]
  },
  {
   "cell_type": "markdown",
   "id": "2e067e96",
   "metadata": {},
   "source": [
    "# filter function"
   ]
  },
  {
   "cell_type": "raw",
   "id": "00aadb7a",
   "metadata": {},
   "source": [
    "filter()\n",
    "\n",
    "Init signature: filter(self, /, *args, **kwargs)\n",
    "Docstring:     \n",
    "filter(function or None, iterable) --> filter object\n",
    "\n",
    "Return an iterator yielding those items of iterable for which function(item)\n",
    "is true. If function is None, return the items that are true.\n",
    "Type:           type\n",
    "Subclasses:     "
   ]
  },
  {
   "cell_type": "code",
   "execution_count": 99,
   "id": "ea6918fa",
   "metadata": {},
   "outputs": [],
   "source": [
    "l =[1,2,3,4,5,6,7,8]\n",
    "\n",
    "# find even numbers\n",
    "l1=[]\n",
    "for i in l:\n",
    "    if i%2==0:\n",
    "        l1.append(i)"
   ]
  },
  {
   "cell_type": "code",
   "execution_count": 100,
   "id": "5eae730f",
   "metadata": {},
   "outputs": [
    {
     "data": {
      "text/plain": [
       "[2, 4, 6, 8]"
      ]
     },
     "execution_count": 100,
     "metadata": {},
     "output_type": "execute_result"
    }
   ],
   "source": [
    "l1"
   ]
  },
  {
   "cell_type": "code",
   "execution_count": 101,
   "id": "5f10ce11",
   "metadata": {},
   "outputs": [
    {
     "data": {
      "text/plain": [
       "[2, 4, 6, 8]"
      ]
     },
     "execution_count": 101,
     "metadata": {},
     "output_type": "execute_result"
    }
   ],
   "source": [
    "[i for i in l if i%2 ==0]"
   ]
  },
  {
   "cell_type": "code",
   "execution_count": 107,
   "id": "9659f76d",
   "metadata": {},
   "outputs": [],
   "source": [
    "def test24(l):\n",
    "    l2=[]\n",
    "    if type(l) == list:\n",
    "        for i in l:\n",
    "            if i%2 ==0:\n",
    "                l2.append(i)\n",
    "    return l2"
   ]
  },
  {
   "cell_type": "code",
   "execution_count": 108,
   "id": "3ae18696",
   "metadata": {},
   "outputs": [
    {
     "data": {
      "text/plain": [
       "[2, 4, 6, 8]"
      ]
     },
     "execution_count": 108,
     "metadata": {},
     "output_type": "execute_result"
    }
   ],
   "source": [
    "l =[1,2,3,4,5,6,7,8]\n",
    "\n",
    "test24(l)"
   ]
  },
  {
   "cell_type": "code",
   "execution_count": 109,
   "id": "58aea02a",
   "metadata": {},
   "outputs": [],
   "source": [
    "a = lambda a : a if a%2 ==0 else None"
   ]
  },
  {
   "cell_type": "code",
   "execution_count": 110,
   "id": "3bf69aeb",
   "metadata": {},
   "outputs": [
    {
     "data": {
      "text/plain": [
       "[None, 2, None, 4, None, 6, None, 8]"
      ]
     },
     "execution_count": 110,
     "metadata": {},
     "output_type": "execute_result"
    }
   ],
   "source": [
    "list(map(a,l))"
   ]
  },
  {
   "cell_type": "code",
   "execution_count": 111,
   "id": "4763ba03",
   "metadata": {},
   "outputs": [
    {
     "ename": "SyntaxError",
     "evalue": "invalid syntax (3675881157.py, line 1)",
     "output_type": "error",
     "traceback": [
      "\u001b[0;36m  Input \u001b[0;32mIn [111]\u001b[0;36m\u001b[0m\n\u001b[0;31m    a = lambda a : a if a%2 ==0\u001b[0m\n\u001b[0m                               ^\u001b[0m\n\u001b[0;31mSyntaxError\u001b[0m\u001b[0;31m:\u001b[0m invalid syntax\n"
     ]
    }
   ],
   "source": [
    "a = lambda a : a if a%2 ==0"
   ]
  },
  {
   "cell_type": "code",
   "execution_count": 113,
   "id": "f56b53ca",
   "metadata": {},
   "outputs": [
    {
     "data": {
      "text/plain": [
       "[2, 4, 6, 8]"
      ]
     },
     "execution_count": 113,
     "metadata": {},
     "output_type": "execute_result"
    }
   ],
   "source": [
    "list(filter(a,l))\n",
    "\n",
    "#filter condition works on True or False"
   ]
  },
  {
   "cell_type": "code",
   "execution_count": 117,
   "id": "f03afdb7",
   "metadata": {},
   "outputs": [],
   "source": [
    "def test25(a):\n",
    "    if a%2==0:\n",
    "        return True\n",
    "    else:\n",
    "        return False"
   ]
  },
  {
   "cell_type": "code",
   "execution_count": 118,
   "id": "712d7167",
   "metadata": {},
   "outputs": [
    {
     "data": {
      "text/plain": [
       "True"
      ]
     },
     "execution_count": 118,
     "metadata": {},
     "output_type": "execute_result"
    }
   ],
   "source": [
    "test25(32)"
   ]
  },
  {
   "cell_type": "code",
   "execution_count": 119,
   "id": "a2c5d388",
   "metadata": {},
   "outputs": [
    {
     "data": {
      "text/plain": [
       "False"
      ]
     },
     "execution_count": 119,
     "metadata": {},
     "output_type": "execute_result"
    }
   ],
   "source": [
    "test25(33)"
   ]
  },
  {
   "cell_type": "code",
   "execution_count": 120,
   "id": "c863a73e",
   "metadata": {},
   "outputs": [
    {
     "data": {
      "text/plain": [
       "[1, 2, 3, 4, 5, 6, 7, 8]"
      ]
     },
     "execution_count": 120,
     "metadata": {},
     "output_type": "execute_result"
    }
   ],
   "source": [
    "l"
   ]
  },
  {
   "cell_type": "code",
   "execution_count": 121,
   "id": "1ff92169",
   "metadata": {},
   "outputs": [
    {
     "data": {
      "text/plain": [
       "[2, 4, 6, 8]"
      ]
     },
     "execution_count": 121,
     "metadata": {},
     "output_type": "execute_result"
    }
   ],
   "source": [
    "list(filter(test25,l))"
   ]
  },
  {
   "cell_type": "code",
   "execution_count": 122,
   "id": "6a89a416",
   "metadata": {},
   "outputs": [],
   "source": [
    "def test26(a):\n",
    "    if a%2==0:\n",
    "        return False\n",
    "    else:\n",
    "        return True"
   ]
  },
  {
   "cell_type": "code",
   "execution_count": 123,
   "id": "370d70ce",
   "metadata": {},
   "outputs": [
    {
     "data": {
      "text/plain": [
       "[1, 3, 5, 7]"
      ]
     },
     "execution_count": 123,
     "metadata": {},
     "output_type": "execute_result"
    }
   ],
   "source": [
    "list(filter(test26,l))"
   ]
  },
  {
   "cell_type": "code",
   "execution_count": 124,
   "id": "f3569d6f",
   "metadata": {},
   "outputs": [
    {
     "data": {
      "text/plain": [
       "36"
      ]
     },
     "execution_count": 124,
     "metadata": {},
     "output_type": "execute_result"
    }
   ],
   "source": [
    "sum(l)"
   ]
  },
  {
   "cell_type": "markdown",
   "id": "e3cde82b",
   "metadata": {},
   "source": [
    "# Reduce Functions"
   ]
  },
  {
   "cell_type": "code",
   "execution_count": 126,
   "id": "de9a310f",
   "metadata": {},
   "outputs": [],
   "source": [
    "from functools import reduce"
   ]
  },
  {
   "cell_type": "code",
   "execution_count": 128,
   "id": "3a96cef5",
   "metadata": {},
   "outputs": [
    {
     "data": {
      "text/plain": [
       "40320"
      ]
     },
     "execution_count": 128,
     "metadata": {},
     "output_type": "execute_result"
    }
   ],
   "source": [
    "reduce(lambda a,b: a*b,l)"
   ]
  },
  {
   "cell_type": "code",
   "execution_count": 130,
   "id": "22116d06",
   "metadata": {},
   "outputs": [
    {
     "ename": "TypeError",
     "evalue": "<lambda>() missing 1 required positional argument: 'c'",
     "output_type": "error",
     "traceback": [
      "\u001b[0;31m---------------------------------------------------------------------------\u001b[0m",
      "\u001b[0;31mTypeError\u001b[0m                                 Traceback (most recent call last)",
      "Input \u001b[0;32mIn [130]\u001b[0m, in \u001b[0;36m<cell line: 1>\u001b[0;34m()\u001b[0m\n\u001b[0;32m----> 1\u001b[0m \u001b[43mreduce\u001b[49m\u001b[43m(\u001b[49m\u001b[38;5;28;43;01mlambda\u001b[39;49;00m\u001b[43m \u001b[49m\u001b[43ma\u001b[49m\u001b[43m,\u001b[49m\u001b[43mb\u001b[49m\u001b[43m,\u001b[49m\u001b[43mc\u001b[49m\u001b[43m:\u001b[49m\u001b[43m \u001b[49m\u001b[43ma\u001b[49m\u001b[38;5;241;43m*\u001b[39;49m\u001b[43mb\u001b[49m\u001b[38;5;241;43m*\u001b[39;49m\u001b[43mc\u001b[49m\u001b[43m,\u001b[49m\u001b[43ml\u001b[49m\u001b[43m)\u001b[49m\n",
      "\u001b[0;31mTypeError\u001b[0m: <lambda>() missing 1 required positional argument: 'c'"
     ]
    }
   ],
   "source": [
    "reduce(lambda a,b,c: a*b*c,l)\n",
    "\n",
    "#it failed becuase it will not be able to find cth element in the 4th iteration\n",
    "\n",
    "#WHENEVER YOU ARE PASSING ANY FUNCTION IN REDUCE, it shuld only take only 2 arguments"
   ]
  },
  {
   "cell_type": "code",
   "execution_count": 131,
   "id": "8f22a2f5",
   "metadata": {},
   "outputs": [
    {
     "data": {
      "text/plain": [
       "[1, 2, 3, 4, 5, 6, 7, 8]"
      ]
     },
     "execution_count": 131,
     "metadata": {},
     "output_type": "execute_result"
    }
   ],
   "source": [
    "l"
   ]
  },
  {
   "cell_type": "code",
   "execution_count": 132,
   "id": "90c374bd",
   "metadata": {},
   "outputs": [],
   "source": [
    "l1 =[3]"
   ]
  },
  {
   "cell_type": "code",
   "execution_count": 134,
   "id": "abf17c22",
   "metadata": {},
   "outputs": [
    {
     "data": {
      "text/plain": [
       "3"
      ]
     },
     "execution_count": 134,
     "metadata": {},
     "output_type": "execute_result"
    }
   ],
   "source": [
    "reduce(lambda a,b: a*b,l1)\n",
    "\n",
    "#if you pass only one element in reduce then it will return the same element\n",
    "# this is the only exception in lambda function"
   ]
  },
  {
   "cell_type": "code",
   "execution_count": 135,
   "id": "8d861dbe",
   "metadata": {},
   "outputs": [],
   "source": [
    "def test26():\n",
    "    \"\"\"\n",
    "    This is my docstring to give help to next programmer\n",
    "    \"\"\"\n",
    "    return \"this is my func\""
   ]
  },
  {
   "cell_type": "raw",
   "id": "7e7267d1",
   "metadata": {},
   "source": [
    "test26()\n",
    "\n",
    "Signature: test26()\n",
    "Docstring: This is my docstring to give help to next programmer\n",
    "File:      /var/folders/5n/plkx587s0kj_92g0r6z1vvq40000gn/T/ipykernel_75533/1317442282.py\n",
    "Type:      function"
   ]
  },
  {
   "cell_type": "code",
   "execution_count": 138,
   "id": "5d628ae8",
   "metadata": {},
   "outputs": [],
   "source": [
    "def test26()-> int:\n",
    "    \"\"\"\n",
    "    This is my docstring to give help to next programmer\n",
    "    \"\"\"\n",
    "    return \"this is my func\"\n",
    "\n",
    "#int is not a return type of function here\n",
    "\n",
    "# -> int : This act as hint to programmer that you need to enter integer as input"
   ]
  },
  {
   "cell_type": "code",
   "execution_count": null,
   "id": "6dbd68ff",
   "metadata": {},
   "outputs": [],
   "source": [
    "test26()"
   ]
  },
  {
   "cell_type": "code",
   "execution_count": 139,
   "id": "7bca7eb3",
   "metadata": {},
   "outputs": [],
   "source": [
    "def test27(a,b)-> int:\n",
    "    \"\"\"\n",
    "    This is my docstring to give help to next programmer\n",
    "    \"\"\"\n",
    "    return a+b\n",
    "\n"
   ]
  },
  {
   "cell_type": "code",
   "execution_count": 140,
   "id": "327b582e",
   "metadata": {},
   "outputs": [
    {
     "data": {
      "text/plain": [
       "15"
      ]
     },
     "execution_count": 140,
     "metadata": {},
     "output_type": "execute_result"
    }
   ],
   "source": [
    "test27(7,8)"
   ]
  },
  {
   "cell_type": "code",
   "execution_count": 141,
   "id": "3a7f7ca5",
   "metadata": {},
   "outputs": [],
   "source": [
    "def test27(a:int,b)-> int:\n",
    "    \"\"\"\n",
    "    This is my docstring to give help to next programmer\n",
    "    \"\"\"\n",
    "    return a+b\n",
    "\n"
   ]
  },
  {
   "cell_type": "code",
   "execution_count": 142,
   "id": "ceb065a8",
   "metadata": {},
   "outputs": [
    {
     "data": {
      "text/plain": [
       "'atulkumar'"
      ]
     },
     "execution_count": 142,
     "metadata": {},
     "output_type": "execute_result"
    }
   ],
   "source": [
    "test27(\"atul\",\"kumar\")"
   ]
  },
  {
   "cell_type": "code",
   "execution_count": 143,
   "id": "ba0da395",
   "metadata": {},
   "outputs": [],
   "source": [
    "def test27(a:int,b:int=234)-> int:\n",
    "    \"\"\"\n",
    "    This is my docstring to give help to next programmer\n",
    "    \"\"\"\n",
    "    return a+b"
   ]
  },
  {
   "cell_type": "code",
   "execution_count": 144,
   "id": "8136daff",
   "metadata": {},
   "outputs": [
    {
     "data": {
      "text/plain": [
       "135"
      ]
     },
     "execution_count": 144,
     "metadata": {},
     "output_type": "execute_result"
    }
   ],
   "source": [
    "test27(45,90)"
   ]
  },
  {
   "cell_type": "code",
   "execution_count": 145,
   "id": "35555c08",
   "metadata": {},
   "outputs": [
    {
     "data": {
      "text/plain": [
       "279"
      ]
     },
     "execution_count": 145,
     "metadata": {},
     "output_type": "execute_result"
    }
   ],
   "source": [
    "test27(45)"
   ]
  },
  {
   "cell_type": "code",
   "execution_count": null,
   "id": "2faa78ef",
   "metadata": {},
   "outputs": [],
   "source": []
  }
 ],
 "metadata": {
  "kernelspec": {
   "display_name": "Python 3 (ipykernel)",
   "language": "python",
   "name": "python3"
  },
  "language_info": {
   "codemirror_mode": {
    "name": "ipython",
    "version": 3
   },
   "file_extension": ".py",
   "mimetype": "text/x-python",
   "name": "python",
   "nbconvert_exporter": "python",
   "pygments_lexer": "ipython3",
   "version": "3.8.3rc1"
  }
 },
 "nbformat": 4,
 "nbformat_minor": 5
}
