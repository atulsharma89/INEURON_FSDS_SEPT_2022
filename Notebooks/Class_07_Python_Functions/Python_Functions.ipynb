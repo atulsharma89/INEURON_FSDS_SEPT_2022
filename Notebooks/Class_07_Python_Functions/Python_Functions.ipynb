{
 "cells": [
  {
   "cell_type": "code",
   "execution_count": 1,
   "id": "fa593f7b",
   "metadata": {},
   "outputs": [
    {
     "data": {
      "text/plain": [
       "4"
      ]
     },
     "execution_count": 1,
     "metadata": {},
     "output_type": "execute_result"
    }
   ],
   "source": [
    "a = \"sudh\"\n",
    "\n",
    "len(a)\n",
    "\n",
    "#length is a function"
   ]
  },
  {
   "cell_type": "code",
   "execution_count": 2,
   "id": "7cb85e4d",
   "metadata": {},
   "outputs": [
    {
     "data": {
      "text/plain": [
       "7"
      ]
     },
     "execution_count": 2,
     "metadata": {},
     "output_type": "execute_result"
    }
   ],
   "source": [
    "a = [1,2,3,4,5,6,7]\n",
    "\n",
    "len(a)\n",
    "\n",
    "#reutilising a same function multiple times/scenario\n",
    "#FUNCTIONS ARE WRITTEN TO INCREASE REUABILITY OF CODE"
   ]
  },
  {
   "cell_type": "code",
   "execution_count": 4,
   "id": "654603fc",
   "metadata": {},
   "outputs": [
    {
     "ename": "SyntaxError",
     "evalue": "unexpected EOF while parsing (2690612609.py, line 2)",
     "output_type": "error",
     "traceback": [
      "\u001b[0;36m  Input \u001b[0;32mIn [4]\u001b[0;36m\u001b[0m\n\u001b[0;31m    \u001b[0m\n\u001b[0m    ^\u001b[0m\n\u001b[0;31mSyntaxError\u001b[0m\u001b[0;31m:\u001b[0m unexpected EOF while parsing\n"
     ]
    }
   ],
   "source": [
    "#when we don't define properties or task of this function\n",
    "def test():\n",
    "    "
   ]
  },
  {
   "cell_type": "code",
   "execution_count": 5,
   "id": "95a18aaf",
   "metadata": {},
   "outputs": [],
   "source": [
    "def test():\n",
    "    pass"
   ]
  },
  {
   "cell_type": "code",
   "execution_count": 6,
   "id": "c402f668",
   "metadata": {},
   "outputs": [],
   "source": [
    "def test1():\n",
    "    print(\"this is my first function\")\n"
   ]
  },
  {
   "cell_type": "code",
   "execution_count": 7,
   "id": "be46445c",
   "metadata": {},
   "outputs": [
    {
     "name": "stdout",
     "output_type": "stream",
     "text": [
      "this is my first function\n"
     ]
    }
   ],
   "source": [
    "test1()"
   ]
  },
  {
   "cell_type": "code",
   "execution_count": 8,
   "id": "c1620440",
   "metadata": {},
   "outputs": [
    {
     "name": "stdout",
     "output_type": "stream",
     "text": [
      "this is my first function\n"
     ]
    }
   ],
   "source": [
    "#STORING OUTCOME OF FUNCTION INTO VARIABLE\n",
    "\n",
    "b = test1()"
   ]
  },
  {
   "cell_type": "code",
   "execution_count": 10,
   "id": "df438158",
   "metadata": {},
   "outputs": [],
   "source": [
    "b\n",
    "\n",
    "#b is not storing any value here"
   ]
  },
  {
   "cell_type": "code",
   "execution_count": 13,
   "id": "a8d9c610",
   "metadata": {},
   "outputs": [
    {
     "name": "stdout",
     "output_type": "stream",
     "text": [
      "None\n",
      "<class 'NoneType'>\n"
     ]
    }
   ],
   "source": [
    "print(b)\n",
    "\n",
    "print(type(b))"
   ]
  },
  {
   "cell_type": "code",
   "execution_count": 12,
   "id": "1b156dda",
   "metadata": {},
   "outputs": [
    {
     "data": {
      "text/plain": [
       "str"
      ]
     },
     "execution_count": 12,
     "metadata": {},
     "output_type": "execute_result"
    }
   ],
   "source": [
    "c = \"kumar\"\n",
    "\n",
    "\n",
    "type(c)"
   ]
  },
  {
   "cell_type": "code",
   "execution_count": 14,
   "id": "fc821ecf",
   "metadata": {},
   "outputs": [
    {
     "name": "stdout",
     "output_type": "stream",
     "text": [
      "this is my first function\n"
     ]
    },
    {
     "data": {
      "text/plain": [
       "NoneType"
      ]
     },
     "execution_count": 14,
     "metadata": {},
     "output_type": "execute_result"
    }
   ],
   "source": [
    "type(test1())"
   ]
  },
  {
   "cell_type": "code",
   "execution_count": 15,
   "id": "f972ea73",
   "metadata": {},
   "outputs": [],
   "source": [
    "def test2():\n",
    "    return 5"
   ]
  },
  {
   "cell_type": "code",
   "execution_count": 16,
   "id": "66dd8c3a",
   "metadata": {},
   "outputs": [
    {
     "data": {
      "text/plain": [
       "5"
      ]
     },
     "execution_count": 16,
     "metadata": {},
     "output_type": "execute_result"
    }
   ],
   "source": [
    "test2()"
   ]
  },
  {
   "cell_type": "code",
   "execution_count": 17,
   "id": "cc7a55df",
   "metadata": {},
   "outputs": [],
   "source": [
    "d = test2()"
   ]
  },
  {
   "cell_type": "code",
   "execution_count": 18,
   "id": "d07a7f73",
   "metadata": {},
   "outputs": [
    {
     "data": {
      "text/plain": [
       "5"
      ]
     },
     "execution_count": 18,
     "metadata": {},
     "output_type": "execute_result"
    }
   ],
   "source": [
    "d"
   ]
  },
  {
   "cell_type": "code",
   "execution_count": 19,
   "id": "cfe9104d",
   "metadata": {},
   "outputs": [
    {
     "data": {
      "text/plain": [
       "int"
      ]
     },
     "execution_count": 19,
     "metadata": {},
     "output_type": "execute_result"
    }
   ],
   "source": [
    "type(d)"
   ]
  },
  {
   "cell_type": "code",
   "execution_count": 20,
   "id": "850c42b5",
   "metadata": {},
   "outputs": [],
   "source": [
    "#print always return none type"
   ]
  },
  {
   "cell_type": "code",
   "execution_count": 25,
   "id": "6c399092",
   "metadata": {},
   "outputs": [],
   "source": [
    "def test3():\n",
    "    return \"atul\""
   ]
  },
  {
   "cell_type": "code",
   "execution_count": 22,
   "id": "751285ad",
   "metadata": {},
   "outputs": [],
   "source": [
    "def test4():\n",
    "    print(\"hellow world\")"
   ]
  },
  {
   "cell_type": "code",
   "execution_count": 23,
   "id": "3f4420ad",
   "metadata": {},
   "outputs": [
    {
     "name": "stdout",
     "output_type": "stream",
     "text": [
      "hellow world\n"
     ]
    }
   ],
   "source": [
    "e = test4()"
   ]
  },
  {
   "cell_type": "code",
   "execution_count": 24,
   "id": "50d30667",
   "metadata": {},
   "outputs": [
    {
     "ename": "TypeError",
     "evalue": "unsupported operand type(s) for +: 'NoneType' and 'str'",
     "output_type": "error",
     "traceback": [
      "\u001b[0;31m---------------------------------------------------------------------------\u001b[0m",
      "\u001b[0;31mTypeError\u001b[0m                                 Traceback (most recent call last)",
      "Input \u001b[0;32mIn [24]\u001b[0m, in \u001b[0;36m<cell line: 1>\u001b[0;34m()\u001b[0m\n\u001b[0;32m----> 1\u001b[0m \u001b[43me\u001b[49m\u001b[43m \u001b[49m\u001b[38;5;241;43m+\u001b[39;49m\u001b[43m \u001b[49m\u001b[38;5;124;43m\"\u001b[39;49m\u001b[38;5;124;43matul\u001b[39;49m\u001b[38;5;124;43m\"\u001b[39;49m\n",
      "\u001b[0;31mTypeError\u001b[0m: unsupported operand type(s) for +: 'NoneType' and 'str'"
     ]
    }
   ],
   "source": [
    "e + \"atul\""
   ]
  },
  {
   "cell_type": "code",
   "execution_count": 26,
   "id": "67fbb78a",
   "metadata": {},
   "outputs": [],
   "source": [
    "f = test3() + \"pinku\""
   ]
  },
  {
   "cell_type": "code",
   "execution_count": 27,
   "id": "a4b0685f",
   "metadata": {},
   "outputs": [
    {
     "data": {
      "text/plain": [
       "'atulpinku'"
      ]
     },
     "execution_count": 27,
     "metadata": {},
     "output_type": "execute_result"
    }
   ],
   "source": [
    "f"
   ]
  },
  {
   "cell_type": "code",
   "execution_count": 28,
   "id": "ff0dab62",
   "metadata": {},
   "outputs": [],
   "source": [
    "#we cannot convert none type string in Python"
   ]
  },
  {
   "cell_type": "code",
   "execution_count": 29,
   "id": "e1cd39b0",
   "metadata": {},
   "outputs": [],
   "source": [
    "#return multiple elements\n",
    "\n",
    "def test5():\n",
    "    return 1,2,3,[1,2,2,3,4,'vv'], (3,43,5)"
   ]
  },
  {
   "cell_type": "code",
   "execution_count": 30,
   "id": "443a5337",
   "metadata": {},
   "outputs": [
    {
     "data": {
      "text/plain": [
       "(1, 2, 3, [1, 2, 2, 3, 4, 'vv'], (3, 43, 5))"
      ]
     },
     "execution_count": 30,
     "metadata": {},
     "output_type": "execute_result"
    }
   ],
   "source": [
    "test5()"
   ]
  },
  {
   "cell_type": "code",
   "execution_count": 32,
   "id": "b51cb9ae",
   "metadata": {},
   "outputs": [
    {
     "data": {
      "text/plain": [
       "tuple"
      ]
     },
     "execution_count": 32,
     "metadata": {},
     "output_type": "execute_result"
    }
   ],
   "source": [
    "type(test5())"
   ]
  },
  {
   "cell_type": "code",
   "execution_count": 35,
   "id": "a5a38bea",
   "metadata": {},
   "outputs": [
    {
     "data": {
      "text/plain": [
       "[1, 2, 2, 3, 4, 'vv']"
      ]
     },
     "execution_count": 35,
     "metadata": {},
     "output_type": "execute_result"
    }
   ],
   "source": [
    "#tuples are immutable\n",
    "#list are mutable\n",
    "\n",
    "test5()[3]"
   ]
  },
  {
   "cell_type": "code",
   "execution_count": 37,
   "id": "4abaa399",
   "metadata": {},
   "outputs": [],
   "source": [
    "a,b,c,d,e = test5()"
   ]
  },
  {
   "cell_type": "code",
   "execution_count": 38,
   "id": "a95bbf91",
   "metadata": {},
   "outputs": [
    {
     "data": {
      "text/plain": [
       "1"
      ]
     },
     "execution_count": 38,
     "metadata": {},
     "output_type": "execute_result"
    }
   ],
   "source": [
    "a"
   ]
  },
  {
   "cell_type": "code",
   "execution_count": 39,
   "id": "01f728f3",
   "metadata": {},
   "outputs": [
    {
     "data": {
      "text/plain": [
       "2"
      ]
     },
     "execution_count": 39,
     "metadata": {},
     "output_type": "execute_result"
    }
   ],
   "source": [
    "b"
   ]
  },
  {
   "cell_type": "code",
   "execution_count": 40,
   "id": "5ee7a7f4",
   "metadata": {},
   "outputs": [
    {
     "data": {
      "text/plain": [
       "3"
      ]
     },
     "execution_count": 40,
     "metadata": {},
     "output_type": "execute_result"
    }
   ],
   "source": [
    "c"
   ]
  },
  {
   "cell_type": "code",
   "execution_count": 41,
   "id": "714e07e7",
   "metadata": {},
   "outputs": [
    {
     "data": {
      "text/plain": [
       "[1, 2, 2, 3, 4, 'vv']"
      ]
     },
     "execution_count": 41,
     "metadata": {},
     "output_type": "execute_result"
    }
   ],
   "source": [
    "d"
   ]
  },
  {
   "cell_type": "code",
   "execution_count": 42,
   "id": "14471ef4",
   "metadata": {},
   "outputs": [],
   "source": [
    "def test8():\n",
    "    a = 7 + 8\n",
    "    return a"
   ]
  },
  {
   "cell_type": "code",
   "execution_count": 43,
   "id": "8490235f",
   "metadata": {},
   "outputs": [
    {
     "data": {
      "text/plain": [
       "15"
      ]
     },
     "execution_count": 43,
     "metadata": {},
     "output_type": "execute_result"
    }
   ],
   "source": [
    "test8()"
   ]
  },
  {
   "cell_type": "code",
   "execution_count": 44,
   "id": "c4622ef3",
   "metadata": {},
   "outputs": [
    {
     "data": {
      "text/plain": [
       "int"
      ]
     },
     "execution_count": 44,
     "metadata": {},
     "output_type": "execute_result"
    }
   ],
   "source": [
    "type(test8())"
   ]
  },
  {
   "cell_type": "code",
   "execution_count": 50,
   "id": "f0e209c1",
   "metadata": {},
   "outputs": [
    {
     "data": {
      "text/plain": [
       "55"
      ]
     },
     "execution_count": 50,
     "metadata": {},
     "output_type": "execute_result"
    }
   ],
   "source": [
    "l = [1,2,3,4,5,6,7,8,9,10]\n",
    "\n",
    "def mysum(l):\n",
    "    isum = 0\n",
    "    for i in l:\n",
    "        isum=isum+i\n",
    "    return isum \n",
    "\n",
    "mysum(l)"
   ]
  },
  {
   "cell_type": "code",
   "execution_count": 51,
   "id": "9240de0d",
   "metadata": {},
   "outputs": [
    {
     "data": {
      "text/plain": [
       "66"
      ]
     },
     "execution_count": 51,
     "metadata": {},
     "output_type": "execute_result"
    }
   ],
   "source": [
    "l = [1,2,3,4,5,6,7,8,9,10,11,\"atul\"]\n",
    "\n",
    "def mysum(l):\n",
    "    isum = 0\n",
    "    for i in l:\n",
    "        if type(i) == int:\n",
    "            isum=isum+i\n",
    "    return isum \n",
    "\n",
    "mysum(l)"
   ]
  },
  {
   "cell_type": "code",
   "execution_count": 54,
   "id": "7d6fa547",
   "metadata": {},
   "outputs": [
    {
     "data": {
      "text/plain": [
       "1033"
      ]
     },
     "execution_count": 54,
     "metadata": {},
     "output_type": "execute_result"
    }
   ],
   "source": [
    "l = [1,2,3,4,5,6,7,8,9,10,11,\"atul\",88,879,8.90]\n",
    "\n",
    "def mysum(l):\n",
    "    isum = 0\n",
    "    for i in l:\n",
    "        if type(i) == int:\n",
    "            isum=isum+i\n",
    "    return isum \n",
    "\n",
    "mysum(l)\n",
    "\n",
    "#8.90 is not added as its data type is float and it is skipped"
   ]
  },
  {
   "cell_type": "code",
   "execution_count": 55,
   "id": "44af94d1",
   "metadata": {},
   "outputs": [],
   "source": [
    "def test11(a,b):\n",
    "    return a + b"
   ]
  },
  {
   "cell_type": "code",
   "execution_count": 56,
   "id": "0fe103be",
   "metadata": {},
   "outputs": [
    {
     "data": {
      "text/plain": [
       "80"
      ]
     },
     "execution_count": 56,
     "metadata": {},
     "output_type": "execute_result"
    }
   ],
   "source": [
    "test11(13,67)"
   ]
  },
  {
   "cell_type": "code",
   "execution_count": 57,
   "id": "478b0d13",
   "metadata": {},
   "outputs": [
    {
     "data": {
      "text/plain": [
       "'atulkumar'"
      ]
     },
     "execution_count": 57,
     "metadata": {},
     "output_type": "execute_result"
    }
   ],
   "source": [
    "test11(\"atul\",\"kumar\")"
   ]
  },
  {
   "cell_type": "code",
   "execution_count": 58,
   "id": "b241784e",
   "metadata": {},
   "outputs": [
    {
     "data": {
      "text/plain": [
       "'atulkumar'"
      ]
     },
     "execution_count": 58,
     "metadata": {},
     "output_type": "execute_result"
    }
   ],
   "source": [
    "test11(a = \"atul\",b = \"kumar\")"
   ]
  },
  {
   "cell_type": "code",
   "execution_count": 59,
   "id": "85755815",
   "metadata": {},
   "outputs": [
    {
     "ename": "TypeError",
     "evalue": "test11() got an unexpected keyword argument 'c'",
     "output_type": "error",
     "traceback": [
      "\u001b[0;31m---------------------------------------------------------------------------\u001b[0m",
      "\u001b[0;31mTypeError\u001b[0m                                 Traceback (most recent call last)",
      "Input \u001b[0;32mIn [59]\u001b[0m, in \u001b[0;36m<cell line: 1>\u001b[0;34m()\u001b[0m\n\u001b[0;32m----> 1\u001b[0m \u001b[43mtest11\u001b[49m\u001b[43m(\u001b[49m\u001b[43ma\u001b[49m\u001b[43m \u001b[49m\u001b[38;5;241;43m=\u001b[39;49m\u001b[43m \u001b[49m\u001b[38;5;124;43m\"\u001b[39;49m\u001b[38;5;124;43matul\u001b[39;49m\u001b[38;5;124;43m\"\u001b[39;49m\u001b[43m,\u001b[49m\u001b[43mc\u001b[49m\u001b[43m \u001b[49m\u001b[38;5;241;43m=\u001b[39;49m\u001b[43m \u001b[49m\u001b[38;5;124;43m\"\u001b[39;49m\u001b[38;5;124;43mkumar\u001b[39;49m\u001b[38;5;124;43m\"\u001b[39;49m\u001b[43m)\u001b[49m\n",
      "\u001b[0;31mTypeError\u001b[0m: test11() got an unexpected keyword argument 'c'"
     ]
    }
   ],
   "source": [
    "test11(a = \"atul\",c = \"kumar\")"
   ]
  },
  {
   "cell_type": "code",
   "execution_count": 60,
   "id": "5114f1e6",
   "metadata": {},
   "outputs": [
    {
     "data": {
      "text/plain": [
       "8"
      ]
     },
     "execution_count": 60,
     "metadata": {},
     "output_type": "execute_result"
    }
   ],
   "source": [
    "test11(a = 3,b = 5)"
   ]
  },
  {
   "cell_type": "code",
   "execution_count": 2,
   "id": "dec306d7",
   "metadata": {},
   "outputs": [],
   "source": [
    "l = [1,2,3,5,6,7,'atul','pinku', 'rajesh']\n",
    "\n",
    "\n",
    "def mylist(l):\n",
    "    \"\"\"This is my first function used to create a string list from a mixed list\"\"\"\n",
    "    a=[]\n",
    "    for i in l:\n",
    "        if type(i) == str:\n",
    "            a.append(i)\n",
    "    return a"
   ]
  },
  {
   "cell_type": "code",
   "execution_count": 3,
   "id": "a2842f02",
   "metadata": {},
   "outputs": [
    {
     "data": {
      "text/plain": [
       "['atul', 'pinku', 'rajesh']"
      ]
     },
     "execution_count": 3,
     "metadata": {},
     "output_type": "execute_result"
    }
   ],
   "source": [
    "mylist(l)"
   ]
  },
  {
   "cell_type": "code",
   "execution_count": 5,
   "id": "fff9defa",
   "metadata": {},
   "outputs": [
    {
     "data": {
      "text/plain": [
       "['atul', 'pinku', 'rajesh']"
      ]
     },
     "execution_count": 5,
     "metadata": {},
     "output_type": "execute_result"
    }
   ],
   "source": [
    "mylist(l)"
   ]
  },
  {
   "cell_type": "code",
   "execution_count": 7,
   "id": "5adecedb",
   "metadata": {},
   "outputs": [
    {
     "data": {
      "text/plain": [
       "9"
      ]
     },
     "execution_count": 7,
     "metadata": {},
     "output_type": "execute_result"
    }
   ],
   "source": [
    "#write a function to find length of string\n",
    "\n",
    "\n",
    "def mylen(s):\n",
    "    t = 0\n",
    "    for i in s:\n",
    "        t+=1\n",
    "    return t\n",
    "\n",
    "mylen('atulkumar')"
   ]
  },
  {
   "cell_type": "code",
   "execution_count": 9,
   "id": "3c26f34f",
   "metadata": {},
   "outputs": [],
   "source": [
    "#function to pring index of list elements\n",
    "\n",
    "\n",
    "def myindex(l):\n",
    "    for i in range(len(l)):\n",
    "        print(f\"element {l[i]} index is {i}\" )"
   ]
  },
  {
   "cell_type": "code",
   "execution_count": 10,
   "id": "ed78af6d",
   "metadata": {},
   "outputs": [
    {
     "name": "stdout",
     "output_type": "stream",
     "text": [
      "element 1 index is 0\n",
      "element 2 index is 1\n",
      "element 3 index is 2\n",
      "element 5 index is 3\n",
      "element 6 index is 4\n",
      "element 7 index is 5\n",
      "element atul index is 6\n",
      "element pinku index is 7\n",
      "element rajesh index is 8\n"
     ]
    }
   ],
   "source": [
    "myindex(l)"
   ]
  },
  {
   "cell_type": "code",
   "execution_count": null,
   "id": "cff4b821",
   "metadata": {},
   "outputs": [],
   "source": [
    "#function to print ipaddress of your system\n",
    "\n",
    "# FUNCTION That will shut down your system\n",
    "\n",
    "# WRITE A FUNCTION that will take list as input with any kind of numeric value \n",
    "#and give an out as multiplication of all teh numeric data l\n",
    "\n",
    "# write  function which will be able to read all the emails\n",
    "\n",
    "#PYTHON FUNCTION TO SEND EMAIL TO ANYONE\n",
    "\n",
    "# python function which will be able to read a file from your system\n",
    "\n"
   ]
  }
 ],
 "metadata": {
  "kernelspec": {
   "display_name": "Python 3 (ipykernel)",
   "language": "python",
   "name": "python3"
  },
  "language_info": {
   "codemirror_mode": {
    "name": "ipython",
    "version": 3
   },
   "file_extension": ".py",
   "mimetype": "text/x-python",
   "name": "python",
   "nbconvert_exporter": "python",
   "pygments_lexer": "ipython3",
   "version": "3.8.3rc1"
  }
 },
 "nbformat": 4,
 "nbformat_minor": 5
}
