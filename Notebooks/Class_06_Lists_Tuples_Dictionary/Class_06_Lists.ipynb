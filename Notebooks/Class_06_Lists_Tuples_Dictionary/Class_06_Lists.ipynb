{
 "cells": [
  {
   "cell_type": "code",
   "execution_count": 1,
   "id": "c331dc67",
   "metadata": {},
   "outputs": [],
   "source": [
    "A=[1,2,3,4,5]"
   ]
  },
  {
   "cell_type": "code",
   "execution_count": 3,
   "id": "d744b87c",
   "metadata": {},
   "outputs": [],
   "source": [
    "A= [1,2,3,5+6j, \"atul\"]\n",
    "\n",
    "#In array iun other programming lanuages we have data of only one type\n",
    "# in Python list, data can be of same data type or different"
   ]
  },
  {
   "cell_type": "code",
   "execution_count": 4,
   "id": "282f1c1f",
   "metadata": {},
   "outputs": [
    {
     "data": {
      "text/plain": [
       "list"
      ]
     },
     "execution_count": 4,
     "metadata": {},
     "output_type": "execute_result"
    }
   ],
   "source": [
    "type(A)"
   ]
  },
  {
   "cell_type": "code",
   "execution_count": 7,
   "id": "2cdd9d8a",
   "metadata": {},
   "outputs": [
    {
     "name": "stdout",
     "output_type": "stream",
     "text": [
      "1\n",
      "2\n",
      "3\n",
      "(5+6j)\n",
      "atul\n"
     ]
    }
   ],
   "source": [
    "for i in A:\n",
    "    print(i)"
   ]
  },
  {
   "cell_type": "code",
   "execution_count": 10,
   "id": "0a934b5a",
   "metadata": {},
   "outputs": [
    {
     "name": "stdout",
     "output_type": "stream",
     "text": [
      "1\n",
      "2\n",
      "3\n",
      "(5+6j)\n",
      "atul\n"
     ]
    }
   ],
   "source": [
    "for i in range(len(A)):\n",
    "    print(A[i])"
   ]
  },
  {
   "cell_type": "code",
   "execution_count": 11,
   "id": "b47a28ba",
   "metadata": {},
   "outputs": [
    {
     "name": "stdout",
     "output_type": "stream",
     "text": [
      "value is 1 and data type is <class 'int'>\n",
      "value is 2 and data type is <class 'int'>\n",
      "value is 3 and data type is <class 'int'>\n",
      "value is (5+6j) and data type is <class 'complex'>\n",
      "value is atul and data type is <class 'str'>\n"
     ]
    }
   ],
   "source": [
    "for i in range(len(A)):\n",
    "    print(f\"value is {A[i]} and data type is {type(A[i])}\")"
   ]
  },
  {
   "cell_type": "code",
   "execution_count": 13,
   "id": "ad62d6c7",
   "metadata": {},
   "outputs": [
    {
     "data": {
      "text/plain": [
       "(5+6j)"
      ]
     },
     "execution_count": 13,
     "metadata": {},
     "output_type": "execute_result"
    }
   ],
   "source": [
    "A[-2]"
   ]
  },
  {
   "cell_type": "code",
   "execution_count": 14,
   "id": "66550c20",
   "metadata": {},
   "outputs": [
    {
     "data": {
      "text/plain": [
       "[(5+6j), 'atul']"
      ]
     },
     "execution_count": 14,
     "metadata": {},
     "output_type": "execute_result"
    }
   ],
   "source": [
    "A[3:]"
   ]
  },
  {
   "cell_type": "code",
   "execution_count": 15,
   "id": "d1e0818f",
   "metadata": {},
   "outputs": [
    {
     "data": {
      "text/plain": [
       "[1, 2, 3, (5+6j), 'atul']"
      ]
     },
     "execution_count": 15,
     "metadata": {},
     "output_type": "execute_result"
    }
   ],
   "source": [
    "A[0:]"
   ]
  },
  {
   "cell_type": "code",
   "execution_count": 17,
   "id": "bedc17c5",
   "metadata": {},
   "outputs": [
    {
     "data": {
      "text/plain": [
       "[1, 3, 'atul']"
      ]
     },
     "execution_count": 17,
     "metadata": {},
     "output_type": "execute_result"
    }
   ],
   "source": [
    "A[0::2]"
   ]
  },
  {
   "cell_type": "code",
   "execution_count": 18,
   "id": "44ec36fa",
   "metadata": {},
   "outputs": [
    {
     "name": "stdout",
     "output_type": "stream",
     "text": [
      "0\n",
      "2\n",
      "4\n",
      "6\n",
      "8\n"
     ]
    }
   ],
   "source": [
    "for i in range(0,10,2):\n",
    "    print(i)"
   ]
  },
  {
   "cell_type": "code",
   "execution_count": 20,
   "id": "cddc4eb2",
   "metadata": {},
   "outputs": [
    {
     "name": "stdout",
     "output_type": "stream",
     "text": [
      "0 1\n",
      "2 3\n",
      "4 atul\n"
     ]
    }
   ],
   "source": [
    "\n",
    "for i in range(0,5,2):\n",
    "    print(i, A[i])"
   ]
  },
  {
   "cell_type": "code",
   "execution_count": 21,
   "id": "30e7bd80",
   "metadata": {},
   "outputs": [
    {
     "data": {
      "text/plain": [
       "['atul', (5+6j), 3, 2, 1]"
      ]
     },
     "execution_count": 21,
     "metadata": {},
     "output_type": "execute_result"
    }
   ],
   "source": [
    "#reversing a list\n",
    "\n",
    "A[::-1]"
   ]
  },
  {
   "cell_type": "code",
   "execution_count": 23,
   "id": "0e707e84",
   "metadata": {},
   "outputs": [
    {
     "data": {
      "text/plain": [
       "[2, 3, 4]"
      ]
     },
     "execution_count": 23,
     "metadata": {},
     "output_type": "execute_result"
    }
   ],
   "source": [
    "B=[1,2,3,4,5,6]\n",
    "\n",
    "B[-5:-2]"
   ]
  },
  {
   "cell_type": "code",
   "execution_count": 24,
   "id": "eeb1c781",
   "metadata": {},
   "outputs": [
    {
     "data": {
      "text/plain": [
       "[1, 2, 3, 4, 5]"
      ]
     },
     "execution_count": 24,
     "metadata": {},
     "output_type": "execute_result"
    }
   ],
   "source": [
    "B[:-1]"
   ]
  },
  {
   "cell_type": "code",
   "execution_count": 25,
   "id": "25739d09",
   "metadata": {},
   "outputs": [
    {
     "data": {
      "text/plain": [
       "[1, 2, 3, 4, 5]"
      ]
     },
     "execution_count": 25,
     "metadata": {},
     "output_type": "execute_result"
    }
   ],
   "source": [
    "B[:5]"
   ]
  },
  {
   "cell_type": "code",
   "execution_count": 27,
   "id": "9ae87498",
   "metadata": {},
   "outputs": [
    {
     "data": {
      "text/plain": [
       "[2, 3, 4, 5]"
      ]
     },
     "execution_count": 27,
     "metadata": {},
     "output_type": "execute_result"
    }
   ],
   "source": [
    "B[-5:-1:1]"
   ]
  },
  {
   "cell_type": "code",
   "execution_count": 28,
   "id": "ffbe5128",
   "metadata": {},
   "outputs": [
    {
     "data": {
      "text/plain": [
       "[]"
      ]
     },
     "execution_count": 28,
     "metadata": {},
     "output_type": "execute_result"
    }
   ],
   "source": [
    "B[-1:-5:1]"
   ]
  },
  {
   "cell_type": "code",
   "execution_count": 29,
   "id": "2c5817e9",
   "metadata": {},
   "outputs": [
    {
     "data": {
      "text/plain": [
       "[5, 4, 3]"
      ]
     },
     "execution_count": 29,
     "metadata": {},
     "output_type": "execute_result"
    }
   ],
   "source": [
    "B[4:1:-1]"
   ]
  },
  {
   "cell_type": "code",
   "execution_count": 30,
   "id": "41e3cd38",
   "metadata": {},
   "outputs": [
    {
     "name": "stdout",
     "output_type": "stream",
     "text": [
      "-1 atul\n",
      "-2 (5+6j)\n",
      "-3 3\n",
      "-4 2\n",
      "-5 1\n"
     ]
    }
   ],
   "source": [
    "for i in range(-1,-len(A) -1, -1):\n",
    "    print(i,A[i])"
   ]
  },
  {
   "cell_type": "code",
   "execution_count": 31,
   "id": "94bb94dc",
   "metadata": {},
   "outputs": [
    {
     "data": {
      "text/plain": [
       "[1, 2, 3, (5+6j), 'atul']"
      ]
     },
     "execution_count": 31,
     "metadata": {},
     "output_type": "execute_result"
    }
   ],
   "source": [
    "#changing values in List\n",
    "\n",
    "A"
   ]
  },
  {
   "cell_type": "code",
   "execution_count": 32,
   "id": "f5f9f844",
   "metadata": {},
   "outputs": [
    {
     "data": {
      "text/plain": [
       "['Pinku', 2, 3, (5+6j), 'atul']"
      ]
     },
     "execution_count": 32,
     "metadata": {},
     "output_type": "execute_result"
    }
   ],
   "source": [
    "A[0] = \"Pinku\"\n",
    "A"
   ]
  },
  {
   "cell_type": "code",
   "execution_count": 41,
   "id": "f4af7cf3",
   "metadata": {},
   "outputs": [
    {
     "data": {
      "text/plain": [
       "[1, 2, 3, 4, 5, 6]"
      ]
     },
     "execution_count": 41,
     "metadata": {},
     "output_type": "execute_result"
    }
   ],
   "source": [
    "#lIST CONCATENATION\n",
    "\n",
    "\n",
    "A=[1,2,3]\n",
    "\n",
    "B=[4,5,6]\n",
    "\n",
    "A+B"
   ]
  },
  {
   "cell_type": "code",
   "execution_count": 42,
   "id": "206372be",
   "metadata": {},
   "outputs": [
    {
     "data": {
      "text/plain": [
       "[1, 2, 3]"
      ]
     },
     "execution_count": 42,
     "metadata": {},
     "output_type": "execute_result"
    }
   ],
   "source": [
    "A"
   ]
  },
  {
   "cell_type": "code",
   "execution_count": 43,
   "id": "6f1af5dc",
   "metadata": {},
   "outputs": [
    {
     "data": {
      "text/plain": [
       "[1, 2, 3, 1, 2, 3]"
      ]
     },
     "execution_count": 43,
     "metadata": {},
     "output_type": "execute_result"
    }
   ],
   "source": [
    "A*2"
   ]
  },
  {
   "cell_type": "code",
   "execution_count": 44,
   "id": "f0b3aad0",
   "metadata": {},
   "outputs": [
    {
     "data": {
      "text/plain": [
       "[1, 2, 3, 1, 2, 3, 1, 2, 3]"
      ]
     },
     "execution_count": 44,
     "metadata": {},
     "output_type": "execute_result"
    }
   ],
   "source": [
    "A+A+A"
   ]
  },
  {
   "cell_type": "code",
   "execution_count": 45,
   "id": "e7e95e41",
   "metadata": {},
   "outputs": [
    {
     "data": {
      "text/plain": [
       "[]"
      ]
     },
     "execution_count": 45,
     "metadata": {},
     "output_type": "execute_result"
    }
   ],
   "source": [
    "A*0"
   ]
  },
  {
   "cell_type": "code",
   "execution_count": 46,
   "id": "a0da25c9",
   "metadata": {},
   "outputs": [
    {
     "data": {
      "text/plain": [
       "3"
      ]
     },
     "execution_count": 46,
     "metadata": {},
     "output_type": "execute_result"
    }
   ],
   "source": [
    "len(A)"
   ]
  },
  {
   "cell_type": "code",
   "execution_count": 48,
   "id": "f9d4b30b",
   "metadata": {},
   "outputs": [
    {
     "name": "stdout",
     "output_type": "stream",
     "text": [
      "enter any number 33\n",
      "enter any number 44\n",
      "enter any number 55\n",
      "enter any number 66\n",
      "enter any number 77\n",
      "[33, 44, 55, 66, 77]\n"
     ]
    }
   ],
   "source": [
    "mylist=[]\n",
    "\n",
    "for i in range(5):\n",
    "    A= int(input(\"enter any number \"))\n",
    "    mylist.append(A)\n",
    "print(mylist)"
   ]
  },
  {
   "cell_type": "code",
   "execution_count": 51,
   "id": "f976e21a",
   "metadata": {},
   "outputs": [
    {
     "name": "stdout",
     "output_type": "stream",
     "text": [
      "enter any number 5\n",
      "enter any number 5\n",
      "enter any number 5\n",
      "enter any number 5\n",
      "enter any number 5\n",
      "[5, 5, 5, 5, 5]\n"
     ]
    }
   ],
   "source": [
    "mylist=list()\n",
    "\n",
    "for i in range(5):\n",
    "    A= int(input(\"enter any number \"))\n",
    "    mylist = mylist + [A]\n",
    "print(mylist)"
   ]
  },
  {
   "cell_type": "code",
   "execution_count": 52,
   "id": "88dc4018",
   "metadata": {},
   "outputs": [
    {
     "data": {
      "text/plain": [
       "[5, 5, 5, 5, 5]"
      ]
     },
     "execution_count": 52,
     "metadata": {},
     "output_type": "execute_result"
    }
   ],
   "source": [
    "mylist"
   ]
  },
  {
   "cell_type": "code",
   "execution_count": 53,
   "id": "51641ec2",
   "metadata": {},
   "outputs": [
    {
     "ename": "TypeError",
     "evalue": "can only concatenate list (not \"int\") to list",
     "output_type": "error",
     "traceback": [
      "\u001b[0;31m---------------------------------------------------------------------------\u001b[0m",
      "\u001b[0;31mTypeError\u001b[0m                                 Traceback (most recent call last)",
      "Input \u001b[0;32mIn [53]\u001b[0m, in \u001b[0;36m<cell line: 1>\u001b[0;34m()\u001b[0m\n\u001b[0;32m----> 1\u001b[0m \u001b[43mmylist\u001b[49m\u001b[38;5;241;43m+\u001b[39;49m\u001b[38;5;241;43m6\u001b[39;49m\n",
      "\u001b[0;31mTypeError\u001b[0m: can only concatenate list (not \"int\") to list"
     ]
    }
   ],
   "source": [
    "mylist+6"
   ]
  },
  {
   "cell_type": "code",
   "execution_count": 55,
   "id": "a48b93ea",
   "metadata": {},
   "outputs": [
    {
     "name": "stdout",
     "output_type": "stream",
     "text": [
      "[5, 5, 5, 5, 5]\n"
     ]
    },
    {
     "data": {
      "text/plain": [
       "False"
      ]
     },
     "execution_count": 55,
     "metadata": {},
     "output_type": "execute_result"
    }
   ],
   "source": [
    "#checking eelement in list\n",
    "print(mylist)\n",
    "\n",
    "3 in mylist"
   ]
  },
  {
   "cell_type": "code",
   "execution_count": 56,
   "id": "1ada701b",
   "metadata": {},
   "outputs": [
    {
     "name": "stdout",
     "output_type": "stream",
     "text": [
      "[5, 5, 5, 5, 5]\n"
     ]
    },
    {
     "data": {
      "text/plain": [
       "True"
      ]
     },
     "execution_count": 56,
     "metadata": {},
     "output_type": "execute_result"
    }
   ],
   "source": [
    "print(mylist)\n",
    "\n",
    "5 in mylist"
   ]
  },
  {
   "cell_type": "code",
   "execution_count": 57,
   "id": "5fbedbb2",
   "metadata": {},
   "outputs": [
    {
     "name": "stdout",
     "output_type": "stream",
     "text": [
      "Adding new element in list\n",
      "['atul', 'amit', 'pinku']\n"
     ]
    }
   ],
   "source": [
    "A=[\"atul\", \"amit\"]\n",
    "\n",
    "\n",
    "if \"pinku\" in A:\n",
    "    print(\"yes\")\n",
    "else:\n",
    "    print(\"Adding new element in list\")\n",
    "    A= A+[\"pinku\"]\n",
    "print(A)"
   ]
  },
  {
   "cell_type": "code",
   "execution_count": 58,
   "id": "04e5468a",
   "metadata": {},
   "outputs": [
    {
     "name": "stdout",
     "output_type": "stream",
     "text": [
      "yes\n",
      "['atul', 'amit', 'pinku']\n"
     ]
    }
   ],
   "source": [
    "if \"pinku\" in A:\n",
    "    print(\"yes\")\n",
    "else:\n",
    "    print(\"Adding new element in list\")\n",
    "    A= A+[\"pinku\"]\n",
    "print(A)"
   ]
  },
  {
   "cell_type": "code",
   "execution_count": 59,
   "id": "e184f791",
   "metadata": {},
   "outputs": [
    {
     "data": {
      "text/plain": [
       "99"
      ]
     },
     "execution_count": 59,
     "metadata": {},
     "output_type": "execute_result"
    }
   ],
   "source": [
    "#FINDING MAX IN LIST\n",
    "\n",
    "A=[1,3,4,5,99]\n",
    "\n",
    "max(A)"
   ]
  },
  {
   "cell_type": "code",
   "execution_count": 60,
   "id": "911d0fa6",
   "metadata": {},
   "outputs": [
    {
     "name": "stdout",
     "output_type": "stream",
     "text": [
      "rakaaaaaa\n",
      "9\n"
     ]
    }
   ],
   "source": [
    "#Finding elment with max length\n",
    "\n",
    "A=[\"Atul\", \"Amitesh\",\"rakaaaaaa\"]\n",
    "\n",
    "max_len = 0\n",
    "max_word = \"\"\n",
    "\n",
    "for i in A:\n",
    "    if len(i) > max_len:\n",
    "        max_len=len(i)\n",
    "        max_word=i\n",
    "print(max_word)\n",
    "print(max_len)"
   ]
  },
  {
   "cell_type": "code",
   "execution_count": 61,
   "id": "c92c0b66",
   "metadata": {},
   "outputs": [
    {
     "data": {
      "text/plain": [
       "['Atul', 'Amitesh', 'rakaaaaaa']"
      ]
     },
     "execution_count": 61,
     "metadata": {},
     "output_type": "execute_result"
    }
   ],
   "source": [
    "A"
   ]
  },
  {
   "cell_type": "code",
   "execution_count": 62,
   "id": "32b826bb",
   "metadata": {},
   "outputs": [],
   "source": [
    "A.append(\"nituuuuuuu\")"
   ]
  },
  {
   "cell_type": "code",
   "execution_count": 63,
   "id": "7a927847",
   "metadata": {},
   "outputs": [
    {
     "data": {
      "text/plain": [
       "['Atul', 'Amitesh', 'rakaaaaaa', 'nituuuuuuu']"
      ]
     },
     "execution_count": 63,
     "metadata": {},
     "output_type": "execute_result"
    }
   ],
   "source": [
    "A"
   ]
  },
  {
   "cell_type": "code",
   "execution_count": 64,
   "id": "9aab57d9",
   "metadata": {},
   "outputs": [
    {
     "data": {
      "text/plain": [
       "6"
      ]
     },
     "execution_count": 64,
     "metadata": {},
     "output_type": "execute_result"
    }
   ],
   "source": [
    "#pOP METHOD TO remove ELEMENT AT THE LAST index\n",
    "\n",
    "\n",
    "A=[1,2,3,4,5,6]\n",
    "\n",
    "A.pop()"
   ]
  },
  {
   "cell_type": "code",
   "execution_count": 65,
   "id": "35964ab1",
   "metadata": {},
   "outputs": [
    {
     "data": {
      "text/plain": [
       "[1, 2, 3, 4, 5]"
      ]
     },
     "execution_count": 65,
     "metadata": {},
     "output_type": "execute_result"
    }
   ],
   "source": [
    "A"
   ]
  },
  {
   "cell_type": "code",
   "execution_count": 66,
   "id": "42243dee",
   "metadata": {},
   "outputs": [
    {
     "data": {
      "text/plain": [
       "[2, 3, 4, 5]"
      ]
     },
     "execution_count": 66,
     "metadata": {},
     "output_type": "execute_result"
    }
   ],
   "source": [
    "A.pop(0)\n",
    "\n",
    "A"
   ]
  },
  {
   "cell_type": "code",
   "execution_count": 67,
   "id": "11dc9d53",
   "metadata": {},
   "outputs": [
    {
     "data": {
      "text/plain": [
       "4"
      ]
     },
     "execution_count": 67,
     "metadata": {},
     "output_type": "execute_result"
    }
   ],
   "source": [
    "removed_element = A.pop(2)\n",
    "removed_element"
   ]
  },
  {
   "cell_type": "code",
   "execution_count": 70,
   "id": "f710b884",
   "metadata": {},
   "outputs": [
    {
     "data": {
      "text/plain": [
       "[4, 4, 5, 6, 7, 9, 34, 34, 777]"
      ]
     },
     "execution_count": 70,
     "metadata": {},
     "output_type": "execute_result"
    }
   ],
   "source": [
    "#SORTING ELEMENTS\n",
    "\n",
    "A=[9,6,5,7,4,4,777,34,34]\n",
    "sorted(A)"
   ]
  },
  {
   "cell_type": "code",
   "execution_count": 72,
   "id": "185f566b",
   "metadata": {},
   "outputs": [
    {
     "name": "stdout",
     "output_type": "stream",
     "text": [
      "[4, 4, 5, 6, 7, 9, 34, 34, 777]\n"
     ]
    },
    {
     "data": {
      "text/plain": [
       "[777, 34, 34, 9, 7, 6, 5, 4, 4]"
      ]
     },
     "execution_count": 72,
     "metadata": {},
     "output_type": "execute_result"
    }
   ],
   "source": [
    "#descending order \n",
    "A=[9,6,5,7,4,4,777,34,34]\n",
    "A = sorted(A)\n",
    "print(A)\n",
    "A[::-1]"
   ]
  },
  {
   "cell_type": "code",
   "execution_count": 73,
   "id": "7d90b6e1",
   "metadata": {},
   "outputs": [],
   "source": [
    "#reversing string\n",
    "#INPLACE OPERATION\n",
    "\n",
    "A=[9,6,5,7,4,4,777,34,34]\n",
    "\n",
    "A.reverse()"
   ]
  },
  {
   "cell_type": "code",
   "execution_count": 74,
   "id": "343feff6",
   "metadata": {},
   "outputs": [
    {
     "data": {
      "text/plain": [
       "[34, 34, 777, 4, 4, 7, 5, 6, 9]"
      ]
     },
     "execution_count": 74,
     "metadata": {},
     "output_type": "execute_result"
    }
   ],
   "source": [
    "A"
   ]
  },
  {
   "cell_type": "code",
   "execution_count": 75,
   "id": "6cf05c61",
   "metadata": {},
   "outputs": [
    {
     "data": {
      "text/plain": [
       "[777, 34, 34, 9, 7, 6, 5, 4, 4]"
      ]
     },
     "execution_count": 75,
     "metadata": {},
     "output_type": "execute_result"
    }
   ],
   "source": [
    "A=[9,6,5,7,4,4,777,34,34]\n",
    "A.sort(reverse=True)\n",
    "\n",
    "A"
   ]
  },
  {
   "cell_type": "code",
   "execution_count": 76,
   "id": "e37c4bc6",
   "metadata": {},
   "outputs": [],
   "source": [
    "#NESTING LIST"
   ]
  },
  {
   "cell_type": "code",
   "execution_count": 77,
   "id": "67473b6d",
   "metadata": {},
   "outputs": [
    {
     "data": {
      "text/plain": [
       "[[1, 2, 3], [11, 22, 33], [45, 88]]"
      ]
     },
     "execution_count": 77,
     "metadata": {},
     "output_type": "execute_result"
    }
   ],
   "source": [
    "A=[[1,2,3],[11,22,33],[45,88]]\n",
    "\n",
    "A"
   ]
  },
  {
   "cell_type": "code",
   "execution_count": 78,
   "id": "8cc774a1",
   "metadata": {},
   "outputs": [
    {
     "data": {
      "text/plain": [
       "22"
      ]
     },
     "execution_count": 78,
     "metadata": {},
     "output_type": "execute_result"
    }
   ],
   "source": [
    "A[1][1]"
   ]
  },
  {
   "cell_type": "code",
   "execution_count": 81,
   "id": "f64ae29c",
   "metadata": {},
   "outputs": [
    {
     "data": {
      "text/plain": [
       "44"
      ]
     },
     "execution_count": 81,
     "metadata": {},
     "output_type": "execute_result"
    }
   ],
   "source": [
    "A=[[1,2,3],[11,22,[33,22,44,54,44]],[45,88]]\n",
    "A[1][2][2]"
   ]
  },
  {
   "cell_type": "code",
   "execution_count": 83,
   "id": "b0cbdb98",
   "metadata": {},
   "outputs": [
    {
     "data": {
      "text/plain": [
       "65000"
      ]
     },
     "execution_count": 83,
     "metadata": {},
     "output_type": "execute_result"
    }
   ],
   "source": [
    "amazon_cart = [[\"watch\", 5000], [\"phone\", 10000], [\"laptop\", 50000]]\n",
    "\n",
    "amazon_cart[0][1] + amazon_cart[1][1] + amazon_cart[2][1]"
   ]
  },
  {
   "cell_type": "code",
   "execution_count": 85,
   "id": "ab3697ae",
   "metadata": {},
   "outputs": [
    {
     "name": "stdout",
     "output_type": "stream",
     "text": [
      "65000\n"
     ]
    }
   ],
   "source": [
    "totalsum=0\n",
    "\n",
    "for i in range(len(amazon_cart)):\n",
    "    # print(amazon_cart[i][1])\n",
    "    totalsum = totalsum + amazon_cart[i][1]\n",
    "print(totalsum)\n",
    "    "
   ]
  },
  {
   "cell_type": "code",
   "execution_count": 88,
   "id": "64b8a554",
   "metadata": {},
   "outputs": [
    {
     "name": "stdout",
     "output_type": "stream",
     "text": [
      "5000\n",
      "10000\n",
      "50000\n"
     ]
    }
   ],
   "source": [
    "for i in amazon_cart:\n",
    "    print(i[1])"
   ]
  },
  {
   "cell_type": "markdown",
   "id": "080c1c08",
   "metadata": {},
   "source": [
    "# List comprehension\n"
   ]
  },
  {
   "cell_type": "code",
   "execution_count": 91,
   "id": "7fd95203",
   "metadata": {},
   "outputs": [
    {
     "name": "stdout",
     "output_type": "stream",
     "text": [
      "[1, 4, 9, 16, 25, 36, 49, 64]\n"
     ]
    }
   ],
   "source": [
    "A = [1,2,3,4,5,6,7,8]\n",
    "\n",
    "final= []\n",
    "for i in A:\n",
    "    #print(i**2)\n",
    "    final.append(i**2)\n",
    "\n",
    "print(final)"
   ]
  },
  {
   "cell_type": "code",
   "execution_count": 92,
   "id": "32161d5b",
   "metadata": {},
   "outputs": [],
   "source": [
    "ans = [i**2 for i in A]"
   ]
  },
  {
   "cell_type": "code",
   "execution_count": 93,
   "id": "2d6722c5",
   "metadata": {},
   "outputs": [
    {
     "data": {
      "text/plain": [
       "[1, 4, 9, 16, 25, 36, 49, 64]"
      ]
     },
     "execution_count": 93,
     "metadata": {},
     "output_type": "execute_result"
    }
   ],
   "source": [
    "ans"
   ]
  },
  {
   "cell_type": "code",
   "execution_count": 96,
   "id": "24a8b78e",
   "metadata": {},
   "outputs": [],
   "source": [
    "ans = [i**2 for i in A if i%2!=0]"
   ]
  },
  {
   "cell_type": "code",
   "execution_count": 97,
   "id": "9bcd8922",
   "metadata": {},
   "outputs": [
    {
     "data": {
      "text/plain": [
       "[1, 9, 25, 49]"
      ]
     },
     "execution_count": 97,
     "metadata": {},
     "output_type": "execute_result"
    }
   ],
   "source": [
    "ans"
   ]
  },
  {
   "cell_type": "code",
   "execution_count": 98,
   "id": "178be89b",
   "metadata": {},
   "outputs": [
    {
     "data": {
      "text/plain": [
       "1"
      ]
     },
     "execution_count": 98,
     "metadata": {},
     "output_type": "execute_result"
    }
   ],
   "source": [
    "A.count(4)"
   ]
  },
  {
   "cell_type": "code",
   "execution_count": 103,
   "id": "855f7ccc",
   "metadata": {},
   "outputs": [
    {
     "name": "stdout",
     "output_type": "stream",
     "text": [
      "0\n",
      "1 1\n",
      "2 2\n",
      "2 2\n",
      "3 2\n",
      "3 2\n",
      "4 1\n",
      "5 1\n",
      "6 2\n",
      "6 2\n",
      "7 1\n",
      "8 1\n"
     ]
    }
   ],
   "source": [
    "A = [1,2,2,3,3,4,5,6,6,7,8]\n",
    "\n",
    "\n",
    "print(A.count(888))\n",
    "\n",
    "for i in A:\n",
    "    print(i, A.count(i))"
   ]
  },
  {
   "cell_type": "code",
   "execution_count": 104,
   "id": "1ca21dac",
   "metadata": {},
   "outputs": [
    {
     "data": {
      "text/plain": [
       "2"
      ]
     },
     "execution_count": 104,
     "metadata": {},
     "output_type": "execute_result"
    }
   ],
   "source": [
    "A = [1,2,2,3,3,4,5,6,6,[7,7],[7,7]]\n",
    "\n",
    "A.count([7,7])\n"
   ]
  },
  {
   "cell_type": "code",
   "execution_count": 105,
   "id": "582b4a55",
   "metadata": {},
   "outputs": [],
   "source": [
    "A=[1,2,3]\n",
    "B=[4,5,6]\n",
    "\n",
    "A.extend(B)"
   ]
  },
  {
   "cell_type": "code",
   "execution_count": 106,
   "id": "bb7b42da",
   "metadata": {},
   "outputs": [
    {
     "data": {
      "text/plain": [
       "[1, 2, 3, 4, 5, 6]"
      ]
     },
     "execution_count": 106,
     "metadata": {},
     "output_type": "execute_result"
    }
   ],
   "source": [
    "A"
   ]
  },
  {
   "cell_type": "code",
   "execution_count": 107,
   "id": "80393094",
   "metadata": {},
   "outputs": [],
   "source": [
    "A=[1,2,3]\n",
    "B=[4,5,6]\n",
    "\n",
    "A.append(B)"
   ]
  },
  {
   "cell_type": "code",
   "execution_count": 108,
   "id": "fda5cce3",
   "metadata": {},
   "outputs": [
    {
     "data": {
      "text/plain": [
       "[1, 2, 3, [4, 5, 6]]"
      ]
     },
     "execution_count": 108,
     "metadata": {},
     "output_type": "execute_result"
    }
   ],
   "source": [
    "A"
   ]
  },
  {
   "cell_type": "markdown",
   "id": "2ba47173",
   "metadata": {},
   "source": [
    "# Index method"
   ]
  },
  {
   "cell_type": "code",
   "execution_count": 109,
   "id": "3745e1bc",
   "metadata": {},
   "outputs": [
    {
     "data": {
      "text/plain": [
       "1"
      ]
     },
     "execution_count": 109,
     "metadata": {},
     "output_type": "execute_result"
    }
   ],
   "source": [
    "A=[11,2,3,66,\"suuny\", 1+2j]\n",
    "\n",
    "A.index(2)"
   ]
  },
  {
   "cell_type": "code",
   "execution_count": 111,
   "id": "772d919c",
   "metadata": {},
   "outputs": [
    {
     "data": {
      "text/plain": [
       "4"
      ]
     },
     "execution_count": 111,
     "metadata": {},
     "output_type": "execute_result"
    }
   ],
   "source": [
    "A.index(\"suuny\")"
   ]
  },
  {
   "cell_type": "code",
   "execution_count": 112,
   "id": "7b51beb6",
   "metadata": {},
   "outputs": [
    {
     "name": "stdout",
     "output_type": "stream",
     "text": [
      "<class 'complex'>\n"
     ]
    }
   ],
   "source": [
    "a = 4+5j\n",
    "\n",
    "print(type(a))"
   ]
  },
  {
   "cell_type": "code",
   "execution_count": null,
   "id": "b20af6c6",
   "metadata": {},
   "outputs": [],
   "source": []
  },
  {
   "cell_type": "code",
   "execution_count": 119,
   "id": "8873475d",
   "metadata": {},
   "outputs": [
    {
     "name": "stdout",
     "output_type": "stream",
     "text": [
      "(5+4j) 4\n",
      "(1+2j) 6\n"
     ]
    }
   ],
   "source": [
    "A=[11,2,3,66,5+4j, \"suuny\", 1+2j]\n",
    "\n",
    "\n",
    "for i in A:\n",
    "    if type(i) == complex:\n",
    "        print(i, A.index(i))"
   ]
  },
  {
   "cell_type": "code",
   "execution_count": 120,
   "id": "16971b18",
   "metadata": {},
   "outputs": [
    {
     "data": {
      "text/plain": [
       "[11, 2, 3, 66, (5+4j), 'suuny', (1+2j)]"
      ]
     },
     "execution_count": 120,
     "metadata": {},
     "output_type": "execute_result"
    }
   ],
   "source": [
    "A"
   ]
  },
  {
   "cell_type": "code",
   "execution_count": 123,
   "id": "6c32f30a",
   "metadata": {},
   "outputs": [
    {
     "ename": "ValueError",
     "evalue": "8888 is not in list",
     "output_type": "error",
     "traceback": [
      "\u001b[0;31m---------------------------------------------------------------------------\u001b[0m",
      "\u001b[0;31mValueError\u001b[0m                                Traceback (most recent call last)",
      "Input \u001b[0;32mIn [123]\u001b[0m, in \u001b[0;36m<cell line: 1>\u001b[0;34m()\u001b[0m\n\u001b[0;32m----> 1\u001b[0m \u001b[43mA\u001b[49m\u001b[38;5;241;43m.\u001b[39;49m\u001b[43mindex\u001b[49m\u001b[43m(\u001b[49m\u001b[38;5;241;43m8888\u001b[39;49m\u001b[43m)\u001b[49m\n",
      "\u001b[0;31mValueError\u001b[0m: 8888 is not in list"
     ]
    }
   ],
   "source": [
    "A.index(8888)"
   ]
  },
  {
   "cell_type": "markdown",
   "id": "f44fdd15",
   "metadata": {},
   "source": [
    "# Insert"
   ]
  },
  {
   "cell_type": "code",
   "execution_count": 124,
   "id": "a5c4c8ab",
   "metadata": {},
   "outputs": [],
   "source": [
    "A.append(777)"
   ]
  },
  {
   "cell_type": "code",
   "execution_count": 125,
   "id": "3fe7b268",
   "metadata": {},
   "outputs": [
    {
     "data": {
      "text/plain": [
       "[11, 2, 3, 66, (5+4j), 'suuny', (1+2j), 777]"
      ]
     },
     "execution_count": 125,
     "metadata": {},
     "output_type": "execute_result"
    }
   ],
   "source": [
    "A"
   ]
  },
  {
   "cell_type": "code",
   "execution_count": 126,
   "id": "5c0c67bf",
   "metadata": {},
   "outputs": [
    {
     "data": {
      "text/plain": [
       "[11, 2, 'pinkuda', 3, 66, (5+4j), 'suuny', (1+2j), 777]"
      ]
     },
     "execution_count": 126,
     "metadata": {},
     "output_type": "execute_result"
    }
   ],
   "source": [
    "A.insert(2, \"pinkuda\")\n",
    "\n",
    "A"
   ]
  },
  {
   "cell_type": "code",
   "execution_count": 127,
   "id": "e97c0067",
   "metadata": {},
   "outputs": [
    {
     "data": {
      "text/plain": [
       "[11, 2, 'pinkuda', 3, 66, (5+4j), 'suuny', (1+2j), 777, 'Pikuda ki saheli']"
      ]
     },
     "execution_count": 127,
     "metadata": {},
     "output_type": "execute_result"
    }
   ],
   "source": [
    "A.insert(99999, \"Pikuda ki saheli\")\n",
    "\n",
    "A"
   ]
  },
  {
   "cell_type": "code",
   "execution_count": 128,
   "id": "5acc2f2f",
   "metadata": {},
   "outputs": [
    {
     "data": {
      "text/plain": [
       "['chinkuda',\n",
       " 11,\n",
       " 2,\n",
       " 'pinkuda',\n",
       " 3,\n",
       " 66,\n",
       " (5+4j),\n",
       " 'suuny',\n",
       " (1+2j),\n",
       " 777,\n",
       " 'Pikuda ki saheli']"
      ]
     },
     "execution_count": 128,
     "metadata": {},
     "output_type": "execute_result"
    }
   ],
   "source": [
    "A.insert(-100, \"chinkuda\")\n",
    "\n",
    "A"
   ]
  },
  {
   "cell_type": "code",
   "execution_count": 129,
   "id": "c274e07d",
   "metadata": {},
   "outputs": [
    {
     "data": {
      "text/plain": [
       "['chinkuda',\n",
       " [1, 2, 3, 4, 5, 6],\n",
       " 11,\n",
       " 2,\n",
       " 'pinkuda',\n",
       " 3,\n",
       " 66,\n",
       " (5+4j),\n",
       " 'suuny',\n",
       " (1+2j),\n",
       " 777,\n",
       " 'Pikuda ki saheli']"
      ]
     },
     "execution_count": 129,
     "metadata": {},
     "output_type": "execute_result"
    }
   ],
   "source": [
    "A.insert(1,[1,2,3,4,5,6])\n",
    "\n",
    "A"
   ]
  },
  {
   "cell_type": "markdown",
   "id": "4ff927bb",
   "metadata": {},
   "source": [
    "# Pop"
   ]
  },
  {
   "cell_type": "code",
   "execution_count": 130,
   "id": "561ccb09",
   "metadata": {},
   "outputs": [
    {
     "data": {
      "text/plain": [
       "['chinkuda',\n",
       " [1, 2, 3, 4, 5, 6],\n",
       " 11,\n",
       " 2,\n",
       " 'pinkuda',\n",
       " 3,\n",
       " 66,\n",
       " (5+4j),\n",
       " 'suuny',\n",
       " (1+2j),\n",
       " 777,\n",
       " 'Pikuda ki saheli']"
      ]
     },
     "execution_count": 130,
     "metadata": {},
     "output_type": "execute_result"
    }
   ],
   "source": [
    "A"
   ]
  },
  {
   "cell_type": "code",
   "execution_count": 131,
   "id": "91031bf8",
   "metadata": {},
   "outputs": [
    {
     "data": {
      "text/plain": [
       "'Pikuda ki saheli'"
      ]
     },
     "execution_count": 131,
     "metadata": {},
     "output_type": "execute_result"
    }
   ],
   "source": [
    "A.pop(11)"
   ]
  },
  {
   "cell_type": "code",
   "execution_count": 132,
   "id": "3eff0763",
   "metadata": {},
   "outputs": [
    {
     "data": {
      "text/plain": [
       "['chinkuda',\n",
       " [1, 2, 3, 4, 5, 6],\n",
       " 11,\n",
       " 2,\n",
       " 'pinkuda',\n",
       " 3,\n",
       " 66,\n",
       " (5+4j),\n",
       " 'suuny',\n",
       " (1+2j),\n",
       " 777]"
      ]
     },
     "execution_count": 132,
     "metadata": {},
     "output_type": "execute_result"
    }
   ],
   "source": [
    "A"
   ]
  },
  {
   "cell_type": "code",
   "execution_count": 133,
   "id": "8262c227",
   "metadata": {},
   "outputs": [],
   "source": [
    "A.remove(66)"
   ]
  },
  {
   "cell_type": "code",
   "execution_count": 134,
   "id": "bb4a0e6f",
   "metadata": {},
   "outputs": [
    {
     "data": {
      "text/plain": [
       "['chinkuda',\n",
       " [1, 2, 3, 4, 5, 6],\n",
       " 11,\n",
       " 2,\n",
       " 'pinkuda',\n",
       " 3,\n",
       " (5+4j),\n",
       " 'suuny',\n",
       " (1+2j),\n",
       " 777]"
      ]
     },
     "execution_count": 134,
     "metadata": {},
     "output_type": "execute_result"
    }
   ],
   "source": [
    "A"
   ]
  },
  {
   "cell_type": "code",
   "execution_count": 135,
   "id": "efcd1440",
   "metadata": {},
   "outputs": [],
   "source": [
    "#POP REMOVES BY INDEX\n",
    "#REMOVE THE ITEM BY ITS FIRST OCCURANCE VALUE"
   ]
  },
  {
   "cell_type": "markdown",
   "id": "2ab44e7a",
   "metadata": {},
   "source": [
    "# Tuples"
   ]
  },
  {
   "cell_type": "code",
   "execution_count": 136,
   "id": "175c1e93",
   "metadata": {},
   "outputs": [],
   "source": [
    "#Tuples()\n",
    "#they are immutable"
   ]
  },
  {
   "cell_type": "code",
   "execution_count": 137,
   "id": "4ae6f801",
   "metadata": {},
   "outputs": [
    {
     "data": {
      "text/plain": [
       "tuple"
      ]
     },
     "execution_count": 137,
     "metadata": {},
     "output_type": "execute_result"
    }
   ],
   "source": [
    "B = (1,2,3)\n",
    "\n",
    "type(B)"
   ]
  },
  {
   "cell_type": "code",
   "execution_count": 138,
   "id": "ca83872f",
   "metadata": {},
   "outputs": [
    {
     "data": {
      "text/plain": [
       "1"
      ]
     },
     "execution_count": 138,
     "metadata": {},
     "output_type": "execute_result"
    }
   ],
   "source": [
    "B[0]"
   ]
  },
  {
   "cell_type": "code",
   "execution_count": 139,
   "id": "5031e9d8",
   "metadata": {},
   "outputs": [
    {
     "ename": "TypeError",
     "evalue": "'tuple' object does not support item assignment",
     "output_type": "error",
     "traceback": [
      "\u001b[0;31m---------------------------------------------------------------------------\u001b[0m",
      "\u001b[0;31mTypeError\u001b[0m                                 Traceback (most recent call last)",
      "Input \u001b[0;32mIn [139]\u001b[0m, in \u001b[0;36m<cell line: 1>\u001b[0;34m()\u001b[0m\n\u001b[0;32m----> 1\u001b[0m B[\u001b[38;5;241m0\u001b[39m] \u001b[38;5;241m=\u001b[39m \u001b[38;5;241m22\u001b[39m\n",
      "\u001b[0;31mTypeError\u001b[0m: 'tuple' object does not support item assignment"
     ]
    }
   ],
   "source": [
    "B[0] = 22"
   ]
  },
  {
   "cell_type": "code",
   "execution_count": 140,
   "id": "b6409b69",
   "metadata": {},
   "outputs": [
    {
     "ename": "AttributeError",
     "evalue": "'tuple' object has no attribute 'sort'",
     "output_type": "error",
     "traceback": [
      "\u001b[0;31m---------------------------------------------------------------------------\u001b[0m",
      "\u001b[0;31mAttributeError\u001b[0m                            Traceback (most recent call last)",
      "Input \u001b[0;32mIn [140]\u001b[0m, in \u001b[0;36m<cell line: 1>\u001b[0;34m()\u001b[0m\n\u001b[0;32m----> 1\u001b[0m \u001b[43mB\u001b[49m\u001b[38;5;241;43m.\u001b[39;49m\u001b[43msort\u001b[49m()\n",
      "\u001b[0;31mAttributeError\u001b[0m: 'tuple' object has no attribute 'sort'"
     ]
    }
   ],
   "source": [
    "B.sort()"
   ]
  },
  {
   "cell_type": "code",
   "execution_count": 143,
   "id": "4832ec0d",
   "metadata": {},
   "outputs": [
    {
     "data": {
      "text/plain": [
       "[1, 2, 3]"
      ]
     },
     "execution_count": 143,
     "metadata": {},
     "output_type": "execute_result"
    }
   ],
   "source": [
    "sorted(B)\n",
    "\n",
    "#returend output is a list"
   ]
  },
  {
   "cell_type": "code",
   "execution_count": 144,
   "id": "3d21ba82",
   "metadata": {},
   "outputs": [
    {
     "data": {
      "text/plain": [
       "3"
      ]
     },
     "execution_count": 144,
     "metadata": {},
     "output_type": "execute_result"
    }
   ],
   "source": [
    "len(B)"
   ]
  },
  {
   "cell_type": "code",
   "execution_count": 145,
   "id": "47f5bb8a",
   "metadata": {},
   "outputs": [
    {
     "data": {
      "text/plain": [
       "(1, 2, 3, 1, 2, 3, 1, 2, 3)"
      ]
     },
     "execution_count": 145,
     "metadata": {},
     "output_type": "execute_result"
    }
   ],
   "source": [
    "B*3"
   ]
  },
  {
   "cell_type": "code",
   "execution_count": 146,
   "id": "3480a664",
   "metadata": {},
   "outputs": [
    {
     "data": {
      "text/plain": [
       "1"
      ]
     },
     "execution_count": 146,
     "metadata": {},
     "output_type": "execute_result"
    }
   ],
   "source": [
    "min(B)"
   ]
  },
  {
   "cell_type": "code",
   "execution_count": 147,
   "id": "52516983",
   "metadata": {},
   "outputs": [
    {
     "data": {
      "text/plain": [
       "3"
      ]
     },
     "execution_count": 147,
     "metadata": {},
     "output_type": "execute_result"
    }
   ],
   "source": [
    "max(B)"
   ]
  },
  {
   "cell_type": "code",
   "execution_count": 148,
   "id": "3042dba7",
   "metadata": {},
   "outputs": [
    {
     "data": {
      "text/plain": [
       "1"
      ]
     },
     "execution_count": 148,
     "metadata": {},
     "output_type": "execute_result"
    }
   ],
   "source": [
    "B.count(2)"
   ]
  },
  {
   "cell_type": "code",
   "execution_count": 149,
   "id": "84659e9c",
   "metadata": {},
   "outputs": [
    {
     "ename": "AttributeError",
     "evalue": "'tuple' object has no attribute 'reversed'",
     "output_type": "error",
     "traceback": [
      "\u001b[0;31m---------------------------------------------------------------------------\u001b[0m",
      "\u001b[0;31mAttributeError\u001b[0m                            Traceback (most recent call last)",
      "Input \u001b[0;32mIn [149]\u001b[0m, in \u001b[0;36m<cell line: 1>\u001b[0;34m()\u001b[0m\n\u001b[0;32m----> 1\u001b[0m \u001b[43mB\u001b[49m\u001b[38;5;241;43m.\u001b[39;49m\u001b[43mreversed\u001b[49m()\n",
      "\u001b[0;31mAttributeError\u001b[0m: 'tuple' object has no attribute 'reversed'"
     ]
    }
   ],
   "source": [
    "B.reversed()"
   ]
  },
  {
   "cell_type": "code",
   "execution_count": 150,
   "id": "ea667a1e",
   "metadata": {},
   "outputs": [],
   "source": [
    "# (\"item_name\", amount) \n",
    "\n",
    "amazon_cart = [(\"watch\", 5000), (\"phone\", 10000), (\"laptop\", 50000), (\"shirt\", 1000)]\n",
    "\n",
    "total_cost = 0"
   ]
  },
  {
   "cell_type": "code",
   "execution_count": 151,
   "id": "64fa8d03",
   "metadata": {},
   "outputs": [
    {
     "data": {
      "text/plain": [
       "3"
      ]
     },
     "execution_count": 151,
     "metadata": {},
     "output_type": "execute_result"
    }
   ],
   "source": [
    "len(B)"
   ]
  },
  {
   "cell_type": "code",
   "execution_count": 152,
   "id": "c514ebdc",
   "metadata": {},
   "outputs": [
    {
     "data": {
      "text/plain": [
       "(2, 3)"
      ]
     },
     "execution_count": 152,
     "metadata": {},
     "output_type": "execute_result"
    }
   ],
   "source": [
    "B[1:]"
   ]
  },
  {
   "cell_type": "code",
   "execution_count": 153,
   "id": "c4b429e8",
   "metadata": {},
   "outputs": [
    {
     "data": {
      "text/plain": [
       "[('watch', 5000), ('phone', 10000), ('laptop', 50000), ('shirt', 1000)]"
      ]
     },
     "execution_count": 153,
     "metadata": {},
     "output_type": "execute_result"
    }
   ],
   "source": [
    "amazon_cart\n"
   ]
  },
  {
   "cell_type": "code",
   "execution_count": 162,
   "id": "15950bb1",
   "metadata": {},
   "outputs": [
    {
     "name": "stdout",
     "output_type": "stream",
     "text": [
      "what you want to purchase phone\n",
      "('phone', 10000)\n"
     ]
    }
   ],
   "source": [
    "amazon_cart = [(\"watch\", 5000), (\"phone\", 10000), (\"laptop\", 50000), (\"shirt\", 1000)]\n",
    "\n",
    "my_choice = input(\"what you want to purchase \")\n",
    "\n",
    "\n",
    "for item in amazon_cart:\n",
    "    if item[0] == my_choice:\n",
    "        print(item)"
   ]
  },
  {
   "cell_type": "code",
   "execution_count": 155,
   "id": "a2b97fe9",
   "metadata": {},
   "outputs": [
    {
     "data": {
      "text/plain": [
       "'phone'"
      ]
     },
     "execution_count": 155,
     "metadata": {},
     "output_type": "execute_result"
    }
   ],
   "source": [
    "my_choice"
   ]
  },
  {
   "cell_type": "markdown",
   "id": "fc2a7b22",
   "metadata": {},
   "source": [
    "# sets\n",
    "\n",
    "unorfdered collection of unique elements"
   ]
  },
  {
   "cell_type": "code",
   "execution_count": 163,
   "id": "5a2f8172",
   "metadata": {},
   "outputs": [
    {
     "data": {
      "text/plain": [
       "{1, 4, 5, 6, 7, 8, 44}"
      ]
     },
     "execution_count": 163,
     "metadata": {},
     "output_type": "execute_result"
    }
   ],
   "source": [
    "Z = {1,1,1,1,44,4,5,6,7,7,8}\n",
    "\n",
    "Z"
   ]
  },
  {
   "cell_type": "code",
   "execution_count": 164,
   "id": "76718b10",
   "metadata": {},
   "outputs": [
    {
     "data": {
      "text/plain": [
       "dict"
      ]
     },
     "execution_count": 164,
     "metadata": {},
     "output_type": "execute_result"
    }
   ],
   "source": [
    "Y = {}\n",
    "\n",
    "type(Y)"
   ]
  },
  {
   "cell_type": "code",
   "execution_count": 165,
   "id": "ff89d326",
   "metadata": {},
   "outputs": [
    {
     "data": {
      "text/plain": [
       "set"
      ]
     },
     "execution_count": 165,
     "metadata": {},
     "output_type": "execute_result"
    }
   ],
   "source": [
    "X = set()\n",
    "\n",
    "type(X)"
   ]
  },
  {
   "cell_type": "code",
   "execution_count": 166,
   "id": "5dc3d6ae",
   "metadata": {},
   "outputs": [],
   "source": [
    "X = {1,1,1,1,44,4,5,6,7,7,8}\n",
    "\n",
    "X.add(\"Atul\")"
   ]
  },
  {
   "cell_type": "code",
   "execution_count": 167,
   "id": "acf79522",
   "metadata": {},
   "outputs": [
    {
     "data": {
      "text/plain": [
       "{1, 4, 44, 5, 6, 7, 8, 'Atul'}"
      ]
     },
     "execution_count": 167,
     "metadata": {},
     "output_type": "execute_result"
    }
   ],
   "source": [
    "X"
   ]
  },
  {
   "cell_type": "code",
   "execution_count": 168,
   "id": "54d7ef1b",
   "metadata": {},
   "outputs": [],
   "source": [
    "X.remove(4)"
   ]
  },
  {
   "cell_type": "code",
   "execution_count": 169,
   "id": "5da9cf74",
   "metadata": {},
   "outputs": [
    {
     "data": {
      "text/plain": [
       "{1, 44, 5, 6, 7, 8, 'Atul'}"
      ]
     },
     "execution_count": 169,
     "metadata": {},
     "output_type": "execute_result"
    }
   ],
   "source": [
    "X"
   ]
  },
  {
   "cell_type": "code",
   "execution_count": null,
   "id": "c7865b89",
   "metadata": {},
   "outputs": [],
   "source": []
  }
 ],
 "metadata": {
  "kernelspec": {
   "display_name": "Python 3 (ipykernel)",
   "language": "python",
   "name": "python3"
  },
  "language_info": {
   "codemirror_mode": {
    "name": "ipython",
    "version": 3
   },
   "file_extension": ".py",
   "mimetype": "text/x-python",
   "name": "python",
   "nbconvert_exporter": "python",
   "pygments_lexer": "ipython3",
   "version": "3.8.3rc1"
  }
 },
 "nbformat": 4,
 "nbformat_minor": 5
}
