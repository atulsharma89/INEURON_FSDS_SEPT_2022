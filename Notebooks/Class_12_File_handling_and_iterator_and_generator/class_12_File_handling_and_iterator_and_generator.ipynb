{
 "cells": [
  {
   "cell_type": "code",
   "execution_count": 1,
   "id": "f70653fb",
   "metadata": {},
   "outputs": [],
   "source": [
    "#file handling"
   ]
  },
  {
   "cell_type": "code",
   "execution_count": 10,
   "id": "4c8ae1ab",
   "metadata": {},
   "outputs": [
    {
     "name": "stdout",
     "output_type": "stream",
     "text": [
      "class_12_File_handling_and_iterator_and_generator.ipynb\r\n",
      "test.txt\r\n"
     ]
    }
   ],
   "source": [
    "!ls"
   ]
  },
  {
   "cell_type": "code",
   "execution_count": 9,
   "id": "401b7345",
   "metadata": {},
   "outputs": [
    {
     "ename": "NameError",
     "evalue": "name 'pwd' is not defined",
     "output_type": "error",
     "traceback": [
      "\u001b[0;31m---------------------------------------------------------------------------\u001b[0m",
      "\u001b[0;31mNameError\u001b[0m                                 Traceback (most recent call last)",
      "Input \u001b[0;32mIn [9]\u001b[0m, in \u001b[0;36m<cell line: 3>\u001b[0;34m()\u001b[0m\n\u001b[1;32m      1\u001b[0m \u001b[38;5;66;03m#present working directory\u001b[39;00m\n\u001b[0;32m----> 3\u001b[0m \u001b[43mpwd\u001b[49m()\n",
      "\u001b[0;31mNameError\u001b[0m: name 'pwd' is not defined"
     ]
    }
   ],
   "source": [
    "#present working directory\n",
    "\n",
    "pwd()"
   ]
  },
  {
   "cell_type": "code",
   "execution_count": 11,
   "id": "8b74fdaa",
   "metadata": {},
   "outputs": [
    {
     "data": {
      "text/plain": [
       "_io.TextIOWrapper"
      ]
     },
     "execution_count": 11,
     "metadata": {},
     "output_type": "execute_result"
    }
   ],
   "source": [
    "#open a file\n",
    "f = open('test.txt')\n",
    "\n",
    "type(f)"
   ]
  },
  {
   "cell_type": "code",
   "execution_count": 15,
   "id": "51554ee6",
   "metadata": {},
   "outputs": [],
   "source": [
    "#closing a file\n",
    "f.close()"
   ]
  },
  {
   "cell_type": "code",
   "execution_count": 16,
   "id": "35afa6d3",
   "metadata": {},
   "outputs": [
    {
     "data": {
      "text/plain": [
       "'i wrote code\\nfirst line\\nsecond line\\nthid\\nineuron'"
      ]
     },
     "execution_count": 16,
     "metadata": {},
     "output_type": "execute_result"
    }
   ],
   "source": [
    "f = open('test.txt','r')\n",
    "\n",
    "f.read()\n",
    "\n"
   ]
  },
  {
   "cell_type": "code",
   "execution_count": 18,
   "id": "0d4cb886",
   "metadata": {},
   "outputs": [
    {
     "data": {
      "text/plain": [
       "''"
      ]
     },
     "execution_count": 18,
     "metadata": {},
     "output_type": "execute_result"
    }
   ],
   "source": [
    "#cursor reached till the end\n",
    "f.read()"
   ]
  },
  {
   "cell_type": "code",
   "execution_count": 22,
   "id": "cdbab13f",
   "metadata": {},
   "outputs": [
    {
     "data": {
      "text/plain": [
       "'i wrote code\\nfirst line\\nsecond line\\nthid\\nineuron'"
      ]
     },
     "execution_count": 22,
     "metadata": {},
     "output_type": "execute_result"
    }
   ],
   "source": [
    "f = open('test.txt','r')\n",
    "\n",
    "f.read()"
   ]
  },
  {
   "cell_type": "code",
   "execution_count": 23,
   "id": "fe078f43",
   "metadata": {},
   "outputs": [
    {
     "data": {
      "text/plain": [
       "''"
      ]
     },
     "execution_count": 23,
     "metadata": {},
     "output_type": "execute_result"
    }
   ],
   "source": [
    "f.read(4)"
   ]
  },
  {
   "cell_type": "code",
   "execution_count": 24,
   "id": "541a57d4",
   "metadata": {},
   "outputs": [
    {
     "data": {
      "text/plain": [
       "5"
      ]
     },
     "execution_count": 24,
     "metadata": {},
     "output_type": "execute_result"
    }
   ],
   "source": [
    "f = open('test.txt','r')\n",
    "\n",
    "f.read(5)\n",
    "#get the current file position\n",
    "f.tell()"
   ]
  },
  {
   "cell_type": "code",
   "execution_count": 27,
   "id": "062961bb",
   "metadata": {},
   "outputs": [
    {
     "data": {
      "text/plain": [
       "0"
      ]
     },
     "execution_count": 27,
     "metadata": {},
     "output_type": "execute_result"
    }
   ],
   "source": [
    "#bringing file cursor to old position\n",
    "\n",
    "f.seek(0)"
   ]
  },
  {
   "cell_type": "code",
   "execution_count": 28,
   "id": "e3701d11",
   "metadata": {},
   "outputs": [
    {
     "data": {
      "text/plain": [
       "'i wrote code\\nfirst line\\nsecond line\\nthid\\nineuron'"
      ]
     },
     "execution_count": 28,
     "metadata": {},
     "output_type": "execute_result"
    }
   ],
   "source": [
    "f.read()"
   ]
  },
  {
   "cell_type": "code",
   "execution_count": 29,
   "id": "a0908790",
   "metadata": {},
   "outputs": [
    {
     "data": {
      "text/plain": [
       "''"
      ]
     },
     "execution_count": 29,
     "metadata": {},
     "output_type": "execute_result"
    }
   ],
   "source": [
    "f.read()"
   ]
  },
  {
   "cell_type": "code",
   "execution_count": 30,
   "id": "7e0e29f7",
   "metadata": {},
   "outputs": [
    {
     "data": {
      "text/plain": [
       "0"
      ]
     },
     "execution_count": 30,
     "metadata": {},
     "output_type": "execute_result"
    }
   ],
   "source": [
    "f.seek(0)"
   ]
  },
  {
   "cell_type": "code",
   "execution_count": 31,
   "id": "7ac59204",
   "metadata": {},
   "outputs": [
    {
     "data": {
      "text/plain": [
       "'i wrote code\\nfirst line\\nsecond line\\nthid\\nineuron'"
      ]
     },
     "execution_count": 31,
     "metadata": {},
     "output_type": "execute_result"
    }
   ],
   "source": [
    "f.read()"
   ]
  },
  {
   "cell_type": "code",
   "execution_count": 33,
   "id": "2a5c6818",
   "metadata": {},
   "outputs": [
    {
     "name": "stdout",
     "output_type": "stream",
     "text": [
      "first line\n",
      "second line\n",
      "thid\n",
      "ineuron\n"
     ]
    }
   ],
   "source": [
    "f = open('test.txt','r')\n",
    "\n",
    "for line in f:\n",
    "    p = f.read()\n",
    "    print(p)"
   ]
  },
  {
   "cell_type": "code",
   "execution_count": 2,
   "id": "8e5ed56e",
   "metadata": {},
   "outputs": [],
   "source": [
    "with open('test.txt','r') as f:\n",
    "    f.read()\n",
    "    pass"
   ]
  },
  {
   "cell_type": "markdown",
   "id": "4f3e03c6",
   "metadata": {},
   "source": [
    "# writing a file"
   ]
  },
  {
   "cell_type": "code",
   "execution_count": 4,
   "id": "020cd1fc",
   "metadata": {},
   "outputs": [
    {
     "name": "stdout",
     "output_type": "stream",
     "text": [
      "done\n"
     ]
    }
   ],
   "source": [
    "data = \"ineuron\"\n",
    "f = open('test1.txt','w')\n",
    "\n",
    "f.write(data)\n",
    "\n",
    "print(\"done\")\n",
    "f.close()"
   ]
  },
  {
   "cell_type": "code",
   "execution_count": 8,
   "id": "534e3b6c",
   "metadata": {},
   "outputs": [
    {
     "data": {
      "text/plain": [
       "11"
      ]
     },
     "execution_count": 8,
     "metadata": {},
     "output_type": "execute_result"
    }
   ],
   "source": [
    "f = open('test2.txt','w' )\n",
    "f.write('first line\\n')\n",
    "f.write('Second line\\n')\n",
    "f.write('Third line\\n')"
   ]
  },
  {
   "cell_type": "code",
   "execution_count": 9,
   "id": "73af6d25",
   "metadata": {},
   "outputs": [],
   "source": [
    "with open('test3.txt','w') as f:\n",
    "    f.write('first line\\n')\n",
    "    f.write('Second line\\n')\n",
    "    f.write('Third line\\n')\n",
    "    "
   ]
  },
  {
   "cell_type": "code",
   "execution_count": 11,
   "id": "8da883ae",
   "metadata": {},
   "outputs": [
    {
     "name": "stdout",
     "output_type": "stream",
     "text": [
      "enter the first number9\n",
      "enter the second number0\n",
      "some issue with calc division by zero\n"
     ]
    }
   ],
   "source": [
    "try:\n",
    "    a = int(input(\"enter the first number\"))\n",
    "    b = int(input(\"enter the second number\"))\n",
    "    c = a/b\n",
    "except ArithmeticError as e:\n",
    "    print(\"some issue with calc\",e)\n",
    "    f = open('ineuron.txt','w+')\n",
    "    f.write(\"hi\")\n",
    "    f.read()\n",
    "else:\n",
    "    print(\"execute once try is success\")\n",
    "    \n",
    "    try:\n",
    "        f = open(\"test3.txt\",'w')\n",
    "    except:\n",
    "        print(\"there is issue with try block\")\n",
    "    \n",
    "            "
   ]
  },
  {
   "cell_type": "code",
   "execution_count": null,
   "id": "34baf796",
   "metadata": {},
   "outputs": [],
   "source": []
  }
 ],
 "metadata": {
  "kernelspec": {
   "display_name": "Python 3 (ipykernel)",
   "language": "python",
   "name": "python3"
  },
  "language_info": {
   "codemirror_mode": {
    "name": "ipython",
    "version": 3
   },
   "file_extension": ".py",
   "mimetype": "text/x-python",
   "name": "python",
   "nbconvert_exporter": "python",
   "pygments_lexer": "ipython3",
   "version": "3.8.3rc1"
  }
 },
 "nbformat": 4,
 "nbformat_minor": 5
}
