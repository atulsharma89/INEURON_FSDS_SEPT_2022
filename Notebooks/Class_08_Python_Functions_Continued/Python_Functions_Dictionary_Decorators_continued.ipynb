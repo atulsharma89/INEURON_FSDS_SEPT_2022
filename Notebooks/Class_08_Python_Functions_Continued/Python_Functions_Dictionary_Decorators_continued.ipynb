{
 "cells": [
  {
   "cell_type": "code",
   "execution_count": 1,
   "id": "354f8d2a",
   "metadata": {},
   "outputs": [],
   "source": [
    "def test1():\n",
    "    a = 5+6\n",
    "    return a"
   ]
  },
  {
   "cell_type": "code",
   "execution_count": 2,
   "id": "41afb4c8",
   "metadata": {},
   "outputs": [
    {
     "data": {
      "text/plain": [
       "11"
      ]
     },
     "execution_count": 2,
     "metadata": {},
     "output_type": "execute_result"
    }
   ],
   "source": [
    "test1()"
   ]
  },
  {
   "cell_type": "code",
   "execution_count": 3,
   "id": "61f78814",
   "metadata": {},
   "outputs": [],
   "source": [
    "def test2(a,b):\n",
    "    return a+b"
   ]
  },
  {
   "cell_type": "code",
   "execution_count": 4,
   "id": "e6d7360e",
   "metadata": {},
   "outputs": [
    {
     "data": {
      "text/plain": [
       "15"
      ]
     },
     "execution_count": 4,
     "metadata": {},
     "output_type": "execute_result"
    }
   ],
   "source": [
    "test2(6,9)"
   ]
  },
  {
   "cell_type": "code",
   "execution_count": 5,
   "id": "357d3b9b",
   "metadata": {},
   "outputs": [
    {
     "data": {
      "text/plain": [
       "'atulsuresh'"
      ]
     },
     "execution_count": 5,
     "metadata": {},
     "output_type": "execute_result"
    }
   ],
   "source": [
    "test2(\"atul\",\"suresh\")"
   ]
  },
  {
   "cell_type": "code",
   "execution_count": 6,
   "id": "186133d1",
   "metadata": {},
   "outputs": [
    {
     "ename": "TypeError",
     "evalue": "can only concatenate str (not \"int\") to str",
     "output_type": "error",
     "traceback": [
      "\u001b[0;31m---------------------------------------------------------------------------\u001b[0m",
      "\u001b[0;31mTypeError\u001b[0m                                 Traceback (most recent call last)",
      "Input \u001b[0;32mIn [6]\u001b[0m, in \u001b[0;36m<cell line: 1>\u001b[0;34m()\u001b[0m\n\u001b[0;32m----> 1\u001b[0m \u001b[43mtest2\u001b[49m\u001b[43m(\u001b[49m\u001b[38;5;124;43m\"\u001b[39;49m\u001b[38;5;124;43matul\u001b[39;49m\u001b[38;5;124;43m\"\u001b[39;49m\u001b[43m,\u001b[49m\u001b[38;5;241;43m9\u001b[39;49m\u001b[43m)\u001b[49m\n",
      "Input \u001b[0;32mIn [3]\u001b[0m, in \u001b[0;36mtest2\u001b[0;34m(a, b)\u001b[0m\n\u001b[1;32m      1\u001b[0m \u001b[38;5;28;01mdef\u001b[39;00m \u001b[38;5;21mtest2\u001b[39m(a,b):\n\u001b[0;32m----> 2\u001b[0m     \u001b[38;5;28;01mreturn\u001b[39;00m \u001b[43ma\u001b[49m\u001b[38;5;241;43m+\u001b[39;49m\u001b[43mb\u001b[49m\n",
      "\u001b[0;31mTypeError\u001b[0m: can only concatenate str (not \"int\") to str"
     ]
    }
   ],
   "source": [
    "#test2(\"atul\",9)"
   ]
  },
  {
   "cell_type": "code",
   "execution_count": 8,
   "id": "7c574c26",
   "metadata": {},
   "outputs": [
    {
     "data": {
      "text/plain": [
       "'nareshpinku'"
      ]
     },
     "execution_count": 8,
     "metadata": {},
     "output_type": "execute_result"
    }
   ],
   "source": [
    "test2(b=\"pinku\",a=\"naresh\")"
   ]
  },
  {
   "cell_type": "code",
   "execution_count": 9,
   "id": "9b9e8d92",
   "metadata": {},
   "outputs": [],
   "source": [
    "#function with any number of inputs"
   ]
  },
  {
   "cell_type": "code",
   "execution_count": 10,
   "id": "0643c769",
   "metadata": {},
   "outputs": [],
   "source": [
    "def test3(*args):\n",
    "    return args"
   ]
  },
  {
   "cell_type": "code",
   "execution_count": 13,
   "id": "e97d4507",
   "metadata": {},
   "outputs": [
    {
     "data": {
      "text/plain": [
       "(1, 3, 4, 'fff')"
      ]
     },
     "execution_count": 13,
     "metadata": {},
     "output_type": "execute_result"
    }
   ],
   "source": [
    "test3(1,3,4,'fff')\n",
    "#wrapped in tuple\n",
    "#datatype of args is tuple"
   ]
  },
  {
   "cell_type": "code",
   "execution_count": 14,
   "id": "f29270ab",
   "metadata": {},
   "outputs": [
    {
     "data": {
      "text/plain": [
       "([1, 2, 3, 4, 5], 'atul', (888, 99))"
      ]
     },
     "execution_count": 14,
     "metadata": {},
     "output_type": "execute_result"
    }
   ],
   "source": [
    "test3([1,2,3,4,5],'atul',(888,99))"
   ]
  },
  {
   "cell_type": "code",
   "execution_count": 15,
   "id": "d65896bb",
   "metadata": {},
   "outputs": [],
   "source": [
    "def test4(*args):\n",
    "    return list(args)"
   ]
  },
  {
   "cell_type": "code",
   "execution_count": 16,
   "id": "4d261552",
   "metadata": {},
   "outputs": [
    {
     "data": {
      "text/plain": [
       "[[1, 2, 3, 4, 5], 'atul', (888, 99), 99]"
      ]
     },
     "execution_count": 16,
     "metadata": {},
     "output_type": "execute_result"
    }
   ],
   "source": [
    "test4([1,2,3,4,5],'atul',(888,99),99)"
   ]
  },
  {
   "cell_type": "code",
   "execution_count": 17,
   "id": "0562b71a",
   "metadata": {},
   "outputs": [],
   "source": [
    "def test5(*args):\n",
    "    l=[]\n",
    "    for i in args:\n",
    "        l.append(i)\n",
    "    return l"
   ]
  },
  {
   "cell_type": "code",
   "execution_count": 18,
   "id": "f50add75",
   "metadata": {},
   "outputs": [
    {
     "data": {
      "text/plain": [
       "[[1, 2, 3, 4, 5], 'atul', (888, 99), 99, 'sharma']"
      ]
     },
     "execution_count": 18,
     "metadata": {},
     "output_type": "execute_result"
    }
   ],
   "source": [
    "test5([1,2,3,4,5],'atul',(888,99),99,'sharma')"
   ]
  },
  {
   "cell_type": "code",
   "execution_count": 19,
   "id": "e67686d9",
   "metadata": {},
   "outputs": [],
   "source": [
    "def test6(*atul):\n",
    "    return atul"
   ]
  },
  {
   "cell_type": "code",
   "execution_count": 20,
   "id": "1ae2db70",
   "metadata": {},
   "outputs": [
    {
     "data": {
      "text/plain": [
       "([1, 2, 3, 4, 5], 'atul', (888, 99), 99, 'sharma', (9+8j))"
      ]
     },
     "execution_count": 20,
     "metadata": {},
     "output_type": "execute_result"
    }
   ],
   "source": [
    "test6([1,2,3,4,5],'atul',(888,99),99,'sharma',9+8j)"
   ]
  },
  {
   "cell_type": "code",
   "execution_count": null,
   "id": "ec194726",
   "metadata": {},
   "outputs": [],
   "source": []
  },
  {
   "cell_type": "markdown",
   "id": "3e0a1892",
   "metadata": {},
   "source": [
    "# Dictionary\n",
    "\n",
    "# data is stored in key value pair\n",
    "# key cannot be duplicated"
   ]
  },
  {
   "cell_type": "code",
   "execution_count": 23,
   "id": "f7d97d41",
   "metadata": {},
   "outputs": [],
   "source": [
    "l=[1,2,3,4]\n",
    "t = (3,4,4,8)\n",
    "s={1,1,1,4,4}"
   ]
  },
  {
   "cell_type": "code",
   "execution_count": 25,
   "id": "8e7f6df8",
   "metadata": {},
   "outputs": [
    {
     "data": {
      "text/plain": [
       "{1, 4}"
      ]
     },
     "execution_count": 25,
     "metadata": {},
     "output_type": "execute_result"
    }
   ],
   "source": [
    "s"
   ]
  },
  {
   "cell_type": "code",
   "execution_count": 26,
   "id": "e2efd4e4",
   "metadata": {},
   "outputs": [
    {
     "data": {
      "text/plain": [
       "set"
      ]
     },
     "execution_count": 26,
     "metadata": {},
     "output_type": "execute_result"
    }
   ],
   "source": [
    "type(s)"
   ]
  },
  {
   "cell_type": "code",
   "execution_count": 27,
   "id": "2a319a77",
   "metadata": {},
   "outputs": [],
   "source": [
    "d ={}"
   ]
  },
  {
   "cell_type": "code",
   "execution_count": 28,
   "id": "81b3c3ef",
   "metadata": {},
   "outputs": [
    {
     "data": {
      "text/plain": [
       "dict"
      ]
     },
     "execution_count": 28,
     "metadata": {},
     "output_type": "execute_result"
    }
   ],
   "source": [
    "type(d)"
   ]
  },
  {
   "cell_type": "code",
   "execution_count": 29,
   "id": "2e4bfd47",
   "metadata": {},
   "outputs": [],
   "source": [
    "d={\"key1\":\"atul\",\"key2\":[1,2,3,4,5]}"
   ]
  },
  {
   "cell_type": "code",
   "execution_count": 30,
   "id": "6587d5f7",
   "metadata": {},
   "outputs": [
    {
     "data": {
      "text/plain": [
       "'atul'"
      ]
     },
     "execution_count": 30,
     "metadata": {},
     "output_type": "execute_result"
    }
   ],
   "source": [
    "d[\"key1\"]"
   ]
  },
  {
   "cell_type": "code",
   "execution_count": 31,
   "id": "8fc37bfe",
   "metadata": {},
   "outputs": [],
   "source": [
    "d[\"key3\"] = \"sharma ji\"\n",
    "d[123] = \"numeric value with numberic key\""
   ]
  },
  {
   "cell_type": "code",
   "execution_count": 32,
   "id": "8e0dd1c4",
   "metadata": {},
   "outputs": [
    {
     "data": {
      "text/plain": [
       "{'key1': 'atul',\n",
       " 'key2': [1, 2, 3, 4, 5],\n",
       " 'key3': 'sharma ji',\n",
       " 123: 'numeric value with numberic key'}"
      ]
     },
     "execution_count": 32,
     "metadata": {},
     "output_type": "execute_result"
    }
   ],
   "source": [
    "d"
   ]
  },
  {
   "cell_type": "code",
   "execution_count": 33,
   "id": "74698a80",
   "metadata": {},
   "outputs": [
    {
     "ename": "SyntaxError",
     "evalue": "invalid syntax (1132516953.py, line 1)",
     "output_type": "error",
     "traceback": [
      "\u001b[0;36m  Input \u001b[0;32mIn [33]\u001b[0;36m\u001b[0m\n\u001b[0;31m    d1={@: 123}\u001b[0m\n\u001b[0m        ^\u001b[0m\n\u001b[0;31mSyntaxError\u001b[0m\u001b[0;31m:\u001b[0m invalid syntax\n"
     ]
    }
   ],
   "source": [
    "d1={@: 123}\n",
    "\n",
    "#special characters cannot be used as keys"
   ]
  },
  {
   "cell_type": "code",
   "execution_count": 38,
   "id": "4ba98931",
   "metadata": {},
   "outputs": [
    {
     "ename": "TypeError",
     "evalue": "unhashable type: 'list'",
     "output_type": "error",
     "traceback": [
      "\u001b[0;31m---------------------------------------------------------------------------\u001b[0m",
      "\u001b[0;31mTypeError\u001b[0m                                 Traceback (most recent call last)",
      "Input \u001b[0;32mIn [38]\u001b[0m, in \u001b[0;36m<cell line: 1>\u001b[0;34m()\u001b[0m\n\u001b[0;32m----> 1\u001b[0m d5 \u001b[38;5;241m=\u001b[39m {[\u001b[38;5;241m1\u001b[39m,\u001b[38;5;241m2\u001b[39m,\u001b[38;5;241m3\u001b[39m,\u001b[38;5;241m4\u001b[39m]: \u001b[38;5;124m\"\u001b[39m\u001b[38;5;124matul\u001b[39m\u001b[38;5;124m\"\u001b[39m}\n",
      "\u001b[0;31mTypeError\u001b[0m: unhashable type: 'list'"
     ]
    }
   ],
   "source": [
    "d5 = {[1,2,3,4]: \"atul\"}\n",
    "\n",
    "#list as key not allowed becuase its mutable"
   ]
  },
  {
   "cell_type": "code",
   "execution_count": 39,
   "id": "e864fb39",
   "metadata": {},
   "outputs": [],
   "source": [
    "d5 = {(1,2,3,4): \"atul\"}\n",
    "\n",
    "#tuples are allowed as key as tuples are immutable and keys are immutable in disctionaries"
   ]
  },
  {
   "cell_type": "code",
   "execution_count": 40,
   "id": "7681d5f5",
   "metadata": {},
   "outputs": [
    {
     "data": {
      "text/plain": [
       "{(1, 2, 3, 4): 'atul'}"
      ]
     },
     "execution_count": 40,
     "metadata": {},
     "output_type": "execute_result"
    }
   ],
   "source": [
    "d5"
   ]
  },
  {
   "cell_type": "code",
   "execution_count": 41,
   "id": "a7f7b7a8",
   "metadata": {},
   "outputs": [],
   "source": [
    "d7 ={\"name\": \"atul\", \"org\": \"apple\", \"mailid\": \"atul@apple\", \"name\": \"atulwa\"}"
   ]
  },
  {
   "cell_type": "code",
   "execution_count": 43,
   "id": "0e3f36f5",
   "metadata": {},
   "outputs": [
    {
     "data": {
      "text/plain": [
       "{'name': 'atulwa', 'org': 'apple', 'mailid': 'atul@apple'}"
      ]
     },
     "execution_count": 43,
     "metadata": {},
     "output_type": "execute_result"
    }
   ],
   "source": [
    "d7\n",
    "\n",
    "#in dictionary keys cannot be duplicated\n",
    "#LATEST key value is considered"
   ]
  },
  {
   "cell_type": "code",
   "execution_count": 44,
   "id": "9aad42a3",
   "metadata": {},
   "outputs": [],
   "source": [
    "d8 ={\"name \": \"atul\", \"org\": \"apple\", \"mailid\": \"atul@apple\", \"name\": \"atulwa\"}"
   ]
  },
  {
   "cell_type": "code",
   "execution_count": 46,
   "id": "d4325679",
   "metadata": {},
   "outputs": [
    {
     "data": {
      "text/plain": [
       "{'name ': 'atul', 'org': 'apple', 'mailid': 'atul@apple', 'name': 'atulwa'}"
      ]
     },
     "execution_count": 46,
     "metadata": {},
     "output_type": "execute_result"
    }
   ],
   "source": [
    "d8\n",
    "#in below example name and name has space that is reason it is considered different"
   ]
  },
  {
   "cell_type": "code",
   "execution_count": 47,
   "id": "6e7c7f66",
   "metadata": {},
   "outputs": [],
   "source": [
    "#dictionary inside dictionary\n",
    "\n",
    "d9 = {\"name\": \"atul\", \"mentor\":{\"maths\": \"pinku\",\"science\": \"chimpu\"}}"
   ]
  },
  {
   "cell_type": "code",
   "execution_count": 48,
   "id": "efe8a239",
   "metadata": {},
   "outputs": [
    {
     "data": {
      "text/plain": [
       "{'name': 'atul', 'mentor': {'maths': 'pinku', 'science': 'chimpu'}}"
      ]
     },
     "execution_count": 48,
     "metadata": {},
     "output_type": "execute_result"
    }
   ],
   "source": [
    "d9"
   ]
  },
  {
   "cell_type": "code",
   "execution_count": 49,
   "id": "2437b836",
   "metadata": {},
   "outputs": [
    {
     "data": {
      "text/plain": [
       "{'name': 'atulwa', 'org': 'apple', 'mailid': 'atul@apple'}"
      ]
     },
     "execution_count": 49,
     "metadata": {},
     "output_type": "execute_result"
    }
   ],
   "source": [
    "d7"
   ]
  },
  {
   "cell_type": "code",
   "execution_count": 50,
   "id": "61c3625a",
   "metadata": {},
   "outputs": [
    {
     "data": {
      "text/plain": [
       "'atul@apple'"
      ]
     },
     "execution_count": 50,
     "metadata": {},
     "output_type": "execute_result"
    }
   ],
   "source": [
    "#extracting values from dictionary\n",
    "\n",
    "d7[\"mailid\"]"
   ]
  },
  {
   "cell_type": "code",
   "execution_count": 51,
   "id": "626ae067",
   "metadata": {},
   "outputs": [
    {
     "data": {
      "text/plain": [
       "{'name': 'atul', 'mentor': {'maths': 'pinku', 'science': 'chimpu'}}"
      ]
     },
     "execution_count": 51,
     "metadata": {},
     "output_type": "execute_result"
    }
   ],
   "source": [
    "d9"
   ]
  },
  {
   "cell_type": "code",
   "execution_count": 52,
   "id": "c99d1677",
   "metadata": {},
   "outputs": [
    {
     "data": {
      "text/plain": [
       "'pinku'"
      ]
     },
     "execution_count": 52,
     "metadata": {},
     "output_type": "execute_result"
    }
   ],
   "source": [
    "d9[\"mentor\"][\"maths\"]"
   ]
  },
  {
   "cell_type": "code",
   "execution_count": 54,
   "id": "c8b7b694",
   "metadata": {},
   "outputs": [],
   "source": [
    "d10 = {\"name\": \"atul\", \"mentor\":{\"maths\": \"pinku\",\"science\": \"chimpu\"},\"marks\":[1,2,3,4,5,6,7]}"
   ]
  },
  {
   "cell_type": "code",
   "execution_count": 55,
   "id": "c1cacb95",
   "metadata": {},
   "outputs": [
    {
     "data": {
      "text/plain": [
       "3"
      ]
     },
     "execution_count": 55,
     "metadata": {},
     "output_type": "execute_result"
    }
   ],
   "source": [
    "d10[\"marks\"][2]"
   ]
  },
  {
   "cell_type": "code",
   "execution_count": 57,
   "id": "1f8559c4",
   "metadata": {},
   "outputs": [
    {
     "data": {
      "text/plain": [
       "dict_keys(['name', 'mentor', 'marks'])"
      ]
     },
     "execution_count": 57,
     "metadata": {},
     "output_type": "execute_result"
    }
   ],
   "source": [
    "#listing keys in dictionary\n",
    "d10.keys()"
   ]
  },
  {
   "cell_type": "code",
   "execution_count": 59,
   "id": "21d54d5f",
   "metadata": {},
   "outputs": [
    {
     "data": {
      "text/plain": [
       "dict_values(['atul', {'maths': 'pinku', 'science': 'chimpu'}, [1, 2, 3, 4, 5, 6, 7]])"
      ]
     },
     "execution_count": 59,
     "metadata": {},
     "output_type": "execute_result"
    }
   ],
   "source": [
    "#listing values\n",
    "d10.values()"
   ]
  },
  {
   "cell_type": "code",
   "execution_count": 60,
   "id": "696f4acf",
   "metadata": {},
   "outputs": [
    {
     "data": {
      "text/plain": [
       "dict_items([('name', 'atul'), ('mentor', {'maths': 'pinku', 'science': 'chimpu'}), ('marks', [1, 2, 3, 4, 5, 6, 7])])"
      ]
     },
     "execution_count": 60,
     "metadata": {},
     "output_type": "execute_result"
    }
   ],
   "source": [
    "d10.items()"
   ]
  },
  {
   "cell_type": "code",
   "execution_count": 62,
   "id": "5c42c42b",
   "metadata": {},
   "outputs": [
    {
     "data": {
      "text/plain": [
       "['pinku', 'chimpu']"
      ]
     },
     "execution_count": 62,
     "metadata": {},
     "output_type": "execute_result"
    }
   ],
   "source": [
    "#extract values of a dictionary of dictionary\n",
    "\n",
    "list(d10[\"mentor\"].values())"
   ]
  },
  {
   "cell_type": "code",
   "execution_count": 65,
   "id": "e4f638d8",
   "metadata": {},
   "outputs": [],
   "source": [
    "#if your values are available as dictionary just append those dict values\n",
    "l=[]\n",
    "for i in d10.keys():\n",
    "    if type(d10[i]) ==dict:\n",
    "        l.append(d10[i].values())"
   ]
  },
  {
   "cell_type": "code",
   "execution_count": 66,
   "id": "72a03fe6",
   "metadata": {},
   "outputs": [
    {
     "data": {
      "text/plain": [
       "[dict_values(['pinku', 'chimpu'])]"
      ]
     },
     "execution_count": 66,
     "metadata": {},
     "output_type": "execute_result"
    }
   ],
   "source": [
    "l"
   ]
  },
  {
   "cell_type": "code",
   "execution_count": 67,
   "id": "a38b3870",
   "metadata": {},
   "outputs": [
    {
     "data": {
      "text/plain": [
       "[['pinku', 'chimpu']]"
      ]
     },
     "execution_count": 67,
     "metadata": {},
     "output_type": "execute_result"
    }
   ],
   "source": [
    "l=[]\n",
    "for i in d10.keys():\n",
    "    if type(d10[i]) ==dict:\n",
    "        l.append(list(d10[i].values()))\n",
    "        \n",
    "l"
   ]
  },
  {
   "cell_type": "code",
   "execution_count": 68,
   "id": "2243c36c",
   "metadata": {},
   "outputs": [],
   "source": [
    "d11 = {\"name\": \"atul\", \"mentor\":{\"maths\": \"pinku\",\"science\": \"chimpu\"},\"marks\":[1,2,3,4,5,6,7],\"mailid\":{\"pinku\":\"pinku@apple\",\"chimpu\":\"chimpu@apple\"}}"
   ]
  },
  {
   "cell_type": "code",
   "execution_count": 69,
   "id": "24c6cfb8",
   "metadata": {},
   "outputs": [
    {
     "data": {
      "text/plain": [
       "{'name': 'atul',\n",
       " 'mentor': {'maths': 'pinku', 'science': 'chimpu'},\n",
       " 'marks': [1, 2, 3, 4, 5, 6, 7],\n",
       " 'mailid': {'pinku': 'pinku@apple', 'chimpu': 'chimpu@apple'}}"
      ]
     },
     "execution_count": 69,
     "metadata": {},
     "output_type": "execute_result"
    }
   ],
   "source": [
    "d11"
   ]
  },
  {
   "cell_type": "code",
   "execution_count": 70,
   "id": "5d0dda88",
   "metadata": {},
   "outputs": [
    {
     "data": {
      "text/plain": [
       "[['pinku', 'chimpu'], ['pinku@apple', 'chimpu@apple']]"
      ]
     },
     "execution_count": 70,
     "metadata": {},
     "output_type": "execute_result"
    }
   ],
   "source": [
    "l=[]\n",
    "for i in d11.keys():\n",
    "    if type(d11[i]) ==dict:\n",
    "        l.append(list(d11[i].values()))\n",
    "        \n",
    "l"
   ]
  },
  {
   "cell_type": "code",
   "execution_count": 71,
   "id": "5e1e27b8",
   "metadata": {},
   "outputs": [],
   "source": [
    "def test9(d):\n",
    "    l=[]\n",
    "    for i in d11.keys():\n",
    "        if type(d11[i]) ==dict:\n",
    "            l.append(list(d11[i].values()))\n",
    "    return l\n",
    "\n",
    "\n",
    "    "
   ]
  },
  {
   "cell_type": "code",
   "execution_count": 75,
   "id": "be47cde4",
   "metadata": {},
   "outputs": [
    {
     "data": {
      "text/plain": [
       "[['pinku', 'chimpu'], ['pinku@apple', 'chimpu@apple']]"
      ]
     },
     "execution_count": 75,
     "metadata": {},
     "output_type": "execute_result"
    }
   ],
   "source": [
    "test9(d11)"
   ]
  },
  {
   "cell_type": "code",
   "execution_count": 73,
   "id": "28c17dc8",
   "metadata": {},
   "outputs": [
    {
     "data": {
      "text/plain": [
       "{'name': 'atul',\n",
       " 'mentor': {'maths': 'pinku', 'science': 'chimpu'},\n",
       " 'marks': [1, 2, 3, 4, 5, 6, 7],\n",
       " 'mailid': {'pinku': 'pinku@apple', 'chimpu': 'chimpu@apple'}}"
      ]
     },
     "execution_count": 73,
     "metadata": {},
     "output_type": "execute_result"
    }
   ],
   "source": [
    "d11"
   ]
  },
  {
   "cell_type": "code",
   "execution_count": 74,
   "id": "320f6cb8",
   "metadata": {},
   "outputs": [],
   "source": [
    "d11[\"mobile\"] = (1234,87678)"
   ]
  },
  {
   "cell_type": "code",
   "execution_count": 76,
   "id": "2c52c0f4",
   "metadata": {},
   "outputs": [
    {
     "data": {
      "text/plain": [
       "{'name': 'atul',\n",
       " 'mentor': {'maths': 'pinku', 'science': 'chimpu'},\n",
       " 'marks': [1, 2, 3, 4, 5, 6, 7],\n",
       " 'mailid': {'pinku': 'pinku@apple', 'chimpu': 'chimpu@apple'},\n",
       " 'mobile': (1234, 87678)}"
      ]
     },
     "execution_count": 76,
     "metadata": {},
     "output_type": "execute_result"
    }
   ],
   "source": [
    "d11"
   ]
  },
  {
   "cell_type": "code",
   "execution_count": 77,
   "id": "ecdd48d7",
   "metadata": {},
   "outputs": [
    {
     "data": {
      "text/plain": [
       "{'name': 'atul sharma',\n",
       " 'mentor': {'maths': 'pinku', 'science': 'chimpu'},\n",
       " 'marks': [1, 2, 3, 4, 5, 6, 7],\n",
       " 'mailid': {'pinku': 'pinku@apple', 'chimpu': 'chimpu@apple'},\n",
       " 'mobile': (1234, 87678)}"
      ]
     },
     "execution_count": 77,
     "metadata": {},
     "output_type": "execute_result"
    }
   ],
   "source": [
    "#updating values of keys in dictionary\n",
    "\n",
    "d11[\"name\"] = \"atul sharma\"\n",
    "\n",
    "d11"
   ]
  },
  {
   "cell_type": "code",
   "execution_count": 78,
   "id": "00efe369",
   "metadata": {},
   "outputs": [
    {
     "data": {
      "text/plain": [
       "{'name': 'atulwa', 'org': 'apple', 'mailid': 'atul@apple'}"
      ]
     },
     "execution_count": 78,
     "metadata": {},
     "output_type": "execute_result"
    }
   ],
   "source": [
    "d7"
   ]
  },
  {
   "cell_type": "code",
   "execution_count": 79,
   "id": "17384609",
   "metadata": {},
   "outputs": [],
   "source": [
    "#deleting dictionary\n",
    "\n",
    "del d7"
   ]
  },
  {
   "cell_type": "code",
   "execution_count": 80,
   "id": "4e7b8e8f",
   "metadata": {},
   "outputs": [
    {
     "ename": "NameError",
     "evalue": "name 'd7' is not defined",
     "output_type": "error",
     "traceback": [
      "\u001b[0;31m---------------------------------------------------------------------------\u001b[0m",
      "\u001b[0;31mNameError\u001b[0m                                 Traceback (most recent call last)",
      "Input \u001b[0;32mIn [80]\u001b[0m, in \u001b[0;36m<cell line: 1>\u001b[0;34m()\u001b[0m\n\u001b[0;32m----> 1\u001b[0m \u001b[43md7\u001b[49m\n",
      "\u001b[0;31mNameError\u001b[0m: name 'd7' is not defined"
     ]
    }
   ],
   "source": [
    "d7"
   ]
  },
  {
   "cell_type": "code",
   "execution_count": 81,
   "id": "df3dcba9",
   "metadata": {},
   "outputs": [
    {
     "data": {
      "text/plain": [
       "{'name ': 'atul', 'org': 'apple', 'mailid': 'atul@apple', 'name': 'atulwa'}"
      ]
     },
     "execution_count": 81,
     "metadata": {},
     "output_type": "execute_result"
    }
   ],
   "source": [
    "#deleting values from dictionary\n",
    "\n",
    "d8"
   ]
  },
  {
   "cell_type": "code",
   "execution_count": 83,
   "id": "06afeea0",
   "metadata": {},
   "outputs": [
    {
     "data": {
      "text/plain": [
       "{'org': 'apple', 'mailid': 'atul@apple'}"
      ]
     },
     "execution_count": 83,
     "metadata": {},
     "output_type": "execute_result"
    }
   ],
   "source": [
    "del d8[\"name \"]\n",
    "\n",
    "d8"
   ]
  },
  {
   "cell_type": "code",
   "execution_count": 84,
   "id": "4ee36867",
   "metadata": {},
   "outputs": [
    {
     "data": {
      "text/plain": [
       "{'org': 'apple'}"
      ]
     },
     "execution_count": 84,
     "metadata": {},
     "output_type": "execute_result"
    }
   ],
   "source": [
    "d8.pop('mailid')\n",
    "\n",
    "d8"
   ]
  },
  {
   "cell_type": "code",
   "execution_count": 85,
   "id": "bd80f43e",
   "metadata": {},
   "outputs": [],
   "source": [
    "d8[\"atulwasalary\"] = \"12345\""
   ]
  },
  {
   "cell_type": "code",
   "execution_count": 86,
   "id": "9495205e",
   "metadata": {},
   "outputs": [
    {
     "data": {
      "text/plain": [
       "{'org': 'apple', 'atulwasalary': '12345'}"
      ]
     },
     "execution_count": 86,
     "metadata": {},
     "output_type": "execute_result"
    }
   ],
   "source": [
    "d8"
   ]
  },
  {
   "cell_type": "markdown",
   "id": "e9fb2d07",
   "metadata": {},
   "source": [
    "# keword arguments\n",
    "\n",
    "# variable name with variable values"
   ]
  },
  {
   "cell_type": "code",
   "execution_count": 87,
   "id": "86c50118",
   "metadata": {},
   "outputs": [],
   "source": [
    "def test11(**kwargs):\n",
    "    return kwargs"
   ]
  },
  {
   "cell_type": "code",
   "execution_count": 88,
   "id": "26f68813",
   "metadata": {},
   "outputs": [
    {
     "ename": "TypeError",
     "evalue": "test11() takes 0 positional arguments but 1 was given",
     "output_type": "error",
     "traceback": [
      "\u001b[0;31m---------------------------------------------------------------------------\u001b[0m",
      "\u001b[0;31mTypeError\u001b[0m                                 Traceback (most recent call last)",
      "Input \u001b[0;32mIn [88]\u001b[0m, in \u001b[0;36m<cell line: 1>\u001b[0;34m()\u001b[0m\n\u001b[0;32m----> 1\u001b[0m \u001b[43mtest11\u001b[49m\u001b[43m(\u001b[49m\u001b[38;5;241;43m1234\u001b[39;49m\u001b[43m)\u001b[49m\n",
      "\u001b[0;31mTypeError\u001b[0m: test11() takes 0 positional arguments but 1 was given"
     ]
    }
   ],
   "source": [
    "test11(1234)"
   ]
  },
  {
   "cell_type": "code",
   "execution_count": 90,
   "id": "2e5742a0",
   "metadata": {},
   "outputs": [
    {
     "data": {
      "text/plain": [
       "{'a': 4, 'b': 8, 'c': 9, 'd': [1, 2, 3, 4, 5]}"
      ]
     },
     "execution_count": 90,
     "metadata": {},
     "output_type": "execute_result"
    }
   ],
   "source": [
    "test11(a=4,b=8,c=9,d=[1,2,3,4,5])\n",
    "\n",
    "#return as dictionary"
   ]
  },
  {
   "cell_type": "code",
   "execution_count": 91,
   "id": "72efc45c",
   "metadata": {},
   "outputs": [
    {
     "data": {
      "text/plain": [
       "{'a': 4, 'b': 8, 'c': 9, 'd': [1, 2, 3, 4, 5], 'e': {'name': 'atul'}}"
      ]
     },
     "execution_count": 91,
     "metadata": {},
     "output_type": "execute_result"
    }
   ],
   "source": [
    "test11(a=4,b=8,c=9,d=[1,2,3,4,5],e={'name':'atul'})\n",
    "\n"
   ]
  },
  {
   "cell_type": "code",
   "execution_count": 92,
   "id": "90bd153f",
   "metadata": {},
   "outputs": [],
   "source": [
    "#function is called first class citizen\n",
    "#we can create function inside function"
   ]
  },
  {
   "cell_type": "markdown",
   "id": "dfcc2c24",
   "metadata": {},
   "source": [
    "# function inside function"
   ]
  },
  {
   "cell_type": "code",
   "execution_count": 93,
   "id": "7ab80416",
   "metadata": {},
   "outputs": [],
   "source": [
    "def test12(a):\n",
    "    return a"
   ]
  },
  {
   "cell_type": "code",
   "execution_count": 94,
   "id": "2987c65c",
   "metadata": {},
   "outputs": [],
   "source": [
    "def test13(b):\n",
    "    return b"
   ]
  },
  {
   "cell_type": "code",
   "execution_count": 95,
   "id": "503e0cc5",
   "metadata": {},
   "outputs": [],
   "source": [
    "def test14(func):\n",
    "    return func(\"atul\")"
   ]
  },
  {
   "cell_type": "code",
   "execution_count": 97,
   "id": "e3fcc4a4",
   "metadata": {},
   "outputs": [
    {
     "data": {
      "text/plain": [
       "'atul'"
      ]
     },
     "execution_count": 97,
     "metadata": {},
     "output_type": "execute_result"
    }
   ],
   "source": [
    "test14(test12)"
   ]
  },
  {
   "cell_type": "code",
   "execution_count": 100,
   "id": "5d8d84ef",
   "metadata": {},
   "outputs": [
    {
     "data": {
      "text/plain": [
       "'atul'"
      ]
     },
     "execution_count": 100,
     "metadata": {},
     "output_type": "execute_result"
    }
   ],
   "source": [
    "def test12(a):\n",
    "    return a\n",
    "\n",
    "def test13():\n",
    "    return \"atul\"\n",
    "\n",
    "def test14(func):\n",
    "    return func(\"atul\")\n",
    "\n",
    "test14(test12)"
   ]
  },
  {
   "cell_type": "code",
   "execution_count": 101,
   "id": "0fc11cc1",
   "metadata": {},
   "outputs": [
    {
     "ename": "TypeError",
     "evalue": "test13() takes 0 positional arguments but 1 was given",
     "output_type": "error",
     "traceback": [
      "\u001b[0;31m---------------------------------------------------------------------------\u001b[0m",
      "\u001b[0;31mTypeError\u001b[0m                                 Traceback (most recent call last)",
      "Input \u001b[0;32mIn [101]\u001b[0m, in \u001b[0;36m<cell line: 1>\u001b[0;34m()\u001b[0m\n\u001b[0;32m----> 1\u001b[0m \u001b[43mtest14\u001b[49m\u001b[43m(\u001b[49m\u001b[43mtest13\u001b[49m\u001b[43m)\u001b[49m\n",
      "Input \u001b[0;32mIn [100]\u001b[0m, in \u001b[0;36mtest14\u001b[0;34m(func)\u001b[0m\n\u001b[1;32m      7\u001b[0m \u001b[38;5;28;01mdef\u001b[39;00m \u001b[38;5;21mtest14\u001b[39m(func):\n\u001b[0;32m----> 8\u001b[0m     \u001b[38;5;28;01mreturn\u001b[39;00m \u001b[43mfunc\u001b[49m\u001b[43m(\u001b[49m\u001b[38;5;124;43m\"\u001b[39;49m\u001b[38;5;124;43matul\u001b[39;49m\u001b[38;5;124;43m\"\u001b[39;49m\u001b[43m)\u001b[49m\n",
      "\u001b[0;31mTypeError\u001b[0m: test13() takes 0 positional arguments but 1 was given"
     ]
    }
   ],
   "source": [
    "test14(test13)"
   ]
  },
  {
   "cell_type": "code",
   "execution_count": 102,
   "id": "2ab1a0b7",
   "metadata": {},
   "outputs": [
    {
     "data": {
      "text/plain": [
       "'atul'"
      ]
     },
     "execution_count": 102,
     "metadata": {},
     "output_type": "execute_result"
    }
   ],
   "source": [
    "def test12(a):\n",
    "    return a\n",
    "\n",
    "def test13(*args):\n",
    "    return \"atul\"\n",
    "\n",
    "def test14(func):\n",
    "    return func(\"atul\")\n",
    "\n",
    "test14(test12)"
   ]
  },
  {
   "cell_type": "code",
   "execution_count": 103,
   "id": "a0943587",
   "metadata": {},
   "outputs": [
    {
     "data": {
      "text/plain": [
       "'atul'"
      ]
     },
     "execution_count": 103,
     "metadata": {},
     "output_type": "execute_result"
    }
   ],
   "source": [
    "test14(test13)"
   ]
  },
  {
   "cell_type": "code",
   "execution_count": 105,
   "id": "c1e8b5f2",
   "metadata": {},
   "outputs": [],
   "source": [
    "def test15():\n",
    "    print(\"this is my test 15 function\")\n",
    "    \n",
    "    def test16():\n",
    "        print(\"test 16\")\n",
    "        \n",
    "    def test17():\n",
    "        print(\"test 17\")"
   ]
  },
  {
   "cell_type": "code",
   "execution_count": 106,
   "id": "bf83d360",
   "metadata": {},
   "outputs": [
    {
     "name": "stdout",
     "output_type": "stream",
     "text": [
      "this is my test 15 function\n"
     ]
    }
   ],
   "source": [
    "test15()"
   ]
  },
  {
   "cell_type": "code",
   "execution_count": 108,
   "id": "d09efff3",
   "metadata": {},
   "outputs": [
    {
     "ename": "AttributeError",
     "evalue": "'function' object has no attribute 'test16'",
     "output_type": "error",
     "traceback": [
      "\u001b[0;31m---------------------------------------------------------------------------\u001b[0m",
      "\u001b[0;31mAttributeError\u001b[0m                            Traceback (most recent call last)",
      "Input \u001b[0;32mIn [108]\u001b[0m, in \u001b[0;36m<cell line: 1>\u001b[0;34m()\u001b[0m\n\u001b[0;32m----> 1\u001b[0m \u001b[43mtest15\u001b[49m\u001b[38;5;241;43m.\u001b[39;49m\u001b[43mtest16\u001b[49m\n",
      "\u001b[0;31mAttributeError\u001b[0m: 'function' object has no attribute 'test16'"
     ]
    }
   ],
   "source": [
    "test15.test16"
   ]
  },
  {
   "cell_type": "code",
   "execution_count": 113,
   "id": "d572cb4f",
   "metadata": {},
   "outputs": [],
   "source": [
    "def test15(a):\n",
    "    print(\"this is my test 15 function\")\n",
    "    \n",
    "    def test16():\n",
    "        print(\"test 16\")\n",
    "        \n",
    "    def test17():\n",
    "        print(\"test 17\")\n",
    "        \n",
    "    \n",
    "    if a ==16:\n",
    "        return test16()\n",
    "    else:\n",
    "        return test17()"
   ]
  },
  {
   "cell_type": "code",
   "execution_count": 114,
   "id": "2ffb7c76",
   "metadata": {},
   "outputs": [
    {
     "name": "stdout",
     "output_type": "stream",
     "text": [
      "this is my test 15 function\n",
      "test 16\n"
     ]
    }
   ],
   "source": [
    "test15(16)"
   ]
  },
  {
   "cell_type": "code",
   "execution_count": 115,
   "id": "19b9de8a",
   "metadata": {},
   "outputs": [
    {
     "name": "stdout",
     "output_type": "stream",
     "text": [
      "this is my test 15 function\n",
      "test 17\n"
     ]
    }
   ],
   "source": [
    "test15(17)"
   ]
  },
  {
   "cell_type": "code",
   "execution_count": 118,
   "id": "1b94f4d4",
   "metadata": {},
   "outputs": [],
   "source": [
    "def test13(*args):\n",
    "    print(\"this is outcome of test13\")"
   ]
  },
  {
   "cell_type": "code",
   "execution_count": 119,
   "id": "3ea2c969",
   "metadata": {},
   "outputs": [],
   "source": [
    "def test18(func):\n",
    "    def test19():\n",
    "        print(\"i am in test 19\")\n",
    "        func()\n",
    "    return test19()"
   ]
  },
  {
   "cell_type": "code",
   "execution_count": 120,
   "id": "fe02a7e9",
   "metadata": {},
   "outputs": [
    {
     "name": "stdout",
     "output_type": "stream",
     "text": [
      "i am in test 19\n",
      "this is outcome of test13\n"
     ]
    }
   ],
   "source": [
    "test18(test13)"
   ]
  },
  {
   "cell_type": "code",
   "execution_count": 123,
   "id": "82c0fb8d",
   "metadata": {},
   "outputs": [],
   "source": [
    "#how to call only test 19 function\n",
    "\n",
    "\n",
    "def test18():\n",
    "    def test19():\n",
    "        print(\"i am in test 19\")\n",
    "        #func()\n",
    "    return test19()\n"
   ]
  },
  {
   "cell_type": "code",
   "execution_count": 124,
   "id": "012c47b3",
   "metadata": {},
   "outputs": [
    {
     "name": "stdout",
     "output_type": "stream",
     "text": [
      "i am in test 19\n"
     ]
    }
   ],
   "source": [
    "test18()"
   ]
  },
  {
   "cell_type": "code",
   "execution_count": 125,
   "id": "bbdd342c",
   "metadata": {},
   "outputs": [],
   "source": [
    "def test18(func):\n",
    "    def test19():\n",
    "        print(\"i am in test 19\")\n",
    "        #func()\n",
    "    return test19()"
   ]
  },
  {
   "cell_type": "code",
   "execution_count": 126,
   "id": "80a35f27",
   "metadata": {},
   "outputs": [
    {
     "name": "stdout",
     "output_type": "stream",
     "text": [
      "i am in test 19\n"
     ]
    }
   ],
   "source": [
    "test18(test13)"
   ]
  },
  {
   "cell_type": "markdown",
   "id": "5df87b40",
   "metadata": {},
   "source": [
    "# decorators"
   ]
  },
  {
   "cell_type": "code",
   "execution_count": 128,
   "id": "7fc824ac",
   "metadata": {},
   "outputs": [],
   "source": [
    "#during celebrations we decorate the house\n",
    "# we dont change the house every diwali\n",
    "# we just decorate the room\n",
    "# same room with different floweres is with different look\n",
    "#PROPERTIES OF house remains the same with additional features\n",
    "\n",
    "#decorators: properties of base func does not change but if someone has written something which we can use as it is in our function \n",
    "# i can just call that function without calling my main function\n",
    "\n",
    "#used for reutilsation of code"
   ]
  },
  {
   "cell_type": "code",
   "execution_count": 129,
   "id": "8dd62a71",
   "metadata": {},
   "outputs": [],
   "source": [
    "#decoration with respect to function\n",
    "\n",
    "def test18(func):\n",
    "    def test19():\n",
    "        print(\"i am in test 19 and this will behave as decorators to any functions that i will bne use\")\n",
    "        func()\n",
    "    return test19()"
   ]
  },
  {
   "cell_type": "code",
   "execution_count": 131,
   "id": "fd9fd8ee",
   "metadata": {},
   "outputs": [
    {
     "name": "stdout",
     "output_type": "stream",
     "text": [
      "this is my test 20\n"
     ]
    }
   ],
   "source": [
    "def test20():\n",
    "    print(\"this is my test 20\")\n",
    "    \n",
    "test20()"
   ]
  },
  {
   "cell_type": "code",
   "execution_count": 5,
   "id": "f6b5869c",
   "metadata": {},
   "outputs": [],
   "source": [
    "def test18(func):\n",
    "    def test19():\n",
    "        print(\"i am in test 19\")\n",
    "        func()\n",
    "    return test19()"
   ]
  },
  {
   "cell_type": "code",
   "execution_count": 6,
   "id": "6d63b47d",
   "metadata": {},
   "outputs": [],
   "source": [
    "def test20():\n",
    "    print(\"this is my test 20\")"
   ]
  },
  {
   "cell_type": "code",
   "execution_count": 7,
   "id": "fbdc519e",
   "metadata": {},
   "outputs": [
    {
     "name": "stdout",
     "output_type": "stream",
     "text": [
      "this is my test 20\n"
     ]
    }
   ],
   "source": [
    "test20()"
   ]
  },
  {
   "cell_type": "code",
   "execution_count": 8,
   "id": "08689536",
   "metadata": {},
   "outputs": [
    {
     "name": "stdout",
     "output_type": "stream",
     "text": [
      "i am in test 19\n",
      "this is my test 20\n"
     ]
    }
   ],
   "source": [
    "test18(test20)"
   ]
  },
  {
   "cell_type": "code",
   "execution_count": 10,
   "id": "0d2d2a6f",
   "metadata": {},
   "outputs": [
    {
     "name": "stdout",
     "output_type": "stream",
     "text": [
      "i am in test 19\n",
      "this is my test 20\n"
     ]
    }
   ],
   "source": [
    "@test18\n",
    "def test20():\n",
    "    print(\"this is my test 20\")"
   ]
  },
  {
   "cell_type": "code",
   "execution_count": 12,
   "id": "9983f5c3",
   "metadata": {},
   "outputs": [
    {
     "ename": "TypeError",
     "evalue": "'NoneType' object is not callable",
     "output_type": "error",
     "traceback": [
      "\u001b[0;31m---------------------------------------------------------------------------\u001b[0m",
      "\u001b[0;31mTypeError\u001b[0m                                 Traceback (most recent call last)",
      "Input \u001b[0;32mIn [12]\u001b[0m, in \u001b[0;36m<cell line: 1>\u001b[0;34m()\u001b[0m\n\u001b[0;32m----> 1\u001b[0m \u001b[43mtest20\u001b[49m\u001b[43m(\u001b[49m\u001b[43m)\u001b[49m\n",
      "\u001b[0;31mTypeError\u001b[0m: 'NoneType' object is not callable"
     ]
    }
   ],
   "source": [
    "test20()"
   ]
  },
  {
   "cell_type": "code",
   "execution_count": 13,
   "id": "7cf7c8c1",
   "metadata": {},
   "outputs": [
    {
     "data": {
      "text/plain": [
       "'/Users/atul595525/repository1/INEURON_FSDS_SEPT_2022/Notebooks/Class_08_Python_Functions_Continued'"
      ]
     },
     "execution_count": 13,
     "metadata": {},
     "output_type": "execute_result"
    }
   ],
   "source": [
    "pwd()"
   ]
  },
  {
   "cell_type": "code",
   "execution_count": 21,
   "id": "4b193708",
   "metadata": {},
   "outputs": [],
   "source": [
    "import os\n",
    "def test18(func):\n",
    "    def test19():\n",
    "        print(\"i am in test 19\")\n",
    "        print(os.getcwd())\n",
    "        func()\n",
    "    return test19"
   ]
  },
  {
   "cell_type": "code",
   "execution_count": 22,
   "id": "40a09f72",
   "metadata": {},
   "outputs": [],
   "source": [
    "@test18\n",
    "def test20():\n",
    "    print(\"this is my test 20\")"
   ]
  },
  {
   "cell_type": "code",
   "execution_count": 23,
   "id": "11f8826d",
   "metadata": {},
   "outputs": [
    {
     "name": "stdout",
     "output_type": "stream",
     "text": [
      "i am in test 19\n",
      "/Users/atul595525/repository1/INEURON_FSDS_SEPT_2022/Notebooks/Class_08_Python_Functions_Continued\n",
      "this is my test 20\n"
     ]
    }
   ],
   "source": [
    "test20()"
   ]
  },
  {
   "cell_type": "code",
   "execution_count": 24,
   "id": "04eb3d00",
   "metadata": {},
   "outputs": [],
   "source": [
    "#multiple decorators\n",
    "\n",
    "import os\n",
    "def test22(func):\n",
    "    def test23():\n",
    "        print(\"i am in test 23\")\n",
    "        print(os.getcwd())\n",
    "        func()\n",
    "    return test23"
   ]
  },
  {
   "cell_type": "code",
   "execution_count": 25,
   "id": "292225cb",
   "metadata": {},
   "outputs": [],
   "source": [
    "@test18\n",
    "@test22\n",
    "def test20():\n",
    "    print(\"this is my test 20\")"
   ]
  },
  {
   "cell_type": "code",
   "execution_count": 26,
   "id": "8aba28ce",
   "metadata": {},
   "outputs": [
    {
     "name": "stdout",
     "output_type": "stream",
     "text": [
      "i am in test 19\n",
      "/Users/atul595525/repository1/INEURON_FSDS_SEPT_2022/Notebooks/Class_08_Python_Functions_Continued\n",
      "i am in test 23\n",
      "/Users/atul595525/repository1/INEURON_FSDS_SEPT_2022/Notebooks/Class_08_Python_Functions_Continued\n",
      "this is my test 20\n"
     ]
    }
   ],
   "source": [
    "test20()"
   ]
  },
  {
   "cell_type": "code",
   "execution_count": 28,
   "id": "18d38a5a",
   "metadata": {},
   "outputs": [
    {
     "name": "stdout",
     "output_type": "stream",
     "text": [
      "hello\n",
      "0.0003662109375\n"
     ]
    }
   ],
   "source": [
    "#program to find execution time of a function\n",
    "\n",
    "import time\n",
    "\n",
    "start = time.time()\n",
    "print(\"hello\")\n",
    "end=time.time()\n",
    "print(end-start)"
   ]
  },
  {
   "cell_type": "code",
   "execution_count": 29,
   "id": "70e7d906",
   "metadata": {},
   "outputs": [],
   "source": [
    "def test25(func):\n",
    "    def test26():\n",
    "        print(\"this function will give you execution time of a function\")\n",
    "        start = time.time()\n",
    "        func()\n",
    "        end = time.time()\n",
    "        print(end-start)\n",
    "    return test26"
   ]
  },
  {
   "cell_type": "code",
   "execution_count": 30,
   "id": "0d6cfa78",
   "metadata": {},
   "outputs": [],
   "source": [
    "def test27():\n",
    "    l = [4,6,8,9, 8.0, 7.99]\n",
    "    l1=[]\n",
    "    for i in l:\n",
    "        if type(i) == int:\n",
    "            l1.append(i)\n",
    "    return l1"
   ]
  },
  {
   "cell_type": "code",
   "execution_count": 31,
   "id": "7999da39",
   "metadata": {},
   "outputs": [
    {
     "data": {
      "text/plain": [
       "[4, 6, 8, 9]"
      ]
     },
     "execution_count": 31,
     "metadata": {},
     "output_type": "execute_result"
    }
   ],
   "source": [
    "test27()"
   ]
  },
  {
   "cell_type": "code",
   "execution_count": null,
   "id": "6bbb5863",
   "metadata": {},
   "outputs": [],
   "source": []
  },
  {
   "cell_type": "code",
   "execution_count": 33,
   "id": "ce895751",
   "metadata": {},
   "outputs": [],
   "source": [
    "@test25\n",
    "def test27():\n",
    "    l = [4,6,8,9, 8.0, 7.99]\n",
    "    l1=[]\n",
    "    for i in l:\n",
    "        if type(i) == int:\n",
    "            l1.append(i)\n",
    "    return l1"
   ]
  },
  {
   "cell_type": "code",
   "execution_count": 34,
   "id": "07dbe511",
   "metadata": {},
   "outputs": [
    {
     "name": "stdout",
     "output_type": "stream",
     "text": [
      "this function will give you execution time of a function\n",
      "4.0531158447265625e-06\n"
     ]
    }
   ],
   "source": [
    "test27()"
   ]
  },
  {
   "cell_type": "code",
   "execution_count": 35,
   "id": "b00f4db3",
   "metadata": {},
   "outputs": [],
   "source": [
    "@test25\n",
    "def test27():\n",
    "    \"\"\"\n",
    "    this is a function which will take a decorator for calculating the execution time\n",
    "    \"\"\"\n",
    "    l = [4,6,8,9, 8.0, 7.99]\n",
    "    l1=[]\n",
    "    for i in l:\n",
    "        if type(i) == int:\n",
    "            l1.append(i)\n",
    "    return l1"
   ]
  },
  {
   "cell_type": "code",
   "execution_count": null,
   "id": "99f94338",
   "metadata": {},
   "outputs": [],
   "source": [
    "test27()"
   ]
  }
 ],
 "metadata": {
  "kernelspec": {
   "display_name": "Python 3 (ipykernel)",
   "language": "python",
   "name": "python3"
  },
  "language_info": {
   "codemirror_mode": {
    "name": "ipython",
    "version": 3
   },
   "file_extension": ".py",
   "mimetype": "text/x-python",
   "name": "python",
   "nbconvert_exporter": "python",
   "pygments_lexer": "ipython3",
   "version": "3.8.3rc1"
  }
 },
 "nbformat": 4,
 "nbformat_minor": 5
}
