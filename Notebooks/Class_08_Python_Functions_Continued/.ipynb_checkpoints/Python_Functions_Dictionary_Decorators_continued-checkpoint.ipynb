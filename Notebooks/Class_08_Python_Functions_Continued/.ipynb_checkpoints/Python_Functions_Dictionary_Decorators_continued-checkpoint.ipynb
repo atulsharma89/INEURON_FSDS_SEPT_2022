{
 "cells": [
  {
   "cell_type": "code",
   "execution_count": 1,
   "id": "a3348d61",
   "metadata": {},
   "outputs": [],
   "source": [
    "def test1():\n",
    "    a = 5+6\n",
    "    return a"
   ]
  },
  {
   "cell_type": "code",
   "execution_count": 2,
   "id": "6fe56db1",
   "metadata": {},
   "outputs": [
    {
     "data": {
      "text/plain": [
       "11"
      ]
     },
     "execution_count": 2,
     "metadata": {},
     "output_type": "execute_result"
    }
   ],
   "source": [
    "test1()"
   ]
  },
  {
   "cell_type": "code",
   "execution_count": 3,
   "id": "0cbaef59",
   "metadata": {},
   "outputs": [],
   "source": [
    "def test2(a,b):\n",
    "    return a+b"
   ]
  },
  {
   "cell_type": "code",
   "execution_count": 4,
   "id": "8c7e2240",
   "metadata": {},
   "outputs": [
    {
     "data": {
      "text/plain": [
       "15"
      ]
     },
     "execution_count": 4,
     "metadata": {},
     "output_type": "execute_result"
    }
   ],
   "source": [
    "test2(6,9)"
   ]
  },
  {
   "cell_type": "code",
   "execution_count": 5,
   "id": "2eb7a669",
   "metadata": {},
   "outputs": [
    {
     "data": {
      "text/plain": [
       "'atulsuresh'"
      ]
     },
     "execution_count": 5,
     "metadata": {},
     "output_type": "execute_result"
    }
   ],
   "source": [
    "test2(\"atul\",\"suresh\")"
   ]
  },
  {
   "cell_type": "code",
   "execution_count": 6,
   "id": "47513842",
   "metadata": {},
   "outputs": [
    {
     "ename": "TypeError",
     "evalue": "can only concatenate str (not \"int\") to str",
     "output_type": "error",
     "traceback": [
      "\u001b[0;31m---------------------------------------------------------------------------\u001b[0m",
      "\u001b[0;31mTypeError\u001b[0m                                 Traceback (most recent call last)",
      "Input \u001b[0;32mIn [6]\u001b[0m, in \u001b[0;36m<cell line: 1>\u001b[0;34m()\u001b[0m\n\u001b[0;32m----> 1\u001b[0m \u001b[43mtest2\u001b[49m\u001b[43m(\u001b[49m\u001b[38;5;124;43m\"\u001b[39;49m\u001b[38;5;124;43matul\u001b[39;49m\u001b[38;5;124;43m\"\u001b[39;49m\u001b[43m,\u001b[49m\u001b[38;5;241;43m9\u001b[39;49m\u001b[43m)\u001b[49m\n",
      "Input \u001b[0;32mIn [3]\u001b[0m, in \u001b[0;36mtest2\u001b[0;34m(a, b)\u001b[0m\n\u001b[1;32m      1\u001b[0m \u001b[38;5;28;01mdef\u001b[39;00m \u001b[38;5;21mtest2\u001b[39m(a,b):\n\u001b[0;32m----> 2\u001b[0m     \u001b[38;5;28;01mreturn\u001b[39;00m \u001b[43ma\u001b[49m\u001b[38;5;241;43m+\u001b[39;49m\u001b[43mb\u001b[49m\n",
      "\u001b[0;31mTypeError\u001b[0m: can only concatenate str (not \"int\") to str"
     ]
    }
   ],
   "source": [
    "#test2(\"atul\",9)"
   ]
  },
  {
   "cell_type": "code",
   "execution_count": 8,
   "id": "4d40a178",
   "metadata": {},
   "outputs": [
    {
     "data": {
      "text/plain": [
       "'nareshpinku'"
      ]
     },
     "execution_count": 8,
     "metadata": {},
     "output_type": "execute_result"
    }
   ],
   "source": [
    "test2(b=\"pinku\",a=\"naresh\")"
   ]
  },
  {
   "cell_type": "code",
   "execution_count": 9,
   "id": "397ed383",
   "metadata": {},
   "outputs": [],
   "source": [
    "#function with any number of inputs"
   ]
  },
  {
   "cell_type": "code",
   "execution_count": 10,
   "id": "06219fa2",
   "metadata": {},
   "outputs": [],
   "source": [
    "def test3(*args):\n",
    "    return args"
   ]
  },
  {
   "cell_type": "code",
   "execution_count": 13,
   "id": "c1dd52f7",
   "metadata": {},
   "outputs": [
    {
     "data": {
      "text/plain": [
       "(1, 3, 4, 'fff')"
      ]
     },
     "execution_count": 13,
     "metadata": {},
     "output_type": "execute_result"
    }
   ],
   "source": [
    "test3(1,3,4,'fff')\n",
    "#wrapped in tuple\n",
    "#datatype of args is tuple"
   ]
  },
  {
   "cell_type": "code",
   "execution_count": 14,
   "id": "e3d783b3",
   "metadata": {},
   "outputs": [
    {
     "data": {
      "text/plain": [
       "([1, 2, 3, 4, 5], 'atul', (888, 99))"
      ]
     },
     "execution_count": 14,
     "metadata": {},
     "output_type": "execute_result"
    }
   ],
   "source": [
    "test3([1,2,3,4,5],'atul',(888,99))"
   ]
  },
  {
   "cell_type": "code",
   "execution_count": 15,
   "id": "960cee81",
   "metadata": {},
   "outputs": [],
   "source": [
    "def test4(*args):\n",
    "    return list(args)"
   ]
  },
  {
   "cell_type": "code",
   "execution_count": 16,
   "id": "e1cf8b11",
   "metadata": {},
   "outputs": [
    {
     "data": {
      "text/plain": [
       "[[1, 2, 3, 4, 5], 'atul', (888, 99), 99]"
      ]
     },
     "execution_count": 16,
     "metadata": {},
     "output_type": "execute_result"
    }
   ],
   "source": [
    "test4([1,2,3,4,5],'atul',(888,99),99)"
   ]
  },
  {
   "cell_type": "code",
   "execution_count": 17,
   "id": "192ebb00",
   "metadata": {},
   "outputs": [],
   "source": [
    "def test5(*args):\n",
    "    l=[]\n",
    "    for i in args:\n",
    "        l.append(i)\n",
    "    return l"
   ]
  },
  {
   "cell_type": "code",
   "execution_count": 18,
   "id": "4cd97cd5",
   "metadata": {},
   "outputs": [
    {
     "data": {
      "text/plain": [
       "[[1, 2, 3, 4, 5], 'atul', (888, 99), 99, 'sharma']"
      ]
     },
     "execution_count": 18,
     "metadata": {},
     "output_type": "execute_result"
    }
   ],
   "source": [
    "test5([1,2,3,4,5],'atul',(888,99),99,'sharma')"
   ]
  },
  {
   "cell_type": "code",
   "execution_count": 19,
   "id": "431ff07d",
   "metadata": {},
   "outputs": [],
   "source": [
    "def test6(*atul):\n",
    "    return atul"
   ]
  },
  {
   "cell_type": "code",
   "execution_count": 20,
   "id": "89d2ab91",
   "metadata": {},
   "outputs": [
    {
     "data": {
      "text/plain": [
       "([1, 2, 3, 4, 5], 'atul', (888, 99), 99, 'sharma', (9+8j))"
      ]
     },
     "execution_count": 20,
     "metadata": {},
     "output_type": "execute_result"
    }
   ],
   "source": [
    "test6([1,2,3,4,5],'atul',(888,99),99,'sharma',9+8j)"
   ]
  },
  {
   "cell_type": "code",
   "execution_count": null,
   "id": "a90dcdf2",
   "metadata": {},
   "outputs": [],
   "source": []
  },
  {
   "cell_type": "markdown",
   "id": "6d11c31d",
   "metadata": {},
   "source": [
    "# Dictionary"
   ]
  },
  {
   "cell_type": "code",
   "execution_count": 21,
   "id": "0fdef9cc",
   "metadata": {},
   "outputs": [],
   "source": [
    "l=[1,2,3,4]\n",
    "t = (3,4,4,8)\n",
    "s=(1,1,1,4,4)"
   ]
  },
  {
   "cell_type": "code",
   "execution_count": null,
   "id": "bab4f997",
   "metadata": {},
   "outputs": [],
   "source": []
  },
  {
   "cell_type": "markdown",
   "id": "5d410091",
   "metadata": {},
   "source": [
    "# keword arguments"
   ]
  },
  {
   "cell_type": "code",
   "execution_count": null,
   "id": "03cd5fc2",
   "metadata": {},
   "outputs": [],
   "source": []
  }
 ],
 "metadata": {
  "kernelspec": {
   "display_name": "Python 3 (ipykernel)",
   "language": "python",
   "name": "python3"
  },
  "language_info": {
   "codemirror_mode": {
    "name": "ipython",
    "version": 3
   },
   "file_extension": ".py",
   "mimetype": "text/x-python",
   "name": "python",
   "nbconvert_exporter": "python",
   "pygments_lexer": "ipython3",
   "version": "3.8.3rc1"
  }
 },
 "nbformat": 4,
 "nbformat_minor": 5
}
