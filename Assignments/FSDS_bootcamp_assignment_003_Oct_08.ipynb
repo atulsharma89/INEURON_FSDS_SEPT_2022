{
 "cells": [
  {
   "cell_type": "markdown",
   "metadata": {
    "id": "cyOfbWCdOjEr"
   },
   "source": [
    "# ASSIGNMENTS - Compulsory\n",
    "## Send it before 0000 hrs IST or 12 AM Wednesday\n",
    "\n",
    "## NOTE: Evaluation will be done before next class.\n",
    "\n",
    "## HOW TO SUBMIT: -\n",
    "Download this notebook, Solve it and upload in the google form given in the mail."
   ]
  },
  {
   "cell_type": "markdown",
   "metadata": {
    "id": "GT4IytkJMNa-"
   },
   "source": [
    "## Python String Manipulation\n",
    "\n",
    "1. Count the number of times `iNeuron` appears in the string.\n",
    "```python\n",
    "text = \"Welcome to iNeuron, You are a part of FSDS Bootcamp 2 in iNeuron. I hope you are enjoying the course by iNeuron\"\n",
    "```\n",
    "2. Check if position `5` to `11` ends with the phrase `iNeuron.` in the string \n",
    "```python\n",
    "txt = \"Hello, welcome to FSDS 2.0 at iNeuron.\"\n",
    "```\n",
    "3. Write a program that takes your full name as input and displays the abbreviations of the first and middle names except the last name which is displayed as it is. For example, if your name is Sunny Bhaveen Chandra, then the output should be S.B.Chandra.\n",
    "\n",
    "4. Join all items in a list into a string, using a hash(`#`) character as separator:\n",
    "```python\n",
    "LIST = [\"My\", \"name\", \"is\", \"Rishav\", \"Dash\"]\n",
    "```\n",
    "5. Write example for the following string manipulation function,\n",
    "\n",
    "  ```\n",
    "  - isdecimal()\n",
    "  - islower()\n",
    "  - isupper()\n",
    "  - isalpha()\n",
    "  - isnumeric()\n",
    "\n",
    "  ```\n",
    "6. Indian PAN card format follows the following formats - \n",
    "    - `AYEPC7894X`\n",
    "    - `ABCDE9999Y`\n",
    "  Take user input for PAN_CARD and validate as per the above example.\n"
   ]
  },
  {
   "cell_type": "markdown",
   "metadata": {
    "id": "KwVni9gipNi-"
   },
   "source": [
    "# 1. Count the number of times `iNeuron` appears in the string.\n"
   ]
  },
  {
   "cell_type": "code",
   "execution_count": 3,
   "metadata": {},
   "outputs": [
    {
     "name": "stdout",
     "output_type": "stream",
     "text": [
      "word iNeuron appears 3 times\n"
     ]
    }
   ],
   "source": [
    "text = \"Welcome to iNeuron, You are a part of FSDS Bootcamp 2 in iNeuron. I hope you are enjoying the course by iNeuron\"\n",
    "\n",
    "print(f\"word iNeuron appears {text.count('iNeuron')} times\")"
   ]
  },
  {
   "cell_type": "code",
   "execution_count": null,
   "metadata": {},
   "outputs": [],
   "source": [
    "# conculusion: word ineuron  appears 3 times in that text"
   ]
  },
  {
   "cell_type": "markdown",
   "metadata": {},
   "source": [
    " # 2. Check if position 5 to 11 ends with the phrase iNeuron. in the string"
   ]
  },
  {
   "cell_type": "code",
   "execution_count": 5,
   "metadata": {},
   "outputs": [
    {
     "name": "stdout",
     "output_type": "stream",
     "text": [
      "No the txt[5:11] which is , welc does not ends with iNeuron.\n"
     ]
    }
   ],
   "source": [
    "txt = \"Hello, welcome to FSDS 2.0 at iNeuron.\"\n",
    "\n",
    "if txt[5:11]=='iNeuron.':\n",
    "    print(f\"Yes the txt[5:11] which is {txt[5:11]} ends with iNeuron.\")\n",
    "else:\n",
    "    print(f\"No the txt[5:11] which is {txt[5:11]} does not ends with iNeuron.\")"
   ]
  },
  {
   "cell_type": "markdown",
   "metadata": {},
   "source": [
    "# 3. Write a program that takes your full name as input and displays the abbreviations of the first and middle names except the last name which is displayed as it is. For example, if your name is Sunny Bhaveen Chandra, then the output should be S.B.Chandra.\n"
   ]
  },
  {
   "cell_type": "code",
   "execution_count": 16,
   "metadata": {},
   "outputs": [
    {
     "name": "stdout",
     "output_type": "stream",
     "text": [
      "Please Enter your name aTUL kumar sharma\n",
      "Your name is A.K.Sharma\n"
     ]
    }
   ],
   "source": [
    "myname = input(\"Please Enter your name \")\n",
    "\n",
    "\n",
    "#split the user input and storing in variables\n",
    "\n",
    "first, middle, last  = myname.split(\" \")\n",
    "\n",
    "#changing the name in upper case\n",
    "\n",
    "first=first.title()\n",
    "middle=middle.title()\n",
    "last=last.title()\n",
    "#print(first)\n",
    "#print(middle)\n",
    "#print(last)\n",
    "\n",
    "#final output\n",
    "\n",
    "print(f\"Your name is {first[0]}.{middle[0]}.{last}\")"
   ]
  },
  {
   "cell_type": "markdown",
   "metadata": {},
   "source": [
    "# 4. Join all items in a list into a string, using a hash(`#`) character as separator:"
   ]
  },
  {
   "cell_type": "code",
   "execution_count": 19,
   "metadata": {},
   "outputs": [
    {
     "name": "stdout",
     "output_type": "stream",
     "text": [
      "Our final result is My#name#is#Rishav#Dash\n"
     ]
    }
   ],
   "source": [
    "LIST = [\"My\", \"name\", \"is\", \"Rishav\", \"Dash\"]\n",
    "\n",
    "print(f\"Our final result is {'#'.join(LIST)}\")"
   ]
  },
  {
   "cell_type": "markdown",
   "metadata": {},
   "source": [
    "# 5. Write example for the following string manipulation function,\n",
    "\n",
    "  ```\n",
    "  - isdecimal()\n",
    "  - islower()\n",
    "  - isupper()\n",
    "  - isalpha()\n",
    "  - isnumeric()"
   ]
  },
  {
   "cell_type": "code",
   "execution_count": 21,
   "metadata": {},
   "outputs": [
    {
     "name": "stdout",
     "output_type": "stream",
     "text": [
      "True\n"
     ]
    }
   ],
   "source": [
    "#isdecimal\n",
    "\n",
    "#Return Value from isdecimal()\n",
    "\n",
    "#The isdecimal() returns:\n",
    "\n",
    "#True if all characters in the string are decimal characters.\n",
    "\n",
    "#False if at least one character is not decimal character.\n",
    "\n",
    "s = \"28212\"\n",
    "print(s.isdecimal())"
   ]
  },
  {
   "cell_type": "code",
   "execution_count": 22,
   "metadata": {},
   "outputs": [
    {
     "name": "stdout",
     "output_type": "stream",
     "text": [
      "False\n"
     ]
    }
   ],
   "source": [
    "s = \"28212s\"\n",
    "print(s.isdecimal())"
   ]
  },
  {
   "cell_type": "code",
   "execution_count": 24,
   "metadata": {},
   "outputs": [
    {
     "data": {
      "text/plain": [
       "False"
      ]
     },
     "execution_count": 24,
     "metadata": {},
     "output_type": "execute_result"
    }
   ],
   "source": [
    "#islower()\n",
    "# The islower() method returns True if all the characters are in lower case, otherwise False.\n",
    "name = \"ATUL KUMAR SHARMA\"\n",
    "\n",
    "name.islower()"
   ]
  },
  {
   "cell_type": "code",
   "execution_count": 25,
   "metadata": {},
   "outputs": [
    {
     "data": {
      "text/plain": [
       "True"
      ]
     },
     "execution_count": 25,
     "metadata": {},
     "output_type": "execute_result"
    }
   ],
   "source": [
    "name = \"atul\"\n",
    "\n",
    "name.islower()"
   ]
  },
  {
   "cell_type": "code",
   "execution_count": 26,
   "metadata": {},
   "outputs": [
    {
     "data": {
      "text/plain": [
       "True"
      ]
     },
     "execution_count": 26,
     "metadata": {},
     "output_type": "execute_result"
    }
   ],
   "source": [
    "name = \"atul sharma\"\n",
    "\n",
    "name.islower()"
   ]
  },
  {
   "cell_type": "code",
   "execution_count": 27,
   "metadata": {},
   "outputs": [
    {
     "data": {
      "text/plain": [
       "True"
      ]
     },
     "execution_count": 27,
     "metadata": {},
     "output_type": "execute_result"
    }
   ],
   "source": [
    "# isupper()\n",
    "\n",
    "# The isupper() method returns True if all the characters are in upper case, otherwise False.\n",
    "\n",
    "name = \"ATUL SHARMA\"\n",
    "\n",
    "name.isupper()"
   ]
  },
  {
   "cell_type": "code",
   "execution_count": 28,
   "metadata": {},
   "outputs": [
    {
     "data": {
      "text/plain": [
       "False"
      ]
     },
     "execution_count": 28,
     "metadata": {},
     "output_type": "execute_result"
    }
   ],
   "source": [
    "name = \"Atul Sharma\"\n",
    "\n",
    "name.isupper()"
   ]
  },
  {
   "cell_type": "code",
   "execution_count": 29,
   "metadata": {},
   "outputs": [
    {
     "name": "stdout",
     "output_type": "stream",
     "text": [
      "True\n"
     ]
    }
   ],
   "source": [
    "# isalpha()\n",
    "\n",
    "#The isalpha() method returns True if all the characters are alphabet letters (a-z).\n",
    "\n",
    "#Example of characters that are not alphabet letters: (space)!#%&? etc.\n",
    "\n",
    "\n",
    "txt = \"AtulSharmaX\"\n",
    "\n",
    "x = txt.isalpha()\n",
    "\n",
    "print(x)"
   ]
  },
  {
   "cell_type": "code",
   "execution_count": 30,
   "metadata": {},
   "outputs": [
    {
     "name": "stdout",
     "output_type": "stream",
     "text": [
      "False\n"
     ]
    }
   ],
   "source": [
    "txt = \"Atul SharmaX\"\n",
    "\n",
    "x = txt.isalpha()\n",
    "\n",
    "print(x)"
   ]
  },
  {
   "cell_type": "code",
   "execution_count": 31,
   "metadata": {},
   "outputs": [
    {
     "name": "stdout",
     "output_type": "stream",
     "text": [
      "False\n"
     ]
    }
   ],
   "source": [
    "txt = \"AtulSharmaX123\"\n",
    "\n",
    "x = txt.isalpha()\n",
    "\n",
    "print(x)"
   ]
  },
  {
   "cell_type": "code",
   "execution_count": 32,
   "metadata": {},
   "outputs": [
    {
     "name": "stdout",
     "output_type": "stream",
     "text": [
      "True\n"
     ]
    }
   ],
   "source": [
    "# isnumeric()\n",
    "\n",
    "#The isnumeric() method returns True if all the characters are numeric (0-9), otherwise False.\n",
    "\n",
    "#Exponents, like ² and ¾ are also considered to be numeric values.\n",
    "\n",
    "#\"-1\" and \"1.5\" are NOT considered numeric values, because all the characters in\n",
    "#the string must be numeric, and the - and the . are not.\n",
    "\n",
    "txt = \"12344556\"\n",
    "\n",
    "x = txt.isnumeric()\n",
    "\n",
    "print(x)"
   ]
  },
  {
   "cell_type": "code",
   "execution_count": 33,
   "metadata": {},
   "outputs": [
    {
     "name": "stdout",
     "output_type": "stream",
     "text": [
      "False\n"
     ]
    }
   ],
   "source": [
    "txt = \"12344556s\"\n",
    "\n",
    "x = txt.isnumeric()\n",
    "\n",
    "print(x)"
   ]
  },
  {
   "cell_type": "code",
   "execution_count": 34,
   "metadata": {},
   "outputs": [
    {
     "name": "stdout",
     "output_type": "stream",
     "text": [
      "False\n"
     ]
    }
   ],
   "source": [
    "txt = \"-12344556\"\n",
    "\n",
    "x = txt.isnumeric()\n",
    "\n",
    "print(x)"
   ]
  },
  {
   "cell_type": "markdown",
   "metadata": {},
   "source": [
    "# 6. Indian PAN card format follows the following formats - \n",
    "    - `AYEPC7894X`\n",
    "    - `ABCDE9999Y`\n",
    "  Take user input for PAN_CARD and validate as per the above example.\n",
    "\n"
   ]
  },
  {
   "cell_type": "code",
   "execution_count": 51,
   "metadata": {},
   "outputs": [
    {
     "name": "stdout",
     "output_type": "stream",
     "text": [
      "enter the pan card number AYEPC7894X\n",
      "10\n",
      "True\n",
      "True\n",
      "True\n",
      "True\n",
      "pan card number AYEPC7894X is valid pan card number and follows the format\n"
     ]
    }
   ],
   "source": [
    "PAN_CARD = input(\"enter the pan card number \")\n",
    "\n",
    "PAN_CARD= PAN_CARD.upper()\n",
    "\n",
    "#print(PAN_CARD)\n",
    "\n",
    "print(len(PAN_CARD)) # for checking length is 10 or not\n",
    "print(PAN_CARD.isalnum()) # for checking if the pan card is alpha numeric or not\n",
    "print(PAN_CARD[0:5].isalpha()) #checking first 5 characters are characters or not\n",
    "print(PAN_CARD[5:9].isnumeric()) # checking next 4 character are numbers or not\n",
    "print(str(PAN_CARD[-1]).isalpha()) # checking last character is character or not\n",
    "\n",
    "if len(PAN_CARD) == 10 and PAN_CARD.isalnum() and str(PAN_CARD[0:5]).isalpha() and PAN_CARD[5:9].isnumeric() and PAN_CARD[-1].isalpha():\n",
    "    print(f\"pan card number {PAN_CARD} is valid pan card number and follows the format\")\n",
    "else:\n",
    "    print(f\"Please enter a valid pan card number as {PAN_CARD} does not follow format\")"
   ]
  },
  {
   "cell_type": "code",
   "execution_count": 52,
   "metadata": {},
   "outputs": [
    {
     "name": "stdout",
     "output_type": "stream",
     "text": [
      "enter the pan card number AYEP77894X\n",
      "10\n",
      "True\n",
      "False\n",
      "True\n",
      "True\n",
      "Please enter a valid pan card number as AYEP77894X does not follow format\n"
     ]
    }
   ],
   "source": [
    "PAN_CARD = input(\"enter the pan card number \")\n",
    "\n",
    "PAN_CARD= PAN_CARD.upper()\n",
    "\n",
    "#print(PAN_CARD)\n",
    "\n",
    "print(len(PAN_CARD)) # for checking length is 10 or not\n",
    "print(PAN_CARD.isalnum()) # for checking if the pan card is alpha numeric or not\n",
    "print(PAN_CARD[0:5].isalpha()) #checking first 5 characters are characters or not\n",
    "print(PAN_CARD[5:9].isnumeric()) # checking next 4 character are numbers or not\n",
    "print(str(PAN_CARD[-1]).isalpha()) # checking last character is character or not\n",
    "\n",
    "if len(PAN_CARD) == 10 and PAN_CARD.isalnum() and str(PAN_CARD[0:5]).isalpha() and PAN_CARD[5:9].isnumeric() and PAN_CARD[-1].isalpha():\n",
    "    print(f\"pan card number {PAN_CARD} is valid pan card number and follows the format\")\n",
    "else:\n",
    "    print(f\"Please enter a valid pan card number as {PAN_CARD} does not follow format\")"
   ]
  },
  {
   "cell_type": "code",
   "execution_count": null,
   "metadata": {},
   "outputs": [],
   "source": []
  }
 ],
 "metadata": {
  "colab": {
   "collapsed_sections": [],
   "provenance": []
  },
  "kernelspec": {
   "display_name": "Python 3 (ipykernel)",
   "language": "python",
   "name": "python3"
  },
  "language_info": {
   "codemirror_mode": {
    "name": "ipython",
    "version": 3
   },
   "file_extension": ".py",
   "mimetype": "text/x-python",
   "name": "python",
   "nbconvert_exporter": "python",
   "pygments_lexer": "ipython3",
   "version": "3.8.3rc1"
  }
 },
 "nbformat": 4,
 "nbformat_minor": 1
}
