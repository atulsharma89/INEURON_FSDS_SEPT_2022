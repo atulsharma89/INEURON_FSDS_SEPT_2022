{
 "cells": [
  {
   "cell_type": "raw",
   "id": "b168b72b",
   "metadata": {},
   "source": []
  },
  {
   "cell_type": "markdown",
   "id": "921ce6bb",
   "metadata": {},
   "source": [
    "#  1. In the below elements which of them are values or an expression? eg:- values can be integer or string and expressions will be mathematical operators.\n",
    "\n",
    "* \n",
    "'hello'\n",
    "-87.8\n",
    "- \n",
    "/ \n",
    "+\t\n",
    "6 "
   ]
  },
  {
   "cell_type": "markdown",
   "id": "33d27564",
   "metadata": {},
   "source": [
    "Answer\n",
    "=======\n",
    "values: -87.8, 6 , 'hello'\n",
    "\n",
    "expressions: * - / +"
   ]
  },
  {
   "cell_type": "markdown",
   "id": "0c816171",
   "metadata": {},
   "source": [
    "# 2. What is the difference between string and variable?"
   ]
  },
  {
   "cell_type": "markdown",
   "id": "d2a83a49",
   "metadata": {},
   "source": [
    "Variables are symbols that you can use to store data in a program. You can think of them as an empty box that you fill with some data or value. Strings are data, so we can use them to fill up a variable. \n",
    "\n",
    "example of variable my_name = 'atul'   here my_name is a variable which is holding a string value 'atul' in that"
   ]
  },
  {
   "cell_type": "markdown",
   "id": "576703b7",
   "metadata": {},
   "source": [
    "# 3. Describe three different data types."
   ]
  },
  {
   "cell_type": "markdown",
   "id": "5e2d38dc",
   "metadata": {},
   "source": [
    "Various data types in python are : String, integer, float, complex\n",
    "\n",
    "\n",
    "Text Type:\t    str   ==> used to store text data. example : name = \"atul\"\n",
    "\n",
    "Numeric Types:\tint, float, complex ==> used to store numeric data. \n",
    "                example: age = 34, salary = 56.99, c = 6 = 7j\n",
    "\n",
    "Sequence Types:\tlist, tuple, range => used to store sequence of values. Examples: a = [1,2,3,4,5,6,7]\n",
    "\n",
    "Mapping Type:\tdict : ==> used to store data in key value form. example: mydict = { 'name': 'atul', 'age': 32}\n",
    "\n",
    "Set Types:\t    set, frozenset : Sets are used to store unique data. (no duplicates are stored. \n",
    "                a = {1,2,3,4,4} ---> {1,2,3,4}\n",
    "               \n",
    "Boolean Type:\tbool : Used to store True false values\n",
    "\n",
    "Binary Types:\tbytes, bytearray, memoryview\n",
    "\n",
    "None Type:\t    NoneType"
   ]
  },
  {
   "cell_type": "markdown",
   "id": "c4421380",
   "metadata": {},
   "source": [
    "# 4. What is an expression made up of? What do all expressions do?"
   ]
  },
  {
   "cell_type": "markdown",
   "id": "47fa3c6e",
   "metadata": {},
   "source": [
    "An expression is a construct made up of variables, operators, and method invocations, which are constructed according to the syntax of the language, that evaluates to a single value.\n",
    "\n",
    "An expression is a combination of operators and operands that is interpreted to produce some other value. \n",
    "\n",
    "x = 15 + 1.3\n",
    "\n",
    "here 15 and 1.3 are values and + is operator"
   ]
  },
  {
   "cell_type": "markdown",
   "id": "cd83be27",
   "metadata": {},
   "source": [
    "# 5. This assignment statements, like spam = 10. What is the difference between an expression and a statement?"
   ]
  },
  {
   "cell_type": "markdown",
   "id": "67ba1381",
   "metadata": {},
   "source": [
    "In programming language terminology, an “expression” is a combination of values and functions that are combined and interpreted by the compiler to create a new value, as opposed to a “statement” which is just a standalone unit of execution and doesn't return anything."
   ]
  },
  {
   "cell_type": "code",
   "execution_count": 1,
   "id": "f6792f24",
   "metadata": {},
   "outputs": [
    {
     "name": "stdout",
     "output_type": "stream",
     "text": [
      "Hello\n",
      "20\n"
     ]
    }
   ],
   "source": [
    "# statement 1\n",
    "print('Hello')\n",
    "\n",
    "# statement 2\n",
    "x = 20\n",
    "\n",
    "# statement 3\n",
    "print(x)"
   ]
  },
  {
   "cell_type": "code",
   "execution_count": 2,
   "id": "687f46c8",
   "metadata": {},
   "outputs": [
    {
     "name": "stdout",
     "output_type": "stream",
     "text": [
      "Area of rectangle: 50\n"
     ]
    }
   ],
   "source": [
    "# two statements in a single\n",
    "l = 10; b = 5\n",
    "\n",
    "# statement 3\n",
    "print('Area of rectangle:', l * b)\n",
    "\n",
    "# Output Area of rectangle: 50"
   ]
  },
  {
   "cell_type": "code",
   "execution_count": 3,
   "id": "f39f4045",
   "metadata": {},
   "outputs": [
    {
     "name": "stdout",
     "output_type": "stream",
     "text": [
      "35\n"
     ]
    }
   ],
   "source": [
    "x = 25          # a statement\n",
    "x = x + 10      # an expression\n",
    "\n",
    "print(x)"
   ]
  },
  {
   "cell_type": "markdown",
   "id": "b3e00886",
   "metadata": {},
   "source": [
    "Types of Expression in Python:\n",
    "\n",
    "1. Constant Expressions : \n",
    "\n",
    "x = 10 + 15\n",
    "\n",
    "# Here both 10 and 15 are constants but x is a variable.\n",
    "print(\"The value of x is: \", x)\n",
    "\n",
    "\n",
    "2. Arithmetic Expressions\n",
    "\n",
    "x = 10\n",
    "y = 5\n",
    "\n",
    "addition = x + y\n",
    "subtraction = x - y\n",
    "product = x * y\n",
    "division = x / y\n",
    "power = x**y\n",
    "\n",
    "print(\"The sum of x and y is: \", addition)\n",
    "print(\"The difference between x and y is: \", subtraction)\n",
    "print(\"The product of x and y is: \", product)\n",
    "print(\"The division of x and y is: \", division)\n",
    "print(\"x to the power y is: \", power)\n",
    "\n",
    "\n",
    "3. Integral Expressions : An integral expression in Python is used for computations and type conversion (integer to float, a string to integer, etc.). An integral expression always produces an integer value as a resultant.\n",
    "\n",
    "x = 10      # an integer number\n",
    "y = 5.0     # a floating point number\n",
    "\n",
    "# we need to convert the floating-point number into an integer or vice versa for summation.\n",
    "result = x + int(y)\n",
    "\n",
    "print(\"The sum of x and y is: \", result)\n",
    "\n",
    "\n",
    "4. Floating Expressions \n",
    "\n",
    "x = 10      # an integer number\n",
    "y = 5.0     # a floating point number\n",
    "\n",
    "# we need to convert the integer number into a floating-point number or vice versa for summation.\n",
    "result = float(x) + y\n",
    "\n",
    "print(\"The sum of x and y is: \", result)\n",
    "\n",
    "\n",
    "5. Relational Expressions : A relational expression in Python can be considered as a combination of two or more arithmetic expressions joined using relational operators. The overall expression results in either True or False (boolean result). We have four types of relational operators in Python \n",
    "(>,<,>=,<=).\n",
    "\n",
    "\n",
    "a = 25\n",
    "b = 14\n",
    "c = 48\n",
    "d = 45\n",
    "\n",
    "# The expression checks if the sum of (a and b) is the same as the difference of (c and d).\n",
    "result = (a + b) == (c - d)\n",
    "print(\"Type:\", type(result))\n",
    "print(\"The result of the expression is: \", result)\n",
    "\n",
    "\n"
   ]
  },
  {
   "cell_type": "markdown",
   "id": "490d373e",
   "metadata": {},
   "source": [
    "# 6. After running the following code, what does the variable bacon contain?\n",
    "bacon = 22\n",
    "bacon + 1\n"
   ]
  },
  {
   "cell_type": "code",
   "execution_count": 5,
   "id": "f7cddccd",
   "metadata": {},
   "outputs": [
    {
     "name": "stdout",
     "output_type": "stream",
     "text": [
      "22\n"
     ]
    }
   ],
   "source": [
    "bacon = 22 \n",
    "bacon + 1\n",
    "\n",
    "print(bacon)\n",
    "\n",
    "# bacon will only contain the same value as 22 as we are not assigning the value back after increment"
   ]
  },
  {
   "cell_type": "markdown",
   "id": "17e11f19",
   "metadata": {},
   "source": [
    "# 7. What should the values of the following two terms be?"
   ]
  },
  {
   "cell_type": "code",
   "execution_count": 6,
   "id": "332acd82",
   "metadata": {},
   "outputs": [
    {
     "data": {
      "text/plain": [
       "'spamspamspam'"
      ]
     },
     "execution_count": 6,
     "metadata": {},
     "output_type": "execute_result"
    }
   ],
   "source": [
    "'spam' + 'spamspam'"
   ]
  },
  {
   "cell_type": "code",
   "execution_count": 7,
   "id": "3056f964",
   "metadata": {},
   "outputs": [
    {
     "data": {
      "text/plain": [
       "'spamspamspam'"
      ]
     },
     "execution_count": 7,
     "metadata": {},
     "output_type": "execute_result"
    }
   ],
   "source": [
    "'spam' * 3"
   ]
  },
  {
   "cell_type": "markdown",
   "id": "2bcc32bb",
   "metadata": {},
   "source": [
    "# 8. Why is eggs a valid variable name while 100 is invalid?"
   ]
  },
  {
   "cell_type": "markdown",
   "id": "48f7c89a",
   "metadata": {},
   "source": [
    "A variable name must start with a letter or the underscore character. A variable name cannot start with a number. A variable name can only contain alpha-numeric characters and underscores (A-z, 0-9, and _ ) Variable names are case-sensitive (age, Age and AGE are three different variables)"
   ]
  },
  {
   "cell_type": "code",
   "execution_count": 9,
   "id": "dec01788",
   "metadata": {},
   "outputs": [
    {
     "ename": "SyntaxError",
     "evalue": "cannot assign to literal (3054986382.py, line 3)",
     "output_type": "error",
     "traceback": [
      "\u001b[0;36m  Input \u001b[0;32mIn [9]\u001b[0;36m\u001b[0m\n\u001b[0;31m    100 = \"python\"\u001b[0m\n\u001b[0m    ^\u001b[0m\n\u001b[0;31mSyntaxError\u001b[0m\u001b[0;31m:\u001b[0m cannot assign to literal\n"
     ]
    }
   ],
   "source": [
    "# In Python 100 is a data value and value cannot be used as assigment\n",
    "\n",
    "100 = \"python\""
   ]
  },
  {
   "cell_type": "markdown",
   "id": "2c92fab5",
   "metadata": {},
   "source": [
    "# 9. What three functions can be used to get the integer, floating-point number, or string version of a value?"
   ]
  },
  {
   "cell_type": "code",
   "execution_count": 10,
   "id": "5fe077ec",
   "metadata": {},
   "outputs": [
    {
     "name": "stdout",
     "output_type": "stream",
     "text": [
      "<class 'float'>\n"
     ]
    }
   ],
   "source": [
    "# Answer : int(), str(), float()\n",
    "\n",
    "\n",
    "a = 4.5\n",
    "\n",
    "print(type(a))"
   ]
  },
  {
   "cell_type": "code",
   "execution_count": 13,
   "id": "e5329e4f",
   "metadata": {},
   "outputs": [
    {
     "data": {
      "text/plain": [
       "4"
      ]
     },
     "execution_count": 13,
     "metadata": {},
     "output_type": "execute_result"
    }
   ],
   "source": [
    "#converting to integer\n",
    "int(a)"
   ]
  },
  {
   "cell_type": "code",
   "execution_count": 15,
   "id": "27647889",
   "metadata": {},
   "outputs": [
    {
     "data": {
      "text/plain": [
       "5.0"
      ]
     },
     "execution_count": 15,
     "metadata": {},
     "output_type": "execute_result"
    }
   ],
   "source": [
    "#converting to float\n",
    "a = 5\n",
    "float(a)"
   ]
  },
  {
   "cell_type": "code",
   "execution_count": 17,
   "id": "7e16b8c5",
   "metadata": {},
   "outputs": [
    {
     "data": {
      "text/plain": [
       "'5.0'"
      ]
     },
     "execution_count": 17,
     "metadata": {},
     "output_type": "execute_result"
    }
   ],
   "source": [
    "#converting to string\n",
    "\n",
    "a = 5.0\n",
    "\n",
    "str(a)"
   ]
  },
  {
   "cell_type": "markdown",
   "id": "04bb2f22",
   "metadata": {},
   "source": [
    "# 10. Why does this expression cause an error? How can you fix it?"
   ]
  },
  {
   "cell_type": "code",
   "execution_count": 18,
   "id": "e3c16ee5",
   "metadata": {},
   "outputs": [
    {
     "ename": "TypeError",
     "evalue": "can only concatenate str (not \"int\") to str",
     "output_type": "error",
     "traceback": [
      "\u001b[0;31m---------------------------------------------------------------------------\u001b[0m",
      "\u001b[0;31mTypeError\u001b[0m                                 Traceback (most recent call last)",
      "Input \u001b[0;32mIn [18]\u001b[0m, in \u001b[0;36m<cell line: 1>\u001b[0;34m()\u001b[0m\n\u001b[0;32m----> 1\u001b[0m \u001b[38;5;124;43m'\u001b[39;49m\u001b[38;5;124;43mI have eaten \u001b[39;49m\u001b[38;5;124;43m'\u001b[39;49m\u001b[43m \u001b[49m\u001b[38;5;241;43m+\u001b[39;49m\u001b[43m \u001b[49m\u001b[38;5;241;43m99\u001b[39;49m \u001b[38;5;241m+\u001b[39m \u001b[38;5;124m'\u001b[39m\u001b[38;5;124m burritos.\u001b[39m\u001b[38;5;124m'\u001b[39m\n",
      "\u001b[0;31mTypeError\u001b[0m: can only concatenate str (not \"int\") to str"
     ]
    }
   ],
   "source": [
    "'I have eaten ' + 99 + ' burritos.'"
   ]
  },
  {
   "cell_type": "code",
   "execution_count": 20,
   "id": "0c6f706e",
   "metadata": {},
   "outputs": [],
   "source": [
    "#Answer: This expression failed becuase we are trying to concat number with string."
   ]
  },
  {
   "cell_type": "code",
   "execution_count": 21,
   "id": "6ad58f8e",
   "metadata": {},
   "outputs": [
    {
     "data": {
      "text/plain": [
       "'I have eaten 99 burritos.'"
      ]
     },
     "execution_count": 21,
     "metadata": {},
     "output_type": "execute_result"
    }
   ],
   "source": [
    "#Fix\n",
    "\n",
    "'I have eaten ' + str(99) + ' burritos.'"
   ]
  },
  {
   "cell_type": "code",
   "execution_count": null,
   "id": "571a7f0d",
   "metadata": {},
   "outputs": [],
   "source": []
  }
 ],
 "metadata": {
  "kernelspec": {
   "display_name": "Python 3 (ipykernel)",
   "language": "python",
   "name": "python3"
  },
  "language_info": {
   "codemirror_mode": {
    "name": "ipython",
    "version": 3
   },
   "file_extension": ".py",
   "mimetype": "text/x-python",
   "name": "python",
   "nbconvert_exporter": "python",
   "pygments_lexer": "ipython3",
   "version": "3.8.3rc1"
  }
 },
 "nbformat": 4,
 "nbformat_minor": 5
}
