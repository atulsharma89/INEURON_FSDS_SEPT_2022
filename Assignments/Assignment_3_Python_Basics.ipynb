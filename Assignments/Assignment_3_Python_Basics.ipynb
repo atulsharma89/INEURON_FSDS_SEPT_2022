{
 "cells": [
  {
   "cell_type": "markdown",
   "id": "9007c5eb",
   "metadata": {},
   "source": [
    "# 1. Why are functions advantageous to have in your programs?"
   ]
  },
  {
   "cell_type": "code",
   "execution_count": 1,
   "id": "4e420e63",
   "metadata": {},
   "outputs": [],
   "source": [
    "# 1) The use of functions makes a program more readable. It's frequently difficult to read a large program. Breaking the code down into smaller functions keeps the program structured, understandable, and reusable.\n",
    "\n",
    "# 2) The function can be reused countless times after it is defined.\n",
    "\n",
    "# 3) Using a function, it is possible to reduce the size of a program by calling and using the function at different places in the program.\n",
    "\n",
    "# 4) Functions help in code modularity, which means that the entire code is divided into separate blocks, each of which is self-contained and performs a different task. This makes each block implementation and debugging much easier.\n",
    "\n",
    "# 5) In top-down structured programming, dividing a program into function is more efficient and easy to understand.\n",
    "\n",
    "# 6) If you are just using the function in your program then you don’t have to worry about how it works inside."
   ]
  },
  {
   "cell_type": "markdown",
   "id": "48c348b4",
   "metadata": {},
   "source": [
    "# 2. When does the code in a function run: when it's specified or when it's called?"
   ]
  },
  {
   "cell_type": "code",
   "execution_count": 2,
   "id": "f9a8d03d",
   "metadata": {},
   "outputs": [],
   "source": [
    "#Answer: when its called"
   ]
  },
  {
   "cell_type": "markdown",
   "id": "6d670b99",
   "metadata": {},
   "source": [
    "# 3. What statement creates a function?"
   ]
  },
  {
   "cell_type": "code",
   "execution_count": 5,
   "id": "2cb948cf",
   "metadata": {},
   "outputs": [
    {
     "name": "stdout",
     "output_type": "stream",
     "text": [
      "hello world\n"
     ]
    }
   ],
   "source": [
    "#answer : def\n",
    "\n",
    "#creating function\n",
    "\n",
    "def myfunct():\n",
    "    \"\"\"This fucntion prints hello world during calling\"\"\"\n",
    "    print(\"hello world\")\n",
    "    \n",
    "# calling function\n",
    "\n",
    "myfunct()"
   ]
  },
  {
   "cell_type": "markdown",
   "id": "155f56cc",
   "metadata": {},
   "source": [
    "# 4. What is the difference between a function and a function call?"
   ]
  },
  {
   "cell_type": "code",
   "execution_count": 6,
   "id": "cc8172b2",
   "metadata": {},
   "outputs": [],
   "source": [
    "# A function is a block of code that does a particular operation and returns a result. \n",
    "# It usually accepts inputs as parameters and returns a result. The parameters are not mandatory. \n",
    "# A function call is the code used to pass control to a function"
   ]
  },
  {
   "cell_type": "code",
   "execution_count": 8,
   "id": "3beef268",
   "metadata": {},
   "outputs": [
    {
     "data": {
      "text/plain": [
       "14"
      ]
     },
     "execution_count": 8,
     "metadata": {},
     "output_type": "execute_result"
    }
   ],
   "source": [
    "#function\n",
    "\n",
    "def myadd(x,y):\n",
    "    \"\"\"This function is used for adding 2 numbers and returning the result\"\"\"\n",
    "    return x+y\n",
    "\n",
    "#function call\n",
    "\n",
    "myadd(5,9)"
   ]
  },
  {
   "cell_type": "code",
   "execution_count": 9,
   "id": "4113051c",
   "metadata": {},
   "outputs": [
    {
     "data": {
      "text/plain": [
       "15.2"
      ]
     },
     "execution_count": 9,
     "metadata": {},
     "output_type": "execute_result"
    }
   ],
   "source": [
    "myadd(5.5,9.7)"
   ]
  },
  {
   "cell_type": "markdown",
   "id": "20069145",
   "metadata": {},
   "source": [
    "# 5. How many global scopes are there in a Python program? How many local scopes?"
   ]
  },
  {
   "cell_type": "code",
   "execution_count": 10,
   "id": "42d0fd9a",
   "metadata": {},
   "outputs": [],
   "source": [
    "# Global Scope : A variable created in the main body of the Python code is a global variable and belongs to the global scope.\n",
    "\n",
    "#Global variables are available from within any scope, global and local."
   ]
  },
  {
   "cell_type": "code",
   "execution_count": null,
   "id": "40867a17",
   "metadata": {},
   "outputs": [],
   "source": []
  }
 ],
 "metadata": {
  "kernelspec": {
   "display_name": "Python 3 (ipykernel)",
   "language": "python",
   "name": "python3"
  },
  "language_info": {
   "codemirror_mode": {
    "name": "ipython",
    "version": 3
   },
   "file_extension": ".py",
   "mimetype": "text/x-python",
   "name": "python",
   "nbconvert_exporter": "python",
   "pygments_lexer": "ipython3",
   "version": "3.8.3rc1"
  }
 },
 "nbformat": 4,
 "nbformat_minor": 5
}
