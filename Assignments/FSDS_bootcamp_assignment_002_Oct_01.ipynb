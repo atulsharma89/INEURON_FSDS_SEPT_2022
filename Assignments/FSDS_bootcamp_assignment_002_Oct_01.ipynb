{
 "cells": [
  {
   "cell_type": "markdown",
   "metadata": {
    "id": "cyOfbWCdOjEr"
   },
   "source": [
    "# ASSIGNMENTS - Compulsory\n",
    "## Send it before 0000 hrs IST or 12 AM Wednesday\n",
    "\n",
    "## NOTE: Evaluation will be done before next class.\n",
    "\n",
    "## HOW TO SUBMIT: -\n",
    "Download this notebook, Solve it and upload in the google form given in the mail."
   ]
  },
  {
   "cell_type": "markdown",
   "metadata": {},
   "source": [
    "# 1. What is indentation error? Why indentation is important? Give one simple example?"
   ]
  },
  {
   "cell_type": "raw",
   "metadata": {},
   "source": [
    "An indentation in Python is used to segregate a singular code into identifiable groups of functionally similar statements. \n",
    "\n",
    "An Indentation error comes when spaces or tabs are not appplied correctly in piece of code\n",
    "\n",
    "Example of Indentation error is as below:"
   ]
  },
  {
   "cell_type": "code",
   "execution_count": 1,
   "metadata": {},
   "outputs": [
    {
     "name": "stdout",
     "output_type": "stream",
     "text": [
      "Take and umbrella\n"
     ]
    }
   ],
   "source": [
    "# example check if it is raining today and if yes then take an umbrella\n",
    "\n",
    "\n",
    "#correct indented code\n",
    "is_raining = True\n",
    "\n",
    "if is_raining:\n",
    "    print(\"Take and umbrella\")  # here indetentation is marked correctly\n",
    "else:\n",
    "    print(\"You can go without the umbrella\")"
   ]
  },
  {
   "cell_type": "code",
   "execution_count": 2,
   "metadata": {},
   "outputs": [
    {
     "ename": "IndentationError",
     "evalue": "expected an indented block (1786833994.py, line 6)",
     "output_type": "error",
     "traceback": [
      "\u001b[0;36m  Input \u001b[0;32mIn [2]\u001b[0;36m\u001b[0m\n\u001b[0;31m    print(\"Take and umbrella\")  # here indetentation is marked correctly\u001b[0m\n\u001b[0m    ^\u001b[0m\n\u001b[0;31mIndentationError\u001b[0m\u001b[0;31m:\u001b[0m expected an indented block\n"
     ]
    }
   ],
   "source": [
    "#wrongly indeted code \n",
    "\n",
    "is_raining = True\n",
    "\n",
    "if is_raining:\n",
    "print(\"Take and umbrella\")  # here indetentation is marked correctly\n",
    "else:\n",
    "    print(\"You can go without the umbrella\")"
   ]
  },
  {
   "cell_type": "markdown",
   "metadata": {},
   "source": [
    "# 2. Correct the following code and write the comment where you made the correction?"
   ]
  },
  {
   "cell_type": "raw",
   "metadata": {},
   "source": [
    "# 2. Correct the following code and write the comment where you made the correction?\n",
    "\n",
    "  ```python\n",
    "  class_started = bool(input(\"Hey friend, is class started?: [0-False/1-True]\"))\n",
    "\n",
    "  if class_started:\n",
    "      print(\"Since class started...\")\n",
    "      print(\"Lets concentrate\")\n",
    "  else:\n",
    "      print(\"Since class is not started...\")\n",
    "      print(\"let's revise\")    \n",
    "  ```\n",
    "\n",
    "  **HINT:** Refer your data type conversion class\n",
    "\n"
   ]
  },
  {
   "cell_type": "code",
   "execution_count": 16,
   "metadata": {},
   "outputs": [
    {
     "name": "stdout",
     "output_type": "stream",
     "text": [
      "True\n",
      "False\n"
     ]
    }
   ],
   "source": [
    "a =\"False\"\n",
    "\n",
    "print(bool(a))\n",
    "\n",
    "b = \"\"\n",
    "print(bool(b))"
   ]
  },
  {
   "cell_type": "code",
   "execution_count": 13,
   "metadata": {},
   "outputs": [
    {
     "name": "stdout",
     "output_type": "stream",
     "text": [
      "Hey friend, is class started?: [0-False/1-True]0\n",
      "Since class is not started...\n",
      "let's revise\n"
     ]
    }
   ],
   "source": [
    "class_started = int(input(\"Hey friend, is class started?: [0-False/1-True]\"))\n",
    "\n",
    "#In Python True and False are equivalent to 1 and 0. Use the int() method on a boolean to get its int values.\n",
    "# in python everything apart from an empty string will be treated as True only\n",
    "# So in order to manipulate input correctly (treating 0 as False and 1 as True, we need to change the input type to Int)\n",
    "\n",
    "if class_started:\n",
    "   print(\"Since class started...\")\n",
    "   print(\"Lets concentrate\")\n",
    "else:\n",
    "   print(\"Since class is not started...\")\n",
    "   print(\"let's revise\") "
   ]
  },
  {
   "cell_type": "markdown",
   "metadata": {},
   "source": [
    "# 3. Use if else condition to verify that dataype of `input()` method in python is always string.\n",
    "\n"
   ]
  },
  {
   "cell_type": "code",
   "execution_count": 22,
   "metadata": {},
   "outputs": [
    {
     "name": "stdout",
     "output_type": "stream",
     "text": [
      "Enter some data here atul\n",
      "<class 'str'>\n",
      "input type is string\n"
     ]
    }
   ],
   "source": [
    "#entering a string data like name here\n",
    "\n",
    "a = input(\"Enter some data here \")\n",
    "\n",
    "print(type(a))\n",
    "\n",
    "if type(a) == str:\n",
    "    print(\"input type is string\")\n",
    "else:\n",
    "    print(\"input type is different than string\")"
   ]
  },
  {
   "cell_type": "code",
   "execution_count": 23,
   "metadata": {},
   "outputs": [
    {
     "name": "stdout",
     "output_type": "stream",
     "text": [
      "Enter some integer data here 123\n",
      "<class 'str'>\n",
      "input type is string\n"
     ]
    }
   ],
   "source": [
    "#entering a numeric data like number here\n",
    "\n",
    "a = input(\"Enter some integer data here \")\n",
    "\n",
    "print(type(a))\n",
    "\n",
    "if type(a) == str:\n",
    "    print(\"input type is string\")\n",
    "else:\n",
    "    print(\"input type is different than string\")"
   ]
  },
  {
   "cell_type": "code",
   "execution_count": 24,
   "metadata": {},
   "outputs": [
    {
     "name": "stdout",
     "output_type": "stream",
     "text": [
      "Enter some data here @#qw123\n",
      "<class 'str'>\n",
      "input type is string\n"
     ]
    }
   ],
   "source": [
    "#trying some alphanumeric data here\n",
    "\n",
    "#entering a string data like name here\n",
    "\n",
    "a = input(\"Enter some data here \")\n",
    "\n",
    "print(type(a))\n",
    "\n",
    "if type(a) == str:\n",
    "    print(\"input type is string\")\n",
    "else:\n",
    "    print(\"input type is different than string\")"
   ]
  },
  {
   "cell_type": "code",
   "execution_count": 25,
   "metadata": {},
   "outputs": [],
   "source": [
    "# conclusion: input data type is always string by default"
   ]
  },
  {
   "cell_type": "code",
   "execution_count": null,
   "metadata": {},
   "outputs": [],
   "source": []
  },
  {
   "cell_type": "markdown",
   "metadata": {},
   "source": [
    "# 4. Take 3 variables and assign integer values to them. Find the largest variable, by only using the if and else conditions.\n",
    "\n"
   ]
  },
  {
   "cell_type": "code",
   "execution_count": 31,
   "metadata": {},
   "outputs": [
    {
     "name": "stdout",
     "output_type": "stream",
     "text": [
      "enter the first number: 1\n",
      "enter the second number: 1\n",
      "enter the third number: 1\n",
      "all theree numbers are same and equals to 1 1 1\n"
     ]
    }
   ],
   "source": [
    "num1 = int(input(\"enter the first number: \"))\n",
    "num2 = int(input(\"enter the second number: \"))\n",
    "num3 = int(input(\"enter the third number: \"))\n",
    "\n",
    "\n",
    "if num1 == num2 ==num3:\n",
    "    print(f\"all theree numbers are same and equals to {num1} {num2} {num3}\")\n",
    "elif num1 > num2 and num1 > num3:\n",
    "    print(f\" num1 {num1} is greatest out of {num1} {num2} {num3}\")\n",
    "elif num2>num1 and num2 > num3:\n",
    "    print(f\"num2 {num2} is greatest out of {num1} {num2} {num3}\")\n",
    "else:\n",
    "    print(f\"num3 {num3} is greatest out of {num1} {num2} {num3}\")"
   ]
  },
  {
   "cell_type": "markdown",
   "metadata": {},
   "source": [
    "# 5. What would be the solution?\n",
    "    1. True\n",
    "    2. False\n",
    "\n",
    "    ```python\n",
    "    a = 6\n",
    "    b = 10\n",
    "    print( not ( not a == 10 or not b == 10) )\n",
    "    ```\n",
    "\n"
   ]
  },
  {
   "cell_type": "code",
   "execution_count": 33,
   "metadata": {},
   "outputs": [
    {
     "name": "stdout",
     "output_type": "stream",
     "text": [
      "False\n"
     ]
    }
   ],
   "source": [
    "a = 6\n",
    "b = 10\n",
    "print( not ( not a == 10 or not b == 10) )\n",
    "\n",
    "# Output = False \n",
    "\n",
    "# EXPLAINATION : not b == 10 = False and not a == 10 = True ====> True or False ===> True ==> not(True) ==> False"
   ]
  },
  {
   "cell_type": "markdown",
   "metadata": {},
   "source": [
    "# 6. Find the answer as well as find out the reason behind the result? -"
   ]
  },
  {
   "cell_type": "raw",
   "metadata": {
    "id": "GT4IytkJMNa-"
   },
   "source": [
    "    \n",
    "6. Find the answer as well as find out the reason behind the result? -\n",
    "    - case 1:\n",
    "        ```python\n",
    "        A = 5.0\n",
    "        B = 10/2\n",
    "        print(A is B)\n",
    "        ```\n",
    "    - case 2:\n",
    "        ```python\n",
    "        A = 5.0\n",
    "        B = int(10/2)\n",
    "        print(A is B)\n",
    "        ```\n",
    "    - case 3:\n",
    "        ```python\n",
    "        A = 5.0\n",
    "        B = float(10/2)\n",
    "        print(A is B)\n",
    "        ```"
   ]
  },
  {
   "cell_type": "code",
   "execution_count": 34,
   "metadata": {},
   "outputs": [
    {
     "name": "stdout",
     "output_type": "stream",
     "text": [
      "value of A 5.0\n",
      "value of B 5.0\n",
      "140593331167632\n",
      "140593331167760\n",
      "False\n"
     ]
    }
   ],
   "source": [
    "# case 1\n",
    "A = 5.0\n",
    "B = 10/2\n",
    "\n",
    "print(f\"value of A {A}\")\n",
    "print(f\"value of B {B}\")\n",
    "print(id(A))\n",
    "print(id(B))\n",
    "\n",
    "\n",
    "print(A is B)\n",
    "\n",
    "#in this example as the Memory location of A and B are not same so the result came as False"
   ]
  },
  {
   "cell_type": "code",
   "execution_count": 35,
   "metadata": {},
   "outputs": [
    {
     "name": "stdout",
     "output_type": "stream",
     "text": [
      "value of A 5.0\n",
      "value of B 5\n",
      "140593331167792\n",
      "4366654240\n",
      "False\n"
     ]
    }
   ],
   "source": [
    "#Case 2\n",
    "\n",
    "A = 5.0\n",
    "B = int(10/2)\n",
    "\n",
    "print(f\"value of A {A}\")\n",
    "print(f\"value of B {B}\")\n",
    "print(id(A))\n",
    "print(id(B))\n",
    "\n",
    "\n",
    "print(A is B)\n",
    "\n",
    "#in this example as the Memory location of A and B are not same so the result came as False\n",
    "#Python stores integers and floats values differently as there memory requirement are different"
   ]
  },
  {
   "cell_type": "code",
   "execution_count": 36,
   "metadata": {},
   "outputs": [
    {
     "name": "stdout",
     "output_type": "stream",
     "text": [
      "value of A 5.0\n",
      "value of B 5.0\n",
      "140593331168240\n",
      "140593331167792\n",
      "False\n"
     ]
    }
   ],
   "source": [
    "# CASE 3\n",
    "\n",
    "\n",
    "A = 5.0\n",
    "B = float(10/2)\n",
    "\n",
    "print(f\"value of A {A}\")\n",
    "print(f\"value of B {B}\")\n",
    "print(id(A))\n",
    "print(id(B))\n",
    "\n",
    "\n",
    "\n",
    "print(A is B)\n",
    "\n",
    "\n",
    "#in this example as the Memory location of A and B are not same so the result came as False\n",
    "#Python stores integers and floats values differently as there memory requirement are different\n",
    "# Precison is a key factor in float operation which makes the memory map different"
   ]
  },
  {
   "cell_type": "markdown",
   "metadata": {
    "id": "a_4kbBVWNY-4"
   },
   "source": [
    "### Try to understand the following examples and answer the question based on it - \n",
    "    \n",
    "**Arithmatic Operators**\n",
    "\n",
    "|Operation|Meaning|\n",
    "|:-:|:-:|\n",
    "| **+** |addition|\n",
    "| **-** |subtraction|\n",
    "| **\\*** |multiplication|\n",
    "| **/** |true division|\n",
    "| **//** |integer division|\n",
    "| **%** |the modulo operator|\n",
    "\n",
    "\n",
    "Here `+`, `-`, `*`, `/` are regular arithmatic operators. Lets look at the `//` and `%` operators\n",
    "\n",
    "Usecase or examples - \n",
    "    \n",
    "```python\n",
    "var_a = 5\n",
    "var_b = 25\n",
    "integer_division = var_b // var_a\n",
    "print(f\"integer division: {var_b}/{var_a}={integer_division}\")\n",
    "```\n",
    "\n",
    "OUTPUT: integer division: 25/5=5\n",
    "\n",
    "```python\n",
    "var_a = 3\n",
    "var_b = 25\n",
    "integer_division = var_b // var_a\n",
    "print(f\"integer division: {var_b}/{var_a}={integer_division}\")\n",
    "```\n",
    "\n",
    "OUTPUT: integer division: 25/3=8\n",
    "\n",
    "```python\n",
    "var_a = 5\n",
    "var_b = 25\n",
    "remainder = var_b % var_a\n",
    "print(f\"remainder: {var_b}/{var_a} is {remainder}\")\n",
    "```\n",
    "\n",
    "OUTPUT: remainder: 25/5 is 0\n",
    "\n",
    "```python\n",
    "var_a = 3\n",
    "var_b = 25\n",
    "remainder = var_b % var_a\n",
    "print(f\"remainder: {var_b}/{var_a} is {remainder}\")\n",
    "```\n",
    "\n",
    "OUTPUT: remainder: 25/3 is 1\n",
    "\n"
   ]
  },
  {
   "cell_type": "markdown",
   "metadata": {
    "id": "v288WPlMNxmM"
   },
   "source": [
    "### Answer below questions on the above theory - \n",
    "\n",
    "7. Write a program that asks the user to enter a number. You should print out a message to the user, either “That number is divisible by either 3 or 5”, or “That number is not divisible by either 3 or 5”. Be sure to consider the data type of the input you are taking in from the user. Use a single if/else block to solve this problem.\n",
    "\n",
    "8. Take user input for length and width. Then calculate the area of rectangle. Also print as per length and width whether its a square of rectangle.\n",
    "\n",
    "9. Take two variable radius_1 and radius_2 and calculate the area of circle_1 and circle_2. Also print which circle has large area. If area is equal then print area is equal.\n",
    "\n",
    "10. Check whether a year is leap year or not. Use nested if...else to solve this problem. A leap year is exactly divisible by 4 except for century years (years ending with 00). The century year is a leap year only if it is perfectly divisible by 400."
   ]
  },
  {
   "cell_type": "markdown",
   "metadata": {
    "id": "XumyqFp6MHnv"
   },
   "source": [
    "# 7. Write a program that asks the user to enter a number. You should print out a message to the user, either “That number is divisible by either 3 or 5”, or “That number is not divisible by either 3 or 5”. Be sure to consider the data type of the input you are taking in from the user. Use a single if/else block to solve this problem."
   ]
  },
  {
   "cell_type": "code",
   "execution_count": 39,
   "metadata": {},
   "outputs": [
    {
     "name": "stdout",
     "output_type": "stream",
     "text": [
      "enter a number of your choice 19\n",
      "number 19 is not divisible by either 3 or 5\n"
     ]
    }
   ],
   "source": [
    "num = int(input(\"enter a number of your choice \"))\n",
    "\n",
    "\n",
    "if num %3 ==0 or num%5 ==0:\n",
    "    print(f\"number {num} is divisible by either 3 or 5\")\n",
    "else:\n",
    "    print(f\"number {num} is not divisible by either 3 or 5\")"
   ]
  },
  {
   "cell_type": "markdown",
   "metadata": {},
   "source": [
    "# 8. Take user input for length and width. Then calculate the area of rectangle. Also print as per length and width whether its a square of rectangle.\n",
    "\n"
   ]
  },
  {
   "cell_type": "code",
   "execution_count": 41,
   "metadata": {},
   "outputs": [
    {
     "name": "stdout",
     "output_type": "stream",
     "text": [
      "enter the lenghth of rectangle 5\n",
      "enter the width of rectangle 4\n",
      "area of rectangle is 20\n"
     ]
    }
   ],
   "source": [
    "length = int(input(\"enter the lenghth of rectangle \"))\n",
    "\n",
    "width = int(input (\"enter the width of rectangle \"))\n",
    "\n",
    "\n",
    "if length == width:\n",
    "    print(\"As legth = breadth. Given dimensions corresponds to square, it is a square rectangle\")\n",
    "    print(f\"area of square rectangle is {length*width}\")\n",
    "else:\n",
    "    print(f\"area of rectangle is {length*width}\")"
   ]
  },
  {
   "cell_type": "markdown",
   "metadata": {},
   "source": [
    "# 9. Take two variable radius_1 and radius_2 and calculate the area of circle_1 and circle_2. Also print which circle has large area. If area is equal then print area is equal.\n",
    "\n"
   ]
  },
  {
   "cell_type": "code",
   "execution_count": 42,
   "metadata": {},
   "outputs": [
    {
     "name": "stdout",
     "output_type": "stream",
     "text": [
      "enter the radius of first circle3\n",
      "enter the radius of second circle3\n",
      "Area of both the circles is equal which equals to 28.259999999999998\n"
     ]
    }
   ],
   "source": [
    "radius_1= float(input(\"enter the radius of first circle\"))\n",
    "\n",
    "radius_2= float(input(\"enter the radius of second circle\"))\n",
    "\n",
    "\n",
    "area_circle1 = 3.14*radius_1*radius_1\n",
    "\n",
    "area_circle2 = 3.14*radius_2*radius_2\n",
    "\n",
    "\n",
    "if area_circle1 == area_circle2:\n",
    "    print(f\"Area of both the circles is equal which equals to {area_circle1}\")\n",
    "elif area_circle1 > area_circle2:\n",
    "    print(f\"area of circle 1 {area_circle1} is greater than area of circle 2{area_circle2}\")\n",
    "else:\n",
    "    print(f\"area of circle 2 {area_circle2} is greater than area of circle 1{area_circle1}\")"
   ]
  },
  {
   "cell_type": "code",
   "execution_count": 45,
   "metadata": {},
   "outputs": [
    {
     "name": "stdout",
     "output_type": "stream",
     "text": [
      "enter the radius of first circle 5\n",
      "enter the radius of second circle 4\n",
      "area of circle 1 78.5 is greater than area of circle 2 50.24\n"
     ]
    }
   ],
   "source": [
    "radius_1= float(input(\"enter the radius of first circle \"))\n",
    "\n",
    "radius_2= float(input(\"enter the radius of second circle \"))\n",
    "\n",
    "\n",
    "area_circle1 = 3.14*radius_1*radius_1\n",
    "\n",
    "area_circle2 = 3.14*radius_2*radius_2\n",
    "\n",
    "\n",
    "if area_circle1 == area_circle2:\n",
    "    print(f\"Area of both the circles is equal which equals to {area_circle1}\")\n",
    "elif area_circle1 > area_circle2:\n",
    "    print(f\"area of circle 1 {area_circle1} is greater than area of circle 2 {area_circle2}\")\n",
    "else:\n",
    "    print(f\"area of circle 2 {area_circle2} is greater than area of circle 1 {area_circle1}\")"
   ]
  },
  {
   "cell_type": "markdown",
   "metadata": {},
   "source": [
    "# 10. Check whether a year is leap year or not. Use nested if...else to solve this problem. A leap year is exactly divisible by 4 except for century years (years ending with 00). The century year is a leap year only if it is perfectly divisible by 400."
   ]
  },
  {
   "cell_type": "code",
   "execution_count": 48,
   "metadata": {},
   "outputs": [
    {
     "name": "stdout",
     "output_type": "stream",
     "text": [
      "Enter a year: 2023\n",
      "2023 is not a leap year\n"
     ]
    }
   ],
   "source": [
    "# To get year (integer input) from the user\n",
    "year = int(input(\"Enter a year: \"))\n",
    "\n",
    "# divided by 100 means century year (ending with 00)\n",
    "# century year divided by 400 is leap year\n",
    "if (year % 400 == 0) and (year % 100 == 0):\n",
    "    print(f\"{year} is a leap year\")\n",
    "\n",
    "# not divided by 100 means not a century year\n",
    "# year divided by 4 is a leap year\n",
    "elif (year % 4 ==0) and (year % 100 != 0):\n",
    "    print(f\"{year} is a leap year\")\n",
    "\n",
    "# if not divided by both 400 (century year) and 4 (not century year)\n",
    "# year is not leap year\n",
    "else:\n",
    "    print(f\"{year} is not a leap year\")"
   ]
  },
  {
   "cell_type": "code",
   "execution_count": null,
   "metadata": {},
   "outputs": [],
   "source": []
  }
 ],
 "metadata": {
  "colab": {
   "collapsed_sections": [],
   "provenance": []
  },
  "kernelspec": {
   "display_name": "Python 3 (ipykernel)",
   "language": "python",
   "name": "python3"
  },
  "language_info": {
   "codemirror_mode": {
    "name": "ipython",
    "version": 3
   },
   "file_extension": ".py",
   "mimetype": "text/x-python",
   "name": "python",
   "nbconvert_exporter": "python",
   "pygments_lexer": "ipython3",
   "version": "3.8.3rc1"
  }
 },
 "nbformat": 4,
 "nbformat_minor": 1
}
