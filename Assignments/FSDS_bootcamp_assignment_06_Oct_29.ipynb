{
 "cells": [
  {
   "cell_type": "raw",
   "id": "9016b47c",
   "metadata": {},
   "source": [
    "1. write a function which will try to find out len of a string without using an inbuilt len function \n",
    "2. write a function which  will be able to print an index of list element without using an index function\n",
    "3. write a function which will be able to print an ip address of your system\n",
    "4. write a function which will shutdown your system\n",
    "5. write a function which will take input as a list with any kind of numeric value and give an out as a multiplication of \n",
    "all the numeric data l = [3.5, 6.56, 4,5,\"sudh\" , \"ineuron\" , 'fsda bootcamp 2.0']\n",
    "6. write a function which will be able to read all the mails \n",
    "7 . write a function which will be able to send a mail to anyone \n",
    "8. write a function which will be able to read a doc/word file from your system \n",
    "\n",
    "you are suppose to complete this by oct 30th before your \n",
    "live class and you have to send a solution at mail id - query@ineuron.ai\n",
    "submit your git link to mail "
   ]
  },
  {
   "cell_type": "markdown",
   "id": "f166394a",
   "metadata": {},
   "source": [
    "# 1. write a function which will try to find out len of a string without using an inbuilt len function "
   ]
  },
  {
   "cell_type": "code",
   "execution_count": 1,
   "id": "126b86d3",
   "metadata": {},
   "outputs": [
    {
     "data": {
      "text/plain": [
       "9"
      ]
     },
     "execution_count": 1,
     "metadata": {},
     "output_type": "execute_result"
    }
   ],
   "source": [
    "def mylen(s):\n",
    "    t = 0\n",
    "    for i in s:\n",
    "        t+=1\n",
    "    return t\n",
    "\n",
    "mylen('atulkumar')"
   ]
  },
  {
   "cell_type": "markdown",
   "id": "6dd892df",
   "metadata": {},
   "source": [
    "# 2. write a function which  will be able to print an index of list element without using an index function"
   ]
  },
  {
   "cell_type": "code",
   "execution_count": 2,
   "id": "89d3239e",
   "metadata": {},
   "outputs": [
    {
     "name": "stdout",
     "output_type": "stream",
     "text": [
      "element 1 index is 0\n",
      "element 2 index is 1\n",
      "element 3 index is 2\n",
      "element 5 index is 3\n",
      "element 6 index is 4\n",
      "element 7 index is 5\n",
      "element atul index is 6\n",
      "element pinku index is 7\n",
      "element rajesh index is 8\n"
     ]
    }
   ],
   "source": [
    "l = [1,2,3,5,6,7,'atul','pinku', 'rajesh']\n",
    "\n",
    "def myindex(l):\n",
    "    for i in range(len(l)):\n",
    "        print(f\"element {l[i]} index is {i}\" )\n",
    "\n",
    "myindex(l)"
   ]
  },
  {
   "cell_type": "markdown",
   "id": "923b66c0",
   "metadata": {},
   "source": [
    "# 3. write a function which will be able to print an ip address of your system"
   ]
  },
  {
   "cell_type": "code",
   "execution_count": 3,
   "id": "c14604e7",
   "metadata": {},
   "outputs": [
    {
     "name": "stdout",
     "output_type": "stream",
     "text": [
      "Your Computer Name is:MacBook-Pro-162.local\n",
      "Your Computer IP Address is:127.0.0.1\n"
     ]
    }
   ],
   "source": [
    "# Python Program to Get IP Address\n",
    "import socket\n",
    "hostname = socket.gethostname()\n",
    "IPAddr = socket.gethostbyname(hostname)\n",
    " \n",
    "print(\"Your Computer Name is:\" + hostname)\n",
    "print(\"Your Computer IP Address is:\" + IPAddr)"
   ]
  },
  {
   "cell_type": "code",
   "execution_count": 4,
   "id": "f71d16ff",
   "metadata": {},
   "outputs": [
    {
     "name": "stdout",
     "output_type": "stream",
     "text": [
      "Your Computer Name is:MacBook-Pro-162.local\n",
      "Your Computer IP Address is:127.0.0.1\n"
     ]
    }
   ],
   "source": [
    "def myipaddress(hostname,IPAddr):\n",
    "    print(\"Your Computer Name is:\" + hostname)\n",
    "    print(\"Your Computer IP Address is:\" + IPAddr)\n",
    "    \n",
    "\n",
    "    \n",
    "myipaddress(hostname,IPAddr)    "
   ]
  },
  {
   "cell_type": "markdown",
   "id": "d52699e7",
   "metadata": {},
   "source": [
    "# 4. write a function which will shutdown your system\n"
   ]
  },
  {
   "cell_type": "code",
   "execution_count": null,
   "id": "8365a9b7",
   "metadata": {},
   "outputs": [],
   "source": [
    "import os\n",
    "  \n",
    "shutdown = input(\"Do you wish to shutdown your computer ? (yes / no): \")\n",
    "  \n",
    "if shutdown == 'no':\n",
    "    exit()\n",
    "else:\n",
    "    os.system(\"shutdown /s /t 1\")"
   ]
  },
  {
   "cell_type": "markdown",
   "id": "737e4704",
   "metadata": {},
   "source": [
    "# 5. write a function which will take input as a list with any kind of numeric value and give an out as a multiplication of all the numeric data l = [3.5, 6.56, 4,5,\"sudh\" , \"ineuron\" , 'fsda bootcamp 2.0']\n",
    "\n"
   ]
  },
  {
   "cell_type": "code",
   "execution_count": 5,
   "id": "5e5f65bf",
   "metadata": {},
   "outputs": [
    {
     "data": {
      "text/plain": [
       "459.19999999999993"
      ]
     },
     "execution_count": 5,
     "metadata": {},
     "output_type": "execute_result"
    }
   ],
   "source": [
    "l = [3.5, 6.56, 4,5,\"sudh\" , \"ineuron\" , 'fsda bootcamp 2.0']\n",
    "\n",
    "def mymul(l):\n",
    "    a = 1\n",
    "    for i in l:\n",
    "        if type(i) == int or type(i) == float:\n",
    "            a = a*i\n",
    "    return a\n",
    "\n",
    "mymul(l)"
   ]
  },
  {
   "cell_type": "markdown",
   "id": "98123651",
   "metadata": {},
   "source": [
    "# 6. write a function which will be able to read all the mails "
   ]
  },
  {
   "cell_type": "code",
   "execution_count": 21,
   "id": "044d85ea",
   "metadata": {},
   "outputs": [],
   "source": [
    "# not able to solve this question"
   ]
  },
  {
   "cell_type": "markdown",
   "id": "bc26c9f6",
   "metadata": {},
   "source": [
    "# 7 . write a function which will be able to send a mail to anyone "
   ]
  },
  {
   "cell_type": "code",
   "execution_count": null,
   "id": "7a27bb5b",
   "metadata": {},
   "outputs": [],
   "source": [
    "import smtplib\n",
    "from email.mime.multipart import MIMEMultipart\n",
    "from email.mime.text import MIMEText\n",
    "\n",
    "\n",
    "smtp_user = 'sharmaaks50@gmail.com'\n",
    "smtp_password = 'my16charactersAppPassword'\n",
    "server = 'smtp.gmail.com'\n",
    "port = 587\n",
    "msg = MIMEMultipart(\"alternative\")\n",
    "msg[\"Subject\"] = 'Why,Oh why!'\n",
    "msg[\"From\"] = smtp_user\n",
    "msg[\"To\"] = \"destinationUser@gmail.com\"\n",
    "msg.attach(MIMEText('\\nsent via python', 'plain'))\n",
    "s = smtplib.SMTP(server, port)\n",
    "s.ehlo()\n",
    "s.starttls()\n",
    "s.login(smtp_user, smtp_password)\n",
    "s.sendmail(smtp_user, \"destinationUser@gmail.com\", msg.as_string())\n",
    "s.quit()"
   ]
  },
  {
   "cell_type": "markdown",
   "id": "913e469c",
   "metadata": {},
   "source": [
    "# 8. write a function which will be able to read a doc/word file from your system "
   ]
  },
  {
   "cell_type": "code",
   "execution_count": 13,
   "id": "cc7d6638",
   "metadata": {},
   "outputs": [
    {
     "data": {
      "text/plain": [
       "'/Users/atul595525/repository1/INEURON_FSDS_SEPT_2022/Assignments'"
      ]
     },
     "execution_count": 13,
     "metadata": {},
     "output_type": "execute_result"
    }
   ],
   "source": [
    "pwd"
   ]
  },
  {
   "cell_type": "code",
   "execution_count": 12,
   "id": "c511c6b9",
   "metadata": {},
   "outputs": [
    {
     "name": "stdout",
     "output_type": "stream",
     "text": [
      "Hello! Welcome to demofile.txt\n",
      "This file is for testing purposes.\n",
      "Good Luck!\n"
     ]
    }
   ],
   "source": [
    "f = open(\"myfile.txt\", \"r\")\n",
    "print(f.read())"
   ]
  },
  {
   "cell_type": "code",
   "execution_count": 17,
   "id": "784d571a",
   "metadata": {},
   "outputs": [
    {
     "name": "stdout",
     "output_type": "stream",
     "text": [
      "enter the file that you want to read /Users/atul595525/repository1/INEURON_FSDS_SEPT_2022/Assignments/myfile.txt\n",
      "/Users/atul595525/repository1/INEURON_FSDS_SEPT_2022/Assignments/myfile.txt\n",
      "Hello! Welcome to myfile.txt\n",
      "This file is for testing purposes to read a file from system.\n",
      "Good Luck!\n"
     ]
    }
   ],
   "source": [
    "filepath = input(\"enter the file that you want to read \")\n",
    "\n",
    "print(filepath)\n",
    "\n",
    "def myfileread(a):\n",
    "    f = open(a, \"r\")\n",
    "    print(f.read())\n",
    "    f.close()\n",
    "    \n",
    "\n",
    "myfileread(filepath)\n",
    "\n",
    "    "
   ]
  },
  {
   "cell_type": "code",
   "execution_count": null,
   "id": "def14389",
   "metadata": {},
   "outputs": [],
   "source": []
  }
 ],
 "metadata": {
  "kernelspec": {
   "display_name": "Python 3 (ipykernel)",
   "language": "python",
   "name": "python3"
  },
  "language_info": {
   "codemirror_mode": {
    "name": "ipython",
    "version": 3
   },
   "file_extension": ".py",
   "mimetype": "text/x-python",
   "name": "python",
   "nbconvert_exporter": "python",
   "pygments_lexer": "ipython3",
   "version": "3.8.3rc1"
  }
 },
 "nbformat": 4,
 "nbformat_minor": 5
}
