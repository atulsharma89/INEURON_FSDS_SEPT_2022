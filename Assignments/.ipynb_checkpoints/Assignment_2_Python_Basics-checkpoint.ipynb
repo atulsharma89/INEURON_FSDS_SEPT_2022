{
 "cells": [
  {
   "cell_type": "markdown",
   "id": "aef7cfce",
   "metadata": {},
   "source": [
    "# 1.What are the two values of the Boolean data type? How do you write them?"
   ]
  },
  {
   "cell_type": "code",
   "execution_count": 1,
   "id": "c6adebd7",
   "metadata": {},
   "outputs": [
    {
     "name": "stdout",
     "output_type": "stream",
     "text": [
      "<class 'bool'>\n"
     ]
    }
   ],
   "source": [
    "#True and False are the 2 values of the Boolean Data type\n",
    "\n",
    "a = True\n",
    "\n",
    "print(type(a))"
   ]
  },
  {
   "cell_type": "code",
   "execution_count": 2,
   "id": "b442b267",
   "metadata": {},
   "outputs": [
    {
     "name": "stdout",
     "output_type": "stream",
     "text": [
      "<class 'bool'>\n"
     ]
    }
   ],
   "source": [
    "b = False\n",
    "\n",
    "print(type(b))"
   ]
  },
  {
   "cell_type": "code",
   "execution_count": 3,
   "id": "93c253df",
   "metadata": {},
   "outputs": [
    {
     "data": {
      "text/plain": [
       "False"
      ]
     },
     "execution_count": 3,
     "metadata": {},
     "output_type": "execute_result"
    }
   ],
   "source": [
    "a and b"
   ]
  },
  {
   "cell_type": "markdown",
   "id": "268e4786",
   "metadata": {},
   "source": [
    "# 2. What are the three different types of Boolean operators?"
   ]
  },
  {
   "cell_type": "code",
   "execution_count": 12,
   "id": "b06d2369",
   "metadata": {},
   "outputs": [],
   "source": [
    "# three different types of Boolean operators are: \n",
    "\n",
    "#And operator : Both vaLUES NEEDS TO BE TRUE\n",
    "\n",
    "# Or operator: EITHER ONE VALUES NEED BE BE TRUE FOR THE OUTPUT TO BE TRUE\n",
    "\n",
    "# Not operator: It is used for reversing the output, (example reverse of True is false)"
   ]
  },
  {
   "cell_type": "markdown",
   "id": "926f4127",
   "metadata": {},
   "source": [
    "# 3. Make a list of each Boolean operator's truth tables (i.e. every possible combination of Boolean values for the operator and what it evaluate )."
   ]
  },
  {
   "cell_type": "code",
   "execution_count": 13,
   "id": "79d15b45",
   "metadata": {},
   "outputs": [],
   "source": [
    "#And operator : Both vaLUES NEEDS TO BE TRUE\n",
    "\n",
    "# Or operator: EITHER ONE VALUES NEED BE BE TRUE FOR THE OUTPUT TO BE TRUE\n",
    "\n",
    "# Not operator: It is used for reversing the output, (example reverse of True is false)"
   ]
  },
  {
   "cell_type": "code",
   "execution_count": 9,
   "id": "2304869e",
   "metadata": {},
   "outputs": [
    {
     "name": "stdout",
     "output_type": "stream",
     "text": [
      "True\n",
      "False\n",
      "False\n",
      "False\n"
     ]
    }
   ],
   "source": [
    "# And Operator\n",
    "\n",
    "print(True and True)\n",
    "print(True and False)\n",
    "print(False and True)\n",
    "print(False and False)"
   ]
  },
  {
   "cell_type": "code",
   "execution_count": 10,
   "id": "fcb0b88b",
   "metadata": {},
   "outputs": [
    {
     "name": "stdout",
     "output_type": "stream",
     "text": [
      "True\n",
      "True\n",
      "True\n",
      "False\n"
     ]
    }
   ],
   "source": [
    "#OR Operator\n",
    "\n",
    "print(True or True)\n",
    "print(True or False)\n",
    "print(False or True)\n",
    "print(False or False)"
   ]
  },
  {
   "cell_type": "code",
   "execution_count": 11,
   "id": "1ab2d242",
   "metadata": {},
   "outputs": [
    {
     "name": "stdout",
     "output_type": "stream",
     "text": [
      "False\n",
      "True\n"
     ]
    }
   ],
   "source": [
    "#Not Operator\n",
    "\n",
    "print(not True)\n",
    "print(not False)"
   ]
  },
  {
   "cell_type": "markdown",
   "id": "2e8c223e",
   "metadata": {},
   "source": [
    "# 4. What are the values of the following expressions?"
   ]
  },
  {
   "cell_type": "code",
   "execution_count": 14,
   "id": "a90d987c",
   "metadata": {},
   "outputs": [
    {
     "data": {
      "text/plain": [
       "False"
      ]
     },
     "execution_count": 14,
     "metadata": {},
     "output_type": "execute_result"
    }
   ],
   "source": [
    "(5 > 4) and (3 == 5)\n",
    "\n",
    "#FALSE as (3 is not equal to 5)  ==> True and False => False"
   ]
  },
  {
   "cell_type": "code",
   "execution_count": 16,
   "id": "2d2fa429",
   "metadata": {},
   "outputs": [
    {
     "data": {
      "text/plain": [
       "False"
      ]
     },
     "execution_count": 16,
     "metadata": {},
     "output_type": "execute_result"
    }
   ],
   "source": [
    "not (5 > 4)\n",
    "\n",
    "# 5 is greater than 4 which is True but Not revered the final output to False"
   ]
  },
  {
   "cell_type": "code",
   "execution_count": 18,
   "id": "9bae9859",
   "metadata": {},
   "outputs": [
    {
     "data": {
      "text/plain": [
       "True"
      ]
     },
     "execution_count": 18,
     "metadata": {},
     "output_type": "execute_result"
    }
   ],
   "source": [
    "(5 > 4) or (3 == 5)\n",
    "\n",
    "#This is an OR operation and as 5 > 4 is true ---> True or False => True"
   ]
  },
  {
   "cell_type": "code",
   "execution_count": 20,
   "id": "7413bbaa",
   "metadata": {},
   "outputs": [
    {
     "data": {
      "text/plain": [
       "False"
      ]
     },
     "execution_count": 20,
     "metadata": {},
     "output_type": "execute_result"
    }
   ],
   "source": [
    "not ((5 > 4) or (3 == 5))\n",
    "\n",
    "#This is an OR operation and as 5 > 4 is true ---> True or False => True  ==> not(True) ==> False"
   ]
  },
  {
   "cell_type": "code",
   "execution_count": 21,
   "id": "e18d42fc",
   "metadata": {},
   "outputs": [
    {
     "data": {
      "text/plain": [
       "False"
      ]
     },
     "execution_count": 21,
     "metadata": {},
     "output_type": "execute_result"
    }
   ],
   "source": [
    "(True and True) and (True == False)\n",
    "\n",
    "#True and False ==> False"
   ]
  },
  {
   "cell_type": "code",
   "execution_count": 23,
   "id": "a914a20d",
   "metadata": {},
   "outputs": [
    {
     "data": {
      "text/plain": [
       "True"
      ]
     },
     "execution_count": 23,
     "metadata": {},
     "output_type": "execute_result"
    }
   ],
   "source": [
    "(not False) or (not True)\n",
    "\n",
    "#Not false = True\n",
    "\n",
    "#Not True is false\n",
    "\n",
    "# True or False = True"
   ]
  },
  {
   "cell_type": "markdown",
   "id": "e554aee4",
   "metadata": {},
   "source": [
    "# 5. What are the six comparison operators?"
   ]
  },
  {
   "cell_type": "code",
   "execution_count": 24,
   "id": "7aae06d0",
   "metadata": {},
   "outputs": [],
   "source": [
    "# 6 comparison operators are\n",
    "\n",
    "# 1) Equal  ==   Used to compare if 2 values are equal\n",
    "\n",
    "# 2) Not Equal ! =   Used to compare if 2 values are not equal\n",
    "\n",
    "# 3) Greater than >    Used to compare if one value is greater than other\n",
    "\n",
    "# 4) smaller than  <   used to comapre if one value is smaller than other\n",
    "\n",
    "# 5) Greater than or equal to >= Used to compare if one value is greater than or equal to other\n",
    "\n",
    "# 6) Smaller than or equal to <= Used to compare if one value is smaller than or equal to other"
   ]
  },
  {
   "cell_type": "markdown",
   "id": "c53c10e2",
   "metadata": {},
   "source": [
    "# 6. How do you tell the difference between the equal to and assignment operators?Describe a condition and when you would use one."
   ]
  },
  {
   "cell_type": "code",
   "execution_count": 26,
   "id": "f5196de4",
   "metadata": {},
   "outputs": [
    {
     "data": {
      "text/plain": [
       "True"
      ]
     },
     "execution_count": 26,
     "metadata": {},
     "output_type": "execute_result"
    }
   ],
   "source": [
    "# Assignment operator is used to assign a value to a variable\n",
    "\n",
    "a = 5  # in this example we are assigning value of 5 to a variable a\n",
    "\n",
    "\n",
    "b = 5 # in this example we are assigning value of 5 to a variable b\n",
    "\n",
    "# EQUALS operator is used to CHECK IF THE VALUE OF one variable equals to value of other variable\n",
    "\n",
    "a == b  #in this example we are checking the value of a is equals to value of b\n",
    "\n"
   ]
  },
  {
   "cell_type": "markdown",
   "id": "f1a10c72",
   "metadata": {},
   "source": [
    "# 7. Identify the three blocks in this code:"
   ]
  },
  {
   "cell_type": "code",
   "execution_count": 28,
   "id": "215dd49e",
   "metadata": {},
   "outputs": [
    {
     "name": "stdout",
     "output_type": "stream",
     "text": [
      "ham\n",
      "spam\n",
      "spam\n"
     ]
    }
   ],
   "source": [
    "spam = 0\n",
    "if spam == 10:      # block 1 starts\n",
    "    print('eggs')   # block 1 ends\n",
    "if spam > 5:        # block 2 starts\n",
    "    print('bacon')   # block 2 ends\n",
    "else:                # block 3 start\n",
    "    print('ham')\n",
    "    print('spam')\n",
    "    print('spam')    # block 3 ends\n"
   ]
  },
  {
   "cell_type": "markdown",
   "id": "fece7cbe",
   "metadata": {},
   "source": [
    "# 8. Write code that prints Hello if 1 is stored in spam, prints Howdy if 2 is stored in spam, and prints Greetings! if anything else is stored in spam."
   ]
  },
  {
   "cell_type": "code",
   "execution_count": 29,
   "id": "d617e98c",
   "metadata": {},
   "outputs": [
    {
     "name": "stdout",
     "output_type": "stream",
     "text": [
      "enter a value for spam 1\n",
      "value of spam is  1\n",
      "Hello\n"
     ]
    }
   ],
   "source": [
    "spam = int(input(\"enter a value for spam \"))\n",
    "\n",
    "print(\"value of spam is \", spam )\n",
    "\n",
    "if spam == 1:\n",
    "    print(\"Hello\")\n",
    "elif spam ==2:\n",
    "    print(\"Howdy\")\n",
    "else:\n",
    "    print(\"Greetings!\")"
   ]
  },
  {
   "cell_type": "markdown",
   "id": "892e265a",
   "metadata": {},
   "source": [
    "# 9.If your programme is stuck in an endless loop, what keys you’ll press?"
   ]
  },
  {
   "cell_type": "code",
   "execution_count": 32,
   "id": "b42c1221",
   "metadata": {},
   "outputs": [],
   "source": [
    "# if we are executing the command in Jupyter noteboon on mac then we can press \"interrupt the kernel\" tab on top"
   ]
  },
  {
   "cell_type": "code",
   "execution_count": null,
   "id": "a630c6c4",
   "metadata": {},
   "outputs": [],
   "source": []
  },
  {
   "cell_type": "markdown",
   "id": "5605e99d",
   "metadata": {},
   "source": [
    "# 10. How can you tell the difference between break and continue?"
   ]
  },
  {
   "cell_type": "code",
   "execution_count": 33,
   "id": "c0cb7823",
   "metadata": {},
   "outputs": [],
   "source": [
    "#The main difference between break and continue statement is that when break keyword is encountered, \n",
    "#it will exit the loop. In case of continue keyword, the current iteration that is running will be stopped, \n",
    "#and it will proceed with the next iteration."
   ]
  },
  {
   "cell_type": "code",
   "execution_count": 35,
   "id": "443108d6",
   "metadata": {},
   "outputs": [
    {
     "name": "stdout",
     "output_type": "stream",
     "text": [
      "1\n",
      "2\n",
      "3\n"
     ]
    }
   ],
   "source": [
    "#break statement example\n",
    "\n",
    "a = [1,2,3,4,5,6,7,8,9,0]\n",
    "\n",
    "for i in a:\n",
    "    if i == 4:\n",
    "        break\n",
    "    else:\n",
    "        print(i)\n",
    "        \n",
    "#the loop exists as soon as my counter reaches at index where 4 is present"
   ]
  },
  {
   "cell_type": "code",
   "execution_count": 37,
   "id": "a2a4020c",
   "metadata": {},
   "outputs": [
    {
     "name": "stdout",
     "output_type": "stream",
     "text": [
      "1\n",
      "2\n",
      "3\n",
      "5\n",
      "6\n",
      "7\n",
      "8\n",
      "9\n",
      "0\n"
     ]
    }
   ],
   "source": [
    "#continue statement example\n",
    "\n",
    "a = [1,2,3,4,5,6,7,8,9,0]\n",
    "\n",
    "for i in a:\n",
    "    if i == 4:\n",
    "        continue\n",
    "    else:\n",
    "        print(i)\n",
    "\n",
    "#the loop skips any print operation at i ==4  and continues to next value"
   ]
  },
  {
   "cell_type": "markdown",
   "id": "592dd987",
   "metadata": {},
   "source": [
    "# 11. In a for loop, what is the difference between range(10), range(0, 10), and range(0, 10, 1)?"
   ]
  },
  {
   "cell_type": "code",
   "execution_count": 38,
   "id": "60da3141",
   "metadata": {},
   "outputs": [
    {
     "name": "stdout",
     "output_type": "stream",
     "text": [
      "0\n",
      "1\n",
      "2\n",
      "3\n",
      "4\n",
      "5\n",
      "6\n",
      "7\n",
      "8\n",
      "9\n"
     ]
    }
   ],
   "source": [
    "for i in range(10):\n",
    "    print(i)\n",
    "\n",
    "#Loop starts from o and operates til 10-1 : 9 with default step of 1"
   ]
  },
  {
   "cell_type": "code",
   "execution_count": 42,
   "id": "57a7f407",
   "metadata": {},
   "outputs": [
    {
     "name": "stdout",
     "output_type": "stream",
     "text": [
      "0\n",
      "1\n",
      "2\n",
      "3\n",
      "4\n",
      "5\n",
      "6\n",
      "7\n",
      "8\n",
      "9\n"
     ]
    }
   ],
   "source": [
    "for i in range(0, 10):\n",
    "    print(i)\n",
    "\n",
    "#Loop starts from o and operates til 10-1 : 9 with default step of 1\n",
    "# this is same as range(10) but in this approach you can change your starting point example range(5, 10) will start the loop form 5"
   ]
  },
  {
   "cell_type": "code",
   "execution_count": 41,
   "id": "83203f3a",
   "metadata": {},
   "outputs": [
    {
     "name": "stdout",
     "output_type": "stream",
     "text": [
      "5\n",
      "6\n",
      "7\n",
      "8\n",
      "9\n"
     ]
    }
   ],
   "source": [
    "for i in range(5, 10):\n",
    "    print(i)\n",
    "\n"
   ]
  },
  {
   "cell_type": "code",
   "execution_count": 44,
   "id": "b8e198d2",
   "metadata": {},
   "outputs": [
    {
     "name": "stdout",
     "output_type": "stream",
     "text": [
      "0\n",
      "1\n",
      "2\n",
      "3\n",
      "4\n",
      "5\n",
      "6\n",
      "7\n",
      "8\n",
      "9\n"
     ]
    }
   ],
   "source": [
    "for i in range(0, 10, 1):\n",
    "    print(i)\n",
    "\n",
    "#Loop starts from o and operates til 10-1 : 9 with default step of 1\n",
    "# this is same as range(10) but in this approach you can change your starting point and teh step size\n",
    "#example range(5, 10, 2) will start the loop form 5 till 9 but with step of 2"
   ]
  },
  {
   "cell_type": "markdown",
   "id": "752c6af4",
   "metadata": {},
   "source": [
    "# 12. Write a short program that prints the numbers 1 to 10 using a for loop. Then write an equivalent program that prints the numbers 1 to 10 using a while loop."
   ]
  },
  {
   "cell_type": "code",
   "execution_count": 46,
   "id": "97c6fb6e",
   "metadata": {},
   "outputs": [
    {
     "name": "stdout",
     "output_type": "stream",
     "text": [
      "1\n",
      "2\n",
      "3\n",
      "4\n",
      "5\n",
      "6\n",
      "7\n",
      "8\n",
      "9\n",
      "10\n"
     ]
    }
   ],
   "source": [
    "# for loop\n",
    "\n",
    "for i in range(1, 11, 1):\n",
    "    print(i)"
   ]
  },
  {
   "cell_type": "code",
   "execution_count": 48,
   "id": "ec016445",
   "metadata": {},
   "outputs": [
    {
     "name": "stdout",
     "output_type": "stream",
     "text": [
      "1\n",
      "2\n",
      "3\n",
      "4\n",
      "5\n",
      "6\n",
      "7\n",
      "8\n",
      "9\n",
      "10\n"
     ]
    }
   ],
   "source": [
    "#while loop\n",
    "\n",
    "i = 1\n",
    "while(i<=10):\n",
    "    print(i)\n",
    "    i += 1"
   ]
  },
  {
   "cell_type": "markdown",
   "id": "e7bcad40",
   "metadata": {},
   "source": [
    "# 13. If you had a function named bacon() inside a module named spam, how would you call it after importing spam?"
   ]
  },
  {
   "cell_type": "code",
   "execution_count": null,
   "id": "79c2389b",
   "metadata": {},
   "outputs": [],
   "source": [
    "import spam\n",
    "\n",
    "spam.bacon()"
   ]
  }
 ],
 "metadata": {
  "kernelspec": {
   "display_name": "Python 3 (ipykernel)",
   "language": "python",
   "name": "python3"
  },
  "language_info": {
   "codemirror_mode": {
    "name": "ipython",
    "version": 3
   },
   "file_extension": ".py",
   "mimetype": "text/x-python",
   "name": "python",
   "nbconvert_exporter": "python",
   "pygments_lexer": "ipython3",
   "version": "3.8.3rc1"
  }
 },
 "nbformat": 4,
 "nbformat_minor": 5
}
