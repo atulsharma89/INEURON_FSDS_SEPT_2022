{
 "cells": [
  {
   "cell_type": "raw",
   "id": "b205d0f8",
   "metadata": {},
   "source": [
    "1. write a function which will try to find out len of a string without using an inbuilt len function \n",
    "2. write a function which  will be able to print an index of list element without using an index function\n",
    "3. write a function which will be able to print an ip address of your system\n",
    "4. write a function which will shutdown your system\n",
    "5. write a function which will take input as a list with any kind of numeric value and give an out as a multiplication of \n",
    "all the numeric data l = [3.5, 6.56, 4,5,\"sudh\" , \"ineuron\" , 'fsda bootcamp 2.0']\n",
    "6. write a function which will be able to read all the mails \n",
    "7 . write a function which will be able to send a mail to anyone \n",
    "8. write a function which will be able to read a doc/word file from your system \n",
    "\n",
    "you are suppose to complete this by oct 30th before your \n",
    "live class and you have to send a solution at mail id - query@ineuron.ai\n",
    "submit your git link to mail "
   ]
  },
  {
   "cell_type": "markdown",
   "id": "41fe8dfb",
   "metadata": {},
   "source": [
    "# 1. write a function which will try to find out len of a string without using an inbuilt len function "
   ]
  },
  {
   "cell_type": "code",
   "execution_count": 1,
   "id": "72bdafc8",
   "metadata": {},
   "outputs": [
    {
     "data": {
      "text/plain": [
       "9"
      ]
     },
     "execution_count": 1,
     "metadata": {},
     "output_type": "execute_result"
    }
   ],
   "source": [
    "def mylen(s):\n",
    "    t = 0\n",
    "    for i in s:\n",
    "        t+=1\n",
    "    return t\n",
    "\n",
    "mylen('atulkumar')"
   ]
  },
  {
   "cell_type": "markdown",
   "id": "2327cfc3",
   "metadata": {},
   "source": [
    "# 2. write a function which  will be able to print an index of list element without using an index function"
   ]
  },
  {
   "cell_type": "code",
   "execution_count": 2,
   "id": "eec54bb0",
   "metadata": {},
   "outputs": [
    {
     "name": "stdout",
     "output_type": "stream",
     "text": [
      "element 1 index is 0\n",
      "element 2 index is 1\n",
      "element 3 index is 2\n",
      "element 5 index is 3\n",
      "element 6 index is 4\n",
      "element 7 index is 5\n",
      "element atul index is 6\n",
      "element pinku index is 7\n",
      "element rajesh index is 8\n"
     ]
    }
   ],
   "source": [
    "l = [1,2,3,5,6,7,'atul','pinku', 'rajesh']\n",
    "\n",
    "def myindex(l):\n",
    "    for i in range(len(l)):\n",
    "        print(f\"element {l[i]} index is {i}\" )\n",
    "\n",
    "myindex(l)"
   ]
  },
  {
   "cell_type": "markdown",
   "id": "9da1429c",
   "metadata": {},
   "source": [
    "# 3. write a function which will be able to print an ip address of your system"
   ]
  },
  {
   "cell_type": "code",
   "execution_count": 3,
   "id": "6ff17917",
   "metadata": {},
   "outputs": [
    {
     "name": "stdout",
     "output_type": "stream",
     "text": [
      "Your Computer Name is:MacBook-Pro-162.local\n",
      "Your Computer IP Address is:127.0.0.1\n"
     ]
    }
   ],
   "source": [
    "# Python Program to Get IP Address\n",
    "import socket\n",
    "hostname = socket.gethostname()\n",
    "IPAddr = socket.gethostbyname(hostname)\n",
    " \n",
    "print(\"Your Computer Name is:\" + hostname)\n",
    "print(\"Your Computer IP Address is:\" + IPAddr)"
   ]
  },
  {
   "cell_type": "code",
   "execution_count": 22,
   "id": "5b9f76f2",
   "metadata": {},
   "outputs": [
    {
     "data": {
      "text/plain": [
       "'127.0.0.1'"
      ]
     },
     "execution_count": 22,
     "metadata": {},
     "output_type": "execute_result"
    }
   ],
   "source": [
    "import socket\n",
    "\n",
    "def test1():\n",
    "    ip = socket.gethostbyname(socket.gethostname())\n",
    "    return ip\n",
    "\n",
    "test1()"
   ]
  },
  {
   "cell_type": "code",
   "execution_count": 4,
   "id": "8b1ac57e",
   "metadata": {},
   "outputs": [
    {
     "name": "stdout",
     "output_type": "stream",
     "text": [
      "Your Computer Name is:MacBook-Pro-162.local\n",
      "Your Computer IP Address is:127.0.0.1\n"
     ]
    }
   ],
   "source": [
    "def myipaddress(hostname,IPAddr):\n",
    "    print(\"Your Computer Name is:\" + hostname)\n",
    "    print(\"Your Computer IP Address is:\" + IPAddr)\n",
    "    \n",
    "\n",
    "    \n",
    "myipaddress(hostname,IPAddr)    "
   ]
  },
  {
   "cell_type": "markdown",
   "id": "f3f521be",
   "metadata": {},
   "source": [
    "# 4. write a function which will shutdown your system\n"
   ]
  },
  {
   "cell_type": "code",
   "execution_count": null,
   "id": "ea7fb59d",
   "metadata": {},
   "outputs": [],
   "source": [
    "import os\n",
    "  \n",
    "shutdown = input(\"Do you wish to shutdown your computer ? (yes / no): \")\n",
    "  \n",
    "if shutdown == 'no':\n",
    "    exit()\n",
    "else:\n",
    "    os.system(\"shutdown /s /t 1\")"
   ]
  },
  {
   "cell_type": "code",
   "execution_count": null,
   "id": "14a27903",
   "metadata": {},
   "outputs": [],
   "source": [
    "import os\n",
    "\n",
    "os.system(\"shutdown /s /t 4\")\n",
    "\n",
    "\n",
    "#/s - shutdown\n",
    "\n",
    "# /r -restart\n",
    "\n",
    "#/t 1 - timer"
   ]
  },
  {
   "cell_type": "markdown",
   "id": "eb8ffe33",
   "metadata": {},
   "source": [
    "# 5. write a function which will take input as a list with any kind of numeric value and give an out as a multiplication of all the numeric data l = [3.5, 6.56, 4,5,\"sudh\" , \"ineuron\" , 'fsda bootcamp 2.0']\n",
    "\n"
   ]
  },
  {
   "cell_type": "code",
   "execution_count": 5,
   "id": "7dca6e0e",
   "metadata": {},
   "outputs": [
    {
     "data": {
      "text/plain": [
       "459.19999999999993"
      ]
     },
     "execution_count": 5,
     "metadata": {},
     "output_type": "execute_result"
    }
   ],
   "source": [
    "l = [3.5, 6.56, 4,5,\"sudh\" , \"ineuron\" , 'fsda bootcamp 2.0']\n",
    "\n",
    "def mymul(l):\n",
    "    a = 1\n",
    "    for i in l:\n",
    "        if type(i) == int or type(i) == float:\n",
    "            a = a*i\n",
    "    return a\n",
    "\n",
    "mymul(l)"
   ]
  },
  {
   "cell_type": "markdown",
   "id": "757b9638",
   "metadata": {},
   "source": [
    "# 6. write a function which will be able to read all the mails "
   ]
  },
  {
   "cell_type": "code",
   "execution_count": null,
   "id": "678f5867",
   "metadata": {},
   "outputs": [],
   "source": [
    "import smtplib\n",
    "import time\n",
    "import imaplib\n",
    "import email\n",
    "import traceback \n",
    "ORG_EMAIL = \"@gmail.com\" \n",
    "FROM_EMAIL = 'sharmaaks50@gmail.com'\n",
    "FROM_PWD = 'my16digitpassword'\n",
    "SMTP_SERVER = \"imap.gmail.com\" \n",
    "SMTP_PORT = 993\n",
    "imaplib._MAXLINE = 400000000\n",
    "\n",
    "def read_email_from_gmail():\n",
    "    try:\n",
    "        mail = imaplib.IMAP4_SSL(SMTP_SERVER)\n",
    "        mail.login(FROM_EMAIL,FROM_PWD)\n",
    "        mail.select('inbox')\n",
    "\n",
    "        data = mail.search(None, 'ALL')\n",
    "        mail_ids = data[1]\n",
    "        id_list = mail_ids[0].split()   \n",
    "        first_email_id = int(id_list[0])\n",
    "        latest_email_id = int(id_list[-1])\n",
    "\n",
    "        for i in range(latest_email_id,first_email_id, -1):\n",
    "            data = mail.fetch(str(i), '(RFC822)' )\n",
    "            for response_part in data:\n",
    "                arr = response_part[0]\n",
    "                if isinstance(arr, tuple):\n",
    "                    msg = email.message_from_string(str(arr[1],'utf-8'))\n",
    "                    email_subject = msg['subject']\n",
    "                    email_from = msg['from']\n",
    "                    print('From : ' + email_from + '\\n')\n",
    "                    print('Subject : ' + email_subject + '\\n')\n",
    "\n",
    "    except Exception as e:\n",
    "        traceback.print_exc() \n",
    "        print(str(e))\n",
    "\n",
    "read_email_from_gmail()"
   ]
  },
  {
   "cell_type": "code",
   "execution_count": null,
   "id": "a170964d",
   "metadata": {},
   "outputs": [],
   "source": []
  },
  {
   "cell_type": "code",
   "execution_count": 21,
   "id": "26dbbfe6",
   "metadata": {},
   "outputs": [],
   "source": [
    "# not able to solve this question"
   ]
  },
  {
   "cell_type": "markdown",
   "id": "cbc62669",
   "metadata": {},
   "source": [
    "# 7 . write a function which will be able to send a mail to anyone "
   ]
  },
  {
   "cell_type": "code",
   "execution_count": null,
   "id": "8b085feb",
   "metadata": {},
   "outputs": [],
   "source": [
    "import smtplib\n",
    "from email.mime.multipart import MIMEMultipart\n",
    "from email.mime.text import MIMEText\n",
    "\n",
    "\n",
    "smtp_user = 'sharmaaks50@gmail.com'\n",
    "smtp_password = 'my16charactersAppPassword'\n",
    "server = 'smtp.gmail.com'\n",
    "port = 587\n",
    "msg = MIMEMultipart(\"alternative\")\n",
    "msg[\"Subject\"] = 'Why,Oh why!'\n",
    "msg[\"From\"] = smtp_user\n",
    "msg[\"To\"] = \"destinationUser@gmail.com\"\n",
    "msg.attach(MIMEText('\\nsent via python', 'plain'))\n",
    "s = smtplib.SMTP(server, port)\n",
    "s.ehlo()\n",
    "s.starttls()\n",
    "s.login(smtp_user, smtp_password)\n",
    "s.sendmail(smtp_user, \"destinationUser@gmail.com\", msg.as_string())\n",
    "s.quit()"
   ]
  },
  {
   "cell_type": "code",
   "execution_count": 24,
   "id": "6b6235d1",
   "metadata": {},
   "outputs": [
    {
     "ename": "SSLCertVerificationError",
     "evalue": "[SSL: CERTIFICATE_VERIFY_FAILED] certificate verify failed: unable to get local issuer certificate (_ssl.c:1108)",
     "output_type": "error",
     "traceback": [
      "\u001b[0;31m---------------------------------------------------------------------------\u001b[0m",
      "\u001b[0;31mSSLCertVerificationError\u001b[0m                  Traceback (most recent call last)",
      "Input \u001b[0;32mIn [24]\u001b[0m, in \u001b[0;36m<cell line: 10>\u001b[0;34m()\u001b[0m\n\u001b[1;32m      7\u001b[0m message \u001b[38;5;241m=\u001b[39m \u001b[38;5;124m\"\"\"\u001b[39m\u001b[38;5;124mthis is my message from python code in my live class\u001b[39m\u001b[38;5;124m\"\"\"\u001b[39m\n\u001b[1;32m      9\u001b[0m context \u001b[38;5;241m=\u001b[39m ssl\u001b[38;5;241m.\u001b[39mcreate_default_context()\n\u001b[0;32m---> 10\u001b[0m \u001b[38;5;28;01mwith\u001b[39;00m \u001b[43msmtplib\u001b[49m\u001b[38;5;241;43m.\u001b[39;49m\u001b[43mSMTP_SSL\u001b[49m\u001b[43m(\u001b[49m\u001b[43msmtp_server\u001b[49m\u001b[43m,\u001b[49m\u001b[43m \u001b[49m\u001b[43mport\u001b[49m\u001b[43m,\u001b[49m\u001b[43m \u001b[49m\u001b[43mcontext\u001b[49m\u001b[38;5;241;43m=\u001b[39;49m\u001b[43mcontext\u001b[49m\u001b[43m)\u001b[49m \u001b[38;5;28;01mas\u001b[39;00m server:\n\u001b[1;32m     11\u001b[0m     server\u001b[38;5;241m.\u001b[39mlogin(sender_email, password)\n\u001b[1;32m     12\u001b[0m     server\u001b[38;5;241m.\u001b[39msendmail(sender_email, receiver_email, message)\n",
      "File \u001b[0;32m/Library/Frameworks/Python.framework/Versions/3.8/lib/python3.8/smtplib.py:1034\u001b[0m, in \u001b[0;36mSMTP_SSL.__init__\u001b[0;34m(self, host, port, local_hostname, keyfile, certfile, timeout, source_address, context)\u001b[0m\n\u001b[1;32m   1031\u001b[0m     context \u001b[38;5;241m=\u001b[39m ssl\u001b[38;5;241m.\u001b[39m_create_stdlib_context(certfile\u001b[38;5;241m=\u001b[39mcertfile,\n\u001b[1;32m   1032\u001b[0m                                          keyfile\u001b[38;5;241m=\u001b[39mkeyfile)\n\u001b[1;32m   1033\u001b[0m \u001b[38;5;28mself\u001b[39m\u001b[38;5;241m.\u001b[39mcontext \u001b[38;5;241m=\u001b[39m context\n\u001b[0;32m-> 1034\u001b[0m \u001b[43mSMTP\u001b[49m\u001b[38;5;241;43m.\u001b[39;49m\u001b[38;5;21;43m__init__\u001b[39;49m\u001b[43m(\u001b[49m\u001b[38;5;28;43mself\u001b[39;49m\u001b[43m,\u001b[49m\u001b[43m \u001b[49m\u001b[43mhost\u001b[49m\u001b[43m,\u001b[49m\u001b[43m \u001b[49m\u001b[43mport\u001b[49m\u001b[43m,\u001b[49m\u001b[43m \u001b[49m\u001b[43mlocal_hostname\u001b[49m\u001b[43m,\u001b[49m\u001b[43m \u001b[49m\u001b[43mtimeout\u001b[49m\u001b[43m,\u001b[49m\n\u001b[1;32m   1035\u001b[0m \u001b[43m        \u001b[49m\u001b[43msource_address\u001b[49m\u001b[43m)\u001b[49m\n",
      "File \u001b[0;32m/Library/Frameworks/Python.framework/Versions/3.8/lib/python3.8/smtplib.py:253\u001b[0m, in \u001b[0;36mSMTP.__init__\u001b[0;34m(self, host, port, local_hostname, timeout, source_address)\u001b[0m\n\u001b[1;32m    250\u001b[0m \u001b[38;5;28mself\u001b[39m\u001b[38;5;241m.\u001b[39msource_address \u001b[38;5;241m=\u001b[39m source_address\n\u001b[1;32m    252\u001b[0m \u001b[38;5;28;01mif\u001b[39;00m host:\n\u001b[0;32m--> 253\u001b[0m     (code, msg) \u001b[38;5;241m=\u001b[39m \u001b[38;5;28;43mself\u001b[39;49m\u001b[38;5;241;43m.\u001b[39;49m\u001b[43mconnect\u001b[49m\u001b[43m(\u001b[49m\u001b[43mhost\u001b[49m\u001b[43m,\u001b[49m\u001b[43m \u001b[49m\u001b[43mport\u001b[49m\u001b[43m)\u001b[49m\n\u001b[1;32m    254\u001b[0m     \u001b[38;5;28;01mif\u001b[39;00m code \u001b[38;5;241m!=\u001b[39m \u001b[38;5;241m220\u001b[39m:\n\u001b[1;32m    255\u001b[0m         \u001b[38;5;28mself\u001b[39m\u001b[38;5;241m.\u001b[39mclose()\n",
      "File \u001b[0;32m/Library/Frameworks/Python.framework/Versions/3.8/lib/python3.8/smtplib.py:339\u001b[0m, in \u001b[0;36mSMTP.connect\u001b[0;34m(self, host, port, source_address)\u001b[0m\n\u001b[1;32m    337\u001b[0m     \u001b[38;5;28mself\u001b[39m\u001b[38;5;241m.\u001b[39m_print_debug(\u001b[38;5;124m'\u001b[39m\u001b[38;5;124mconnect:\u001b[39m\u001b[38;5;124m'\u001b[39m, (host, port))\n\u001b[1;32m    338\u001b[0m sys\u001b[38;5;241m.\u001b[39maudit(\u001b[38;5;124m\"\u001b[39m\u001b[38;5;124msmtplib.connect\u001b[39m\u001b[38;5;124m\"\u001b[39m, \u001b[38;5;28mself\u001b[39m, host, port)\n\u001b[0;32m--> 339\u001b[0m \u001b[38;5;28mself\u001b[39m\u001b[38;5;241m.\u001b[39msock \u001b[38;5;241m=\u001b[39m \u001b[38;5;28;43mself\u001b[39;49m\u001b[38;5;241;43m.\u001b[39;49m\u001b[43m_get_socket\u001b[49m\u001b[43m(\u001b[49m\u001b[43mhost\u001b[49m\u001b[43m,\u001b[49m\u001b[43m \u001b[49m\u001b[43mport\u001b[49m\u001b[43m,\u001b[49m\u001b[43m \u001b[49m\u001b[38;5;28;43mself\u001b[39;49m\u001b[38;5;241;43m.\u001b[39;49m\u001b[43mtimeout\u001b[49m\u001b[43m)\u001b[49m\n\u001b[1;32m    340\u001b[0m \u001b[38;5;28mself\u001b[39m\u001b[38;5;241m.\u001b[39mfile \u001b[38;5;241m=\u001b[39m \u001b[38;5;28;01mNone\u001b[39;00m\n\u001b[1;32m    341\u001b[0m (code, msg) \u001b[38;5;241m=\u001b[39m \u001b[38;5;28mself\u001b[39m\u001b[38;5;241m.\u001b[39mgetreply()\n",
      "File \u001b[0;32m/Library/Frameworks/Python.framework/Versions/3.8/lib/python3.8/smtplib.py:1042\u001b[0m, in \u001b[0;36mSMTP_SSL._get_socket\u001b[0;34m(self, host, port, timeout)\u001b[0m\n\u001b[1;32m   1039\u001b[0m     \u001b[38;5;28mself\u001b[39m\u001b[38;5;241m.\u001b[39m_print_debug(\u001b[38;5;124m'\u001b[39m\u001b[38;5;124mconnect:\u001b[39m\u001b[38;5;124m'\u001b[39m, (host, port))\n\u001b[1;32m   1040\u001b[0m new_socket \u001b[38;5;241m=\u001b[39m socket\u001b[38;5;241m.\u001b[39mcreate_connection((host, port), timeout,\n\u001b[1;32m   1041\u001b[0m         \u001b[38;5;28mself\u001b[39m\u001b[38;5;241m.\u001b[39msource_address)\n\u001b[0;32m-> 1042\u001b[0m new_socket \u001b[38;5;241m=\u001b[39m \u001b[38;5;28;43mself\u001b[39;49m\u001b[38;5;241;43m.\u001b[39;49m\u001b[43mcontext\u001b[49m\u001b[38;5;241;43m.\u001b[39;49m\u001b[43mwrap_socket\u001b[49m\u001b[43m(\u001b[49m\u001b[43mnew_socket\u001b[49m\u001b[43m,\u001b[49m\n\u001b[1;32m   1043\u001b[0m \u001b[43m                                      \u001b[49m\u001b[43mserver_hostname\u001b[49m\u001b[38;5;241;43m=\u001b[39;49m\u001b[38;5;28;43mself\u001b[39;49m\u001b[38;5;241;43m.\u001b[39;49m\u001b[43m_host\u001b[49m\u001b[43m)\u001b[49m\n\u001b[1;32m   1044\u001b[0m \u001b[38;5;28;01mreturn\u001b[39;00m new_socket\n",
      "File \u001b[0;32m/Library/Frameworks/Python.framework/Versions/3.8/lib/python3.8/ssl.py:500\u001b[0m, in \u001b[0;36mSSLContext.wrap_socket\u001b[0;34m(self, sock, server_side, do_handshake_on_connect, suppress_ragged_eofs, server_hostname, session)\u001b[0m\n\u001b[1;32m    494\u001b[0m \u001b[38;5;28;01mdef\u001b[39;00m \u001b[38;5;21mwrap_socket\u001b[39m(\u001b[38;5;28mself\u001b[39m, sock, server_side\u001b[38;5;241m=\u001b[39m\u001b[38;5;28;01mFalse\u001b[39;00m,\n\u001b[1;32m    495\u001b[0m                 do_handshake_on_connect\u001b[38;5;241m=\u001b[39m\u001b[38;5;28;01mTrue\u001b[39;00m,\n\u001b[1;32m    496\u001b[0m                 suppress_ragged_eofs\u001b[38;5;241m=\u001b[39m\u001b[38;5;28;01mTrue\u001b[39;00m,\n\u001b[1;32m    497\u001b[0m                 server_hostname\u001b[38;5;241m=\u001b[39m\u001b[38;5;28;01mNone\u001b[39;00m, session\u001b[38;5;241m=\u001b[39m\u001b[38;5;28;01mNone\u001b[39;00m):\n\u001b[1;32m    498\u001b[0m     \u001b[38;5;66;03m# SSLSocket class handles server_hostname encoding before it calls\u001b[39;00m\n\u001b[1;32m    499\u001b[0m     \u001b[38;5;66;03m# ctx._wrap_socket()\u001b[39;00m\n\u001b[0;32m--> 500\u001b[0m     \u001b[38;5;28;01mreturn\u001b[39;00m \u001b[38;5;28;43mself\u001b[39;49m\u001b[38;5;241;43m.\u001b[39;49m\u001b[43msslsocket_class\u001b[49m\u001b[38;5;241;43m.\u001b[39;49m\u001b[43m_create\u001b[49m\u001b[43m(\u001b[49m\n\u001b[1;32m    501\u001b[0m \u001b[43m        \u001b[49m\u001b[43msock\u001b[49m\u001b[38;5;241;43m=\u001b[39;49m\u001b[43msock\u001b[49m\u001b[43m,\u001b[49m\n\u001b[1;32m    502\u001b[0m \u001b[43m        \u001b[49m\u001b[43mserver_side\u001b[49m\u001b[38;5;241;43m=\u001b[39;49m\u001b[43mserver_side\u001b[49m\u001b[43m,\u001b[49m\n\u001b[1;32m    503\u001b[0m \u001b[43m        \u001b[49m\u001b[43mdo_handshake_on_connect\u001b[49m\u001b[38;5;241;43m=\u001b[39;49m\u001b[43mdo_handshake_on_connect\u001b[49m\u001b[43m,\u001b[49m\n\u001b[1;32m    504\u001b[0m \u001b[43m        \u001b[49m\u001b[43msuppress_ragged_eofs\u001b[49m\u001b[38;5;241;43m=\u001b[39;49m\u001b[43msuppress_ragged_eofs\u001b[49m\u001b[43m,\u001b[49m\n\u001b[1;32m    505\u001b[0m \u001b[43m        \u001b[49m\u001b[43mserver_hostname\u001b[49m\u001b[38;5;241;43m=\u001b[39;49m\u001b[43mserver_hostname\u001b[49m\u001b[43m,\u001b[49m\n\u001b[1;32m    506\u001b[0m \u001b[43m        \u001b[49m\u001b[43mcontext\u001b[49m\u001b[38;5;241;43m=\u001b[39;49m\u001b[38;5;28;43mself\u001b[39;49m\u001b[43m,\u001b[49m\n\u001b[1;32m    507\u001b[0m \u001b[43m        \u001b[49m\u001b[43msession\u001b[49m\u001b[38;5;241;43m=\u001b[39;49m\u001b[43msession\u001b[49m\n\u001b[1;32m    508\u001b[0m \u001b[43m    \u001b[49m\u001b[43m)\u001b[49m\n",
      "File \u001b[0;32m/Library/Frameworks/Python.framework/Versions/3.8/lib/python3.8/ssl.py:1040\u001b[0m, in \u001b[0;36mSSLSocket._create\u001b[0;34m(cls, sock, server_side, do_handshake_on_connect, suppress_ragged_eofs, server_hostname, context, session)\u001b[0m\n\u001b[1;32m   1037\u001b[0m         \u001b[38;5;28;01mif\u001b[39;00m timeout \u001b[38;5;241m==\u001b[39m \u001b[38;5;241m0.0\u001b[39m:\n\u001b[1;32m   1038\u001b[0m             \u001b[38;5;66;03m# non-blocking\u001b[39;00m\n\u001b[1;32m   1039\u001b[0m             \u001b[38;5;28;01mraise\u001b[39;00m \u001b[38;5;167;01mValueError\u001b[39;00m(\u001b[38;5;124m\"\u001b[39m\u001b[38;5;124mdo_handshake_on_connect should not be specified for non-blocking sockets\u001b[39m\u001b[38;5;124m\"\u001b[39m)\n\u001b[0;32m-> 1040\u001b[0m         \u001b[38;5;28;43mself\u001b[39;49m\u001b[38;5;241;43m.\u001b[39;49m\u001b[43mdo_handshake\u001b[49m\u001b[43m(\u001b[49m\u001b[43m)\u001b[49m\n\u001b[1;32m   1041\u001b[0m \u001b[38;5;28;01mexcept\u001b[39;00m (\u001b[38;5;167;01mOSError\u001b[39;00m, \u001b[38;5;167;01mValueError\u001b[39;00m):\n\u001b[1;32m   1042\u001b[0m     \u001b[38;5;28mself\u001b[39m\u001b[38;5;241m.\u001b[39mclose()\n",
      "File \u001b[0;32m/Library/Frameworks/Python.framework/Versions/3.8/lib/python3.8/ssl.py:1309\u001b[0m, in \u001b[0;36mSSLSocket.do_handshake\u001b[0;34m(self, block)\u001b[0m\n\u001b[1;32m   1307\u001b[0m     \u001b[38;5;28;01mif\u001b[39;00m timeout \u001b[38;5;241m==\u001b[39m \u001b[38;5;241m0.0\u001b[39m \u001b[38;5;129;01mand\u001b[39;00m block:\n\u001b[1;32m   1308\u001b[0m         \u001b[38;5;28mself\u001b[39m\u001b[38;5;241m.\u001b[39msettimeout(\u001b[38;5;28;01mNone\u001b[39;00m)\n\u001b[0;32m-> 1309\u001b[0m     \u001b[38;5;28;43mself\u001b[39;49m\u001b[38;5;241;43m.\u001b[39;49m\u001b[43m_sslobj\u001b[49m\u001b[38;5;241;43m.\u001b[39;49m\u001b[43mdo_handshake\u001b[49m\u001b[43m(\u001b[49m\u001b[43m)\u001b[49m\n\u001b[1;32m   1310\u001b[0m \u001b[38;5;28;01mfinally\u001b[39;00m:\n\u001b[1;32m   1311\u001b[0m     \u001b[38;5;28mself\u001b[39m\u001b[38;5;241m.\u001b[39msettimeout(timeout)\n",
      "\u001b[0;31mSSLCertVerificationError\u001b[0m: [SSL: CERTIFICATE_VERIFY_FAILED] certificate verify failed: unable to get local issuer certificate (_ssl.c:1108)"
     ]
    }
   ],
   "source": [
    "import smtplib , ssl\n",
    "port = 465  # For SSL\n",
    "smtp_server = \"smtp.gmail.com\"\n",
    "sender_email = \"sharmaaks50@gmail.com\"  # Enter your address\n",
    "receiver_email = \"satul18@yahoo.com\"  # Enter receiver address\n",
    "password = 'my16charactersAppPassword'\n",
    "message = \"\"\"this is my message from python code in my live class\"\"\"\n",
    "\n",
    "context = ssl.create_default_context()\n",
    "with smtplib.SMTP_SSL(smtp_server, port, context=context) as server:\n",
    "    server.login(sender_email, password)\n",
    "    server.sendmail(sender_email, receiver_email, message)\n",
    "\n",
    "\n",
    "\n"
   ]
  },
  {
   "cell_type": "markdown",
   "id": "6bb46aad",
   "metadata": {},
   "source": [
    "# 8. write a function which will be able to read a doc/word file from your system "
   ]
  },
  {
   "cell_type": "code",
   "execution_count": 13,
   "id": "6274cc0e",
   "metadata": {},
   "outputs": [
    {
     "data": {
      "text/plain": [
       "'/Users/atul595525/repository1/INEURON_FSDS_SEPT_2022/Assignments'"
      ]
     },
     "execution_count": 13,
     "metadata": {},
     "output_type": "execute_result"
    }
   ],
   "source": [
    "pwd"
   ]
  },
  {
   "cell_type": "code",
   "execution_count": 12,
   "id": "97ae9349",
   "metadata": {},
   "outputs": [
    {
     "name": "stdout",
     "output_type": "stream",
     "text": [
      "Hello! Welcome to demofile.txt\n",
      "This file is for testing purposes.\n",
      "Good Luck!\n"
     ]
    }
   ],
   "source": [
    "f = open(\"myfile.txt\", \"r\")\n",
    "print(f.read())"
   ]
  },
  {
   "cell_type": "code",
   "execution_count": 17,
   "id": "124c8574",
   "metadata": {},
   "outputs": [
    {
     "name": "stdout",
     "output_type": "stream",
     "text": [
      "enter the file that you want to read /Users/atul595525/repository1/INEURON_FSDS_SEPT_2022/Assignments/myfile.txt\n",
      "/Users/atul595525/repository1/INEURON_FSDS_SEPT_2022/Assignments/myfile.txt\n",
      "Hello! Welcome to myfile.txt\n",
      "This file is for testing purposes to read a file from system.\n",
      "Good Luck!\n"
     ]
    }
   ],
   "source": [
    "filepath = input(\"enter the file that you want to read \")\n",
    "\n",
    "print(filepath)\n",
    "\n",
    "def myfileread(a):\n",
    "    f = open(a, \"r\")\n",
    "    print(f.read())\n",
    "    f.close()\n",
    "    \n",
    "\n",
    "myfileread(filepath)\n",
    "\n",
    "    "
   ]
  },
  {
   "cell_type": "code",
   "execution_count": 25,
   "id": "6e32fc60",
   "metadata": {},
   "outputs": [
    {
     "ename": "ModuleNotFoundError",
     "evalue": "No module named 'docx2txt'",
     "output_type": "error",
     "traceback": [
      "\u001b[0;31m---------------------------------------------------------------------------\u001b[0m",
      "\u001b[0;31mModuleNotFoundError\u001b[0m                       Traceback (most recent call last)",
      "Input \u001b[0;32mIn [25]\u001b[0m, in \u001b[0;36m<cell line: 1>\u001b[0;34m()\u001b[0m\n\u001b[0;32m----> 1\u001b[0m \u001b[38;5;28;01mimport\u001b[39;00m \u001b[38;5;21;01mdocx2txt\u001b[39;00m\n",
      "\u001b[0;31mModuleNotFoundError\u001b[0m: No module named 'docx2txt'"
     ]
    }
   ],
   "source": [
    "import docx2txt"
   ]
  },
  {
   "cell_type": "code",
   "execution_count": 26,
   "id": "779962d1",
   "metadata": {},
   "outputs": [
    {
     "name": "stdout",
     "output_type": "stream",
     "text": [
      "Collecting docx2txt\n",
      "  Downloading https://files.pythonhosted.org/packages/7d/7d/60ee3f2b16d9bfdfa72e8599470a2c1a5b759cb113c6fe1006be28359327/docx2txt-0.8.tar.gz\n",
      "Building wheels for collected packages: docx2txt\n",
      "  Building wheel for docx2txt (setup.py) ... \u001b[?25ldone\n",
      "\u001b[?25h  Created wheel for docx2txt: filename=docx2txt-0.8-cp38-none-any.whl size=3964 sha256=823bf7cef5e750a50172b0bfacef9f3dbd15d1d34043e410110bdc4562764aed\n",
      "  Stored in directory: /Users/atul595525/Library/Caches/pip/wheels/b2/1f/26/a051209bbb77fc6bcfae2bb7e01fa0ff941b82292ab084d596\n",
      "Successfully built docx2txt\n",
      "Installing collected packages: docx2txt\n",
      "Successfully installed docx2txt-0.8\n",
      "\u001b[33mWARNING: You are using pip version 19.2.3, however version 22.3 is available.\n",
      "You should consider upgrading via the 'pip install --upgrade pip' command.\u001b[0m\n",
      "Note: you may need to restart the kernel to use updated packages.\n"
     ]
    }
   ],
   "source": [
    "pip install docx2txt"
   ]
  },
  {
   "cell_type": "code",
   "execution_count": 27,
   "id": "8c021558",
   "metadata": {},
   "outputs": [],
   "source": [
    "import docx2txt"
   ]
  },
  {
   "cell_type": "code",
   "execution_count": 29,
   "id": "d8efaddb",
   "metadata": {},
   "outputs": [],
   "source": [
    "a = docx2txt.process('ATUL SHARMA DATA SCIENTIST.docx')"
   ]
  },
  {
   "cell_type": "code",
   "execution_count": 30,
   "id": "bcad6fa1",
   "metadata": {},
   "outputs": [
    {
     "name": "stdout",
     "output_type": "stream",
     "text": [
      "ATUL KUMAR SHARMA\n",
      "\n",
      "\tsharmaaks50@gmail.com | https://www.linkedin.com/in/atul-kumar-sharma-78181941 | Github|+1(408) 816-4288\n",
      "\n",
      "EDUCATION\n",
      "\n",
      "The University of Texas at Austin, McCombs School\t\t       \t\t     \t           \t             \t               May 2021\n",
      "\n",
      "PG Program in Artificial Intelligence and Machine learning\t\t     \t    \t                \t               GPA: 99.38/100.0\n",
      "\n",
      "SRM University, Chennai        \t\t       \t\t     \t           \t             \t                                                      May 2012\n",
      "\n",
      "Bachelor of Technology: Electronics & Instrumentation Engineering\t\t     \t    \t                \t  GPA: 8.9/10.0\n",
      "\n",
      "\n",
      "\n",
      "\tSKILLS\t\n",
      "\n",
      "Programming\t\t: Python, SQL, Java\n",
      "\n",
      "Data Engineering\t: Teradata, PostgreSQL, SQL Server, MySQL, Oracle, MongoDB, Snowflake\n",
      "\n",
      "Tools\t\t\t: GitHub, Docker, JIRA, Visual Studio, Power BI, Tableau, Databricks, Eclipse, Jenkins, Alteryx\n",
      "\n",
      "Big data & Cloud\t: Hadoop, Spark, Hive, AWS (S3, EC2, IAM, Data Lake, Auto ML), Google Cloud (Kubernetes)\n",
      "\n",
      "\t\n",
      "\n",
      "\tRELEVANT EXPERIENCE\t\t\n",
      "\n",
      "Data Scientist, AppleCare Business Insights (Apple), Sunnyvale, CA  #Data Science #ML                                     May’19 – Current\n",
      "\n",
      "Built a regression-based Machine learning model using Statistical tools and ML algorithms like XG Boost and Random Forest with 86% accuracy to predict customer turnaround time for global Mail-In repairs to measure Repair Centre performance.\n",
      "\n",
      "Built a Python based Text Extraction System, to extract the correspondence message from Sonar tool for tracking retail escalations (Returns, inventory, back ordered, DOA parts) that helped in increasing AppleCare Buyers efficiency by 50%.\n",
      "\n",
      "Built a SQL/Tableau based Repair Turn Around time tracking data solution that helps 400+ global users to track the state of open/closed repairs to identify the key potential drivers to improve the customer’s repairs experience by more than 60%. \n",
      "\n",
      "Built an Alteryx based automated data induction and reconciliation framework to induct & validate data from various sources and setting up complex DQM to track and maintain health of growing data.\n",
      "\n",
      "Built an ANN & Logistic regression-based classification model using Python Keras for identifying AppleCare contract churn rate for iPhone contracts to reduce the churning rate of nearly .5 million customers yearly with 85% accuracy.\n",
      "\n",
      "Built Python and Kubernetes based multi layered application for helping Demand Planning and Supply Chain teams to get a 360-degree view of BOM data for parts Forecasting and last-time-buy planning for apple parts.\n",
      "\n",
      "Data Science Engineer, TCS, client: Apple, #ETL #Data Engineering #Data Analysis                                              Sept’12 – May’19\n",
      "\n",
      "Ingested data from various sources through SQL, AWS data lake, Box, snowflake using Python to create data views that are consumed by users for parts pricing analysis and catching price anomalies which resulted in saving $1M annually.\n",
      "\n",
      "Built Python/Teradata/Tableau based end-to-end data centric solution to predict and analyze health of 4 hours repair SLA for enterprise customers which helps to serve more than 20000 AppleCare Enterprise customers across the globe.\n",
      "\n",
      "Designed and built statistical analysis models on large factory datasets that helped users to catch parts health anomalies.\n",
      "\n",
      "Formulated next generation analytics environment, providing self-service, centralized platform for all data-centric activities which allows full 360-degree view of customers repair experience with Apple through various channels.\n",
      "\n",
      "Collaborated cross-functionally with business analysts, developers, and testers to explain new process transformations.\n",
      "\n",
      "\n",
      "\n",
      "\tOTHER RELEVANT PROJECTS\n",
      "\n",
      "Credit Card Fraud Detection, #Anomaly detection #Feature Engineering #Neural network\t\t\t\t\n",
      "\n",
      "Used SMOTE to overcome class imbalance and PCA & SVD to reduce feature dimensions. Supervised: Random Forest, Neural networks with 98% accuracy. Unsupervised: segmentation & K-means clustering used to recognize fraud patterns.\n",
      "\n",
      "AppleCare Database modelling, #Data Engineering #ERD #ETL #SQL #StoredProc #Partitions\n",
      "\n",
      "Developed a Database for a AppleCare parts mapping use case, with ERD modeling to meet specific business needs.\n",
      "\n",
      "Customer Churn Modelling, #Marketing Analytics #Feature Engineering #Predictive modelling\n",
      "\n",
      "Explored and preprocessed the Telco Churn Dataset using pandas to predict churn. Tuned hyperparameters, did randomized search & feature importance to improve performance. Evaluation metrics: AUC/ROC, Recall, Precision and F1 score.  \n",
      "\n",
      "Netflix - A Movie Recommendation System, #Machine Learning #Recommendation engine                                                                                                                                           \n",
      "\n",
      "Implemented a hybrid recommendation system using Collaborative filtering and Pearson’s R correlation for suggesting movies for users based on prior user ratings. Achieved recommendations identifying pairs using Jaccard similarity.\n",
      "\n",
      "Sentiment Analysis & Neural Machine Translation, #NLP #Artificial Intelligence #Social media data\n",
      "\n",
      "Implemented a text classifier which sorts & tags emotions using Naïve Bayes algorithms by likelihood and frequency.\n",
      "\n",
      "Lending Club – Loan Default Prediction, #Machine Learning #Pandas                                                                                                                                                               \n",
      "\n",
      "Extracted, Pre-processed, and manipulated data from Lending club. Built Predictive models such as Gradient boost and SVM.\n"
     ]
    }
   ],
   "source": [
    "print(a)"
   ]
  },
  {
   "cell_type": "code",
   "execution_count": null,
   "id": "1d9bc65b",
   "metadata": {},
   "outputs": [],
   "source": []
  }
 ],
 "metadata": {
  "kernelspec": {
   "display_name": "Python 3 (ipykernel)",
   "language": "python",
   "name": "python3"
  },
  "language_info": {
   "codemirror_mode": {
    "name": "ipython",
    "version": 3
   },
   "file_extension": ".py",
   "mimetype": "text/x-python",
   "name": "python",
   "nbconvert_exporter": "python",
   "pygments_lexer": "ipython3",
   "version": "3.8.3rc1"
  }
 },
 "nbformat": 4,
 "nbformat_minor": 5
}
