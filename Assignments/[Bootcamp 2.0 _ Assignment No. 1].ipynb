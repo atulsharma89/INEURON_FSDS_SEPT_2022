{
 "cells": [
  {
   "cell_type": "markdown",
   "id": "a57544dc",
   "metadata": {},
   "source": [
    "# Question 1: Find out all the types of error that we have encountered in our lecture and why? Also include the examples."
   ]
  },
  {
   "cell_type": "code",
   "execution_count": 1,
   "id": "a53ff214",
   "metadata": {},
   "outputs": [],
   "source": [
    "# usage of key word error: this error comes when  we use reserved words as variables in Python"
   ]
  },
  {
   "cell_type": "code",
   "execution_count": 2,
   "id": "4d423a6e",
   "metadata": {},
   "outputs": [],
   "source": [
    "print = \"Hi There\"\n",
    "\n",
    "#tried using print as a variable"
   ]
  },
  {
   "cell_type": "code",
   "execution_count": 3,
   "id": "f7f1ba35",
   "metadata": {},
   "outputs": [
    {
     "ename": "TypeError",
     "evalue": "'str' object is not callable",
     "output_type": "error",
     "traceback": [
      "\u001b[0;31m---------------------------------------------------------------------------\u001b[0m",
      "\u001b[0;31mTypeError\u001b[0m                                 Traceback (most recent call last)",
      "Input \u001b[0;32mIn [3]\u001b[0m, in \u001b[0;36m<cell line: 1>\u001b[0;34m()\u001b[0m\n\u001b[0;32m----> 1\u001b[0m \u001b[38;5;28;43mprint\u001b[39;49m\u001b[43m(\u001b[49m\u001b[38;5;124;43m\"\u001b[39;49m\u001b[38;5;124;43mHi There\u001b[39;49m\u001b[38;5;124;43m\"\u001b[39;49m\u001b[43m)\u001b[49m\n",
      "\u001b[0;31mTypeError\u001b[0m: 'str' object is not callable"
     ]
    }
   ],
   "source": [
    "print(\"Hi There\")"
   ]
  },
  {
   "cell_type": "code",
   "execution_count": 4,
   "id": "ba4bd1b5",
   "metadata": {},
   "outputs": [],
   "source": [
    "del print"
   ]
  },
  {
   "cell_type": "code",
   "execution_count": 5,
   "id": "c06581a0",
   "metadata": {},
   "outputs": [
    {
     "ename": "TypeError",
     "evalue": "cannot unpack non-iterable int object",
     "output_type": "error",
     "traceback": [
      "\u001b[0;31m---------------------------------------------------------------------------\u001b[0m",
      "\u001b[0;31mTypeError\u001b[0m                                 Traceback (most recent call last)",
      "Input \u001b[0;32mIn [5]\u001b[0m, in \u001b[0;36m<cell line: 4>\u001b[0;34m()\u001b[0m\n\u001b[1;32m      1\u001b[0m \u001b[38;5;66;03m# Assignment error: when we provide less inputs during multi variable assignment\u001b[39;00m\n\u001b[1;32m      2\u001b[0m \n\u001b[1;32m      3\u001b[0m \u001b[38;5;66;03m#erros that can cause during multiple assignment\u001b[39;00m\n\u001b[0;32m----> 4\u001b[0m a,b,c, d \u001b[38;5;241m=\u001b[39m \u001b[38;5;241m10\u001b[39m\n",
      "\u001b[0;31mTypeError\u001b[0m: cannot unpack non-iterable int object"
     ]
    }
   ],
   "source": [
    "# Assignment error: when we provide less inputs during multi variable assignment\n",
    "\n",
    "#erros that can cause during multiple assignment\n",
    "a,b,c, d = 10"
   ]
  },
  {
   "cell_type": "code",
   "execution_count": 6,
   "id": "c55ca83b",
   "metadata": {},
   "outputs": [
    {
     "name": "stdout",
     "output_type": "stream",
     "text": [
      "enter your first number 10\n",
      "enter your second number 10.2\n"
     ]
    },
    {
     "ename": "ValueError",
     "evalue": "invalid literal for int() with base 10: '10.2'",
     "output_type": "error",
     "traceback": [
      "\u001b[0;31m---------------------------------------------------------------------------\u001b[0m",
      "\u001b[0;31mValueError\u001b[0m                                Traceback (most recent call last)",
      "Input \u001b[0;32mIn [6]\u001b[0m, in \u001b[0;36m<cell line: 4>\u001b[0;34m()\u001b[0m\n\u001b[1;32m      1\u001b[0m \u001b[38;5;66;03m#type conversion error\u001b[39;00m\n\u001b[1;32m      3\u001b[0m a \u001b[38;5;241m=\u001b[39m \u001b[38;5;28mint\u001b[39m(\u001b[38;5;28minput\u001b[39m(\u001b[38;5;124m\"\u001b[39m\u001b[38;5;124menter your first number \u001b[39m\u001b[38;5;124m\"\u001b[39m))\n\u001b[0;32m----> 4\u001b[0m b \u001b[38;5;241m=\u001b[39m \u001b[38;5;28;43mint\u001b[39;49m\u001b[43m(\u001b[49m\u001b[38;5;28;43minput\u001b[39;49m\u001b[43m(\u001b[49m\u001b[38;5;124;43m\"\u001b[39;49m\u001b[38;5;124;43menter your second number \u001b[39;49m\u001b[38;5;124;43m\"\u001b[39;49m\u001b[43m)\u001b[49m\u001b[43m)\u001b[49m\n\u001b[1;32m      6\u001b[0m \u001b[38;5;28mprint\u001b[39m(\u001b[38;5;124mf\u001b[39m\u001b[38;5;124m\"\u001b[39m\u001b[38;5;124msum of a and b is \u001b[39m\u001b[38;5;132;01m{\u001b[39;00ma\u001b[38;5;241m+\u001b[39mb\u001b[38;5;132;01m}\u001b[39;00m\u001b[38;5;124m\"\u001b[39m)\n",
      "\u001b[0;31mValueError\u001b[0m: invalid literal for int() with base 10: '10.2'"
     ]
    }
   ],
   "source": [
    "#type conversion error\n",
    "\n",
    "a = int(input(\"enter your first number \"))\n",
    "b = int(input(\"enter your second number \"))\n",
    "\n",
    "print(f\"sum of a and b is {a+b}\")"
   ]
  },
  {
   "cell_type": "code",
   "execution_count": 7,
   "id": "e8b547fe",
   "metadata": {},
   "outputs": [
    {
     "name": "stdout",
     "output_type": "stream",
     "text": [
      "data type before <class 'str'>\n"
     ]
    },
    {
     "ename": "ValueError",
     "evalue": "invalid literal for int() with base 10: '50.3'",
     "output_type": "error",
     "traceback": [
      "\u001b[0;31m---------------------------------------------------------------------------\u001b[0m",
      "\u001b[0;31mValueError\u001b[0m                                Traceback (most recent call last)",
      "Input \u001b[0;32mIn [7]\u001b[0m, in \u001b[0;36m<cell line: 7>\u001b[0;34m()\u001b[0m\n\u001b[1;32m      3\u001b[0m A \u001b[38;5;241m=\u001b[39m \u001b[38;5;124m\"\u001b[39m\u001b[38;5;124m50.3\u001b[39m\u001b[38;5;124m\"\u001b[39m\n\u001b[1;32m      5\u001b[0m \u001b[38;5;28mprint\u001b[39m(\u001b[38;5;124mf\u001b[39m\u001b[38;5;124m\"\u001b[39m\u001b[38;5;124mdata type before \u001b[39m\u001b[38;5;132;01m{\u001b[39;00m\u001b[38;5;28mtype\u001b[39m(A)\u001b[38;5;132;01m}\u001b[39;00m\u001b[38;5;124m\"\u001b[39m)\n\u001b[0;32m----> 7\u001b[0m A \u001b[38;5;241m=\u001b[39m \u001b[38;5;28;43mint\u001b[39;49m\u001b[43m(\u001b[49m\u001b[43mA\u001b[49m\u001b[43m)\u001b[49m\n\u001b[1;32m      9\u001b[0m \u001b[38;5;28mprint\u001b[39m(\u001b[38;5;124mf\u001b[39m\u001b[38;5;124m\"\u001b[39m\u001b[38;5;124mdata type after \u001b[39m\u001b[38;5;132;01m{\u001b[39;00m\u001b[38;5;28mtype\u001b[39m(A)\u001b[38;5;132;01m}\u001b[39;00m\u001b[38;5;124m\"\u001b[39m)\n",
      "\u001b[0;31mValueError\u001b[0m: invalid literal for int() with base 10: '50.3'"
     ]
    }
   ],
   "source": [
    "#float to integer conversion error\n",
    "\n",
    "A = \"50.3\"\n",
    "\n",
    "print(f\"data type before {type(A)}\")\n",
    "\n",
    "A = int(A)\n",
    "\n",
    "print(f\"data type after {type(A)}\")\n",
    "\n"
   ]
  },
  {
   "cell_type": "code",
   "execution_count": 8,
   "id": "4a706135",
   "metadata": {},
   "outputs": [
    {
     "name": "stdout",
     "output_type": "stream",
     "text": [
      "data type before <class 'str'>\n"
     ]
    },
    {
     "ename": "ValueError",
     "evalue": "invalid literal for int() with base 10: ''",
     "output_type": "error",
     "traceback": [
      "\u001b[0;31m---------------------------------------------------------------------------\u001b[0m",
      "\u001b[0;31mValueError\u001b[0m                                Traceback (most recent call last)",
      "Input \u001b[0;32mIn [8]\u001b[0m, in \u001b[0;36m<cell line: 6>\u001b[0;34m()\u001b[0m\n\u001b[1;32m      2\u001b[0m A \u001b[38;5;241m=\u001b[39m \u001b[38;5;124m\"\u001b[39m\u001b[38;5;124m\"\u001b[39m\n\u001b[1;32m      4\u001b[0m \u001b[38;5;28mprint\u001b[39m(\u001b[38;5;124mf\u001b[39m\u001b[38;5;124m\"\u001b[39m\u001b[38;5;124mdata type before \u001b[39m\u001b[38;5;132;01m{\u001b[39;00m\u001b[38;5;28mtype\u001b[39m(A)\u001b[38;5;132;01m}\u001b[39;00m\u001b[38;5;124m\"\u001b[39m)\n\u001b[0;32m----> 6\u001b[0m A \u001b[38;5;241m=\u001b[39m \u001b[38;5;28;43mint\u001b[39;49m\u001b[43m(\u001b[49m\u001b[43mA\u001b[49m\u001b[43m)\u001b[49m\n\u001b[1;32m      8\u001b[0m \u001b[38;5;28mprint\u001b[39m(\u001b[38;5;124mf\u001b[39m\u001b[38;5;124m\"\u001b[39m\u001b[38;5;124mdata type after \u001b[39m\u001b[38;5;132;01m{\u001b[39;00m\u001b[38;5;28mtype\u001b[39m(A)\u001b[38;5;132;01m}\u001b[39;00m\u001b[38;5;124m \u001b[39m\u001b[38;5;132;01m{\u001b[39;00mA\u001b[38;5;132;01m}\u001b[39;00m\u001b[38;5;124m\"\u001b[39m)\n",
      "\u001b[0;31mValueError\u001b[0m: invalid literal for int() with base 10: ''"
     ]
    }
   ],
   "source": [
    "#emptry STRING TO innteger\n",
    "A = \"\"\n",
    "\n",
    "print(f\"data type before {type(A)}\")\n",
    "\n",
    "A = int(A)\n",
    "\n",
    "print(f\"data type after {type(A)} {A}\")\n",
    "\n",
    "\n"
   ]
  },
  {
   "cell_type": "markdown",
   "id": "64e16911",
   "metadata": {},
   "source": [
    "# 2. Take input A and B and print their sum, mul, div, square of the nos."
   ]
  },
  {
   "cell_type": "code",
   "execution_count": 12,
   "id": "76f3a107",
   "metadata": {},
   "outputs": [
    {
     "name": "stdout",
     "output_type": "stream",
     "text": [
      "enter first number2\n",
      "eneter second number3\n",
      "Sum  5\n",
      "Subtraction  5\n",
      "multiplication  6\n",
      "division  0.6666666666666666\n",
      "power  8\n"
     ]
    }
   ],
   "source": [
    "a = int(input(\"enter first number\"))\n",
    "\n",
    "b = int(input(\"eneter second number\"))\n",
    "\n",
    "\n",
    "\n",
    "print(\"Sum \", a + b)\n",
    "print(\"Subtraction \", a + b)\n",
    "print(\"multiplication \", a*b)\n",
    "print(\"division \", a/ b)\n",
    "print(\"power \", a**b)"
   ]
  },
  {
   "cell_type": "markdown",
   "id": "c4eb2187",
   "metadata": {},
   "source": [
    "# 3. How many reserve keywords are there in python and why we should not use them as a variable name.\n"
   ]
  },
  {
   "cell_type": "code",
   "execution_count": 13,
   "id": "17c71b37",
   "metadata": {},
   "outputs": [],
   "source": [
    "# reserve words are language specific key words that has a specific meaning and function \n",
    "# in a programming language and if we use them as variable names then we get errors during execution"
   ]
  },
  {
   "cell_type": "raw",
   "id": "2ac947a1",
   "metadata": {},
   "source": [
    "The following identifiers are used as reserved words, or keywords of the language, and cannot be used as ordinary identifiers. They must be spelled exactly as written here:\n",
    "\n",
    "and       del       from      not       while    \n",
    "as        elif      global    or        with     \n",
    "assert    else      if        pass      yield    \n",
    "break     except    import    print              \n",
    "class     exec      in        raise              \n",
    "continue  finally   is        return             \n",
    "def       for       lambda    try\n",
    "\n"
   ]
  },
  {
   "cell_type": "markdown",
   "id": "29b430b9",
   "metadata": {},
   "source": [
    "# 4. Create email ids with the user inputs. in the following format - \n",
    "lastname.firstname@gmail.com"
   ]
  },
  {
   "cell_type": "code",
   "execution_count": 14,
   "id": "274a31a9",
   "metadata": {},
   "outputs": [
    {
     "name": "stdout",
     "output_type": "stream",
     "text": [
      "enter first name atul\n",
      "enter last name sharma\n",
      "sharma.atul@gmail.com\n"
     ]
    }
   ],
   "source": [
    "firstname = input(\"enter first name \")\n",
    "lastname = input(\"enter last name \")\n",
    "\n",
    "print(f\"{lastname}.{firstname}@gmail.com\")"
   ]
  },
  {
   "cell_type": "markdown",
   "id": "2207406a",
   "metadata": {},
   "source": [
    "# 5. Try to print the following lines - \n",
    "  - Hi I'm Sunny\n",
    "  - My address is 22\\3 \n",
    "  - I earn 20$ daily."
   ]
  },
  {
   "cell_type": "code",
   "execution_count": 17,
   "id": "e6359fc9",
   "metadata": {},
   "outputs": [
    {
     "name": "stdout",
     "output_type": "stream",
     "text": [
      "enter your name atul\n",
      "enter your address22/3\n",
      "enter your amount 20\n",
      "\n",
      "Hi I'm atul\n",
      "My address is 22/3\n",
      "I earn 20$ daiy\n",
      "\n"
     ]
    }
   ],
   "source": [
    "name = input (\"enter your name \")\n",
    "\n",
    "address = input(\"enter your address\")\n",
    "\n",
    "amount = input(\"enter your amount \")\n",
    "\n",
    "print(f\"\"\"\n",
    "Hi I'm {firstname}\n",
    "My address is {address}\n",
    "I earn {amount}$ daiy\n",
    "\"\"\")"
   ]
  },
  {
   "cell_type": "markdown",
   "id": "98d8a64c",
   "metadata": {},
   "source": [
    "# 6. Take user input (name, address, date of birth etc) to fill a form for your college and print their email IDs"
   ]
  },
  {
   "cell_type": "code",
   "execution_count": 20,
   "id": "e02dbbcc",
   "metadata": {},
   "outputs": [
    {
     "name": "stdout",
     "output_type": "stream",
     "text": [
      "enter  your first nameatul\n",
      "enter  your last namesharma\n",
      "ente  your address22/9\n",
      "enter your date of birth12-12-1111\n",
      "\n",
      "Hi I'm atul\n",
      "My address is 22/9\n",
      "My date of birth is 12-12-1111\n",
      "My email address is sharma.atul@gmail.com\n",
      "\n"
     ]
    }
   ],
   "source": [
    "firstname = input(\"enter  your first name\")\n",
    "lastname = input(\"enter  your last name\")\n",
    "address = input(\"ente  your address\")\n",
    "date_of_birth = input(\"enter your date of birth\")\n",
    "\n",
    "print(f\"\"\"\n",
    "Hi I'm {firstname}\n",
    "My address is {address}\n",
    "My date of birth is {date_of_birth}\n",
    "My email address is {lastname}.{firstname}@gmail.com\n",
    "\"\"\")"
   ]
  },
  {
   "cell_type": "markdown",
   "id": "846aeb4e",
   "metadata": {},
   "source": [
    "# 7. Convert the following - \n",
    "  - \"22.4\" into integer\n",
    "  - \"22\" into complex no.\n"
   ]
  },
  {
   "cell_type": "code",
   "execution_count": 23,
   "id": "daa8b5cd",
   "metadata": {},
   "outputs": [
    {
     "name": "stdout",
     "output_type": "stream",
     "text": [
      "(22+0j)\n"
     ]
    }
   ],
   "source": [
    "a = \"22\"\n",
    "\n",
    "output = complex(int(a))\n",
    "\n",
    "print(output)"
   ]
  },
  {
   "cell_type": "code",
   "execution_count": 26,
   "id": "e3594f91",
   "metadata": {},
   "outputs": [
    {
     "name": "stdout",
     "output_type": "stream",
     "text": [
      "22\n"
     ]
    }
   ],
   "source": [
    "# \"22.4\" into integer\n",
    "a = \"22.4\"\n",
    "\n",
    "a = float(a)\n",
    "\n",
    "final = int(a)\n",
    "\n",
    "print(final)"
   ]
  },
  {
   "cell_type": "code",
   "execution_count": null,
   "id": "ee95007b",
   "metadata": {},
   "outputs": [],
   "source": []
  }
 ],
 "metadata": {
  "kernelspec": {
   "display_name": "Python 3 (ipykernel)",
   "language": "python",
   "name": "python3"
  },
  "language_info": {
   "codemirror_mode": {
    "name": "ipython",
    "version": 3
   },
   "file_extension": ".py",
   "mimetype": "text/x-python",
   "name": "python",
   "nbconvert_exporter": "python",
   "pygments_lexer": "ipython3",
   "version": "3.8.3rc1"
  }
 },
 "nbformat": 4,
 "nbformat_minor": 5
}
