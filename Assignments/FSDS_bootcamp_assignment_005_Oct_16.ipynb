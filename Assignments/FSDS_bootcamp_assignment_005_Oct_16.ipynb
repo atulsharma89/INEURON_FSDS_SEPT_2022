{
 "cells": [
  {
   "cell_type": "markdown",
   "metadata": {
    "id": "dkGbTD94s6CD"
   },
   "source": [
    "# ASSIGNMENTS \n",
    "## Send it before 0000 hrs IST or 12 AM Friday\n",
    "\n",
    "## NOTE: Evaluation will be done before next class.\n",
    "\n",
    "## HOW TO SUBMIT: -\n",
    "Download this notebook, Solve it and upload in the google form given in the mail."
   ]
  },
  {
   "cell_type": "markdown",
   "metadata": {
    "id": "n3FuI-mutNl6"
   },
   "source": [
    "# List, Tuple and Sets"
   ]
  },
  {
   "cell_type": "markdown",
   "metadata": {
    "id": "hZcGNSR2y9zW"
   },
   "source": [
    "#### 1. On amazon website we have the following available items - \n",
    "\n",
    "```python\n",
    "amazon_website = [(\"watch\", 5000), (\"phone\", 10000), (\"laptop\", 50000), (\"shirt\", 1000)]\n",
    "```\n",
    "Take the user input N no. of times and find out the total cost to be paid?\n",
    "\n",
    "OR\n",
    "\n",
    "You can ask the user quntity or the count of item?\n",
    "\n",
    "if the item is not present in the amazon website then print that item as out of stock and do add it total\n",
    "\n",
    "\n",
    "HINT: while, for loop.. indexing"
   ]
  },
  {
   "cell_type": "code",
   "execution_count": 21,
   "metadata": {},
   "outputs": [
    {
     "name": "stdout",
     "output_type": "stream",
     "text": [
      "Enter what item you need laptop\n",
      "How many units you want for this item 3\n",
      "Your selected item - laptop is found on website which has each unit price 3600$ and your total amount is 10800$\n"
     ]
    }
   ],
   "source": [
    "#case 1 when item is found \n",
    "\n",
    "amazon_website = [(\"watch\", 5000), (\"phone\", 10000), (\"laptop\", 3600), (\"shirt\", 1000)]\n",
    "\n",
    "mytotal = 0\n",
    "basepriceoffounditem=0\n",
    "\n",
    "mychoice = input(\"Enter what item you need \")\n",
    "\n",
    "mychoicecount = int(input(\"How many units you want for this item \"))\n",
    "\n",
    "\n",
    "for item in amazon_website:\n",
    "    if item[0] != mychoice:\n",
    "        \n",
    "        #print(f\"your selected item - {mychoice} is not found on amazon website\")\n",
    "        continue\n",
    "        \n",
    "    else:\n",
    "        #print(f\"Your selected item - {mychoice} is found on website which has each unit price {item[1]}\")\n",
    "        mytotal=item[1]*mychoicecount\n",
    "        basepriceoffounditem=item[1]\n",
    "        \n",
    "\n",
    "if mytotal == 0:\n",
    "    print(f\"your selected item - {mychoice} is not found on amazon website\")\n",
    "else:\n",
    "    print(f\"Your selected item - {mychoice} is found on website which has each unit price {basepriceoffounditem}$ and your total amount is {mytotal}$\")\n",
    "    \n",
    "\n"
   ]
  },
  {
   "cell_type": "code",
   "execution_count": 22,
   "metadata": {},
   "outputs": [
    {
     "name": "stdout",
     "output_type": "stream",
     "text": [
      "Enter what item you need cigrate\n",
      "How many units you want for this item 2\n",
      "your selected item - cigrate is not found on amazon website\n"
     ]
    }
   ],
   "source": [
    "#case 2 when item is not found \n",
    "\n",
    "amazon_website = [(\"watch\", 5000), (\"phone\", 10000), (\"laptop\", 3600), (\"shirt\", 1000)]\n",
    "\n",
    "mytotal = 0\n",
    "basepriceoffounditem=0\n",
    "\n",
    "mychoice = input(\"Enter what item you need \")\n",
    "\n",
    "mychoicecount = int(input(\"How many units you want for this item \"))\n",
    "\n",
    "\n",
    "for item in amazon_website:\n",
    "    if item[0] != mychoice:\n",
    "        \n",
    "        #print(f\"your selected item - {mychoice} is not found on amazon website\")\n",
    "        continue\n",
    "        \n",
    "    else:\n",
    "        #print(f\"Your selected item - {mychoice} is found on website which has each unit price {item[1]}\")\n",
    "        mytotal=item[1]*mychoicecount\n",
    "        basepriceoffounditem=item[1]\n",
    "        \n",
    "\n",
    "if mytotal == 0:\n",
    "    print(f\"your selected item - {mychoice} is not found on amazon website\")\n",
    "else:\n",
    "    print(f\"Your selected item - {mychoice} is found on website which has each unit price {basepriceoffounditem}$ and your total amount is {mytotal}$\")\n",
    "    \n",
    "\n"
   ]
  },
  {
   "cell_type": "code",
   "execution_count": 66,
   "metadata": {},
   "outputs": [
    {
     "name": "stdout",
     "output_type": "stream",
     "text": [
      "How many items you want to purchase 3\n",
      "Enter the name of item you want to purchase shirt\n",
      "sub total is 3600\n",
      "Enter the name of item you want to purchase watch\n",
      "sub total is 8600\n",
      "Enter the name of item you want to purchase laptop\n",
      "sub total is 12200\n",
      "your cart total is 12200\n"
     ]
    }
   ],
   "source": [
    "#apprach 2 : using while loop and when items found in cart\n",
    "\n",
    "amazon_website = [(\"watch\", 5000), (\"phone\", 10000), (\"laptop\", 3600), (\"shirt\", 3600)]\n",
    "\n",
    "mytotal = 0\n",
    "\n",
    "mynum = 0\n",
    "\n",
    "count = int(input(\"How many items you want to purchase \"))\n",
    "\n",
    "while mynum < count:\n",
    "    itemname = input(\"Enter the name of item you want to purchase \")\n",
    "    \n",
    "    for i in amazon_website:\n",
    "        for j in i:\n",
    "            if itemname ==j:\n",
    "                #print(i[1])\n",
    "                mytotal=i[1] + mytotal\n",
    "                \n",
    "                print(f\"sub total is {mytotal}\")\n",
    "                \n",
    "                mynum=mynum+1\n",
    "                \n",
    "            \n",
    "                \n",
    "print(f\"your cart total is {mytotal}\")\n",
    "\n"
   ]
  },
  {
   "cell_type": "code",
   "execution_count": 67,
   "metadata": {},
   "outputs": [
    {
     "name": "stdout",
     "output_type": "stream",
     "text": [
      "How many items you want to purchase 3\n",
      "Enter the name of item you want to purchase shirt\n",
      "sub total is 3600\n",
      "Enter the name of item you want to purchase laptop\n",
      "sub total is 7200\n",
      "Enter the name of item you want to purchase cigrette\n",
      "Enter the name of item you want to purchase toys\n",
      "Enter the name of item you want to purchase watch\n",
      "sub total is 12200\n",
      "your cart total is 12200\n"
     ]
    }
   ],
   "source": [
    "#apprach 2 : using while loop and when items NOT found in cart\n",
    "\n",
    "\n",
    "amazon_website = [(\"watch\", 5000), (\"phone\", 10000), (\"laptop\", 3600), (\"shirt\", 3600)]\n",
    "\n",
    "mytotal = 0\n",
    "\n",
    "mynum = 0\n",
    "\n",
    "count = int(input(\"How many items you want to purchase \"))\n",
    "\n",
    "while mynum < count:\n",
    "    itemname = input(\"Enter the name of item you want to purchase \")\n",
    "    \n",
    "    for i in amazon_website:\n",
    "        for j in i:\n",
    "            if itemname ==j:\n",
    "                #print(i[1])\n",
    "                mytotal=i[1] + mytotal\n",
    "                \n",
    "                print(f\"sub total is {mytotal}\")\n",
    "                \n",
    "                mynum=mynum+1\n",
    "                \n",
    "            \n",
    "                \n",
    "print(f\"your cart total is {mytotal}\")\n",
    "\n"
   ]
  },
  {
   "cell_type": "markdown",
   "metadata": {
    "id": "FQrKC2gzzsUm"
   },
   "source": [
    "#### 2. What will be the output of the following code snippet?\n",
    "\n",
    "```\n",
    "arr = [1, 2, 3, 4, 5, 6]\n",
    "for i in range(1, 6):\n",
    "    arr[i - 1] = arr[i]\n",
    "for i in range(0, 6): \n",
    "    print(arr[i], end = \" \")\n",
    "```"
   ]
  },
  {
   "cell_type": "code",
   "execution_count": 23,
   "metadata": {},
   "outputs": [
    {
     "name": "stdout",
     "output_type": "stream",
     "text": [
      "2 3 4 5 6 6 "
     ]
    }
   ],
   "source": [
    "arr = [1, 2, 3, 4, 5, 6]\n",
    "for i in range(1, 6):\n",
    "    arr[i - 1] = arr[i]\n",
    "for i in range(0, 6): \n",
    "    print(arr[i], end = \" \")\n",
    "\n",
    "#expalaination: in above example we are replacing/swoping elements of current index position with value of index + 1 value\n",
    "\n",
    "# example in above scenario the loop will run from i value 1 to 5 and when i = 1  --> arr[i - 1] = arr[1] \n",
    "# which means we are replacing array[0] with array[1] value\n",
    "\n",
    "# since i value is getting iterated from 1 to 5 only so when we reach i = 5 --> arr[5 - 1] = arr[5]\n",
    "# which means we repalced arr[4] with value at arr[5]\n",
    "# last value of array remains the same without swoped as the loop ended when we reached i = 5 "
   ]
  },
  {
   "cell_type": "markdown",
   "metadata": {
    "id": "nL_DZJFS0ZZF"
   },
   "source": [
    "#### 3. Write a Python program to find the repeated items of a tuple."
   ]
  },
  {
   "cell_type": "code",
   "execution_count": 36,
   "metadata": {},
   "outputs": [
    {
     "name": "stdout",
     "output_type": "stream",
     "text": [
      "original tuple ois (1, 2, 3, 4, 4, 4, 4, 4, 4, 4, 4, 4, 4, 5, 6, 6, 6, 6, 7)\n",
      "{1: 1, 2: 1, 3: 1, 4: 10, 5: 1, 6: 4, 7: 1}\n",
      "repeated items in original tuple is 4 and its repeated value is 10\n",
      "repeated items in original tuple is 6 and its repeated value is 4\n"
     ]
    }
   ],
   "source": [
    "B = (1,2,3,4,4,4,4,4,4,4,4,4,4,5,6,6,6,6,7)\n",
    "\n",
    "mydict ={}\n",
    "\n",
    "#print(type(B))\n",
    "\n",
    "print(f\"original tuple ois {B}\")\n",
    "\n",
    "for item in B:\n",
    "    if item not in mydict.keys():  \n",
    "        mydict[item] = 1   #iterating over tuple and storing each item as key and its occurance as value in dict\n",
    "    else:\n",
    "        \n",
    "        mydict[item] += 1\n",
    "\n",
    "print(mydict)\n",
    "\n",
    "\n",
    "#iterating over dictioary\n",
    "        \n",
    "for key, value in mydict.items():\n",
    "    \n",
    "    if value> 1:\n",
    "        print(f\"repeated items in original tuple is {key} and its repeated value is {value}\")\n",
    "        \n",
    "    \n"
   ]
  },
  {
   "cell_type": "markdown",
   "metadata": {
    "id": "ne8WpLZZ1GSm"
   },
   "source": [
    "### 4. Replace last value of tuples in a list with 500. Try using list comprehension\n",
    "\n",
    "Example -: \n",
    "```\n",
    "Input -:\n",
    "\n",
    "[(10, 20, 40), (40, 50, 60), (70, 80, 90)]\n",
    "\n",
    "Output -:\n",
    "[(10, 20, 500), (40, 50, 500), (70, 80, 500)]\n",
    "\n",
    "\n",
    "```\n"
   ]
  },
  {
   "cell_type": "code",
   "execution_count": 50,
   "metadata": {
    "id": "YpvH9Di21z-O"
   },
   "outputs": [
    {
     "name": "stdout",
     "output_type": "stream",
     "text": [
      "original list [(10, 20, 40), (40, 50, 60), (70, 80, 90)]\n",
      "List after modification [(10, 20, 500), (40, 50, 500), (70, 80, 500)]\n"
     ]
    }
   ],
   "source": [
    "#trying through normal for loop approach\n",
    "\n",
    "A = [(10, 20, 40), (40, 50, 60), (70, 80, 90)]\n",
    "\n",
    "A_stg= []\n",
    "for i in A:\n",
    "    i = list(i)\n",
    "    i[-1] = 500\n",
    "    i = tuple(i)\n",
    "    #print(i)\n",
    "    #print(i)\n",
    "    A_stg.append(i)\n",
    "\n",
    "print(f\"original list {A}\")\n",
    "print(f\"List after modification {A_stg}\")"
   ]
  },
  {
   "cell_type": "code",
   "execution_count": 71,
   "metadata": {},
   "outputs": [
    {
     "name": "stdout",
     "output_type": "stream",
     "text": [
      "[(10, 20, 500), (40, 50, 500), (70, 80, 500)]\n"
     ]
    }
   ],
   "source": [
    "# trying through list comprehension\n",
    "\n",
    "A = [(10, 20, 40), (40, 50, 60), (70, 80, 90)]\n",
    "A_final = [tuple(list(i[:-1])+ [500]) for i in A]\n",
    "print(A_final)\n"
   ]
  },
  {
   "cell_type": "code",
   "execution_count": null,
   "metadata": {},
   "outputs": [],
   "source": []
  }
 ],
 "metadata": {
  "colab": {
   "collapsed_sections": [],
   "provenance": []
  },
  "kernelspec": {
   "display_name": "Python 3 (ipykernel)",
   "language": "python",
   "name": "python3"
  },
  "language_info": {
   "codemirror_mode": {
    "name": "ipython",
    "version": 3
   },
   "file_extension": ".py",
   "mimetype": "text/x-python",
   "name": "python",
   "nbconvert_exporter": "python",
   "pygments_lexer": "ipython3",
   "version": "3.8.3rc1"
  }
 },
 "nbformat": 4,
 "nbformat_minor": 1
}
