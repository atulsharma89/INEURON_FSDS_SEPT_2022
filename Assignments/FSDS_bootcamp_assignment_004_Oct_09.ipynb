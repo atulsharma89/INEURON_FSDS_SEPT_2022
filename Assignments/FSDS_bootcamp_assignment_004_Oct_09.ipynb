{
 "cells": [
  {
   "cell_type": "markdown",
   "metadata": {
    "id": "dkGbTD94s6CD"
   },
   "source": [
    "# ASSIGNMENTS \n",
    "## Send it before 0000 hrs IST or 12 AM Wednesday\n",
    "\n",
    "## NOTE: Evaluation will be done before next class.\n",
    "\n",
    "## HOW TO SUBMIT: -\n",
    "Download this notebook, Solve it and upload in the google form given in the mail."
   ]
  },
  {
   "cell_type": "markdown",
   "metadata": {
    "id": "n3FuI-mutNl6"
   },
   "source": [
    "## control flow and conditional statements"
   ]
  },
  {
   "cell_type": "markdown",
   "metadata": {
    "id": "NCW2epdyuJ-a"
   },
   "source": [
    "Q1. Find the largest number from the given list, use for loop.\n",
    "\n",
    "```\n",
    "numbers = [12, 75, 150, 180, 145, 525, 50]\n",
    "```"
   ]
  },
  {
   "cell_type": "code",
   "execution_count": 3,
   "metadata": {},
   "outputs": [
    {
     "name": "stdout",
     "output_type": "stream",
     "text": [
      "525\n"
     ]
    }
   ],
   "source": [
    "numbers = [12, 75, 150, 180, 145, 525, 50]\n",
    "\n",
    "mymax = None\n",
    "\n",
    "for i in numbers:\n",
    "    if mymax is None:\n",
    "        mymax = i #assigning first value as mymax defualt value\n",
    "    elif i > mymax:\n",
    "        mymax = i\n",
    "print(mymax)"
   ]
  },
  {
   "cell_type": "markdown",
   "metadata": {
    "id": "Qsg0i1fTwEQj"
   },
   "source": [
    "Q2. Print all the even number between (1, 12)."
   ]
  },
  {
   "cell_type": "code",
   "execution_count": 6,
   "metadata": {},
   "outputs": [
    {
     "name": "stdout",
     "output_type": "stream",
     "text": [
      "even number 2\n",
      "even number 4\n",
      "even number 6\n",
      "even number 8\n",
      "even number 10\n"
     ]
    }
   ],
   "source": [
    "#case 1: excluding 12 \n",
    "for i in range(1,12):\n",
    "    if i%2 == 0:\n",
    "        print(f\"even number {i}\")"
   ]
  },
  {
   "cell_type": "code",
   "execution_count": 7,
   "metadata": {},
   "outputs": [
    {
     "name": "stdout",
     "output_type": "stream",
     "text": [
      "even number 2\n",
      "even number 4\n",
      "even number 6\n",
      "even number 8\n",
      "even number 10\n",
      "even number 12\n"
     ]
    }
   ],
   "source": [
    "#case 1: including 12 \n",
    "for i in range(1,13):\n",
    "    if i%2 == 0:\n",
    "        print(f\"even number {i}\")"
   ]
  },
  {
   "cell_type": "markdown",
   "metadata": {
    "id": "WG2QcDDhwi4a"
   },
   "source": [
    "Q3. Calculate the sum of all numbers from 1 to a given number\n",
    "    \n",
    "    Expected Output:\n",
    "\n",
    "    Enter number 10\n",
    "    \n",
    "    Sum is:  55\n"
   ]
  },
  {
   "cell_type": "code",
   "execution_count": 10,
   "metadata": {},
   "outputs": [
    {
     "name": "stdout",
     "output_type": "stream",
     "text": [
      "enter a number 10\n",
      "sum is 55\n"
     ]
    }
   ],
   "source": [
    "mynum = int(input(\"enter a number \"))\n",
    "\n",
    "mysum = 0\n",
    "\n",
    "for n in range (0,mynum+1):\n",
    "    mysum = mysum + n\n",
    "print(f\"sum is {mysum}\")"
   ]
  },
  {
   "cell_type": "markdown",
   "metadata": {
    "id": "mc7lLUm5f4Cq"
   },
   "source": [
    "Q4. Write a program to display only those numbers from a list that satisfy the following conditions\n",
    "\n",
    "- The number must be divisible by five\n",
    "\n",
    "- If the number is greater than 150, then skip it and move to the next number\n",
    "\n",
    "- If the number is greater than 500, then stop the loop"
   ]
  },
  {
   "cell_type": "code",
   "execution_count": null,
   "metadata": {},
   "outputs": [],
   "source": []
  },
  {
   "cell_type": "code",
   "execution_count": 35,
   "metadata": {
    "id": "P3Ct2ocKf6Hy"
   },
   "outputs": [
    {
     "name": "stdout",
     "output_type": "stream",
     "text": [
      "75\n",
      "150\n",
      "145\n"
     ]
    }
   ],
   "source": [
    "# Given:\n",
    "\n",
    "numbers = [12, 75, 150, 180, 145, 525, 50]\n",
    "\n",
    "for num in numbers:\n",
    "    if num%5 ==0:\n",
    "        \n",
    "        if num>500:\n",
    "            break\n",
    "        if num>150:\n",
    "            continue\n",
    "        \n",
    "        print(num)\n",
    "            "
   ]
  },
  {
   "cell_type": "markdown",
   "metadata": {
    "id": "rrxWvy7nMnAs"
   },
   "source": [
    "Q5. Print the given list in reverse order.\n",
    "\n",
    "```\n",
    "list1 = [10, 20, 30, 40, 50]\n",
    "```"
   ]
  },
  {
   "cell_type": "code",
   "execution_count": 14,
   "metadata": {
    "id": "z-GDgPn3Nr0y"
   },
   "outputs": [
    {
     "name": "stdout",
     "output_type": "stream",
     "text": [
      "my reversed list [50, 40, 30, 20, 10]\n"
     ]
    }
   ],
   "source": [
    "list1 = [10, 20, 30, 40, 50]\n",
    "\n",
    "#approach 1: using slicing method to reverse\n",
    "\n",
    "print(f\"my reversed list {list1[::-1]}\")"
   ]
  },
  {
   "cell_type": "code",
   "execution_count": 19,
   "metadata": {},
   "outputs": [
    {
     "name": "stdout",
     "output_type": "stream",
     "text": [
      "List before reverse :  [10, 20, 30, 40, 50]\n",
      "List after reverse :  [50, 40, 30, 20, 10]\n"
     ]
    }
   ],
   "source": [
    "#approach 2: using reverse method to reverse\n",
    "\n",
    "list1 = [10, 20, 30, 40, 50]\n",
    "print(\"List before reverse : \",list1)\n",
    "list1.reverse()\n",
    "print(\"List after reverse : \",list1)"
   ]
  },
  {
   "cell_type": "code",
   "execution_count": 20,
   "metadata": {},
   "outputs": [
    {
     "name": "stdout",
     "output_type": "stream",
     "text": [
      "List before reverse :  [10, 20, 30, 40, 50]\n",
      "List after reverse :  [50, 40, 30, 20, 10]\n"
     ]
    }
   ],
   "source": [
    "#approach 3: using for loop\n",
    "\n",
    "list1 = [10, 20, 30, 40, 50]\n",
    "print(\"List before reverse : \",list1)\n",
    "reversed_list = []\n",
    "for value in list1:\n",
    "  reversed_list = [value] + reversed_list  \n",
    "print(\"List after reverse : \", reversed_list)"
   ]
  },
  {
   "cell_type": "code",
   "execution_count": null,
   "metadata": {},
   "outputs": [],
   "source": []
  }
 ],
 "metadata": {
  "colab": {
   "collapsed_sections": [],
   "provenance": []
  },
  "kernelspec": {
   "display_name": "Python 3 (ipykernel)",
   "language": "python",
   "name": "python3"
  },
  "language_info": {
   "codemirror_mode": {
    "name": "ipython",
    "version": 3
   },
   "file_extension": ".py",
   "mimetype": "text/x-python",
   "name": "python",
   "nbconvert_exporter": "python",
   "pygments_lexer": "ipython3",
   "version": "3.8.3rc1"
  }
 },
 "nbformat": 4,
 "nbformat_minor": 1
}
